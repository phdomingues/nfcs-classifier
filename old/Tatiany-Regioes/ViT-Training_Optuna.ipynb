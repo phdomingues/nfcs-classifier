{
 "cells": [
  {
   "cell_type": "code",
   "execution_count": 1,
   "metadata": {},
   "outputs": [
    {
     "name": "stdout",
     "output_type": "stream",
     "text": [
      "Collecting torch\n",
      "  Downloading torch-2.4.1-cp310-cp310-win_amd64.whl.metadata (27 kB)\n",
      "Collecting torchvision\n",
      "  Downloading torchvision-0.19.1-cp310-cp310-win_amd64.whl.metadata (6.1 kB)\n",
      "Collecting torchaudio\n",
      "  Downloading torchaudio-2.4.1-cp310-cp310-win_amd64.whl.metadata (6.5 kB)\n",
      "Collecting filelock (from torch)\n",
      "  Downloading filelock-3.15.4-py3-none-any.whl.metadata (2.9 kB)\n",
      "Requirement already satisfied: typing-extensions>=4.8.0 in c:\\users\\12ped\\.conda\\envs\\optuna\\lib\\site-packages (from torch) (4.12.2)\n",
      "Collecting sympy (from torch)\n",
      "  Downloading sympy-1.13.2-py3-none-any.whl.metadata (12 kB)\n",
      "Collecting networkx (from torch)\n",
      "  Downloading networkx-3.3-py3-none-any.whl.metadata (5.1 kB)\n",
      "Collecting jinja2 (from torch)\n",
      "  Using cached jinja2-3.1.4-py3-none-any.whl.metadata (2.6 kB)\n",
      "Collecting fsspec (from torch)\n",
      "  Downloading fsspec-2024.9.0-py3-none-any.whl.metadata (11 kB)\n",
      "Collecting numpy (from torchvision)\n",
      "  Downloading numpy-2.1.1-cp310-cp310-win_amd64.whl.metadata (59 kB)\n",
      "     ---------------------------------------- 0.0/59.7 kB ? eta -:--:--\n",
      "     ---------------------------------------- 59.7/59.7 kB ? eta 0:00:00\n",
      "Collecting pillow!=8.3.*,>=5.3.0 (from torchvision)\n",
      "  Downloading pillow-10.4.0-cp310-cp310-win_amd64.whl.metadata (9.3 kB)\n",
      "Collecting MarkupSafe>=2.0 (from jinja2->torch)\n",
      "  Downloading MarkupSafe-2.1.5-cp310-cp310-win_amd64.whl.metadata (3.1 kB)\n",
      "Collecting mpmath<1.4,>=1.1.0 (from sympy->torch)\n",
      "  Downloading mpmath-1.3.0-py3-none-any.whl.metadata (8.6 kB)\n",
      "Downloading torch-2.4.1-cp310-cp310-win_amd64.whl (199.4 MB)\n",
      "   ---------------------------------------- 0.0/199.4 MB ? eta -:--:--\n",
      "   ---------------------------------------- 1.0/199.4 MB 32.7 MB/s eta 0:00:07\n",
      "   ---------------------------------------- 2.3/199.4 MB 29.1 MB/s eta 0:00:07\n",
      "    --------------------------------------- 3.2/199.4 MB 25.6 MB/s eta 0:00:08\n",
      "    --------------------------------------- 4.0/199.4 MB 19.6 MB/s eta 0:00:10\n",
      "    --------------------------------------- 5.0/199.4 MB 21.2 MB/s eta 0:00:10\n",
      "   - -------------------------------------- 6.2/199.4 MB 22.0 MB/s eta 0:00:09\n",
      "   - -------------------------------------- 7.6/199.4 MB 24.5 MB/s eta 0:00:08\n",
      "   - -------------------------------------- 8.5/199.4 MB 24.8 MB/s eta 0:00:08\n",
      "   - -------------------------------------- 9.9/199.4 MB 24.4 MB/s eta 0:00:08\n",
      "   -- ------------------------------------- 11.2/199.4 MB 23.4 MB/s eta 0:00:09\n",
      "   -- ------------------------------------- 12.6/199.4 MB 24.2 MB/s eta 0:00:08\n",
      "   -- ------------------------------------- 14.0/199.4 MB 27.3 MB/s eta 0:00:07\n",
      "   --- ------------------------------------ 15.5/199.4 MB 27.3 MB/s eta 0:00:07\n",
      "   --- ------------------------------------ 16.9/199.4 MB 26.2 MB/s eta 0:00:07\n",
      "   --- ------------------------------------ 18.4/199.4 MB 26.2 MB/s eta 0:00:07\n",
      "   --- ------------------------------------ 19.4/199.4 MB 27.3 MB/s eta 0:00:07\n",
      "   ---- ----------------------------------- 20.8/199.4 MB 28.5 MB/s eta 0:00:07\n",
      "   ---- ----------------------------------- 22.5/199.4 MB 29.8 MB/s eta 0:00:06\n",
      "   ---- ----------------------------------- 23.2/199.4 MB 28.5 MB/s eta 0:00:07\n",
      "   ----- ---------------------------------- 24.9/199.4 MB 28.4 MB/s eta 0:00:07\n",
      "   ----- ---------------------------------- 26.4/199.4 MB 29.7 MB/s eta 0:00:06\n",
      "   ----- ---------------------------------- 28.1/199.4 MB 31.1 MB/s eta 0:00:06\n",
      "   ----- ---------------------------------- 29.5/199.4 MB 28.5 MB/s eta 0:00:06\n",
      "   ------ --------------------------------- 30.9/199.4 MB 28.5 MB/s eta 0:00:06\n",
      "   ------ --------------------------------- 31.9/199.4 MB 27.3 MB/s eta 0:00:07\n",
      "   ------ --------------------------------- 33.1/199.4 MB 28.5 MB/s eta 0:00:06\n",
      "   ------ --------------------------------- 34.6/199.4 MB 28.4 MB/s eta 0:00:06\n",
      "   ------- -------------------------------- 36.2/199.4 MB 29.8 MB/s eta 0:00:06\n",
      "   ------- -------------------------------- 37.7/199.4 MB 28.5 MB/s eta 0:00:06\n",
      "   ------- -------------------------------- 39.0/199.4 MB 27.3 MB/s eta 0:00:06\n",
      "   -------- ------------------------------- 40.2/199.4 MB 28.5 MB/s eta 0:00:06\n",
      "   -------- ------------------------------- 41.7/199.4 MB 29.7 MB/s eta 0:00:06\n",
      "   -------- ------------------------------- 42.7/199.4 MB 28.4 MB/s eta 0:00:06\n",
      "   -------- ------------------------------- 43.9/199.4 MB 29.7 MB/s eta 0:00:06\n",
      "   --------- ------------------------------ 45.4/199.4 MB 27.3 MB/s eta 0:00:06\n",
      "   --------- ------------------------------ 46.8/199.4 MB 27.3 MB/s eta 0:00:06\n",
      "   --------- ------------------------------ 48.1/199.4 MB 26.2 MB/s eta 0:00:06\n",
      "   --------- ------------------------------ 49.1/199.4 MB 27.3 MB/s eta 0:00:06\n",
      "   ---------- ----------------------------- 50.4/199.4 MB 27.3 MB/s eta 0:00:06\n",
      "   ---------- ----------------------------- 51.9/199.4 MB 29.8 MB/s eta 0:00:05\n",
      "   ---------- ----------------------------- 53.4/199.4 MB 28.4 MB/s eta 0:00:06\n",
      "   ----------- ---------------------------- 54.9/199.4 MB 28.4 MB/s eta 0:00:06\n",
      "   ----------- ---------------------------- 55.9/199.4 MB 28.4 MB/s eta 0:00:06\n",
      "   ----------- ---------------------------- 57.5/199.4 MB 31.2 MB/s eta 0:00:05\n",
      "   ----------- ---------------------------- 58.9/199.4 MB 29.8 MB/s eta 0:00:05\n",
      "   ------------ --------------------------- 60.4/199.4 MB 29.7 MB/s eta 0:00:05\n",
      "   ------------ --------------------------- 61.3/199.4 MB 28.5 MB/s eta 0:00:05\n",
      "   ------------ --------------------------- 62.6/199.4 MB 27.3 MB/s eta 0:00:06\n",
      "   ------------ --------------------------- 64.1/199.4 MB 29.7 MB/s eta 0:00:05\n",
      "   ------------- -------------------------- 65.2/199.4 MB 29.7 MB/s eta 0:00:05\n",
      "   ------------- -------------------------- 66.1/199.4 MB 29.8 MB/s eta 0:00:05\n",
      "   ------------- -------------------------- 67.4/199.4 MB 28.5 MB/s eta 0:00:05\n",
      "   ------------- -------------------------- 68.5/199.4 MB 27.3 MB/s eta 0:00:05\n",
      "   -------------- ------------------------- 69.9/199.4 MB 29.8 MB/s eta 0:00:05\n",
      "   -------------- ------------------------- 71.2/199.4 MB 28.4 MB/s eta 0:00:05\n",
      "   -------------- ------------------------- 72.6/199.4 MB 29.7 MB/s eta 0:00:05\n",
      "   -------------- ------------------------- 74.1/199.4 MB 28.4 MB/s eta 0:00:05\n",
      "   --------------- ------------------------ 75.6/199.4 MB 28.5 MB/s eta 0:00:05\n",
      "   --------------- ------------------------ 77.0/199.4 MB 27.3 MB/s eta 0:00:05\n",
      "   --------------- ------------------------ 78.1/199.4 MB 28.5 MB/s eta 0:00:05\n",
      "   --------------- ------------------------ 79.3/199.4 MB 28.5 MB/s eta 0:00:05\n",
      "   ---------------- ----------------------- 80.9/199.4 MB 28.5 MB/s eta 0:00:05\n",
      "   ---------------- ----------------------- 82.6/199.4 MB 29.7 MB/s eta 0:00:04\n",
      "   ---------------- ----------------------- 84.2/199.4 MB 31.2 MB/s eta 0:00:04\n",
      "   ----------------- ---------------------- 86.1/199.4 MB 32.7 MB/s eta 0:00:04\n",
      "   ----------------- ---------------------- 87.9/199.4 MB 34.6 MB/s eta 0:00:04\n",
      "   ------------------ --------------------- 89.9/199.4 MB 36.4 MB/s eta 0:00:04\n",
      "   ------------------ --------------------- 91.6/199.4 MB 36.4 MB/s eta 0:00:03\n",
      "   ------------------ --------------------- 93.5/199.4 MB 38.5 MB/s eta 0:00:03\n",
      "   ------------------- -------------------- 95.5/199.4 MB 38.5 MB/s eta 0:00:03\n",
      "   ------------------- -------------------- 97.6/199.4 MB 38.5 MB/s eta 0:00:03\n",
      "   ------------------- -------------------- 99.6/199.4 MB 40.9 MB/s eta 0:00:03\n",
      "   ------------------- ------------------- 101.7/199.4 MB 40.9 MB/s eta 0:00:03\n",
      "   -------------------- ------------------ 103.6/199.4 MB 40.9 MB/s eta 0:00:03\n",
      "   -------------------- ------------------ 105.0/199.4 MB 40.9 MB/s eta 0:00:03\n",
      "   -------------------- ------------------ 106.5/199.4 MB 40.9 MB/s eta 0:00:03\n",
      "   --------------------- ----------------- 107.8/199.4 MB 38.5 MB/s eta 0:00:03\n",
      "   --------------------- ----------------- 109.9/199.4 MB 36.4 MB/s eta 0:00:03\n",
      "   --------------------- ----------------- 111.5/199.4 MB 34.4 MB/s eta 0:00:03\n",
      "   ---------------------- ---------------- 112.7/199.4 MB 34.4 MB/s eta 0:00:03\n",
      "   ---------------------- ---------------- 114.1/199.4 MB 32.7 MB/s eta 0:00:03\n",
      "   ---------------------- ---------------- 115.8/199.4 MB 34.4 MB/s eta 0:00:03\n",
      "   ---------------------- ---------------- 117.6/199.4 MB 34.4 MB/s eta 0:00:03\n",
      "   ----------------------- --------------- 118.9/199.4 MB 32.8 MB/s eta 0:00:03\n",
      "   ----------------------- --------------- 120.3/199.4 MB 34.4 MB/s eta 0:00:03\n",
      "   ----------------------- --------------- 122.3/199.4 MB 36.3 MB/s eta 0:00:03\n",
      "   ------------------------ -------------- 124.0/199.4 MB 38.6 MB/s eta 0:00:02\n",
      "   ------------------------ -------------- 125.8/199.4 MB 36.4 MB/s eta 0:00:03\n",
      "   ------------------------ -------------- 127.2/199.4 MB 32.7 MB/s eta 0:00:03\n",
      "   ------------------------- ------------- 129.1/199.4 MB 36.3 MB/s eta 0:00:02\n",
      "   ------------------------- ------------- 130.4/199.4 MB 34.4 MB/s eta 0:00:03\n",
      "   ------------------------- ------------- 132.7/199.4 MB 36.4 MB/s eta 0:00:02\n",
      "   -------------------------- ------------ 134.0/199.4 MB 32.7 MB/s eta 0:00:03\n",
      "   -------------------------- ------------ 135.3/199.4 MB 32.8 MB/s eta 0:00:02\n",
      "   -------------------------- ------------ 136.7/199.4 MB 34.4 MB/s eta 0:00:02\n",
      "   --------------------------- ----------- 138.3/199.4 MB 36.4 MB/s eta 0:00:02\n",
      "   --------------------------- ----------- 139.3/199.4 MB 31.2 MB/s eta 0:00:02\n",
      "   --------------------------- ----------- 141.2/199.4 MB 32.7 MB/s eta 0:00:02\n",
      "   --------------------------- ----------- 143.1/199.4 MB 31.2 MB/s eta 0:00:02\n",
      "   ---------------------------- ---------- 145.0/199.4 MB 31.2 MB/s eta 0:00:02\n",
      "   ---------------------------- ---------- 147.2/199.4 MB 36.4 MB/s eta 0:00:02\n",
      "   ----------------------------- --------- 149.3/199.4 MB 38.6 MB/s eta 0:00:02\n",
      "   ----------------------------- --------- 151.1/199.4 MB 38.6 MB/s eta 0:00:02\n",
      "   ----------------------------- --------- 152.7/199.4 MB 40.9 MB/s eta 0:00:02\n",
      "   ------------------------------ -------- 154.6/199.4 MB 40.9 MB/s eta 0:00:02\n",
      "   ------------------------------ -------- 156.0/199.4 MB 38.5 MB/s eta 0:00:02\n",
      "   ------------------------------ -------- 157.9/199.4 MB 38.6 MB/s eta 0:00:02\n",
      "   ------------------------------- ------- 159.5/199.4 MB 34.4 MB/s eta 0:00:02\n",
      "   ------------------------------- ------- 161.4/199.4 MB 38.5 MB/s eta 0:00:01\n",
      "   ------------------------------- ------- 163.1/199.4 MB 38.6 MB/s eta 0:00:01\n",
      "   -------------------------------- ------ 164.6/199.4 MB 34.4 MB/s eta 0:00:02\n",
      "   -------------------------------- ------ 166.7/199.4 MB 38.6 MB/s eta 0:00:01\n",
      "   -------------------------------- ------ 168.7/199.4 MB 38.5 MB/s eta 0:00:01\n",
      "   --------------------------------- ----- 170.7/199.4 MB 36.3 MB/s eta 0:00:01\n",
      "   --------------------------------- ----- 172.7/199.4 MB 38.6 MB/s eta 0:00:01\n",
      "   ---------------------------------- ---- 174.7/199.4 MB 38.5 MB/s eta 0:00:01\n",
      "   ---------------------------------- ---- 176.5/199.4 MB 40.9 MB/s eta 0:00:01\n",
      "   ---------------------------------- ---- 178.1/199.4 MB 38.5 MB/s eta 0:00:01\n",
      "   ----------------------------------- --- 179.6/199.4 MB 36.3 MB/s eta 0:00:01\n",
      "   ----------------------------------- --- 181.3/199.4 MB 38.5 MB/s eta 0:00:01\n",
      "   ----------------------------------- --- 183.3/199.4 MB 38.5 MB/s eta 0:00:01\n",
      "   ------------------------------------ -- 185.1/199.4 MB 38.5 MB/s eta 0:00:01\n",
      "   ------------------------------------ -- 187.2/199.4 MB 38.6 MB/s eta 0:00:01\n",
      "   ------------------------------------ -- 189.0/199.4 MB 38.6 MB/s eta 0:00:01\n",
      "   ------------------------------------- - 190.7/199.4 MB 38.5 MB/s eta 0:00:01\n",
      "   ------------------------------------- - 191.6/199.4 MB 36.3 MB/s eta 0:00:01\n",
      "   ------------------------------------- - 192.9/199.4 MB 32.7 MB/s eta 0:00:01\n",
      "   --------------------------------------  194.6/199.4 MB 34.4 MB/s eta 0:00:01\n",
      "   --------------------------------------  195.7/199.4 MB 32.7 MB/s eta 0:00:01\n",
      "   --------------------------------------  197.2/199.4 MB 29.7 MB/s eta 0:00:01\n",
      "   --------------------------------------  198.6/199.4 MB 29.7 MB/s eta 0:00:01\n",
      "   --------------------------------------  199.4/199.4 MB 28.5 MB/s eta 0:00:01\n",
      "   --------------------------------------  199.4/199.4 MB 28.5 MB/s eta 0:00:01\n",
      "   --------------------------------------  199.4/199.4 MB 28.5 MB/s eta 0:00:01\n",
      "   --------------------------------------  199.4/199.4 MB 28.5 MB/s eta 0:00:01\n",
      "   --------------------------------------  199.4/199.4 MB 28.5 MB/s eta 0:00:01\n",
      "   --------------------------------------- 199.4/199.4 MB 16.8 MB/s eta 0:00:00\n",
      "Downloading torchvision-0.19.1-cp310-cp310-win_amd64.whl (1.3 MB)\n",
      "   ---------------------------------------- 0.0/1.3 MB ? eta -:--:--\n",
      "   ---------------------------------------- 1.3/1.3 MB 41.2 MB/s eta 0:00:00\n",
      "Downloading torchaudio-2.4.1-cp310-cp310-win_amd64.whl (2.4 MB)\n",
      "   ---------------------------------------- 0.0/2.4 MB ? eta -:--:--\n",
      "   ------------------------ --------------- 1.5/2.4 MB 48.2 MB/s eta 0:00:01\n",
      "   ---------------------------------------- 2.4/2.4 MB 30.9 MB/s eta 0:00:00\n",
      "Downloading pillow-10.4.0-cp310-cp310-win_amd64.whl (2.6 MB)\n",
      "   ---------------------------------------- 0.0/2.6 MB ? eta -:--:--\n",
      "   ------------------------ --------------- 1.6/2.6 MB 50.9 MB/s eta 0:00:01\n",
      "   ---------------------------------------- 2.6/2.6 MB 32.6 MB/s eta 0:00:00\n",
      "Downloading filelock-3.15.4-py3-none-any.whl (16 kB)\n",
      "Downloading fsspec-2024.9.0-py3-none-any.whl (179 kB)\n",
      "   ---------------------------------------- 0.0/179.3 kB ? eta -:--:--\n",
      "   ---------------------------------------- 179.3/179.3 kB ? eta 0:00:00\n",
      "Using cached jinja2-3.1.4-py3-none-any.whl (133 kB)\n",
      "Downloading networkx-3.3-py3-none-any.whl (1.7 MB)\n",
      "   ---------------------------------------- 0.0/1.7 MB ? eta -:--:--\n",
      "   ----------------------------------- ---- 1.5/1.7 MB 48.6 MB/s eta 0:00:01\n",
      "   ---------------------------------------- 1.7/1.7 MB 27.3 MB/s eta 0:00:00\n",
      "Downloading numpy-2.1.1-cp310-cp310-win_amd64.whl (12.9 MB)\n",
      "   ---------------------------------------- 0.0/12.9 MB ? eta -:--:--\n",
      "   ---- ----------------------------------- 1.4/12.9 MB 45.3 MB/s eta 0:00:01\n",
      "   --------- ------------------------------ 2.9/12.9 MB 30.9 MB/s eta 0:00:01\n",
      "   -------------- ------------------------- 4.6/12.9 MB 36.5 MB/s eta 0:00:01\n",
      "   ----------------- ---------------------- 5.7/12.9 MB 33.2 MB/s eta 0:00:01\n",
      "   ---------------------- ----------------- 7.2/12.9 MB 32.7 MB/s eta 0:00:01\n",
      "   --------------------------- ------------ 8.7/12.9 MB 32.7 MB/s eta 0:00:01\n",
      "   -------------------------------- ------- 10.3/12.9 MB 32.8 MB/s eta 0:00:01\n",
      "   ------------------------------------ --- 11.7/12.9 MB 32.8 MB/s eta 0:00:01\n",
      "   ---------------------------------------  12.9/12.9 MB 31.2 MB/s eta 0:00:01\n",
      "   ---------------------------------------- 12.9/12.9 MB 29.7 MB/s eta 0:00:00\n",
      "Downloading sympy-1.13.2-py3-none-any.whl (6.2 MB)\n",
      "   ---------------------------------------- 0.0/6.2 MB ? eta -:--:--\n",
      "   ----------- ---------------------------- 1.8/6.2 MB 37.5 MB/s eta 0:00:01\n",
      "   --------------------- ------------------ 3.3/6.2 MB 35.2 MB/s eta 0:00:01\n",
      "   ------------------------------- -------- 4.9/6.2 MB 31.2 MB/s eta 0:00:01\n",
      "   ---------------------------------------  6.2/6.2 MB 32.8 MB/s eta 0:00:01\n",
      "   ---------------------------------------- 6.2/6.2 MB 30.3 MB/s eta 0:00:00\n",
      "Downloading MarkupSafe-2.1.5-cp310-cp310-win_amd64.whl (17 kB)\n",
      "Downloading mpmath-1.3.0-py3-none-any.whl (536 kB)\n",
      "   ---------------------------------------- 0.0/536.2 kB ? eta -:--:--\n",
      "   ---------------------------------------- 536.2/536.2 kB ? eta 0:00:00\n",
      "Installing collected packages: mpmath, sympy, pillow, numpy, networkx, MarkupSafe, fsspec, filelock, jinja2, torch, torchvision, torchaudio\n",
      "Successfully installed MarkupSafe-2.1.5 filelock-3.15.4 fsspec-2024.9.0 jinja2-3.1.4 mpmath-1.3.0 networkx-3.3 numpy-2.1.1 pillow-10.4.0 sympy-1.13.2 torch-2.4.1 torchaudio-2.4.1 torchvision-0.19.1\n",
      "Collecting pandas\n",
      "  Downloading pandas-2.2.2-cp310-cp310-win_amd64.whl.metadata (19 kB)\n",
      "Requirement already satisfied: numpy in c:\\users\\12ped\\.conda\\envs\\optuna\\lib\\site-packages (2.1.1)\n",
      "Requirement already satisfied: pillow in c:\\users\\12ped\\.conda\\envs\\optuna\\lib\\site-packages (10.4.0)\n",
      "Requirement already satisfied: pathlib in c:\\users\\12ped\\.conda\\envs\\optuna\\lib\\site-packages (1.0.1)\n",
      "Collecting datasets\n",
      "  Downloading datasets-2.21.0-py3-none-any.whl.metadata (21 kB)\n",
      "Collecting scikit-learn\n",
      "  Downloading scikit_learn-1.5.1-cp310-cp310-win_amd64.whl.metadata (12 kB)\n",
      "Collecting optuna\n",
      "  Downloading optuna-4.0.0-py3-none-any.whl.metadata (16 kB)\n",
      "Collecting plotly\n",
      "  Downloading plotly-5.24.0-py3-none-any.whl.metadata (7.3 kB)\n",
      "Collecting nbformat\n",
      "  Downloading nbformat-5.10.4-py3-none-any.whl.metadata (3.6 kB)\n",
      "Requirement already satisfied: python-dateutil>=2.8.2 in c:\\users\\12ped\\.conda\\envs\\optuna\\lib\\site-packages (from pandas) (2.9.0)\n",
      "Collecting pytz>=2020.1 (from pandas)\n",
      "  Using cached pytz-2024.1-py2.py3-none-any.whl.metadata (22 kB)\n",
      "Collecting tzdata>=2022.7 (from pandas)\n",
      "  Using cached tzdata-2024.1-py2.py3-none-any.whl.metadata (1.4 kB)\n",
      "Requirement already satisfied: filelock in c:\\users\\12ped\\.conda\\envs\\optuna\\lib\\site-packages (from datasets) (3.15.4)\n",
      "Collecting pyarrow>=15.0.0 (from datasets)\n",
      "  Downloading pyarrow-17.0.0-cp310-cp310-win_amd64.whl.metadata (3.4 kB)\n",
      "Collecting dill<0.3.9,>=0.3.0 (from datasets)\n",
      "  Downloading dill-0.3.8-py3-none-any.whl.metadata (10 kB)\n",
      "Collecting requests>=2.32.2 (from datasets)\n",
      "  Using cached requests-2.32.3-py3-none-any.whl.metadata (4.6 kB)\n",
      "Collecting tqdm>=4.66.3 (from datasets)\n",
      "  Using cached tqdm-4.66.5-py3-none-any.whl.metadata (57 kB)\n",
      "Collecting xxhash (from datasets)\n",
      "  Downloading xxhash-3.5.0-cp310-cp310-win_amd64.whl.metadata (13 kB)\n",
      "Collecting multiprocess (from datasets)\n",
      "  Downloading multiprocess-0.70.16-py310-none-any.whl.metadata (7.2 kB)\n",
      "Collecting fsspec<=2024.6.1,>=2023.1.0 (from fsspec[http]<=2024.6.1,>=2023.1.0->datasets)\n",
      "  Downloading fsspec-2024.6.1-py3-none-any.whl.metadata (11 kB)\n",
      "Collecting aiohttp (from datasets)\n",
      "  Downloading aiohttp-3.10.5-cp310-cp310-win_amd64.whl.metadata (7.8 kB)\n",
      "Collecting huggingface-hub>=0.21.2 (from datasets)\n",
      "  Downloading huggingface_hub-0.24.6-py3-none-any.whl.metadata (13 kB)\n",
      "Requirement already satisfied: packaging in c:\\users\\12ped\\.conda\\envs\\optuna\\lib\\site-packages (from datasets) (24.1)\n",
      "Collecting pyyaml>=5.1 (from datasets)\n",
      "  Downloading PyYAML-6.0.2-cp310-cp310-win_amd64.whl.metadata (2.1 kB)\n",
      "Collecting scipy>=1.6.0 (from scikit-learn)\n",
      "  Downloading scipy-1.14.1-cp310-cp310-win_amd64.whl.metadata (60 kB)\n",
      "     ---------------------------------------- 0.0/60.8 kB ? eta -:--:--\n",
      "     ---------------------------------------- 60.8/60.8 kB 3.2 MB/s eta 0:00:00\n",
      "Collecting joblib>=1.2.0 (from scikit-learn)\n",
      "  Using cached joblib-1.4.2-py3-none-any.whl.metadata (5.4 kB)\n",
      "Collecting threadpoolctl>=3.1.0 (from scikit-learn)\n",
      "  Using cached threadpoolctl-3.5.0-py3-none-any.whl.metadata (13 kB)\n",
      "Collecting alembic>=1.5.0 (from optuna)\n",
      "  Downloading alembic-1.13.2-py3-none-any.whl.metadata (7.4 kB)\n",
      "Collecting colorlog (from optuna)\n",
      "  Downloading colorlog-6.8.2-py3-none-any.whl.metadata (10 kB)\n",
      "Collecting sqlalchemy>=1.3.0 (from optuna)\n",
      "  Downloading SQLAlchemy-2.0.34-cp310-cp310-win_amd64.whl.metadata (9.9 kB)\n",
      "Collecting tenacity>=6.2.0 (from plotly)\n",
      "  Downloading tenacity-9.0.0-py3-none-any.whl.metadata (1.2 kB)\n",
      "Collecting fastjsonschema>=2.15 (from nbformat)\n",
      "  Downloading fastjsonschema-2.20.0-py3-none-any.whl.metadata (2.1 kB)\n",
      "Collecting jsonschema>=2.6 (from nbformat)\n",
      "  Downloading jsonschema-4.23.0-py3-none-any.whl.metadata (7.9 kB)\n",
      "Requirement already satisfied: jupyter-core!=5.0.*,>=4.12 in c:\\users\\12ped\\.conda\\envs\\optuna\\lib\\site-packages (from nbformat) (5.7.2)\n",
      "Requirement already satisfied: traitlets>=5.1 in c:\\users\\12ped\\.conda\\envs\\optuna\\lib\\site-packages (from nbformat) (5.14.3)\n",
      "Collecting Mako (from alembic>=1.5.0->optuna)\n",
      "  Downloading Mako-1.3.5-py3-none-any.whl.metadata (2.9 kB)\n",
      "Requirement already satisfied: typing-extensions>=4 in c:\\users\\12ped\\.conda\\envs\\optuna\\lib\\site-packages (from alembic>=1.5.0->optuna) (4.12.2)\n",
      "Collecting aiohappyeyeballs>=2.3.0 (from aiohttp->datasets)\n",
      "  Downloading aiohappyeyeballs-2.4.0-py3-none-any.whl.metadata (5.9 kB)\n",
      "Collecting aiosignal>=1.1.2 (from aiohttp->datasets)\n",
      "  Downloading aiosignal-1.3.1-py3-none-any.whl.metadata (4.0 kB)\n",
      "Collecting attrs>=17.3.0 (from aiohttp->datasets)\n",
      "  Downloading attrs-24.2.0-py3-none-any.whl.metadata (11 kB)\n",
      "Collecting frozenlist>=1.1.1 (from aiohttp->datasets)\n",
      "  Downloading frozenlist-1.4.1-cp310-cp310-win_amd64.whl.metadata (12 kB)\n",
      "Collecting multidict<7.0,>=4.5 (from aiohttp->datasets)\n",
      "  Downloading multidict-6.0.5-cp310-cp310-win_amd64.whl.metadata (4.3 kB)\n",
      "Collecting yarl<2.0,>=1.0 (from aiohttp->datasets)\n",
      "  Downloading yarl-1.9.11-cp310-cp310-win_amd64.whl.metadata (44 kB)\n",
      "     ---------------------------------------- 0.0/44.5 kB ? eta -:--:--\n",
      "     ---------------------------------------- 44.5/44.5 kB ? eta 0:00:00\n",
      "Collecting async-timeout<5.0,>=4.0 (from aiohttp->datasets)\n",
      "  Downloading async_timeout-4.0.3-py3-none-any.whl.metadata (4.2 kB)\n",
      "Collecting jsonschema-specifications>=2023.03.6 (from jsonschema>=2.6->nbformat)\n",
      "  Downloading jsonschema_specifications-2023.12.1-py3-none-any.whl.metadata (3.0 kB)\n",
      "Collecting referencing>=0.28.4 (from jsonschema>=2.6->nbformat)\n",
      "  Downloading referencing-0.35.1-py3-none-any.whl.metadata (2.8 kB)\n",
      "Collecting rpds-py>=0.7.1 (from jsonschema>=2.6->nbformat)\n",
      "  Downloading rpds_py-0.20.0-cp310-none-win_amd64.whl.metadata (4.2 kB)\n",
      "Requirement already satisfied: platformdirs>=2.5 in c:\\users\\12ped\\.conda\\envs\\optuna\\lib\\site-packages (from jupyter-core!=5.0.*,>=4.12->nbformat) (4.2.2)\n",
      "Requirement already satisfied: pywin32>=300 in c:\\users\\12ped\\.conda\\envs\\optuna\\lib\\site-packages (from jupyter-core!=5.0.*,>=4.12->nbformat) (306)\n",
      "Requirement already satisfied: six>=1.5 in c:\\users\\12ped\\.conda\\envs\\optuna\\lib\\site-packages (from python-dateutil>=2.8.2->pandas) (1.16.0)\n",
      "Collecting charset-normalizer<4,>=2 (from requests>=2.32.2->datasets)\n",
      "  Downloading charset_normalizer-3.3.2-cp310-cp310-win_amd64.whl.metadata (34 kB)\n",
      "Collecting idna<4,>=2.5 (from requests>=2.32.2->datasets)\n",
      "  Using cached idna-3.8-py3-none-any.whl.metadata (9.9 kB)\n",
      "Collecting urllib3<3,>=1.21.1 (from requests>=2.32.2->datasets)\n",
      "  Using cached urllib3-2.2.2-py3-none-any.whl.metadata (6.4 kB)\n",
      "Collecting certifi>=2017.4.17 (from requests>=2.32.2->datasets)\n",
      "  Downloading certifi-2024.8.30-py3-none-any.whl.metadata (2.2 kB)\n",
      "Collecting greenlet!=0.4.17 (from sqlalchemy>=1.3.0->optuna)\n",
      "  Downloading greenlet-3.0.3-cp310-cp310-win_amd64.whl.metadata (3.9 kB)\n",
      "Requirement already satisfied: colorama in c:\\users\\12ped\\.conda\\envs\\optuna\\lib\\site-packages (from tqdm>=4.66.3->datasets) (0.4.6)\n",
      "Requirement already satisfied: MarkupSafe>=0.9.2 in c:\\users\\12ped\\.conda\\envs\\optuna\\lib\\site-packages (from Mako->alembic>=1.5.0->optuna) (2.1.5)\n",
      "Downloading pandas-2.2.2-cp310-cp310-win_amd64.whl (11.6 MB)\n",
      "   ---------------------------------------- 0.0/11.6 MB ? eta -:--:--\n",
      "   --- ------------------------------------ 0.9/11.6 MB 18.7 MB/s eta 0:00:01\n",
      "   ------- -------------------------------- 2.1/11.6 MB 22.7 MB/s eta 0:00:01\n",
      "   ---------- ----------------------------- 3.1/11.6 MB 22.1 MB/s eta 0:00:01\n",
      "   --------------- ------------------------ 4.6/11.6 MB 24.7 MB/s eta 0:00:01\n",
      "   ---------------------- ----------------- 6.4/11.6 MB 27.4 MB/s eta 0:00:01\n",
      "   --------------------------- ------------ 7.9/11.6 MB 26.4 MB/s eta 0:00:01\n",
      "   -------------------------------- ------- 9.3/11.6 MB 27.1 MB/s eta 0:00:01\n",
      "   -------------------------------------- - 11.1/11.6 MB 31.1 MB/s eta 0:00:01\n",
      "   ---------------------------------------- 11.6/11.6 MB 28.5 MB/s eta 0:00:00\n",
      "Downloading datasets-2.21.0-py3-none-any.whl (527 kB)\n",
      "   ---------------------------------------- 0.0/527.3 kB ? eta -:--:--\n",
      "   --------------------------------------- 527.3/527.3 kB 32.3 MB/s eta 0:00:00\n",
      "Downloading scikit_learn-1.5.1-cp310-cp310-win_amd64.whl (11.0 MB)\n",
      "   ---------------------------------------- 0.0/11.0 MB ? eta -:--:--\n",
      "   ----- ---------------------------------- 1.6/11.0 MB 49.0 MB/s eta 0:00:01\n",
      "   ---------- ----------------------------- 2.8/11.0 MB 29.6 MB/s eta 0:00:01\n",
      "   ----------------- ---------------------- 4.7/11.0 MB 37.6 MB/s eta 0:00:01\n",
      "   ----------------------- ---------------- 6.5/11.0 MB 34.5 MB/s eta 0:00:01\n",
      "   ----------------------------- ---------- 8.2/11.0 MB 37.3 MB/s eta 0:00:01\n",
      "   ----------------------------------- ---- 9.8/11.0 MB 36.9 MB/s eta 0:00:01\n",
      "   ---------------------------------------  11.0/11.0 MB 32.8 MB/s eta 0:00:01\n",
      "   ---------------------------------------- 11.0/11.0 MB 31.2 MB/s eta 0:00:00\n",
      "Downloading optuna-4.0.0-py3-none-any.whl (362 kB)\n",
      "   ---------------------------------------- 0.0/362.8 kB ? eta -:--:--\n",
      "   ---------------------------------------- 362.8/362.8 kB ? eta 0:00:00\n",
      "Downloading plotly-5.24.0-py3-none-any.whl (19.0 MB)\n",
      "   ---------------------------------------- 0.0/19.0 MB ? eta -:--:--\n",
      "   --- ------------------------------------ 1.5/19.0 MB 30.9 MB/s eta 0:00:01\n",
      "   ----- ---------------------------------- 2.8/19.0 MB 36.2 MB/s eta 0:00:01\n",
      "   --------- ------------------------------ 4.4/19.0 MB 39.8 MB/s eta 0:00:01\n",
      "   ------------ --------------------------- 6.0/19.0 MB 38.3 MB/s eta 0:00:01\n",
      "   ---------------- ----------------------- 7.8/19.0 MB 33.2 MB/s eta 0:00:01\n",
      "   -------------------- ------------------- 9.9/19.0 MB 37.2 MB/s eta 0:00:01\n",
      "   ------------------------- -------------- 12.2/19.0 MB 38.5 MB/s eta 0:00:01\n",
      "   ---------------------------- ----------- 13.4/19.0 MB 38.5 MB/s eta 0:00:01\n",
      "   -------------------------------- ------- 15.6/19.0 MB 40.9 MB/s eta 0:00:01\n",
      "   ----------------------------------- ---- 17.0/19.0 MB 40.9 MB/s eta 0:00:01\n",
      "   ---------------------------------------  18.8/19.0 MB 38.6 MB/s eta 0:00:01\n",
      "   ---------------------------------------- 19.0/19.0 MB 36.2 MB/s eta 0:00:00\n",
      "Downloading nbformat-5.10.4-py3-none-any.whl (78 kB)\n",
      "   ---------------------------------------- 0.0/78.5 kB ? eta -:--:--\n",
      "   ---------------------------------------- 78.5/78.5 kB ? eta 0:00:00\n",
      "Downloading alembic-1.13.2-py3-none-any.whl (232 kB)\n",
      "   ---------------------------------------- 0.0/233.0 kB ? eta -:--:--\n",
      "   ---------------------------------------- 233.0/233.0 kB ? eta 0:00:00\n",
      "Downloading dill-0.3.8-py3-none-any.whl (116 kB)\n",
      "   ---------------------------------------- 0.0/116.3 kB ? eta -:--:--\n",
      "   ---------------------------------------- 116.3/116.3 kB 6.6 MB/s eta 0:00:00\n",
      "Downloading fastjsonschema-2.20.0-py3-none-any.whl (23 kB)\n",
      "Downloading fsspec-2024.6.1-py3-none-any.whl (177 kB)\n",
      "   ---------------------------------------- 0.0/177.6 kB ? eta -:--:--\n",
      "   ---------------------------------------- 177.6/177.6 kB ? eta 0:00:00\n",
      "Downloading aiohttp-3.10.5-cp310-cp310-win_amd64.whl (379 kB)\n",
      "   ---------------------------------------- 0.0/379.2 kB ? eta -:--:--\n",
      "   ---------------------------------------- 379.2/379.2 kB ? eta 0:00:00\n",
      "Downloading huggingface_hub-0.24.6-py3-none-any.whl (417 kB)\n",
      "   ---------------------------------------- 0.0/417.5 kB ? eta -:--:--\n",
      "   --------------------------------------- 417.5/417.5 kB 25.5 MB/s eta 0:00:00\n",
      "Using cached joblib-1.4.2-py3-none-any.whl (301 kB)\n",
      "Downloading jsonschema-4.23.0-py3-none-any.whl (88 kB)\n",
      "   ---------------------------------------- 0.0/88.5 kB ? eta -:--:--\n",
      "   ---------------------------------------- 88.5/88.5 kB ? eta 0:00:00\n",
      "Downloading pyarrow-17.0.0-cp310-cp310-win_amd64.whl (25.1 MB)\n",
      "   ---------------------------------------- 0.0/25.1 MB ? eta -:--:--\n",
      "   -- ------------------------------------- 1.7/25.1 MB 55.8 MB/s eta 0:00:01\n",
      "   ----- ---------------------------------- 3.4/25.1 MB 36.9 MB/s eta 0:00:01\n",
      "   -------- ------------------------------- 5.2/25.1 MB 41.2 MB/s eta 0:00:01\n",
      "   ---------- ----------------------------- 6.7/25.1 MB 39.1 MB/s eta 0:00:01\n",
      "   ------------- -------------------------- 8.6/25.1 MB 36.8 MB/s eta 0:00:01\n",
      "   ---------------- ----------------------- 10.4/25.1 MB 36.4 MB/s eta 0:00:01\n",
      "   ------------------ --------------------- 11.8/25.1 MB 34.4 MB/s eta 0:00:01\n",
      "   -------------------- ------------------- 13.0/25.1 MB 34.4 MB/s eta 0:00:01\n",
      "   ----------------------- ---------------- 14.6/25.1 MB 34.4 MB/s eta 0:00:01\n",
      "   ------------------------- -------------- 16.3/25.1 MB 31.2 MB/s eta 0:00:01\n",
      "   ---------------------------- ----------- 17.9/25.1 MB 34.4 MB/s eta 0:00:01\n",
      "   ------------------------------- -------- 19.5/25.1 MB 34.4 MB/s eta 0:00:01\n",
      "   --------------------------------- ------ 21.2/25.1 MB 32.8 MB/s eta 0:00:01\n",
      "   ------------------------------------ --- 22.8/25.1 MB 34.4 MB/s eta 0:00:01\n",
      "   -------------------------------------- - 24.5/25.1 MB 32.8 MB/s eta 0:00:01\n",
      "   ---------------------------------------  25.1/25.1 MB 34.4 MB/s eta 0:00:01\n",
      "   ---------------------------------------  25.1/25.1 MB 34.4 MB/s eta 0:00:01\n",
      "   ---------------------------------------- 25.1/25.1 MB 27.3 MB/s eta 0:00:00\n",
      "Using cached pytz-2024.1-py2.py3-none-any.whl (505 kB)\n",
      "Downloading PyYAML-6.0.2-cp310-cp310-win_amd64.whl (161 kB)\n",
      "   ---------------------------------------- 0.0/161.8 kB ? eta -:--:--\n",
      "   ---------------------------------------- 161.8/161.8 kB 9.5 MB/s eta 0:00:00\n",
      "Using cached requests-2.32.3-py3-none-any.whl (64 kB)\n",
      "Downloading scipy-1.14.1-cp310-cp310-win_amd64.whl (44.8 MB)\n",
      "   ---------------------------------------- 0.0/44.8 MB ? eta -:--:--\n",
      "    --------------------------------------- 0.9/44.8 MB 30.1 MB/s eta 0:00:02\n",
      "   -- ------------------------------------- 2.4/44.8 MB 25.5 MB/s eta 0:00:02\n",
      "   --- ------------------------------------ 4.0/44.8 MB 31.7 MB/s eta 0:00:02\n",
      "   ----- ---------------------------------- 5.6/44.8 MB 32.6 MB/s eta 0:00:02\n",
      "   ------ --------------------------------- 7.3/44.8 MB 33.5 MB/s eta 0:00:02\n",
      "   -------- ------------------------------- 9.0/44.8 MB 32.1 MB/s eta 0:00:02\n",
      "   --------- ------------------------------ 10.8/44.8 MB 32.7 MB/s eta 0:00:02\n",
      "   ---------- ----------------------------- 12.2/44.8 MB 34.4 MB/s eta 0:00:01\n",
      "   ------------ --------------------------- 13.7/44.8 MB 34.4 MB/s eta 0:00:01\n",
      "   ------------- -------------------------- 15.3/44.8 MB 34.6 MB/s eta 0:00:01\n",
      "   -------------- ------------------------- 16.5/44.8 MB 34.4 MB/s eta 0:00:01\n",
      "   ---------------- ----------------------- 18.1/44.8 MB 36.4 MB/s eta 0:00:01\n",
      "   ----------------- ---------------------- 19.8/44.8 MB 32.8 MB/s eta 0:00:01\n",
      "   ------------------ --------------------- 21.2/44.8 MB 34.4 MB/s eta 0:00:01\n",
      "   -------------------- ------------------- 23.1/44.8 MB 34.4 MB/s eta 0:00:01\n",
      "   ---------------------- ----------------- 24.9/44.8 MB 32.7 MB/s eta 0:00:01\n",
      "   ----------------------- ---------------- 26.4/44.8 MB 32.7 MB/s eta 0:00:01\n",
      "   ------------------------- -------------- 28.2/44.8 MB 32.8 MB/s eta 0:00:01\n",
      "   -------------------------- ------------- 30.1/44.8 MB 34.4 MB/s eta 0:00:01\n",
      "   ---------------------------- ----------- 31.6/44.8 MB 36.4 MB/s eta 0:00:01\n",
      "   ----------------------------- ---------- 33.4/44.8 MB 36.4 MB/s eta 0:00:01\n",
      "   ------------------------------- -------- 35.0/44.8 MB 36.4 MB/s eta 0:00:01\n",
      "   -------------------------------- ------- 36.6/44.8 MB 34.6 MB/s eta 0:00:01\n",
      "   ---------------------------------- ----- 38.1/44.8 MB 36.3 MB/s eta 0:00:01\n",
      "   ----------------------------------- ---- 39.5/44.8 MB 34.4 MB/s eta 0:00:01\n",
      "   ------------------------------------ --- 40.4/44.8 MB 32.8 MB/s eta 0:00:01\n",
      "   ------------------------------------- -- 42.3/44.8 MB 32.8 MB/s eta 0:00:01\n",
      "   -------------------------------------- - 43.6/44.8 MB 28.5 MB/s eta 0:00:01\n",
      "   ---------------------------------------  44.8/44.8 MB 29.7 MB/s eta 0:00:01\n",
      "   ---------------------------------------  44.8/44.8 MB 29.7 MB/s eta 0:00:01\n",
      "   ---------------------------------------- 44.8/44.8 MB 25.2 MB/s eta 0:00:00\n",
      "Downloading SQLAlchemy-2.0.34-cp310-cp310-win_amd64.whl (2.1 MB)\n",
      "   ---------------------------------------- 0.0/2.1 MB ? eta -:--:--\n",
      "   ---------------------------------- ----- 1.8/2.1 MB 57.1 MB/s eta 0:00:01\n",
      "   ---------------------------------------- 2.1/2.1 MB 33.5 MB/s eta 0:00:00\n",
      "Downloading tenacity-9.0.0-py3-none-any.whl (28 kB)\n",
      "Using cached threadpoolctl-3.5.0-py3-none-any.whl (18 kB)\n",
      "Using cached tqdm-4.66.5-py3-none-any.whl (78 kB)\n",
      "Using cached tzdata-2024.1-py2.py3-none-any.whl (345 kB)\n",
      "Downloading colorlog-6.8.2-py3-none-any.whl (11 kB)\n",
      "Downloading multiprocess-0.70.16-py310-none-any.whl (134 kB)\n",
      "   ---------------------------------------- 0.0/134.8 kB ? eta -:--:--\n",
      "   ---------------------------------------- 134.8/134.8 kB 8.3 MB/s eta 0:00:00\n",
      "Downloading xxhash-3.5.0-cp310-cp310-win_amd64.whl (30 kB)\n",
      "Downloading aiohappyeyeballs-2.4.0-py3-none-any.whl (12 kB)\n",
      "Downloading aiosignal-1.3.1-py3-none-any.whl (7.6 kB)\n",
      "Downloading async_timeout-4.0.3-py3-none-any.whl (5.7 kB)\n",
      "Downloading attrs-24.2.0-py3-none-any.whl (63 kB)\n",
      "   ---------------------------------------- 0.0/63.0 kB ? eta -:--:--\n",
      "   ---------------------------------------- 63.0/63.0 kB 3.5 MB/s eta 0:00:00\n",
      "Downloading certifi-2024.8.30-py3-none-any.whl (167 kB)\n",
      "   ---------------------------------------- 0.0/167.3 kB ? eta -:--:--\n",
      "   ---------------------------------------- 167.3/167.3 kB 9.8 MB/s eta 0:00:00\n",
      "Downloading charset_normalizer-3.3.2-cp310-cp310-win_amd64.whl (100 kB)\n",
      "   ---------------------------------------- 0.0/100.3 kB ? eta -:--:--\n",
      "   ---------------------------------------- 100.3/100.3 kB 5.6 MB/s eta 0:00:00\n",
      "Downloading frozenlist-1.4.1-cp310-cp310-win_amd64.whl (50 kB)\n",
      "   ---------------------------------------- 0.0/50.4 kB ? eta -:--:--\n",
      "   ---------------------------------------- 50.4/50.4 kB ? eta 0:00:00\n",
      "Downloading greenlet-3.0.3-cp310-cp310-win_amd64.whl (292 kB)\n",
      "   ---------------------------------------- 0.0/292.3 kB ? eta -:--:--\n",
      "   ---------------------------------------- 292.3/292.3 kB ? eta 0:00:00\n",
      "Using cached idna-3.8-py3-none-any.whl (66 kB)\n",
      "Downloading jsonschema_specifications-2023.12.1-py3-none-any.whl (18 kB)\n",
      "Downloading multidict-6.0.5-cp310-cp310-win_amd64.whl (28 kB)\n",
      "Downloading referencing-0.35.1-py3-none-any.whl (26 kB)\n",
      "Downloading rpds_py-0.20.0-cp310-none-win_amd64.whl (213 kB)\n",
      "   ---------------------------------------- 0.0/213.5 kB ? eta -:--:--\n",
      "   --------------------------------------- 213.5/213.5 kB 12.7 MB/s eta 0:00:00\n",
      "Using cached urllib3-2.2.2-py3-none-any.whl (121 kB)\n",
      "Downloading yarl-1.9.11-cp310-cp310-win_amd64.whl (109 kB)\n",
      "   ---------------------------------------- 0.0/109.3 kB ? eta -:--:--\n",
      "   ---------------------------------------- 109.3/109.3 kB ? eta 0:00:00\n",
      "Downloading Mako-1.3.5-py3-none-any.whl (78 kB)\n",
      "   ---------------------------------------- 0.0/78.6 kB ? eta -:--:--\n",
      "   ---------------------------------------- 78.6/78.6 kB ? eta 0:00:00\n",
      "Installing collected packages: pytz, fastjsonschema, xxhash, urllib3, tzdata, tqdm, threadpoolctl, tenacity, scipy, rpds-py, pyyaml, pyarrow, multidict, Mako, joblib, idna, greenlet, fsspec, frozenlist, dill, colorlog, charset-normalizer, certifi, attrs, async-timeout, aiohappyeyeballs, yarl, sqlalchemy, scikit-learn, requests, referencing, plotly, pandas, multiprocess, aiosignal, jsonschema-specifications, huggingface-hub, alembic, aiohttp, optuna, jsonschema, nbformat, datasets\n",
      "  Attempting uninstall: fsspec\n",
      "    Found existing installation: fsspec 2024.9.0\n",
      "    Uninstalling fsspec-2024.9.0:\n",
      "      Successfully uninstalled fsspec-2024.9.0\n",
      "Successfully installed Mako-1.3.5 aiohappyeyeballs-2.4.0 aiohttp-3.10.5 aiosignal-1.3.1 alembic-1.13.2 async-timeout-4.0.3 attrs-24.2.0 certifi-2024.8.30 charset-normalizer-3.3.2 colorlog-6.8.2 datasets-2.21.0 dill-0.3.8 fastjsonschema-2.20.0 frozenlist-1.4.1 fsspec-2024.6.1 greenlet-3.0.3 huggingface-hub-0.24.6 idna-3.8 joblib-1.4.2 jsonschema-4.23.0 jsonschema-specifications-2023.12.1 multidict-6.0.5 multiprocess-0.70.16 nbformat-5.10.4 optuna-4.0.0 pandas-2.2.2 plotly-5.24.0 pyarrow-17.0.0 pytz-2024.1 pyyaml-6.0.2 referencing-0.35.1 requests-2.32.3 rpds-py-0.20.0 scikit-learn-1.5.1 scipy-1.14.1 sqlalchemy-2.0.34 tenacity-9.0.0 threadpoolctl-3.5.0 tqdm-4.66.5 tzdata-2024.1 urllib3-2.2.2 xxhash-3.5.0 yarl-1.9.11\n",
      "Collecting transformers[torch]\n",
      "  Downloading transformers-4.44.2-py3-none-any.whl.metadata (43 kB)\n",
      "     ---------------------------------------- 0.0/43.7 kB ? eta -:--:--\n",
      "     -------------------------- ----------- 30.7/43.7 kB 660.6 kB/s eta 0:00:01\n",
      "     -------------------------------------- 43.7/43.7 kB 711.0 kB/s eta 0:00:00\n",
      "Requirement already satisfied: filelock in c:\\users\\12ped\\.conda\\envs\\optuna\\lib\\site-packages (from transformers[torch]) (3.15.4)\n",
      "Requirement already satisfied: huggingface-hub<1.0,>=0.23.2 in c:\\users\\12ped\\.conda\\envs\\optuna\\lib\\site-packages (from transformers[torch]) (0.24.6)\n",
      "Requirement already satisfied: numpy>=1.17 in c:\\users\\12ped\\.conda\\envs\\optuna\\lib\\site-packages (from transformers[torch]) (2.1.1)\n",
      "Requirement already satisfied: packaging>=20.0 in c:\\users\\12ped\\.conda\\envs\\optuna\\lib\\site-packages (from transformers[torch]) (24.1)\n",
      "Requirement already satisfied: pyyaml>=5.1 in c:\\users\\12ped\\.conda\\envs\\optuna\\lib\\site-packages (from transformers[torch]) (6.0.2)\n",
      "Collecting regex!=2019.12.17 (from transformers[torch])\n",
      "  Downloading regex-2024.7.24-cp310-cp310-win_amd64.whl.metadata (41 kB)\n",
      "     ---------------------------------------- 0.0/41.5 kB ? eta -:--:--\n",
      "     ---------------------------------------- 41.5/41.5 kB 1.0 MB/s eta 0:00:00\n",
      "Requirement already satisfied: requests in c:\\users\\12ped\\.conda\\envs\\optuna\\lib\\site-packages (from transformers[torch]) (2.32.3)\n",
      "Collecting safetensors>=0.4.1 (from transformers[torch])\n",
      "  Downloading safetensors-0.4.5-cp310-none-win_amd64.whl.metadata (3.9 kB)\n",
      "Collecting tokenizers<0.20,>=0.19 (from transformers[torch])\n",
      "  Downloading tokenizers-0.19.1-cp310-none-win_amd64.whl.metadata (6.9 kB)\n",
      "Requirement already satisfied: tqdm>=4.27 in c:\\users\\12ped\\.conda\\envs\\optuna\\lib\\site-packages (from transformers[torch]) (4.66.5)\n",
      "Collecting accelerate>=0.21.0 (from transformers[torch])\n",
      "  Downloading accelerate-0.34.2-py3-none-any.whl.metadata (19 kB)\n",
      "Requirement already satisfied: torch in c:\\users\\12ped\\.conda\\envs\\optuna\\lib\\site-packages (from transformers[torch]) (2.4.1)\n",
      "Requirement already satisfied: psutil in c:\\users\\12ped\\.conda\\envs\\optuna\\lib\\site-packages (from accelerate>=0.21.0->transformers[torch]) (6.0.0)\n",
      "Requirement already satisfied: fsspec>=2023.5.0 in c:\\users\\12ped\\.conda\\envs\\optuna\\lib\\site-packages (from huggingface-hub<1.0,>=0.23.2->transformers[torch]) (2024.6.1)\n",
      "Requirement already satisfied: typing-extensions>=3.7.4.3 in c:\\users\\12ped\\.conda\\envs\\optuna\\lib\\site-packages (from huggingface-hub<1.0,>=0.23.2->transformers[torch]) (4.12.2)\n",
      "Requirement already satisfied: sympy in c:\\users\\12ped\\.conda\\envs\\optuna\\lib\\site-packages (from torch->transformers[torch]) (1.13.2)\n",
      "Requirement already satisfied: networkx in c:\\users\\12ped\\.conda\\envs\\optuna\\lib\\site-packages (from torch->transformers[torch]) (3.3)\n",
      "Requirement already satisfied: jinja2 in c:\\users\\12ped\\.conda\\envs\\optuna\\lib\\site-packages (from torch->transformers[torch]) (3.1.4)\n",
      "Requirement already satisfied: colorama in c:\\users\\12ped\\.conda\\envs\\optuna\\lib\\site-packages (from tqdm>=4.27->transformers[torch]) (0.4.6)\n",
      "Requirement already satisfied: charset-normalizer<4,>=2 in c:\\users\\12ped\\.conda\\envs\\optuna\\lib\\site-packages (from requests->transformers[torch]) (3.3.2)\n",
      "Requirement already satisfied: idna<4,>=2.5 in c:\\users\\12ped\\.conda\\envs\\optuna\\lib\\site-packages (from requests->transformers[torch]) (3.8)\n",
      "Requirement already satisfied: urllib3<3,>=1.21.1 in c:\\users\\12ped\\.conda\\envs\\optuna\\lib\\site-packages (from requests->transformers[torch]) (2.2.2)\n",
      "Requirement already satisfied: certifi>=2017.4.17 in c:\\users\\12ped\\.conda\\envs\\optuna\\lib\\site-packages (from requests->transformers[torch]) (2024.8.30)\n",
      "Requirement already satisfied: MarkupSafe>=2.0 in c:\\users\\12ped\\.conda\\envs\\optuna\\lib\\site-packages (from jinja2->torch->transformers[torch]) (2.1.5)\n",
      "Requirement already satisfied: mpmath<1.4,>=1.1.0 in c:\\users\\12ped\\.conda\\envs\\optuna\\lib\\site-packages (from sympy->torch->transformers[torch]) (1.3.0)\n",
      "Downloading accelerate-0.34.2-py3-none-any.whl (324 kB)\n",
      "   ---------------------------------------- 0.0/324.4 kB ? eta -:--:--\n",
      "   ---------------------------------------- 324.4/324.4 kB 9.8 MB/s eta 0:00:00\n",
      "Downloading regex-2024.7.24-cp310-cp310-win_amd64.whl (269 kB)\n",
      "   ---------------------------------------- 0.0/269.7 kB ? eta -:--:--\n",
      "   --------------------------------------- 269.7/269.7 kB 16.2 MB/s eta 0:00:00\n",
      "Downloading safetensors-0.4.5-cp310-none-win_amd64.whl (285 kB)\n",
      "   ---------------------------------------- 0.0/285.9 kB ? eta -:--:--\n",
      "   --------------------------------------- 285.9/285.9 kB 17.2 MB/s eta 0:00:00\n",
      "Downloading tokenizers-0.19.1-cp310-none-win_amd64.whl (2.2 MB)\n",
      "   ---------------------------------------- 0.0/2.2 MB ? eta -:--:--\n",
      "   ----------------------- ---------------- 1.3/2.2 MB 41.6 MB/s eta 0:00:01\n",
      "   ---------------------------------------- 2.2/2.2 MB 28.3 MB/s eta 0:00:00\n",
      "Downloading transformers-4.44.2-py3-none-any.whl (9.5 MB)\n",
      "   ---------------------------------------- 0.0/9.5 MB ? eta -:--:--\n",
      "   ----- ---------------------------------- 1.2/9.5 MB 25.6 MB/s eta 0:00:01\n",
      "   ---------- ----------------------------- 2.5/9.5 MB 32.6 MB/s eta 0:00:01\n",
      "   ----------------- ---------------------- 4.1/9.5 MB 29.0 MB/s eta 0:00:01\n",
      "   ---------------------- ----------------- 5.4/9.5 MB 31.7 MB/s eta 0:00:01\n",
      "   -------------------------- ------------- 6.3/9.5 MB 26.9 MB/s eta 0:00:01\n",
      "   ------------------------------ --------- 7.2/9.5 MB 27.2 MB/s eta 0:00:01\n",
      "   ---------------------------------- ----- 8.2/9.5 MB 26.3 MB/s eta 0:00:01\n",
      "   ---------------------------------------  9.5/9.5 MB 26.3 MB/s eta 0:00:01\n",
      "   ---------------------------------------- 9.5/9.5 MB 24.2 MB/s eta 0:00:00\n",
      "Installing collected packages: safetensors, regex, tokenizers, accelerate, transformers\n",
      "Successfully installed accelerate-0.34.2 regex-2024.7.24 safetensors-0.4.5 tokenizers-0.19.1 transformers-4.44.2\n",
      "Collecting ipywidgets\n",
      "  Downloading ipywidgets-8.1.5-py3-none-any.whl.metadata (2.3 kB)\n",
      "Requirement already satisfied: comm>=0.1.3 in c:\\users\\12ped\\.conda\\envs\\optuna\\lib\\site-packages (from ipywidgets) (0.2.2)\n",
      "Requirement already satisfied: ipython>=6.1.0 in c:\\users\\12ped\\.conda\\envs\\optuna\\lib\\site-packages (from ipywidgets) (8.27.0)\n",
      "Requirement already satisfied: traitlets>=4.3.1 in c:\\users\\12ped\\.conda\\envs\\optuna\\lib\\site-packages (from ipywidgets) (5.14.3)\n",
      "Collecting widgetsnbextension~=4.0.12 (from ipywidgets)\n",
      "  Downloading widgetsnbextension-4.0.13-py3-none-any.whl.metadata (1.6 kB)\n",
      "Collecting jupyterlab-widgets~=3.0.12 (from ipywidgets)\n",
      "  Downloading jupyterlab_widgets-3.0.13-py3-none-any.whl.metadata (4.1 kB)\n",
      "Requirement already satisfied: decorator in c:\\users\\12ped\\.conda\\envs\\optuna\\lib\\site-packages (from ipython>=6.1.0->ipywidgets) (5.1.1)\n",
      "Requirement already satisfied: jedi>=0.16 in c:\\users\\12ped\\.conda\\envs\\optuna\\lib\\site-packages (from ipython>=6.1.0->ipywidgets) (0.19.1)\n",
      "Requirement already satisfied: matplotlib-inline in c:\\users\\12ped\\.conda\\envs\\optuna\\lib\\site-packages (from ipython>=6.1.0->ipywidgets) (0.1.7)\n",
      "Requirement already satisfied: prompt-toolkit<3.1.0,>=3.0.41 in c:\\users\\12ped\\.conda\\envs\\optuna\\lib\\site-packages (from ipython>=6.1.0->ipywidgets) (3.0.47)\n",
      "Requirement already satisfied: pygments>=2.4.0 in c:\\users\\12ped\\.conda\\envs\\optuna\\lib\\site-packages (from ipython>=6.1.0->ipywidgets) (2.18.0)\n",
      "Requirement already satisfied: stack-data in c:\\users\\12ped\\.conda\\envs\\optuna\\lib\\site-packages (from ipython>=6.1.0->ipywidgets) (0.6.2)\n",
      "Requirement already satisfied: exceptiongroup in c:\\users\\12ped\\.conda\\envs\\optuna\\lib\\site-packages (from ipython>=6.1.0->ipywidgets) (1.2.2)\n",
      "Requirement already satisfied: typing-extensions>=4.6 in c:\\users\\12ped\\.conda\\envs\\optuna\\lib\\site-packages (from ipython>=6.1.0->ipywidgets) (4.12.2)\n",
      "Requirement already satisfied: colorama in c:\\users\\12ped\\.conda\\envs\\optuna\\lib\\site-packages (from ipython>=6.1.0->ipywidgets) (0.4.6)\n",
      "Requirement already satisfied: parso<0.9.0,>=0.8.3 in c:\\users\\12ped\\.conda\\envs\\optuna\\lib\\site-packages (from jedi>=0.16->ipython>=6.1.0->ipywidgets) (0.8.4)\n",
      "Requirement already satisfied: wcwidth in c:\\users\\12ped\\.conda\\envs\\optuna\\lib\\site-packages (from prompt-toolkit<3.1.0,>=3.0.41->ipython>=6.1.0->ipywidgets) (0.2.13)\n",
      "Requirement already satisfied: executing>=1.2.0 in c:\\users\\12ped\\.conda\\envs\\optuna\\lib\\site-packages (from stack-data->ipython>=6.1.0->ipywidgets) (2.1.0)\n",
      "Requirement already satisfied: asttokens>=2.1.0 in c:\\users\\12ped\\.conda\\envs\\optuna\\lib\\site-packages (from stack-data->ipython>=6.1.0->ipywidgets) (2.4.1)\n",
      "Requirement already satisfied: pure-eval in c:\\users\\12ped\\.conda\\envs\\optuna\\lib\\site-packages (from stack-data->ipython>=6.1.0->ipywidgets) (0.2.3)\n",
      "Requirement already satisfied: six>=1.12.0 in c:\\users\\12ped\\.conda\\envs\\optuna\\lib\\site-packages (from asttokens>=2.1.0->stack-data->ipython>=6.1.0->ipywidgets) (1.16.0)\n",
      "Downloading ipywidgets-8.1.5-py3-none-any.whl (139 kB)\n",
      "   ---------------------------------------- 0.0/139.8 kB ? eta -:--:--\n",
      "   ---------------------------------------- 139.8/139.8 kB 4.0 MB/s eta 0:00:00\n",
      "Downloading jupyterlab_widgets-3.0.13-py3-none-any.whl (214 kB)\n",
      "   ---------------------------------------- 0.0/214.4 kB ? eta -:--:--\n",
      "   --------------------------------------- 214.4/214.4 kB 12.8 MB/s eta 0:00:00\n",
      "Downloading widgetsnbextension-4.0.13-py3-none-any.whl (2.3 MB)\n",
      "   ---------------------------------------- 0.0/2.3 MB ? eta -:--:--\n",
      "   --------------- ------------------------ 0.9/2.3 MB 56.3 MB/s eta 0:00:01\n",
      "   ----------------------------- ---------- 1.7/2.3 MB 22.2 MB/s eta 0:00:01\n",
      "   ---------------------------------------- 2.3/2.3 MB 21.1 MB/s eta 0:00:00\n",
      "Installing collected packages: widgetsnbextension, jupyterlab-widgets, ipywidgets\n",
      "Successfully installed ipywidgets-8.1.5 jupyterlab-widgets-3.0.13 widgetsnbextension-4.0.13\n"
     ]
    }
   ],
   "source": [
    "# !pip3 install torch torchvision torchaudio --index-url https://download.pytorch.org/whl/cu118\n",
    "!pip install torch torchvision torchaudio\n",
    "!pip install pandas numpy pillow pathlib datasets scikit-learn optuna plotly nbformat\n",
    "!pip install transformers[torch]\n",
    "!pip install ipywidgets"
   ]
  },
  {
   "cell_type": "code",
   "execution_count": 2,
   "metadata": {},
   "outputs": [],
   "source": [
    "import datetime\n",
    "import json\n",
    "import numpy as np\n",
    "import optuna\n",
    "import pandas as pd\n",
    "import pickle\n",
    "import torch\n",
    "\n",
    "from dataclasses import dataclass\n",
    "from datasets import load_metric, list_metrics, Dataset\n",
    "from enum import auto, Enum\n",
    "from functools import partial\n",
    "from math import ceil\n",
    "from pathlib import Path\n",
    "from PIL import Image\n",
    "from torch.utils.data import Dataset as Dataset_torch\n",
    "from transformers import ViTImageProcessor, ViTForImageClassification, TrainingArguments, Trainer\n",
    "from torchvision.transforms.functional import (resize, pad, to_tensor, to_pil_image)\n",
    "from torchvision.transforms import (\n",
    "    Compose,\n",
    "    ColorJitter,\n",
    "    GaussianBlur,\n",
    "    RandomHorizontalFlip,\n",
    "    RandomVerticalFlip,\n",
    "    RandomAffine)\n",
    "from typing import List\n",
    "\n",
    "\n",
    "import logging\n",
    "import sys"
   ]
  },
  {
   "cell_type": "code",
   "execution_count": 3,
   "metadata": {},
   "outputs": [],
   "source": [
    "class NFCS(Enum):\n",
    "    SN = auto()\n",
    "    FS = auto()\n",
    "    FP = auto()\n",
    "    BA = auto()\n",
    "    BE = auto()\n",
    "\n",
    "@dataclass\n",
    "class DatasetMeta:\n",
    "    name: str\n",
    "    csv_path: str\n",
    "\n",
    "full_dataset = DatasetMeta(\n",
    "    name='Full', csv_path=r\"D:\\ComputerScience\\Mestrado\\data\\UNIFESP\\NEW_GT.csv\")\n",
    "unifesp_dataset = DatasetMeta(\n",
    "    name='UNIFESP', csv_path=r\"D:\\ComputerScience\\Mestrado\\data\\UNIFESP\\NEW_GT_UNIFESP.csv\"\n",
    ")"
   ]
  },
  {
   "cell_type": "markdown",
   "metadata": {},
   "source": [
    "## Constants"
   ]
  },
  {
   "cell_type": "code",
   "execution_count": 4,
   "metadata": {},
   "outputs": [],
   "source": [
    "# Datetime\n",
    "now = datetime.datetime.now()\n",
    "now_str = now.strftime('%d%m%y-%H%M')\n",
    "# General\n",
    "MOCK = False # Marks this as a mock run. Mock runs are saved in a test directory to avoid poluting the results directory\n",
    "DESCRIPTION = '' # Use this string to describe any important points of the experiment. This will be saved along with the results\n",
    "# Model\n",
    "DATASET:DatasetMeta   = full_dataset\n",
    "NFCS_REGION:NFCS      = NFCS.SN\n",
    "MASKED:bool           = False # If true use the masked crops if false use the cropped only\n",
    "VALIDATION_SIZE:float = 0.15 # % of images used for validation\n",
    "METRICS:List[str]     = [\"accuracy\", \"f1\"] # For a list of available metrics call the function list_metrics()\n",
    "OBJECTIVE_METRIC      = \"eval_f1\" # Metric that will be optimized by optuna\n",
    "GREATER_IS_BETTER     = True # Relative to the objective metric\n",
    "DIRECTION             = \"maximize\" if GREATER_IS_BETTER else \"minimize\"\n",
    "# Hyperparam tunning\n",
    "NUM_TRIALS:int   = 30 # 20\n",
    "TRAIN_EPOCHS:int = 20 # 10\n",
    "# Model path to download from huggingface\n",
    "model_name_or_path:str = 'google/vit-base-patch16-224-in21k'\n",
    "\n",
    "\n",
    "\n",
    "# Dataset paths\n",
    "output_dir = r'D:\\ComputerScience\\Mestrado\\results\\Optuna' + f\"{'/mock' if MOCK else ''}/ViT/{DATASET.name}/{'non_' if MASKED==False else ''}masked/{NFCS_REGION.name}/{now_str}\"\n",
    "csv_path = DATASET.csv_path\n",
    "masked_images_path = r\"D:\\ComputerScience\\Mestrado\\data\\masked_crops\"\n",
    "non_masked_images_path = r\"D:\\ComputerScience\\Mestrado\\data\\non_masked_crops\"\n",
    "# Create output dirs if needed\n",
    "Path(output_dir).mkdir(parents=True, exist_ok=True)"
   ]
  },
  {
   "cell_type": "markdown",
   "metadata": {},
   "source": [
    "---\n",
    "\n",
    "## Hyperparameter Optimization using Optuna"
   ]
  },
  {
   "cell_type": "code",
   "execution_count": 5,
   "metadata": {},
   "outputs": [],
   "source": [
    "def optuna_hp_space(trial):\n",
    "    return {\n",
    "        \"learning_rate\": trial.suggest_float(\"learning_rate\", 1e-6, 1e-3, log=True),\n",
    "        \"per_device_train_batch_size\": trial.suggest_categorical(\"per_device_train_batch_size\", [4, 8, 16, 32]),\n",
    "        \"weight_decay\": trial.suggest_categorical(\"weight_decay\", [0, 0.1])\n",
    "    }\n",
    "\n",
    "def compute_objective(metrics):\n",
    "    return metrics[OBJECTIVE_METRIC]"
   ]
  },
  {
   "cell_type": "markdown",
   "metadata": {},
   "source": [
    "---\n",
    "\n",
    "## Model / Model Pre-Processor"
   ]
  },
  {
   "cell_type": "code",
   "execution_count": 6,
   "metadata": {},
   "outputs": [],
   "source": [
    "# Processor (pre-process the images to fit the expected input)\n",
    "processor = ViTImageProcessor.from_pretrained(model_name_or_path)\n",
    "\n",
    "def model_init(trial):\n",
    "    # Model with pre-loaded weights and + an untrained classifier head\n",
    "    model = ViTForImageClassification.from_pretrained(\n",
    "        model_name_or_path,\n",
    "        num_labels=2,\n",
    "        # id2label={str(i): c for i, c in enumerate(labels)},\n",
    "        # label2id={c: str(i) for i, c in enumerate(labels)}\n",
    "    )\n",
    "    # Freeze parameters for the base model (don't freeze the classification head)\n",
    "    # for param in model.base_model.parameters():\n",
    "    #     param.requires_grad = False\n",
    "    \n",
    "    return model\n"
   ]
  },
  {
   "cell_type": "markdown",
   "metadata": {},
   "source": [
    "---\n",
    "\n",
    "## Augmentations"
   ]
  },
  {
   "cell_type": "code",
   "execution_count": 7,
   "metadata": {},
   "outputs": [],
   "source": [
    "# Image augmentations\n",
    "augmentations = Compose([ # https://pytorch.org/vision/stable/auto_examples/transforms/plot_transforms_illustrations.html\n",
    "    RandomAffine(degrees=(-45,45), translate=(0.1, 0.3), scale=(0.7, 0.9)),\n",
    "    ColorJitter(brightness=.4, hue=0.3, saturation=0.6), # not contrast, or the background will be afected too\n",
    "    GaussianBlur(kernel_size=(5, 5), sigma=(0.1, 2)),\n",
    "    RandomHorizontalFlip(p=0.15),\n",
    "    RandomVerticalFlip(p=0.15),\n",
    "])"
   ]
  },
  {
   "cell_type": "markdown",
   "metadata": {},
   "source": [
    "---\n",
    "\n",
    "## Dataset"
   ]
  },
  {
   "cell_type": "code",
   "execution_count": 8,
   "metadata": {},
   "outputs": [],
   "source": [
    "def gen(ds=[]):\n",
    "    \"\"\"Function to convert InfantDataset to generator\"\"\"\n",
    "    for img, label, _ in ds:\n",
    "        yield {\n",
    "            'image': img,\n",
    "            'label': label\n",
    "        }\n",
    "\n",
    "class InfantDataset(Dataset_torch):\n",
    "    \"\"\"Base dataset to load images and labels from the csv file + resize/pad to 224x224\"\"\"\n",
    "    def __init__(self, image_dir:str, csv_path:str, nfcs_component:NFCS) -> None:\n",
    "        super().__init__()\n",
    "        self.data = pd.read_csv(csv_path)\n",
    "        self.nfcs_component = nfcs_component\n",
    "        nfcs2dir = {\n",
    "            NFCS.SN: 'nasolabial_fold',\n",
    "            NFCS.FS: 'forehead',\n",
    "            NFCS.FP: 'eyes',\n",
    "            NFCS.BA: 'mouth',\n",
    "            NFCS.BE: 'mouth'\n",
    "        }\n",
    "        self.image_dir = Path(image_dir, nfcs2dir[nfcs_component])\n",
    "\n",
    "    def __len__(self):\n",
    "        return len(self.data)\n",
    "    \n",
    "    def __getitem__(self, index):\n",
    "        row = self.data.iloc[index]\n",
    "        label = row[self.nfcs_component.name]\n",
    "        \n",
    "        # Search image file\n",
    "        try:\n",
    "            img_path = next(self.image_dir.glob(f\"{row['image_id']}.*\"))\n",
    "        except StopIteration:\n",
    "            raise FileNotFoundError(f\"No file named {row['image_id']} found at {self.image_dir}\")\n",
    "        # Load image\n",
    "        img = Image.open(img_path)\n",
    "        # Resize keeping aspect ratio\n",
    "        img = self.resize_pad(img, 224) # ViT resizes to 224x224, so we resize first to avoid distortions\n",
    "\n",
    "        return img, label, img_path\n",
    "    \n",
    "    def resize_pad(self, img, smaller_side_size:int):\n",
    "        # img = img.rotate(90, expand=1) # Rotation for test purposes\n",
    "        # Resize\n",
    "        ar = img.height/img.width # Aspect Ratio\n",
    "        img = resize(img, (smaller_side_size, round(smaller_side_size/ar)) if ar > 1 else (round(smaller_side_size*ar), smaller_side_size)) # Resize to fit the smaller dimension to smaller_side_size\n",
    "        # Padding\n",
    "        pad_horizontal = (smaller_side_size-img.width)/2 # How much to pad horizontally\n",
    "        pad_vertical = (smaller_side_size-img.height)/2 # Hor much to pad vertically\n",
    "        img = pad(img, padding=(ceil(pad_horizontal), ceil(pad_vertical), int(pad_horizontal), int(pad_vertical)), padding_mode ='constant') # (left, top, right, bottom)\n",
    "        return img\n",
    "\n",
    "\n",
    "# Instances\n",
    "torch_ds = InfantDataset(\n",
    "    image_dir=masked_images_path if MASKED else non_masked_images_path,\n",
    "    csv_path=csv_path,\n",
    "    nfcs_component=NFCS_REGION\n",
    ")"
   ]
  },
  {
   "cell_type": "code",
   "execution_count": 9,
   "metadata": {},
   "outputs": [
    {
     "name": "stderr",
     "output_type": "stream",
     "text": [
      "c:\\Users\\12ped\\anaconda3\\envs\\optuna\\lib\\site-packages\\dill\\_dill.py:414: PicklingWarning: Cannot locate reference to <enum 'NFCS'>.\n",
      "  StockPickler.save(self, obj, save_persistent_id)\n",
      "c:\\Users\\12ped\\anaconda3\\envs\\optuna\\lib\\site-packages\\dill\\_dill.py:414: PicklingWarning: Cannot pickle <enum 'NFCS'>: __main__.NFCS has recursive self-references that trigger a RecursionError.\n",
      "  StockPickler.save(self, obj, save_persistent_id)\n"
     ]
    },
    {
     "data": {
      "application/vnd.jupyter.widget-view+json": {
       "model_id": "004d87b79fe144c38469cde433905120",
       "version_major": 2,
       "version_minor": 0
      },
      "text/plain": [
       "Generating train split: 0 examples [00:00, ? examples/s]"
      ]
     },
     "metadata": {},
     "output_type": "display_data"
    }
   ],
   "source": [
    "def transforms(batch, processor, augmentations):\n",
    "    \"\"\"Apply augmentations and necessary preprocessing using the processor instance\"\"\"\n",
    "    inputs = processor([augmentations(x) for x in batch['image']], return_tensors='pt'),\n",
    "    # For some reason, some times the output of the line above is a tuple and other times is a dictionary.. so the logic bellow is necessary\n",
    "    if isinstance(inputs, tuple):\n",
    "        if len(inputs) > 1:\n",
    "            raise Exception(f\"Unexpected len for input in transforms ({len(inputs)})\")\n",
    "        inputs = inputs[0]\n",
    "    else:\n",
    "        raise Exception(\"Unexpected...\")\n",
    "    inputs['labels'] = batch['label']\n",
    "    return inputs\n",
    "\n",
    "def collate_fn(batch):\n",
    "    return {\n",
    "        'pixel_values': torch.stack([x['pixel_values'] for x in batch]),\n",
    "        'labels': torch.tensor([x['labels'] for x in batch])\n",
    "    }\n",
    "\n",
    "# Cast dataset from pytorch to huggingface\n",
    "ds = Dataset.from_generator(gen, gen_kwargs=({'ds':torch_ds}))\n",
    "# Set train test split\n",
    "ds = ds.train_test_split(test_size=VALIDATION_SIZE, shuffle=False) # Shuffle false so only images in the unifesp set are used for validation\n",
    "# Add augmentations and pre-process\n",
    "ds['train'].set_transform(partial(transforms, processor=processor, augmentations=augmentations))\n",
    "ds['test'].set_transform(partial(transforms, processor=processor, augmentations=Compose([]))) # No augmentations in the test set"
   ]
  },
  {
   "cell_type": "code",
   "execution_count": 10,
   "metadata": {},
   "outputs": [],
   "source": [
    "# === SAVE DATASET TO DISK === #\n",
    "\n",
    "# from tqdm import tqdm\n",
    "# out_dir = Path(f'/home/phdomingues/masters/src/Labeled_split/{NFCS_REGION.name}')\n",
    "# for img, label, pth in tqdm(torch_ds, total=len(ds)):\n",
    "#     out_dir_label = out_dir / str(label)\n",
    "#     out_dir_label.mkdir(exist_ok=True, parents=True)\n",
    "#     img.save(out_dir_label / pth.name)"
   ]
  },
  {
   "cell_type": "markdown",
   "metadata": {},
   "source": [
    "---\n",
    "\n",
    "## Training"
   ]
  },
  {
   "cell_type": "code",
   "execution_count": 11,
   "metadata": {},
   "outputs": [],
   "source": [
    "def compute_metrics(p, metrics):\n",
    "    pred = np.argmax(p.predictions, axis=1)\n",
    "    val = [metric.compute(predictions=pred, references=p.label_ids) for metric in metrics]\n",
    "    return {k: v for d in val for k, v in d.items()} # Merge list of metrics into a single dictionary with all metrics"
   ]
  },
  {
   "cell_type": "code",
   "execution_count": 12,
   "metadata": {},
   "outputs": [
    {
     "name": "stderr",
     "output_type": "stream",
     "text": [
      "c:\\Users\\12ped\\anaconda3\\envs\\optuna\\lib\\site-packages\\transformers\\training_args.py:1474: FutureWarning: `evaluation_strategy` is deprecated and will be removed in version 4.46 of 🤗 Transformers. Use `eval_strategy` instead\n",
      "  warnings.warn(\n",
      "C:\\Users\\12ped\\AppData\\Local\\Temp\\ipykernel_15060\\2702257867.py:26: FutureWarning: load_metric is deprecated and will be removed in the next major version of datasets. Use 'evaluate.load' instead, from the new library 🤗 Evaluate: https://huggingface.co/docs/evaluate\n",
      "  compute_metrics=partial(compute_metrics, metrics=[load_metric(m, trust_remote_code=True) for m in METRICS]),\n",
      "Some weights of ViTForImageClassification were not initialized from the model checkpoint at google/vit-base-patch16-224-in21k and are newly initialized: ['classifier.bias', 'classifier.weight']\n",
      "You should probably TRAIN this model on a down-stream task to be able to use it for predictions and inference.\n"
     ]
    }
   ],
   "source": [
    "training_args = TrainingArguments(\n",
    "    output_dir=output_dir,\n",
    "    save_strategy='epoch',\n",
    "    evaluation_strategy='epoch',\n",
    "    logging_strategy='epoch',\n",
    "    # learning_rate=config.learning_rate,\n",
    "    # weight_decay=config.weight_decay,\n",
    "    num_train_epochs=TRAIN_EPOCHS,\n",
    "    # per_device_train_batch_size=config.batch_size,\n",
    "    per_device_eval_batch_size=1,\n",
    "    save_total_limit=1,\n",
    "    remove_unused_columns=False,\n",
    "    push_to_hub=False,\n",
    "    fp16=False, # float point 16 bit precision (instead of 32)\n",
    "    load_best_model_at_end=True,\n",
    "    metric_for_best_model=OBJECTIVE_METRIC,\n",
    "    greater_is_better=GREATER_IS_BETTER,\n",
    "    save_only_model=True\n",
    ")\n",
    "\n",
    "trainer = Trainer(\n",
    "    model=None,\n",
    "    model_init=model_init,\n",
    "    args=training_args,\n",
    "    data_collator=collate_fn,\n",
    "    compute_metrics=partial(compute_metrics, metrics=[load_metric(m, trust_remote_code=True) for m in METRICS]),\n",
    "    train_dataset=ds['train'],\n",
    "    eval_dataset=ds['test'],\n",
    "    tokenizer=processor,\n",
    ")"
   ]
  },
  {
   "cell_type": "code",
   "execution_count": 13,
   "metadata": {},
   "outputs": [
    {
     "name": "stderr",
     "output_type": "stream",
     "text": [
      "[I 2024-07-22 18:21:27,241] A new study created in memory with name: no-name-c7f6252f-bddb-4c10-ac34-9b13dd0254a4\n",
      "Some weights of ViTForImageClassification were not initialized from the model checkpoint at google/vit-base-patch16-224-in21k and are newly initialized: ['classifier.bias', 'classifier.weight']\n",
      "You should probably TRAIN this model on a down-stream task to be able to use it for predictions and inference.\n"
     ]
    },
    {
     "data": {
      "application/vnd.jupyter.widget-view+json": {
       "model_id": "a6fca4aae17d4cd7b8e3e04b087aeeeb",
       "version_major": 2,
       "version_minor": 0
      },
      "text/plain": [
       "  0%|          | 0/380 [00:00<?, ?it/s]"
      ]
     },
     "metadata": {},
     "output_type": "display_data"
    },
    {
     "name": "stderr",
     "output_type": "stream",
     "text": [
      "c:\\Users\\12ped\\anaconda3\\envs\\optuna\\lib\\site-packages\\transformers\\models\\vit\\modeling_vit.py:253: UserWarning: 1Torch was not compiled with flash attention. (Triggered internally at ..\\aten\\src\\ATen\\native\\transformers\\cuda\\sdp_utils.cpp:455.)\n",
      "  context_layer = torch.nn.functional.scaled_dot_product_attention(\n"
     ]
    },
    {
     "name": "stdout",
     "output_type": "stream",
     "text": [
      "{'loss': 0.6651, 'grad_norm': 0.06999296694993973, 'learning_rate': 0.0004656909601678784, 'epoch': 1.0}\n"
     ]
    },
    {
     "data": {
      "application/vnd.jupyter.widget-view+json": {
       "model_id": "7a5fb42f8e334bf5b7e5531f7c76ca48",
       "version_major": 2,
       "version_minor": 0
      },
      "text/plain": [
       "  0%|          | 0/108 [00:00<?, ?it/s]"
      ]
     },
     "metadata": {},
     "output_type": "display_data"
    },
    {
     "name": "stdout",
     "output_type": "stream",
     "text": [
      "{'eval_loss': 0.6698302626609802, 'eval_accuracy': 0.5833333333333334, 'eval_f1': 0.0, 'eval_runtime': 1.2316, 'eval_samples_per_second': 87.693, 'eval_steps_per_second': 87.693, 'epoch': 1.0}\n",
      "{'loss': 0.6483, 'grad_norm': 0.7654557824134827, 'learning_rate': 0.00044118090963272694, 'epoch': 2.0}\n"
     ]
    },
    {
     "data": {
      "application/vnd.jupyter.widget-view+json": {
       "model_id": "1a6dc872dd544c62a82f8b26787fa21a",
       "version_major": 2,
       "version_minor": 0
      },
      "text/plain": [
       "  0%|          | 0/108 [00:00<?, ?it/s]"
      ]
     },
     "metadata": {},
     "output_type": "display_data"
    },
    {
     "name": "stdout",
     "output_type": "stream",
     "text": [
      "{'eval_loss': 0.6497477293014526, 'eval_accuracy': 0.7129629629629629, 'eval_f1': 0.6352941176470588, 'eval_runtime': 1.3243, 'eval_samples_per_second': 81.554, 'eval_steps_per_second': 81.554, 'epoch': 2.0}\n",
      "{'loss': 0.651, 'grad_norm': 0.5001260042190552, 'learning_rate': 0.0004166708590975754, 'epoch': 3.0}\n"
     ]
    },
    {
     "data": {
      "application/vnd.jupyter.widget-view+json": {
       "model_id": "f16befebf0cf4e6cadb29c645c96ced8",
       "version_major": 2,
       "version_minor": 0
      },
      "text/plain": [
       "  0%|          | 0/108 [00:00<?, ?it/s]"
      ]
     },
     "metadata": {},
     "output_type": "display_data"
    },
    {
     "name": "stdout",
     "output_type": "stream",
     "text": [
      "{'eval_loss': 0.6847137212753296, 'eval_accuracy': 0.5833333333333334, 'eval_f1': 0.0, 'eval_runtime': 1.2511, 'eval_samples_per_second': 86.322, 'eval_steps_per_second': 86.322, 'epoch': 3.0}\n",
      "{'loss': 0.6538, 'grad_norm': 0.1369030624628067, 'learning_rate': 0.00039216080856242395, 'epoch': 4.0}\n"
     ]
    },
    {
     "data": {
      "application/vnd.jupyter.widget-view+json": {
       "model_id": "127cc0c863014580ac8925534fb0e3f8",
       "version_major": 2,
       "version_minor": 0
      },
      "text/plain": [
       "  0%|          | 0/108 [00:00<?, ?it/s]"
      ]
     },
     "metadata": {},
     "output_type": "display_data"
    },
    {
     "name": "stdout",
     "output_type": "stream",
     "text": [
      "{'eval_loss': 0.6334567070007324, 'eval_accuracy': 0.5833333333333334, 'eval_f1': 0.0425531914893617, 'eval_runtime': 1.2788, 'eval_samples_per_second': 84.454, 'eval_steps_per_second': 84.454, 'epoch': 4.0}\n",
      "{'loss': 0.6352, 'grad_norm': 0.6642331480979919, 'learning_rate': 0.0003676507580272724, 'epoch': 5.0}\n"
     ]
    },
    {
     "data": {
      "application/vnd.jupyter.widget-view+json": {
       "model_id": "759871ebe2f34635b41b9d0700dc0cc4",
       "version_major": 2,
       "version_minor": 0
      },
      "text/plain": [
       "  0%|          | 0/108 [00:00<?, ?it/s]"
      ]
     },
     "metadata": {},
     "output_type": "display_data"
    },
    {
     "name": "stdout",
     "output_type": "stream",
     "text": [
      "{'eval_loss': 0.673330545425415, 'eval_accuracy': 0.5833333333333334, 'eval_f1': 0.0, 'eval_runtime': 1.2656, 'eval_samples_per_second': 85.335, 'eval_steps_per_second': 85.335, 'epoch': 5.0}\n",
      "{'loss': 0.6655, 'grad_norm': 0.33485147356987, 'learning_rate': 0.00034314070749212096, 'epoch': 6.0}\n"
     ]
    },
    {
     "data": {
      "application/vnd.jupyter.widget-view+json": {
       "model_id": "1b7c94eb71c7481faf20ca297c46164e",
       "version_major": 2,
       "version_minor": 0
      },
      "text/plain": [
       "  0%|          | 0/108 [00:00<?, ?it/s]"
      ]
     },
     "metadata": {},
     "output_type": "display_data"
    },
    {
     "name": "stdout",
     "output_type": "stream",
     "text": [
      "{'eval_loss': 0.6596860289573669, 'eval_accuracy': 0.5833333333333334, 'eval_f1': 0.0, 'eval_runtime': 1.2703, 'eval_samples_per_second': 85.019, 'eval_steps_per_second': 85.019, 'epoch': 6.0}\n",
      "{'loss': 0.6529, 'grad_norm': 0.25088992714881897, 'learning_rate': 0.0003186306569569695, 'epoch': 7.0}\n"
     ]
    },
    {
     "data": {
      "application/vnd.jupyter.widget-view+json": {
       "model_id": "514f188b703140aead0f1c89caee7d50",
       "version_major": 2,
       "version_minor": 0
      },
      "text/plain": [
       "  0%|          | 0/108 [00:00<?, ?it/s]"
      ]
     },
     "metadata": {},
     "output_type": "display_data"
    },
    {
     "name": "stdout",
     "output_type": "stream",
     "text": [
      "{'eval_loss': 0.6386189460754395, 'eval_accuracy': 0.5833333333333334, 'eval_f1': 0.0, 'eval_runtime': 1.2771, 'eval_samples_per_second': 84.569, 'eval_steps_per_second': 84.569, 'epoch': 7.0}\n",
      "{'loss': 0.6482, 'grad_norm': 0.9563993811607361, 'learning_rate': 0.00029412060642181796, 'epoch': 8.0}\n"
     ]
    },
    {
     "data": {
      "application/vnd.jupyter.widget-view+json": {
       "model_id": "4bdea2c9494a49edaed275dafc882baf",
       "version_major": 2,
       "version_minor": 0
      },
      "text/plain": [
       "  0%|          | 0/108 [00:00<?, ?it/s]"
      ]
     },
     "metadata": {},
     "output_type": "display_data"
    },
    {
     "name": "stdout",
     "output_type": "stream",
     "text": [
      "{'eval_loss': 0.650730550289154, 'eval_accuracy': 0.5833333333333334, 'eval_f1': 0.0, 'eval_runtime': 1.2295, 'eval_samples_per_second': 87.838, 'eval_steps_per_second': 87.838, 'epoch': 8.0}\n",
      "{'loss': 0.6602, 'grad_norm': 0.20679472386837006, 'learning_rate': 0.0002696105558866665, 'epoch': 9.0}\n"
     ]
    },
    {
     "data": {
      "application/vnd.jupyter.widget-view+json": {
       "model_id": "d331bcbbb4104c298906d5802f54fe93",
       "version_major": 2,
       "version_minor": 0
      },
      "text/plain": [
       "  0%|          | 0/108 [00:00<?, ?it/s]"
      ]
     },
     "metadata": {},
     "output_type": "display_data"
    },
    {
     "name": "stdout",
     "output_type": "stream",
     "text": [
      "{'eval_loss': 0.6640987396240234, 'eval_accuracy': 0.5833333333333334, 'eval_f1': 0.0, 'eval_runtime': 1.2574, 'eval_samples_per_second': 85.894, 'eval_steps_per_second': 85.894, 'epoch': 9.0}\n",
      "{'loss': 0.6507, 'grad_norm': 0.2743161916732788, 'learning_rate': 0.00024510050535151497, 'epoch': 10.0}\n"
     ]
    },
    {
     "data": {
      "application/vnd.jupyter.widget-view+json": {
       "model_id": "2a41ffac747c4ee9bd827dfe2643c329",
       "version_major": 2,
       "version_minor": 0
      },
      "text/plain": [
       "  0%|          | 0/108 [00:00<?, ?it/s]"
      ]
     },
     "metadata": {},
     "output_type": "display_data"
    },
    {
     "name": "stdout",
     "output_type": "stream",
     "text": [
      "{'eval_loss': 0.6334686279296875, 'eval_accuracy': 0.5833333333333334, 'eval_f1': 0.0, 'eval_runtime': 1.1966, 'eval_samples_per_second': 90.256, 'eval_steps_per_second': 90.256, 'epoch': 10.0}\n",
      "{'loss': 0.64, 'grad_norm': 0.43839025497436523, 'learning_rate': 0.00022059045481636347, 'epoch': 11.0}\n"
     ]
    },
    {
     "data": {
      "application/vnd.jupyter.widget-view+json": {
       "model_id": "cae01867e7b04b529a46f1822d30c4fc",
       "version_major": 2,
       "version_minor": 0
      },
      "text/plain": [
       "  0%|          | 0/108 [00:00<?, ?it/s]"
      ]
     },
     "metadata": {},
     "output_type": "display_data"
    },
    {
     "name": "stdout",
     "output_type": "stream",
     "text": [
      "{'eval_loss': 0.61347895860672, 'eval_accuracy': 0.5833333333333334, 'eval_f1': 0.0, 'eval_runtime': 1.2202, 'eval_samples_per_second': 88.51, 'eval_steps_per_second': 88.51, 'epoch': 11.0}\n",
      "{'loss': 0.6403, 'grad_norm': 0.2311546355485916, 'learning_rate': 0.00019608040428121198, 'epoch': 12.0}\n"
     ]
    },
    {
     "data": {
      "application/vnd.jupyter.widget-view+json": {
       "model_id": "ec09b77ea2b3488bba7474076d1e3c50",
       "version_major": 2,
       "version_minor": 0
      },
      "text/plain": [
       "  0%|          | 0/108 [00:00<?, ?it/s]"
      ]
     },
     "metadata": {},
     "output_type": "display_data"
    },
    {
     "name": "stdout",
     "output_type": "stream",
     "text": [
      "{'eval_loss': 0.6584119200706482, 'eval_accuracy': 0.5740740740740741, 'eval_f1': 0.6567164179104478, 'eval_runtime': 1.2295, 'eval_samples_per_second': 87.841, 'eval_steps_per_second': 87.841, 'epoch': 12.0}\n",
      "{'loss': 0.6414, 'grad_norm': 0.48273375630378723, 'learning_rate': 0.00017157035374606048, 'epoch': 13.0}\n"
     ]
    },
    {
     "data": {
      "application/vnd.jupyter.widget-view+json": {
       "model_id": "64911bc70a6a41bfb47d1186abe41ae4",
       "version_major": 2,
       "version_minor": 0
      },
      "text/plain": [
       "  0%|          | 0/108 [00:00<?, ?it/s]"
      ]
     },
     "metadata": {},
     "output_type": "display_data"
    },
    {
     "name": "stdout",
     "output_type": "stream",
     "text": [
      "{'eval_loss': 0.620082437992096, 'eval_accuracy': 0.6388888888888888, 'eval_f1': 0.36065573770491804, 'eval_runtime': 1.2642, 'eval_samples_per_second': 85.431, 'eval_steps_per_second': 85.431, 'epoch': 13.0}\n",
      "{'loss': 0.6251, 'grad_norm': 0.5458653569221497, 'learning_rate': 0.00014706030321090898, 'epoch': 14.0}\n"
     ]
    },
    {
     "data": {
      "application/vnd.jupyter.widget-view+json": {
       "model_id": "daeb99add9834f888bfd42c45ee1d4c1",
       "version_major": 2,
       "version_minor": 0
      },
      "text/plain": [
       "  0%|          | 0/108 [00:00<?, ?it/s]"
      ]
     },
     "metadata": {},
     "output_type": "display_data"
    },
    {
     "name": "stdout",
     "output_type": "stream",
     "text": [
      "{'eval_loss': 0.5955271124839783, 'eval_accuracy': 0.6944444444444444, 'eval_f1': 0.6972477064220184, 'eval_runtime': 1.2757, 'eval_samples_per_second': 84.657, 'eval_steps_per_second': 84.657, 'epoch': 14.0}\n",
      "{'loss': 0.6317, 'grad_norm': 0.21537216007709503, 'learning_rate': 0.00012255025267575748, 'epoch': 15.0}\n"
     ]
    },
    {
     "data": {
      "application/vnd.jupyter.widget-view+json": {
       "model_id": "d5d9be33222c434482ab7c666841b1b3",
       "version_major": 2,
       "version_minor": 0
      },
      "text/plain": [
       "  0%|          | 0/108 [00:00<?, ?it/s]"
      ]
     },
     "metadata": {},
     "output_type": "display_data"
    },
    {
     "name": "stdout",
     "output_type": "stream",
     "text": [
      "{'eval_loss': 0.6020371317863464, 'eval_accuracy': 0.6203703703703703, 'eval_f1': 0.19607843137254902, 'eval_runtime': 1.2147, 'eval_samples_per_second': 88.914, 'eval_steps_per_second': 88.914, 'epoch': 15.0}\n",
      "{'loss': 0.6608, 'grad_norm': 0.18064434826374054, 'learning_rate': 9.804020214060599e-05, 'epoch': 16.0}\n"
     ]
    },
    {
     "data": {
      "application/vnd.jupyter.widget-view+json": {
       "model_id": "2fcc61fd5f3948a297239aa81b2c4eb3",
       "version_major": 2,
       "version_minor": 0
      },
      "text/plain": [
       "  0%|          | 0/108 [00:00<?, ?it/s]"
      ]
     },
     "metadata": {},
     "output_type": "display_data"
    },
    {
     "name": "stdout",
     "output_type": "stream",
     "text": [
      "{'eval_loss': 0.6330288648605347, 'eval_accuracy': 0.7407407407407407, 'eval_f1': 0.72, 'eval_runtime': 1.2281, 'eval_samples_per_second': 87.942, 'eval_steps_per_second': 87.942, 'epoch': 16.0}\n",
      "{'loss': 0.6367, 'grad_norm': 0.8379955291748047, 'learning_rate': 7.353015160545449e-05, 'epoch': 17.0}\n"
     ]
    },
    {
     "data": {
      "application/vnd.jupyter.widget-view+json": {
       "model_id": "48dec9c1b57a46408a8f0937a6588646",
       "version_major": 2,
       "version_minor": 0
      },
      "text/plain": [
       "  0%|          | 0/108 [00:00<?, ?it/s]"
      ]
     },
     "metadata": {},
     "output_type": "display_data"
    },
    {
     "name": "stdout",
     "output_type": "stream",
     "text": [
      "{'eval_loss': 0.6166279911994934, 'eval_accuracy': 0.6018518518518519, 'eval_f1': 0.0851063829787234, 'eval_runtime': 1.2246, 'eval_samples_per_second': 88.189, 'eval_steps_per_second': 88.189, 'epoch': 17.0}\n",
      "{'loss': 0.6304, 'grad_norm': 0.6438483595848083, 'learning_rate': 4.9020101070302994e-05, 'epoch': 18.0}\n"
     ]
    },
    {
     "data": {
      "application/vnd.jupyter.widget-view+json": {
       "model_id": "db865a7435944176a13c3db8d20f4e10",
       "version_major": 2,
       "version_minor": 0
      },
      "text/plain": [
       "  0%|          | 0/108 [00:00<?, ?it/s]"
      ]
     },
     "metadata": {},
     "output_type": "display_data"
    },
    {
     "name": "stdout",
     "output_type": "stream",
     "text": [
      "{'eval_loss': 0.6081883311271667, 'eval_accuracy': 0.7129629629629629, 'eval_f1': 0.5866666666666667, 'eval_runtime': 1.4838, 'eval_samples_per_second': 72.784, 'eval_steps_per_second': 72.784, 'epoch': 18.0}\n",
      "{'loss': 0.6322, 'grad_norm': 0.4010988473892212, 'learning_rate': 2.4510050535151497e-05, 'epoch': 19.0}\n"
     ]
    },
    {
     "data": {
      "application/vnd.jupyter.widget-view+json": {
       "model_id": "72b5c00e47c9477697659a98e0a3ab1b",
       "version_major": 2,
       "version_minor": 0
      },
      "text/plain": [
       "  0%|          | 0/108 [00:00<?, ?it/s]"
      ]
     },
     "metadata": {},
     "output_type": "display_data"
    },
    {
     "name": "stdout",
     "output_type": "stream",
     "text": [
      "{'eval_loss': 0.6181373000144958, 'eval_accuracy': 0.7037037037037037, 'eval_f1': 0.6666666666666666, 'eval_runtime': 1.4303, 'eval_samples_per_second': 75.51, 'eval_steps_per_second': 75.51, 'epoch': 19.0}\n",
      "{'loss': 0.6249, 'grad_norm': 0.1935599148273468, 'learning_rate': 0.0, 'epoch': 20.0}\n"
     ]
    },
    {
     "data": {
      "application/vnd.jupyter.widget-view+json": {
       "model_id": "3c910e587e4c4e76abce7d8e633fca8c",
       "version_major": 2,
       "version_minor": 0
      },
      "text/plain": [
       "  0%|          | 0/108 [00:00<?, ?it/s]"
      ]
     },
     "metadata": {},
     "output_type": "display_data"
    },
    {
     "name": "stdout",
     "output_type": "stream",
     "text": [
      "{'eval_loss': 0.6219367980957031, 'eval_accuracy': 0.7314814814814815, 'eval_f1': 0.7289719626168224, 'eval_runtime': 1.2401, 'eval_samples_per_second': 87.092, 'eval_steps_per_second': 87.092, 'epoch': 20.0}\n"
     ]
    },
    {
     "name": "stderr",
     "output_type": "stream",
     "text": [
      "[I 2024-07-22 18:26:08,268] Trial 0 finished with value: 0.7289719626168224 and parameters: {'learning_rate': 0.0004902010107030299, 'per_device_train_batch_size': 32, 'weight_decay': 0.1}. Best is trial 0 with value: 0.7289719626168224.\n"
     ]
    },
    {
     "name": "stdout",
     "output_type": "stream",
     "text": [
      "{'train_runtime': 280.4176, 'train_samples_per_second': 43.293, 'train_steps_per_second': 1.355, 'train_loss': 0.6447243841070878, 'epoch': 20.0}\n"
     ]
    },
    {
     "name": "stderr",
     "output_type": "stream",
     "text": [
      "Some weights of ViTForImageClassification were not initialized from the model checkpoint at google/vit-base-patch16-224-in21k and are newly initialized: ['classifier.bias', 'classifier.weight']\n",
      "You should probably TRAIN this model on a down-stream task to be able to use it for predictions and inference.\n"
     ]
    },
    {
     "data": {
      "application/vnd.jupyter.widget-view+json": {
       "model_id": "8773b4438d1044f7a09e9ef51982c337",
       "version_major": 2,
       "version_minor": 0
      },
      "text/plain": [
       "  0%|          | 0/3040 [00:00<?, ?it/s]"
      ]
     },
     "metadata": {},
     "output_type": "display_data"
    },
    {
     "name": "stdout",
     "output_type": "stream",
     "text": [
      "{'loss': 0.5774, 'grad_norm': 5.202595233917236, 'learning_rate': 2.377263190715804e-05, 'epoch': 1.0}\n"
     ]
    },
    {
     "data": {
      "application/vnd.jupyter.widget-view+json": {
       "model_id": "5ebe61408ef941baa6902672ad1947ed",
       "version_major": 2,
       "version_minor": 0
      },
      "text/plain": [
       "  0%|          | 0/108 [00:00<?, ?it/s]"
      ]
     },
     "metadata": {},
     "output_type": "display_data"
    },
    {
     "name": "stdout",
     "output_type": "stream",
     "text": [
      "{'eval_loss': 0.5817466378211975, 'eval_accuracy': 0.7222222222222222, 'eval_f1': 0.7368421052631579, 'eval_runtime': 1.2606, 'eval_samples_per_second': 85.67, 'eval_steps_per_second': 85.67, 'epoch': 1.0}\n",
      "{'loss': 0.4383, 'grad_norm': 3.426546812057495, 'learning_rate': 2.2521440754149727e-05, 'epoch': 2.0}\n"
     ]
    },
    {
     "data": {
      "application/vnd.jupyter.widget-view+json": {
       "model_id": "865d0b041c9f407395584b38a7da42ef",
       "version_major": 2,
       "version_minor": 0
      },
      "text/plain": [
       "  0%|          | 0/108 [00:00<?, ?it/s]"
      ]
     },
     "metadata": {},
     "output_type": "display_data"
    },
    {
     "name": "stdout",
     "output_type": "stream",
     "text": [
      "{'eval_loss': 0.6006231904029846, 'eval_accuracy': 0.6944444444444444, 'eval_f1': 0.45901639344262296, 'eval_runtime': 1.265, 'eval_samples_per_second': 85.373, 'eval_steps_per_second': 85.373, 'epoch': 2.0}\n",
      "{'loss': 0.3959, 'grad_norm': 0.4657536447048187, 'learning_rate': 2.1270249601141406e-05, 'epoch': 3.0}\n"
     ]
    },
    {
     "data": {
      "application/vnd.jupyter.widget-view+json": {
       "model_id": "a9b09349164c493a888e18b4f7a56cab",
       "version_major": 2,
       "version_minor": 0
      },
      "text/plain": [
       "  0%|          | 0/108 [00:00<?, ?it/s]"
      ]
     },
     "metadata": {},
     "output_type": "display_data"
    },
    {
     "name": "stdout",
     "output_type": "stream",
     "text": [
      "{'eval_loss': 0.44655606150627136, 'eval_accuracy': 0.8148148148148148, 'eval_f1': 0.7916666666666666, 'eval_runtime': 1.2748, 'eval_samples_per_second': 84.72, 'eval_steps_per_second': 84.72, 'epoch': 3.0}\n",
      "{'loss': 0.3969, 'grad_norm': 9.300559043884277, 'learning_rate': 2.0019058448133092e-05, 'epoch': 4.0}\n"
     ]
    },
    {
     "data": {
      "application/vnd.jupyter.widget-view+json": {
       "model_id": "fc9fd6d5f3e34f71b1c5307f8c4dbd76",
       "version_major": 2,
       "version_minor": 0
      },
      "text/plain": [
       "  0%|          | 0/108 [00:00<?, ?it/s]"
      ]
     },
     "metadata": {},
     "output_type": "display_data"
    },
    {
     "name": "stdout",
     "output_type": "stream",
     "text": [
      "{'eval_loss': 0.5913769006729126, 'eval_accuracy': 0.7962962962962963, 'eval_f1': 0.7843137254901961, 'eval_runtime': 1.2417, 'eval_samples_per_second': 86.979, 'eval_steps_per_second': 86.979, 'epoch': 4.0}\n",
      "{'loss': 0.4056, 'grad_norm': 7.4034271240234375, 'learning_rate': 1.876786729512477e-05, 'epoch': 5.0}\n"
     ]
    },
    {
     "data": {
      "application/vnd.jupyter.widget-view+json": {
       "model_id": "99282ced92184957a63096bf4f5f8a57",
       "version_major": 2,
       "version_minor": 0
      },
      "text/plain": [
       "  0%|          | 0/108 [00:00<?, ?it/s]"
      ]
     },
     "metadata": {},
     "output_type": "display_data"
    },
    {
     "name": "stdout",
     "output_type": "stream",
     "text": [
      "{'eval_loss': 0.5174235701560974, 'eval_accuracy': 0.8055555555555556, 'eval_f1': 0.7407407407407407, 'eval_runtime': 1.2569, 'eval_samples_per_second': 85.924, 'eval_steps_per_second': 85.924, 'epoch': 5.0}\n",
      "{'loss': 0.3808, 'grad_norm': 20.040563583374023, 'learning_rate': 1.751667614211645e-05, 'epoch': 6.0}\n"
     ]
    },
    {
     "data": {
      "application/vnd.jupyter.widget-view+json": {
       "model_id": "994d0ae68cb446a2a341ccfaebf961ff",
       "version_major": 2,
       "version_minor": 0
      },
      "text/plain": [
       "  0%|          | 0/108 [00:00<?, ?it/s]"
      ]
     },
     "metadata": {},
     "output_type": "display_data"
    },
    {
     "name": "stdout",
     "output_type": "stream",
     "text": [
      "{'eval_loss': 0.49517324566841125, 'eval_accuracy': 0.8333333333333334, 'eval_f1': 0.8, 'eval_runtime': 1.3395, 'eval_samples_per_second': 80.629, 'eval_steps_per_second': 80.629, 'epoch': 6.0}\n",
      "{'loss': 0.3921, 'grad_norm': 19.414567947387695, 'learning_rate': 1.6265484989108136e-05, 'epoch': 7.0}\n"
     ]
    },
    {
     "data": {
      "application/vnd.jupyter.widget-view+json": {
       "model_id": "e2b8b4d60be24f0da2e8a3a3b574a7af",
       "version_major": 2,
       "version_minor": 0
      },
      "text/plain": [
       "  0%|          | 0/108 [00:00<?, ?it/s]"
      ]
     },
     "metadata": {},
     "output_type": "display_data"
    },
    {
     "name": "stdout",
     "output_type": "stream",
     "text": [
      "{'eval_loss': 0.5070281624794006, 'eval_accuracy': 0.8148148148148148, 'eval_f1': 0.7916666666666666, 'eval_runtime': 1.2695, 'eval_samples_per_second': 85.074, 'eval_steps_per_second': 85.074, 'epoch': 7.0}\n",
      "{'loss': 0.3641, 'grad_norm': 0.2927204370498657, 'learning_rate': 1.5014293836099816e-05, 'epoch': 8.0}\n"
     ]
    },
    {
     "data": {
      "application/vnd.jupyter.widget-view+json": {
       "model_id": "5c7073a9b885458da45b93b6a4405c8c",
       "version_major": 2,
       "version_minor": 0
      },
      "text/plain": [
       "  0%|          | 0/108 [00:00<?, ?it/s]"
      ]
     },
     "metadata": {},
     "output_type": "display_data"
    },
    {
     "name": "stdout",
     "output_type": "stream",
     "text": [
      "{'eval_loss': 0.5234225392341614, 'eval_accuracy': 0.8055555555555556, 'eval_f1': 0.7341772151898734, 'eval_runtime': 1.3318, 'eval_samples_per_second': 81.091, 'eval_steps_per_second': 81.091, 'epoch': 8.0}\n",
      "{'loss': 0.3102, 'grad_norm': 0.3172999620437622, 'learning_rate': 1.37631026830915e-05, 'epoch': 9.0}\n"
     ]
    },
    {
     "data": {
      "application/vnd.jupyter.widget-view+json": {
       "model_id": "2cefb4d6138a483f93fbe8c3be793114",
       "version_major": 2,
       "version_minor": 0
      },
      "text/plain": [
       "  0%|          | 0/108 [00:00<?, ?it/s]"
      ]
     },
     "metadata": {},
     "output_type": "display_data"
    },
    {
     "name": "stdout",
     "output_type": "stream",
     "text": [
      "{'eval_loss': 0.5384518504142761, 'eval_accuracy': 0.8148148148148148, 'eval_f1': 0.7435897435897436, 'eval_runtime': 1.2551, 'eval_samples_per_second': 86.047, 'eval_steps_per_second': 86.047, 'epoch': 9.0}\n",
      "{'loss': 0.3523, 'grad_norm': 16.021732330322266, 'learning_rate': 1.2511911530083181e-05, 'epoch': 10.0}\n"
     ]
    },
    {
     "data": {
      "application/vnd.jupyter.widget-view+json": {
       "model_id": "92764e594da24e76b947b6eb0b8d063e",
       "version_major": 2,
       "version_minor": 0
      },
      "text/plain": [
       "  0%|          | 0/108 [00:00<?, ?it/s]"
      ]
     },
     "metadata": {},
     "output_type": "display_data"
    },
    {
     "name": "stdout",
     "output_type": "stream",
     "text": [
      "{'eval_loss': 0.5296334624290466, 'eval_accuracy': 0.8240740740740741, 'eval_f1': 0.7654320987654321, 'eval_runtime': 1.3145, 'eval_samples_per_second': 82.159, 'eval_steps_per_second': 82.159, 'epoch': 10.0}\n",
      "{'loss': 0.2882, 'grad_norm': 0.2712341248989105, 'learning_rate': 1.1260720377074863e-05, 'epoch': 11.0}\n"
     ]
    },
    {
     "data": {
      "application/vnd.jupyter.widget-view+json": {
       "model_id": "d5facca97f994c7dbd519094f4d30060",
       "version_major": 2,
       "version_minor": 0
      },
      "text/plain": [
       "  0%|          | 0/108 [00:00<?, ?it/s]"
      ]
     },
     "metadata": {},
     "output_type": "display_data"
    },
    {
     "name": "stdout",
     "output_type": "stream",
     "text": [
      "{'eval_loss': 0.5475230813026428, 'eval_accuracy': 0.8425925925925926, 'eval_f1': 0.8045977011494253, 'eval_runtime': 1.2886, 'eval_samples_per_second': 83.814, 'eval_steps_per_second': 83.814, 'epoch': 11.0}\n",
      "{'loss': 0.3109, 'grad_norm': 0.15854111313819885, 'learning_rate': 1.0009529224066546e-05, 'epoch': 12.0}\n"
     ]
    },
    {
     "data": {
      "application/vnd.jupyter.widget-view+json": {
       "model_id": "ea52f34fbf3d4378a82b1ec09ee9c4ff",
       "version_major": 2,
       "version_minor": 0
      },
      "text/plain": [
       "  0%|          | 0/108 [00:00<?, ?it/s]"
      ]
     },
     "metadata": {},
     "output_type": "display_data"
    },
    {
     "name": "stdout",
     "output_type": "stream",
     "text": [
      "{'eval_loss': 0.5761024951934814, 'eval_accuracy': 0.8055555555555556, 'eval_f1': 0.7272727272727273, 'eval_runtime': 1.2492, 'eval_samples_per_second': 86.454, 'eval_steps_per_second': 86.454, 'epoch': 12.0}\n",
      "{'loss': 0.2822, 'grad_norm': 0.14670172333717346, 'learning_rate': 8.758338071058225e-06, 'epoch': 13.0}\n"
     ]
    },
    {
     "data": {
      "application/vnd.jupyter.widget-view+json": {
       "model_id": "e6d0f482cfd24b86b3580d7f07aa64fd",
       "version_major": 2,
       "version_minor": 0
      },
      "text/plain": [
       "  0%|          | 0/108 [00:00<?, ?it/s]"
      ]
     },
     "metadata": {},
     "output_type": "display_data"
    },
    {
     "name": "stdout",
     "output_type": "stream",
     "text": [
      "{'eval_loss': 0.5508445501327515, 'eval_accuracy': 0.8055555555555556, 'eval_f1': 0.7341772151898734, 'eval_runtime': 1.3823, 'eval_samples_per_second': 78.129, 'eval_steps_per_second': 78.129, 'epoch': 13.0}\n",
      "{'loss': 0.2743, 'grad_norm': 0.4711785316467285, 'learning_rate': 7.507146918049908e-06, 'epoch': 14.0}\n"
     ]
    },
    {
     "data": {
      "application/vnd.jupyter.widget-view+json": {
       "model_id": "dd55c25f9318436bbb93f862806981c5",
       "version_major": 2,
       "version_minor": 0
      },
      "text/plain": [
       "  0%|          | 0/108 [00:00<?, ?it/s]"
      ]
     },
     "metadata": {},
     "output_type": "display_data"
    },
    {
     "name": "stdout",
     "output_type": "stream",
     "text": [
      "{'eval_loss': 0.5239051580429077, 'eval_accuracy': 0.8240740740740741, 'eval_f1': 0.759493670886076, 'eval_runtime': 1.3258, 'eval_samples_per_second': 81.461, 'eval_steps_per_second': 81.461, 'epoch': 14.0}\n",
      "{'loss': 0.2608, 'grad_norm': 7.310329914093018, 'learning_rate': 6.2559557650415904e-06, 'epoch': 15.0}\n"
     ]
    },
    {
     "data": {
      "application/vnd.jupyter.widget-view+json": {
       "model_id": "374aff0ebfe4415b92812e9b01b6b2ba",
       "version_major": 2,
       "version_minor": 0
      },
      "text/plain": [
       "  0%|          | 0/108 [00:00<?, ?it/s]"
      ]
     },
     "metadata": {},
     "output_type": "display_data"
    },
    {
     "name": "stdout",
     "output_type": "stream",
     "text": [
      "{'eval_loss': 0.5805556774139404, 'eval_accuracy': 0.8055555555555556, 'eval_f1': 0.7272727272727273, 'eval_runtime': 1.3093, 'eval_samples_per_second': 82.489, 'eval_steps_per_second': 82.489, 'epoch': 15.0}\n",
      "{'loss': 0.236, 'grad_norm': 0.29033225774765015, 'learning_rate': 5.004764612033273e-06, 'epoch': 16.0}\n"
     ]
    },
    {
     "data": {
      "application/vnd.jupyter.widget-view+json": {
       "model_id": "702582f6a6314b568a7aedd89c72c3d6",
       "version_major": 2,
       "version_minor": 0
      },
      "text/plain": [
       "  0%|          | 0/108 [00:00<?, ?it/s]"
      ]
     },
     "metadata": {},
     "output_type": "display_data"
    },
    {
     "name": "stdout",
     "output_type": "stream",
     "text": [
      "{'eval_loss': 0.5946434140205383, 'eval_accuracy': 0.7962962962962963, 'eval_f1': 0.717948717948718, 'eval_runtime': 1.3449, 'eval_samples_per_second': 80.304, 'eval_steps_per_second': 80.304, 'epoch': 16.0}\n",
      "{'loss': 0.2442, 'grad_norm': 0.11016325652599335, 'learning_rate': 3.753573459024954e-06, 'epoch': 17.0}\n"
     ]
    },
    {
     "data": {
      "application/vnd.jupyter.widget-view+json": {
       "model_id": "f2a175e12ab44e2995339f97371985d5",
       "version_major": 2,
       "version_minor": 0
      },
      "text/plain": [
       "  0%|          | 0/108 [00:00<?, ?it/s]"
      ]
     },
     "metadata": {},
     "output_type": "display_data"
    },
    {
     "name": "stdout",
     "output_type": "stream",
     "text": [
      "{'eval_loss': 0.6833231449127197, 'eval_accuracy': 0.8055555555555556, 'eval_f1': 0.704225352112676, 'eval_runtime': 1.3247, 'eval_samples_per_second': 81.528, 'eval_steps_per_second': 81.528, 'epoch': 17.0}\n",
      "{'loss': 0.2377, 'grad_norm': 0.7503973245620728, 'learning_rate': 2.5023823060166365e-06, 'epoch': 18.0}\n"
     ]
    },
    {
     "data": {
      "application/vnd.jupyter.widget-view+json": {
       "model_id": "df7fa03f02224d058bb5d99289bc90ee",
       "version_major": 2,
       "version_minor": 0
      },
      "text/plain": [
       "  0%|          | 0/108 [00:00<?, ?it/s]"
      ]
     },
     "metadata": {},
     "output_type": "display_data"
    },
    {
     "name": "stdout",
     "output_type": "stream",
     "text": [
      "{'eval_loss': 0.626428484916687, 'eval_accuracy': 0.8148148148148148, 'eval_f1': 0.7368421052631579, 'eval_runtime': 1.3508, 'eval_samples_per_second': 79.95, 'eval_steps_per_second': 79.95, 'epoch': 18.0}\n",
      "{'loss': 0.2289, 'grad_norm': 0.11069981008768082, 'learning_rate': 1.2511911530083183e-06, 'epoch': 19.0}\n"
     ]
    },
    {
     "data": {
      "application/vnd.jupyter.widget-view+json": {
       "model_id": "2ae7f7b2005a445c952d138f8fa13964",
       "version_major": 2,
       "version_minor": 0
      },
      "text/plain": [
       "  0%|          | 0/108 [00:00<?, ?it/s]"
      ]
     },
     "metadata": {},
     "output_type": "display_data"
    },
    {
     "name": "stdout",
     "output_type": "stream",
     "text": [
      "{'eval_loss': 0.6206199526786804, 'eval_accuracy': 0.8148148148148148, 'eval_f1': 0.7368421052631579, 'eval_runtime': 1.3588, 'eval_samples_per_second': 79.482, 'eval_steps_per_second': 79.482, 'epoch': 19.0}\n",
      "{'loss': 0.2367, 'grad_norm': 0.2089490443468094, 'learning_rate': 0.0, 'epoch': 20.0}\n"
     ]
    },
    {
     "data": {
      "application/vnd.jupyter.widget-view+json": {
       "model_id": "daa878adf61342a6b7a70bd15c79da0c",
       "version_major": 2,
       "version_minor": 0
      },
      "text/plain": [
       "  0%|          | 0/108 [00:00<?, ?it/s]"
      ]
     },
     "metadata": {},
     "output_type": "display_data"
    },
    {
     "name": "stdout",
     "output_type": "stream",
     "text": [
      "{'eval_loss': 0.5976726412773132, 'eval_accuracy': 0.8148148148148148, 'eval_f1': 0.75, 'eval_runtime': 1.3099, 'eval_samples_per_second': 82.451, 'eval_steps_per_second': 82.451, 'epoch': 20.0}\n"
     ]
    },
    {
     "name": "stderr",
     "output_type": "stream",
     "text": [
      "[I 2024-07-22 18:32:52,342] Trial 1 finished with value: 0.75 and parameters: {'learning_rate': 2.5023823060166362e-05, 'per_device_train_batch_size': 4, 'weight_decay': 0.1}. Best is trial 1 with value: 0.75.\n"
     ]
    },
    {
     "name": "stdout",
     "output_type": "stream",
     "text": [
      "{'train_runtime': 403.4074, 'train_samples_per_second': 30.094, 'train_steps_per_second': 7.536, 'train_loss': 0.3306632242704693, 'epoch': 20.0}\n"
     ]
    },
    {
     "name": "stderr",
     "output_type": "stream",
     "text": [
      "Some weights of ViTForImageClassification were not initialized from the model checkpoint at google/vit-base-patch16-224-in21k and are newly initialized: ['classifier.bias', 'classifier.weight']\n",
      "You should probably TRAIN this model on a down-stream task to be able to use it for predictions and inference.\n"
     ]
    },
    {
     "data": {
      "application/vnd.jupyter.widget-view+json": {
       "model_id": "a782fd10f13e4f528d1159e658fad716",
       "version_major": 2,
       "version_minor": 0
      },
      "text/plain": [
       "  0%|          | 0/380 [00:00<?, ?it/s]"
      ]
     },
     "metadata": {},
     "output_type": "display_data"
    },
    {
     "name": "stdout",
     "output_type": "stream",
     "text": [
      "{'loss': 0.6739, 'grad_norm': 0.8792746663093567, 'learning_rate': 1.6548052823072353e-06, 'epoch': 1.0}\n"
     ]
    },
    {
     "data": {
      "application/vnd.jupyter.widget-view+json": {
       "model_id": "65961c27b6ae4fdaa0f7c849fc308b87",
       "version_major": 2,
       "version_minor": 0
      },
      "text/plain": [
       "  0%|          | 0/108 [00:00<?, ?it/s]"
      ]
     },
     "metadata": {},
     "output_type": "display_data"
    },
    {
     "name": "stdout",
     "output_type": "stream",
     "text": [
      "{'eval_loss': 0.6737048625946045, 'eval_accuracy': 0.5833333333333334, 'eval_f1': 0.0, 'eval_runtime': 1.3253, 'eval_samples_per_second': 81.489, 'eval_steps_per_second': 81.489, 'epoch': 1.0}\n",
      "{'loss': 0.6643, 'grad_norm': 1.1002767086029053, 'learning_rate': 1.56771026744896e-06, 'epoch': 2.0}\n"
     ]
    },
    {
     "data": {
      "application/vnd.jupyter.widget-view+json": {
       "model_id": "c91813d084c849cda529765ecdde82c4",
       "version_major": 2,
       "version_minor": 0
      },
      "text/plain": [
       "  0%|          | 0/108 [00:00<?, ?it/s]"
      ]
     },
     "metadata": {},
     "output_type": "display_data"
    },
    {
     "name": "stdout",
     "output_type": "stream",
     "text": [
      "{'eval_loss': 0.6701523065567017, 'eval_accuracy': 0.5833333333333334, 'eval_f1': 0.0, 'eval_runtime': 1.3046, 'eval_samples_per_second': 82.783, 'eval_steps_per_second': 82.783, 'epoch': 2.0}\n",
      "{'loss': 0.6525, 'grad_norm': 1.4007169008255005, 'learning_rate': 1.4806152525906843e-06, 'epoch': 3.0}\n"
     ]
    },
    {
     "data": {
      "application/vnd.jupyter.widget-view+json": {
       "model_id": "53595e35d2a04476909e29572e737204",
       "version_major": 2,
       "version_minor": 0
      },
      "text/plain": [
       "  0%|          | 0/108 [00:00<?, ?it/s]"
      ]
     },
     "metadata": {},
     "output_type": "display_data"
    },
    {
     "name": "stdout",
     "output_type": "stream",
     "text": [
      "{'eval_loss': 0.6670386791229248, 'eval_accuracy': 0.5833333333333334, 'eval_f1': 0.0, 'eval_runtime': 1.3191, 'eval_samples_per_second': 81.875, 'eval_steps_per_second': 81.875, 'epoch': 3.0}\n",
      "{'loss': 0.6494, 'grad_norm': 0.9575030207633972, 'learning_rate': 1.393520237732409e-06, 'epoch': 4.0}\n"
     ]
    },
    {
     "data": {
      "application/vnd.jupyter.widget-view+json": {
       "model_id": "37faa8adf75a4e33beb2234a38e6d4d1",
       "version_major": 2,
       "version_minor": 0
      },
      "text/plain": [
       "  0%|          | 0/108 [00:00<?, ?it/s]"
      ]
     },
     "metadata": {},
     "output_type": "display_data"
    },
    {
     "name": "stdout",
     "output_type": "stream",
     "text": [
      "{'eval_loss': 0.6644340753555298, 'eval_accuracy': 0.5833333333333334, 'eval_f1': 0.0, 'eval_runtime': 1.3282, 'eval_samples_per_second': 81.312, 'eval_steps_per_second': 81.312, 'epoch': 4.0}\n",
      "{'loss': 0.6464, 'grad_norm': 0.964844286441803, 'learning_rate': 1.3064252228741332e-06, 'epoch': 5.0}\n"
     ]
    },
    {
     "data": {
      "application/vnd.jupyter.widget-view+json": {
       "model_id": "2b14cfcc1c1546b89a6a85e0a795f99a",
       "version_major": 2,
       "version_minor": 0
      },
      "text/plain": [
       "  0%|          | 0/108 [00:00<?, ?it/s]"
      ]
     },
     "metadata": {},
     "output_type": "display_data"
    },
    {
     "name": "stdout",
     "output_type": "stream",
     "text": [
      "{'eval_loss': 0.6618247628211975, 'eval_accuracy': 0.5833333333333334, 'eval_f1': 0.0, 'eval_runtime': 1.3067, 'eval_samples_per_second': 82.648, 'eval_steps_per_second': 82.648, 'epoch': 5.0}\n",
      "{'loss': 0.6346, 'grad_norm': 1.0494186878204346, 'learning_rate': 1.2193302080158575e-06, 'epoch': 6.0}\n"
     ]
    },
    {
     "data": {
      "application/vnd.jupyter.widget-view+json": {
       "model_id": "b4e76f0844494fb19ef7ad6b729f901d",
       "version_major": 2,
       "version_minor": 0
      },
      "text/plain": [
       "  0%|          | 0/108 [00:00<?, ?it/s]"
      ]
     },
     "metadata": {},
     "output_type": "display_data"
    },
    {
     "name": "stdout",
     "output_type": "stream",
     "text": [
      "{'eval_loss': 0.658957302570343, 'eval_accuracy': 0.5833333333333334, 'eval_f1': 0.0, 'eval_runtime': 1.3548, 'eval_samples_per_second': 79.715, 'eval_steps_per_second': 79.715, 'epoch': 6.0}\n",
      "{'loss': 0.6309, 'grad_norm': 0.9636508226394653, 'learning_rate': 1.1322351931575822e-06, 'epoch': 7.0}\n"
     ]
    },
    {
     "data": {
      "application/vnd.jupyter.widget-view+json": {
       "model_id": "ba04bc3fdbeb44149ca37c3ad4c7b27a",
       "version_major": 2,
       "version_minor": 0
      },
      "text/plain": [
       "  0%|          | 0/108 [00:00<?, ?it/s]"
      ]
     },
     "metadata": {},
     "output_type": "display_data"
    },
    {
     "name": "stdout",
     "output_type": "stream",
     "text": [
      "{'eval_loss': 0.656234622001648, 'eval_accuracy': 0.5833333333333334, 'eval_f1': 0.0, 'eval_runtime': 1.3277, 'eval_samples_per_second': 81.342, 'eval_steps_per_second': 81.342, 'epoch': 7.0}\n",
      "{'loss': 0.6279, 'grad_norm': 1.7284208536148071, 'learning_rate': 1.0451401782993065e-06, 'epoch': 8.0}\n"
     ]
    },
    {
     "data": {
      "application/vnd.jupyter.widget-view+json": {
       "model_id": "1c5250498d5d41d4b62193f4b41b0c1e",
       "version_major": 2,
       "version_minor": 0
      },
      "text/plain": [
       "  0%|          | 0/108 [00:00<?, ?it/s]"
      ]
     },
     "metadata": {},
     "output_type": "display_data"
    },
    {
     "name": "stdout",
     "output_type": "stream",
     "text": [
      "{'eval_loss': 0.6540321707725525, 'eval_accuracy': 0.5833333333333334, 'eval_f1': 0.0, 'eval_runtime': 1.3481, 'eval_samples_per_second': 80.114, 'eval_steps_per_second': 80.114, 'epoch': 8.0}\n",
      "{'loss': 0.6268, 'grad_norm': 0.9934782981872559, 'learning_rate': 9.580451634410312e-07, 'epoch': 9.0}\n"
     ]
    },
    {
     "data": {
      "application/vnd.jupyter.widget-view+json": {
       "model_id": "a0ec6df66a1d4538bdbaec073cac33d6",
       "version_major": 2,
       "version_minor": 0
      },
      "text/plain": [
       "  0%|          | 0/108 [00:00<?, ?it/s]"
      ]
     },
     "metadata": {},
     "output_type": "display_data"
    },
    {
     "name": "stdout",
     "output_type": "stream",
     "text": [
      "{'eval_loss': 0.6516427397727966, 'eval_accuracy': 0.5833333333333334, 'eval_f1': 0.0, 'eval_runtime': 1.4268, 'eval_samples_per_second': 75.692, 'eval_steps_per_second': 75.692, 'epoch': 9.0}\n",
      "{'loss': 0.6269, 'grad_norm': 1.148159384727478, 'learning_rate': 8.709501485827555e-07, 'epoch': 10.0}\n"
     ]
    },
    {
     "data": {
      "application/vnd.jupyter.widget-view+json": {
       "model_id": "947e8ce0c9de462f802d95ab9c46e78f",
       "version_major": 2,
       "version_minor": 0
      },
      "text/plain": [
       "  0%|          | 0/108 [00:00<?, ?it/s]"
      ]
     },
     "metadata": {},
     "output_type": "display_data"
    },
    {
     "name": "stdout",
     "output_type": "stream",
     "text": [
      "{'eval_loss': 0.6494617462158203, 'eval_accuracy': 0.5833333333333334, 'eval_f1': 0.0, 'eval_runtime': 1.35, 'eval_samples_per_second': 79.999, 'eval_steps_per_second': 79.999, 'epoch': 10.0}\n",
      "{'loss': 0.6175, 'grad_norm': 1.1756051778793335, 'learning_rate': 7.8385513372448e-07, 'epoch': 11.0}\n"
     ]
    },
    {
     "data": {
      "application/vnd.jupyter.widget-view+json": {
       "model_id": "7ce0a74b291d4e95a093562e95d96547",
       "version_major": 2,
       "version_minor": 0
      },
      "text/plain": [
       "  0%|          | 0/108 [00:00<?, ?it/s]"
      ]
     },
     "metadata": {},
     "output_type": "display_data"
    },
    {
     "name": "stdout",
     "output_type": "stream",
     "text": [
      "{'eval_loss': 0.6476446986198425, 'eval_accuracy': 0.5833333333333334, 'eval_f1': 0.0, 'eval_runtime': 1.3437, 'eval_samples_per_second': 80.376, 'eval_steps_per_second': 80.376, 'epoch': 11.0}\n",
      "{'loss': 0.6192, 'grad_norm': 1.076886534690857, 'learning_rate': 6.967601188662045e-07, 'epoch': 12.0}\n"
     ]
    },
    {
     "data": {
      "application/vnd.jupyter.widget-view+json": {
       "model_id": "2c1b968346324c778d308954d35badb9",
       "version_major": 2,
       "version_minor": 0
      },
      "text/plain": [
       "  0%|          | 0/108 [00:00<?, ?it/s]"
      ]
     },
     "metadata": {},
     "output_type": "display_data"
    },
    {
     "name": "stdout",
     "output_type": "stream",
     "text": [
      "{'eval_loss': 0.6459041237831116, 'eval_accuracy': 0.5833333333333334, 'eval_f1': 0.0, 'eval_runtime': 1.407, 'eval_samples_per_second': 76.761, 'eval_steps_per_second': 76.761, 'epoch': 12.0}\n",
      "{'loss': 0.6151, 'grad_norm': 1.0902470350265503, 'learning_rate': 6.096651040079288e-07, 'epoch': 13.0}\n"
     ]
    },
    {
     "data": {
      "application/vnd.jupyter.widget-view+json": {
       "model_id": "73e81b0c4e5246499b91a574e5323825",
       "version_major": 2,
       "version_minor": 0
      },
      "text/plain": [
       "  0%|          | 0/108 [00:00<?, ?it/s]"
      ]
     },
     "metadata": {},
     "output_type": "display_data"
    },
    {
     "name": "stdout",
     "output_type": "stream",
     "text": [
      "{'eval_loss': 0.6444900631904602, 'eval_accuracy': 0.5833333333333334, 'eval_f1': 0.0, 'eval_runtime': 1.3045, 'eval_samples_per_second': 82.788, 'eval_steps_per_second': 82.788, 'epoch': 13.0}\n",
      "{'loss': 0.6159, 'grad_norm': 1.2322450876235962, 'learning_rate': 5.225700891496533e-07, 'epoch': 14.0}\n"
     ]
    },
    {
     "data": {
      "application/vnd.jupyter.widget-view+json": {
       "model_id": "38fee9aa99824cfd946819e85a096d66",
       "version_major": 2,
       "version_minor": 0
      },
      "text/plain": [
       "  0%|          | 0/108 [00:00<?, ?it/s]"
      ]
     },
     "metadata": {},
     "output_type": "display_data"
    },
    {
     "name": "stdout",
     "output_type": "stream",
     "text": [
      "{'eval_loss': 0.642810583114624, 'eval_accuracy': 0.5833333333333334, 'eval_f1': 0.0, 'eval_runtime': 1.324, 'eval_samples_per_second': 81.568, 'eval_steps_per_second': 81.568, 'epoch': 14.0}\n",
      "{'loss': 0.608, 'grad_norm': 1.1096493005752563, 'learning_rate': 4.3547507429137775e-07, 'epoch': 15.0}\n"
     ]
    },
    {
     "data": {
      "application/vnd.jupyter.widget-view+json": {
       "model_id": "9b8f1ff44fea40109f71ec1c07209ebf",
       "version_major": 2,
       "version_minor": 0
      },
      "text/plain": [
       "  0%|          | 0/108 [00:00<?, ?it/s]"
      ]
     },
     "metadata": {},
     "output_type": "display_data"
    },
    {
     "name": "stdout",
     "output_type": "stream",
     "text": [
      "{'eval_loss': 0.6414681673049927, 'eval_accuracy': 0.5833333333333334, 'eval_f1': 0.0, 'eval_runtime': 1.349, 'eval_samples_per_second': 80.059, 'eval_steps_per_second': 80.059, 'epoch': 15.0}\n",
      "{'loss': 0.6092, 'grad_norm': 0.9575851559638977, 'learning_rate': 3.4838005943310224e-07, 'epoch': 16.0}\n"
     ]
    },
    {
     "data": {
      "application/vnd.jupyter.widget-view+json": {
       "model_id": "5d58b291f9c840609aad426d7e632c91",
       "version_major": 2,
       "version_minor": 0
      },
      "text/plain": [
       "  0%|          | 0/108 [00:00<?, ?it/s]"
      ]
     },
     "metadata": {},
     "output_type": "display_data"
    },
    {
     "name": "stdout",
     "output_type": "stream",
     "text": [
      "{'eval_loss': 0.6404159069061279, 'eval_accuracy': 0.5833333333333334, 'eval_f1': 0.0, 'eval_runtime': 1.3467, 'eval_samples_per_second': 80.198, 'eval_steps_per_second': 80.198, 'epoch': 16.0}\n",
      "{'loss': 0.6092, 'grad_norm': 1.4481687545776367, 'learning_rate': 2.6128504457482663e-07, 'epoch': 17.0}\n"
     ]
    },
    {
     "data": {
      "application/vnd.jupyter.widget-view+json": {
       "model_id": "1da9ff62ada64777821bbe829532141b",
       "version_major": 2,
       "version_minor": 0
      },
      "text/plain": [
       "  0%|          | 0/108 [00:00<?, ?it/s]"
      ]
     },
     "metadata": {},
     "output_type": "display_data"
    },
    {
     "name": "stdout",
     "output_type": "stream",
     "text": [
      "{'eval_loss': 0.6396685838699341, 'eval_accuracy': 0.5833333333333334, 'eval_f1': 0.0, 'eval_runtime': 1.3843, 'eval_samples_per_second': 78.016, 'eval_steps_per_second': 78.016, 'epoch': 17.0}\n",
      "{'loss': 0.6048, 'grad_norm': 1.3512440919876099, 'learning_rate': 1.7419002971655112e-07, 'epoch': 18.0}\n"
     ]
    },
    {
     "data": {
      "application/vnd.jupyter.widget-view+json": {
       "model_id": "455c31bb991747279d27e08b7f0a8b4c",
       "version_major": 2,
       "version_minor": 0
      },
      "text/plain": [
       "  0%|          | 0/108 [00:00<?, ?it/s]"
      ]
     },
     "metadata": {},
     "output_type": "display_data"
    },
    {
     "name": "stdout",
     "output_type": "stream",
     "text": [
      "{'eval_loss': 0.6390040516853333, 'eval_accuracy': 0.5833333333333334, 'eval_f1': 0.0, 'eval_runtime': 1.4093, 'eval_samples_per_second': 76.635, 'eval_steps_per_second': 76.635, 'epoch': 18.0}\n",
      "{'loss': 0.6051, 'grad_norm': 0.9811558127403259, 'learning_rate': 8.709501485827556e-08, 'epoch': 19.0}\n"
     ]
    },
    {
     "data": {
      "application/vnd.jupyter.widget-view+json": {
       "model_id": "7de1ec93b49d458a96eefa8c70f55d45",
       "version_major": 2,
       "version_minor": 0
      },
      "text/plain": [
       "  0%|          | 0/108 [00:00<?, ?it/s]"
      ]
     },
     "metadata": {},
     "output_type": "display_data"
    },
    {
     "name": "stdout",
     "output_type": "stream",
     "text": [
      "{'eval_loss': 0.6386662721633911, 'eval_accuracy': 0.5833333333333334, 'eval_f1': 0.0, 'eval_runtime': 1.3519, 'eval_samples_per_second': 79.887, 'eval_steps_per_second': 79.887, 'epoch': 19.0}\n",
      "{'loss': 0.6037, 'grad_norm': 1.1254222393035889, 'learning_rate': 0.0, 'epoch': 20.0}\n"
     ]
    },
    {
     "data": {
      "application/vnd.jupyter.widget-view+json": {
       "model_id": "6b2277d946064fc9bbf3bff7d896b716",
       "version_major": 2,
       "version_minor": 0
      },
      "text/plain": [
       "  0%|          | 0/108 [00:00<?, ?it/s]"
      ]
     },
     "metadata": {},
     "output_type": "display_data"
    },
    {
     "name": "stdout",
     "output_type": "stream",
     "text": [
      "{'eval_loss': 0.638547956943512, 'eval_accuracy': 0.5833333333333334, 'eval_f1': 0.0, 'eval_runtime': 1.3732, 'eval_samples_per_second': 78.647, 'eval_steps_per_second': 78.647, 'epoch': 20.0}\n"
     ]
    },
    {
     "name": "stderr",
     "output_type": "stream",
     "text": [
      "[I 2024-07-22 18:37:51,698] Trial 2 finished with value: 0.0 and parameters: {'learning_rate': 1.741900297165511e-06, 'per_device_train_batch_size': 32, 'weight_decay': 0.1}. Best is trial 1 with value: 0.75.\n"
     ]
    },
    {
     "name": "stdout",
     "output_type": "stream",
     "text": [
      "{'train_runtime': 298.6379, 'train_samples_per_second': 40.651, 'train_steps_per_second': 1.272, 'train_loss': 0.627057062952142, 'epoch': 20.0}\n"
     ]
    },
    {
     "name": "stderr",
     "output_type": "stream",
     "text": [
      "Some weights of ViTForImageClassification were not initialized from the model checkpoint at google/vit-base-patch16-224-in21k and are newly initialized: ['classifier.bias', 'classifier.weight']\n",
      "You should probably TRAIN this model on a down-stream task to be able to use it for predictions and inference.\n"
     ]
    },
    {
     "data": {
      "application/vnd.jupyter.widget-view+json": {
       "model_id": "c08c0b64695f4395ad358e64d2fc772d",
       "version_major": 2,
       "version_minor": 0
      },
      "text/plain": [
       "  0%|          | 0/760 [00:00<?, ?it/s]"
      ]
     },
     "metadata": {},
     "output_type": "display_data"
    },
    {
     "name": "stdout",
     "output_type": "stream",
     "text": [
      "{'loss': 0.6087, 'grad_norm': 2.2236969470977783, 'learning_rate': 3.8037244656287276e-05, 'epoch': 1.0}\n"
     ]
    },
    {
     "data": {
      "application/vnd.jupyter.widget-view+json": {
       "model_id": "25b97893fb7244829676d756b9338a0c",
       "version_major": 2,
       "version_minor": 0
      },
      "text/plain": [
       "  0%|          | 0/108 [00:00<?, ?it/s]"
      ]
     },
     "metadata": {},
     "output_type": "display_data"
    },
    {
     "name": "stdout",
     "output_type": "stream",
     "text": [
      "{'eval_loss': 0.5144739747047424, 'eval_accuracy': 0.8055555555555556, 'eval_f1': 0.7878787878787878, 'eval_runtime': 1.3432, 'eval_samples_per_second': 80.405, 'eval_steps_per_second': 80.405, 'epoch': 1.0}\n",
      "{'loss': 0.4817, 'grad_norm': 2.9161508083343506, 'learning_rate': 3.603528441121953e-05, 'epoch': 2.0}\n"
     ]
    },
    {
     "data": {
      "application/vnd.jupyter.widget-view+json": {
       "model_id": "1f7516a1989f4b22ad10fa27a486d014",
       "version_major": 2,
       "version_minor": 0
      },
      "text/plain": [
       "  0%|          | 0/108 [00:00<?, ?it/s]"
      ]
     },
     "metadata": {},
     "output_type": "display_data"
    },
    {
     "name": "stdout",
     "output_type": "stream",
     "text": [
      "{'eval_loss': 0.4446064531803131, 'eval_accuracy': 0.8148148148148148, 'eval_f1': 0.7619047619047619, 'eval_runtime': 1.3611, 'eval_samples_per_second': 79.347, 'eval_steps_per_second': 79.347, 'epoch': 2.0}\n",
      "{'loss': 0.3612, 'grad_norm': 4.918846607208252, 'learning_rate': 3.403332416615178e-05, 'epoch': 3.0}\n"
     ]
    },
    {
     "data": {
      "application/vnd.jupyter.widget-view+json": {
       "model_id": "8416c8011fba4ba0883cce59f641ffbc",
       "version_major": 2,
       "version_minor": 0
      },
      "text/plain": [
       "  0%|          | 0/108 [00:00<?, ?it/s]"
      ]
     },
     "metadata": {},
     "output_type": "display_data"
    },
    {
     "name": "stdout",
     "output_type": "stream",
     "text": [
      "{'eval_loss': 0.4443674683570862, 'eval_accuracy': 0.7870370370370371, 'eval_f1': 0.7676767676767676, 'eval_runtime': 1.3682, 'eval_samples_per_second': 78.939, 'eval_steps_per_second': 78.939, 'epoch': 3.0}\n",
      "{'loss': 0.3431, 'grad_norm': 3.953037977218628, 'learning_rate': 3.203136392108403e-05, 'epoch': 4.0}\n"
     ]
    },
    {
     "data": {
      "application/vnd.jupyter.widget-view+json": {
       "model_id": "be744fd65d404a61860dcf53908684af",
       "version_major": 2,
       "version_minor": 0
      },
      "text/plain": [
       "  0%|          | 0/108 [00:00<?, ?it/s]"
      ]
     },
     "metadata": {},
     "output_type": "display_data"
    },
    {
     "name": "stdout",
     "output_type": "stream",
     "text": [
      "{'eval_loss': 0.4713999330997467, 'eval_accuracy': 0.7685185185185185, 'eval_f1': 0.7619047619047619, 'eval_runtime': 1.3597, 'eval_samples_per_second': 79.429, 'eval_steps_per_second': 79.429, 'epoch': 4.0}\n",
      "{'loss': 0.3734, 'grad_norm': 2.119837999343872, 'learning_rate': 3.0029403676016273e-05, 'epoch': 5.0}\n"
     ]
    },
    {
     "data": {
      "application/vnd.jupyter.widget-view+json": {
       "model_id": "706c76b8ece34684bfb42206849c32bd",
       "version_major": 2,
       "version_minor": 0
      },
      "text/plain": [
       "  0%|          | 0/108 [00:00<?, ?it/s]"
      ]
     },
     "metadata": {},
     "output_type": "display_data"
    },
    {
     "name": "stdout",
     "output_type": "stream",
     "text": [
      "{'eval_loss': 0.46691441535949707, 'eval_accuracy': 0.7777777777777778, 'eval_f1': 0.6666666666666666, 'eval_runtime': 1.3733, 'eval_samples_per_second': 78.64, 'eval_steps_per_second': 78.64, 'epoch': 5.0}\n",
      "{'loss': 0.3547, 'grad_norm': 2.348134994506836, 'learning_rate': 2.802744343094852e-05, 'epoch': 6.0}\n"
     ]
    },
    {
     "data": {
      "application/vnd.jupyter.widget-view+json": {
       "model_id": "c1617750db0a4a0ca11f401aeb2f737f",
       "version_major": 2,
       "version_minor": 0
      },
      "text/plain": [
       "  0%|          | 0/108 [00:00<?, ?it/s]"
      ]
     },
     "metadata": {},
     "output_type": "display_data"
    },
    {
     "name": "stdout",
     "output_type": "stream",
     "text": [
      "{'eval_loss': 0.4107968807220459, 'eval_accuracy': 0.8425925925925926, 'eval_f1': 0.8045977011494253, 'eval_runtime': 1.3858, 'eval_samples_per_second': 77.935, 'eval_steps_per_second': 77.935, 'epoch': 6.0}\n",
      "{'loss': 0.3132, 'grad_norm': 1.1094578504562378, 'learning_rate': 2.602548318588077e-05, 'epoch': 7.0}\n"
     ]
    },
    {
     "data": {
      "application/vnd.jupyter.widget-view+json": {
       "model_id": "ce316904af0d4a2ea67e9a1eafc8c180",
       "version_major": 2,
       "version_minor": 0
      },
      "text/plain": [
       "  0%|          | 0/108 [00:00<?, ?it/s]"
      ]
     },
     "metadata": {},
     "output_type": "display_data"
    },
    {
     "name": "stdout",
     "output_type": "stream",
     "text": [
      "{'eval_loss': 0.4004603922367096, 'eval_accuracy': 0.8055555555555556, 'eval_f1': 0.7640449438202247, 'eval_runtime': 1.3596, 'eval_samples_per_second': 79.432, 'eval_steps_per_second': 79.432, 'epoch': 7.0}\n",
      "{'loss': 0.2876, 'grad_norm': 1.836653232574463, 'learning_rate': 2.4023522940813018e-05, 'epoch': 8.0}\n"
     ]
    },
    {
     "data": {
      "application/vnd.jupyter.widget-view+json": {
       "model_id": "7f672f7416cc4f30b47d2cd54047e9a7",
       "version_major": 2,
       "version_minor": 0
      },
      "text/plain": [
       "  0%|          | 0/108 [00:00<?, ?it/s]"
      ]
     },
     "metadata": {},
     "output_type": "display_data"
    },
    {
     "name": "stdout",
     "output_type": "stream",
     "text": [
      "{'eval_loss': 0.4300420880317688, 'eval_accuracy': 0.8425925925925926, 'eval_f1': 0.7848101265822784, 'eval_runtime': 1.3572, 'eval_samples_per_second': 79.573, 'eval_steps_per_second': 79.573, 'epoch': 8.0}\n",
      "{'loss': 0.2873, 'grad_norm': 5.80796480178833, 'learning_rate': 2.202156269574527e-05, 'epoch': 9.0}\n"
     ]
    },
    {
     "data": {
      "application/vnd.jupyter.widget-view+json": {
       "model_id": "e7f6b6afead74ad7bccc2eccf05fbd8a",
       "version_major": 2,
       "version_minor": 0
      },
      "text/plain": [
       "  0%|          | 0/108 [00:00<?, ?it/s]"
      ]
     },
     "metadata": {},
     "output_type": "display_data"
    },
    {
     "name": "stdout",
     "output_type": "stream",
     "text": [
      "{'eval_loss': 0.3961818814277649, 'eval_accuracy': 0.8333333333333334, 'eval_f1': 0.7906976744186046, 'eval_runtime': 1.371, 'eval_samples_per_second': 78.776, 'eval_steps_per_second': 78.776, 'epoch': 9.0}\n",
      "{'loss': 0.2899, 'grad_norm': 1.797717571258545, 'learning_rate': 2.0019602450677516e-05, 'epoch': 10.0}\n"
     ]
    },
    {
     "data": {
      "application/vnd.jupyter.widget-view+json": {
       "model_id": "5cd1d8ecdf5f4ac9b70553f3dab3207e",
       "version_major": 2,
       "version_minor": 0
      },
      "text/plain": [
       "  0%|          | 0/108 [00:00<?, ?it/s]"
      ]
     },
     "metadata": {},
     "output_type": "display_data"
    },
    {
     "name": "stdout",
     "output_type": "stream",
     "text": [
      "{'eval_loss': 0.4382677376270294, 'eval_accuracy': 0.7962962962962963, 'eval_f1': 0.7027027027027027, 'eval_runtime': 1.3771, 'eval_samples_per_second': 78.427, 'eval_steps_per_second': 78.427, 'epoch': 10.0}\n",
      "{'loss': 0.2679, 'grad_norm': 3.2474327087402344, 'learning_rate': 1.8017642205609764e-05, 'epoch': 11.0}\n"
     ]
    },
    {
     "data": {
      "application/vnd.jupyter.widget-view+json": {
       "model_id": "2592eede89164efa947b3b7644db31e4",
       "version_major": 2,
       "version_minor": 0
      },
      "text/plain": [
       "  0%|          | 0/108 [00:00<?, ?it/s]"
      ]
     },
     "metadata": {},
     "output_type": "display_data"
    },
    {
     "name": "stdout",
     "output_type": "stream",
     "text": [
      "{'eval_loss': 0.4099508225917816, 'eval_accuracy': 0.8240740740740741, 'eval_f1': 0.7532467532467533, 'eval_runtime': 1.2781, 'eval_samples_per_second': 84.501, 'eval_steps_per_second': 84.501, 'epoch': 11.0}\n",
      "{'loss': 0.2552, 'grad_norm': 0.5652199387550354, 'learning_rate': 1.6015681960542014e-05, 'epoch': 12.0}\n"
     ]
    },
    {
     "data": {
      "application/vnd.jupyter.widget-view+json": {
       "model_id": "e5eab258ee7a4cf7bbef309b11584578",
       "version_major": 2,
       "version_minor": 0
      },
      "text/plain": [
       "  0%|          | 0/108 [00:00<?, ?it/s]"
      ]
     },
     "metadata": {},
     "output_type": "display_data"
    },
    {
     "name": "stdout",
     "output_type": "stream",
     "text": [
      "{'eval_loss': 0.401418536901474, 'eval_accuracy': 0.8333333333333334, 'eval_f1': 0.8, 'eval_runtime': 1.4019, 'eval_samples_per_second': 77.036, 'eval_steps_per_second': 77.036, 'epoch': 12.0}\n",
      "{'loss': 0.2385, 'grad_norm': 0.6076584458351135, 'learning_rate': 1.401372171547426e-05, 'epoch': 13.0}\n"
     ]
    },
    {
     "data": {
      "application/vnd.jupyter.widget-view+json": {
       "model_id": "04e04d00905b460f93e584418b05f12d",
       "version_major": 2,
       "version_minor": 0
      },
      "text/plain": [
       "  0%|          | 0/108 [00:00<?, ?it/s]"
      ]
     },
     "metadata": {},
     "output_type": "display_data"
    },
    {
     "name": "stdout",
     "output_type": "stream",
     "text": [
      "{'eval_loss': 0.3939518630504608, 'eval_accuracy': 0.8425925925925926, 'eval_f1': 0.7901234567901234, 'eval_runtime': 1.4301, 'eval_samples_per_second': 75.521, 'eval_steps_per_second': 75.521, 'epoch': 13.0}\n",
      "{'loss': 0.2278, 'grad_norm': 2.5527710914611816, 'learning_rate': 1.2011761470406509e-05, 'epoch': 14.0}\n"
     ]
    },
    {
     "data": {
      "application/vnd.jupyter.widget-view+json": {
       "model_id": "755f8af337214a8a89dacd06847d82ea",
       "version_major": 2,
       "version_minor": 0
      },
      "text/plain": [
       "  0%|          | 0/108 [00:00<?, ?it/s]"
      ]
     },
     "metadata": {},
     "output_type": "display_data"
    },
    {
     "name": "stdout",
     "output_type": "stream",
     "text": [
      "{'eval_loss': 0.431776225566864, 'eval_accuracy': 0.8518518518518519, 'eval_f1': 0.8, 'eval_runtime': 1.9102, 'eval_samples_per_second': 56.538, 'eval_steps_per_second': 56.538, 'epoch': 14.0}\n",
      "{'loss': 0.2236, 'grad_norm': 6.969526767730713, 'learning_rate': 1.0009801225338758e-05, 'epoch': 15.0}\n"
     ]
    },
    {
     "data": {
      "application/vnd.jupyter.widget-view+json": {
       "model_id": "bdb70ec3d31b4de6b17f33fdc4f0f7aa",
       "version_major": 2,
       "version_minor": 0
      },
      "text/plain": [
       "  0%|          | 0/108 [00:00<?, ?it/s]"
      ]
     },
     "metadata": {},
     "output_type": "display_data"
    },
    {
     "name": "stdout",
     "output_type": "stream",
     "text": [
      "{'eval_loss': 0.4333774149417877, 'eval_accuracy': 0.8425925925925926, 'eval_f1': 0.7901234567901234, 'eval_runtime': 1.6419, 'eval_samples_per_second': 65.776, 'eval_steps_per_second': 65.776, 'epoch': 15.0}\n",
      "{'loss': 0.1973, 'grad_norm': 5.894850254058838, 'learning_rate': 8.007840980271007e-06, 'epoch': 16.0}\n"
     ]
    },
    {
     "data": {
      "application/vnd.jupyter.widget-view+json": {
       "model_id": "e67dff1f5f2c405fb2b18b9fe39d50f4",
       "version_major": 2,
       "version_minor": 0
      },
      "text/plain": [
       "  0%|          | 0/108 [00:00<?, ?it/s]"
      ]
     },
     "metadata": {},
     "output_type": "display_data"
    },
    {
     "name": "stdout",
     "output_type": "stream",
     "text": [
      "{'eval_loss': 0.42930635809898376, 'eval_accuracy': 0.8148148148148148, 'eval_f1': 0.7777777777777778, 'eval_runtime': 1.4913, 'eval_samples_per_second': 72.419, 'eval_steps_per_second': 72.419, 'epoch': 16.0}\n",
      "{'loss': 0.2229, 'grad_norm': 0.8547477126121521, 'learning_rate': 6.0058807352032545e-06, 'epoch': 17.0}\n"
     ]
    },
    {
     "data": {
      "application/vnd.jupyter.widget-view+json": {
       "model_id": "26d26e7645064d6886250bd885cca487",
       "version_major": 2,
       "version_minor": 0
      },
      "text/plain": [
       "  0%|          | 0/108 [00:00<?, ?it/s]"
      ]
     },
     "metadata": {},
     "output_type": "display_data"
    },
    {
     "name": "stdout",
     "output_type": "stream",
     "text": [
      "{'eval_loss': 0.45977598428726196, 'eval_accuracy': 0.8333333333333334, 'eval_f1': 0.7631578947368421, 'eval_runtime': 3.8233, 'eval_samples_per_second': 28.248, 'eval_steps_per_second': 28.248, 'epoch': 17.0}\n",
      "{'loss': 0.2025, 'grad_norm': 4.045485019683838, 'learning_rate': 4.0039204901355036e-06, 'epoch': 18.0}\n"
     ]
    },
    {
     "data": {
      "application/vnd.jupyter.widget-view+json": {
       "model_id": "036cf39665c548509a777cddd3308776",
       "version_major": 2,
       "version_minor": 0
      },
      "text/plain": [
       "  0%|          | 0/108 [00:00<?, ?it/s]"
      ]
     },
     "metadata": {},
     "output_type": "display_data"
    },
    {
     "name": "stdout",
     "output_type": "stream",
     "text": [
      "{'eval_loss': 0.41858598589897156, 'eval_accuracy': 0.8425925925925926, 'eval_f1': 0.7951807228915663, 'eval_runtime': 3.5497, 'eval_samples_per_second': 30.425, 'eval_steps_per_second': 30.425, 'epoch': 18.0}\n",
      "{'loss': 0.1759, 'grad_norm': 5.040531635284424, 'learning_rate': 2.0019602450677518e-06, 'epoch': 19.0}\n"
     ]
    },
    {
     "data": {
      "application/vnd.jupyter.widget-view+json": {
       "model_id": "73a64995af214fee8def95fa725df4cd",
       "version_major": 2,
       "version_minor": 0
      },
      "text/plain": [
       "  0%|          | 0/108 [00:00<?, ?it/s]"
      ]
     },
     "metadata": {},
     "output_type": "display_data"
    },
    {
     "name": "stdout",
     "output_type": "stream",
     "text": [
      "{'eval_loss': 0.42232856154441833, 'eval_accuracy': 0.8518518518518519, 'eval_f1': 0.8048780487804879, 'eval_runtime': 3.3954, 'eval_samples_per_second': 31.808, 'eval_steps_per_second': 31.808, 'epoch': 19.0}\n",
      "{'loss': 0.1859, 'grad_norm': 5.933375358581543, 'learning_rate': 0.0, 'epoch': 20.0}\n"
     ]
    },
    {
     "data": {
      "application/vnd.jupyter.widget-view+json": {
       "model_id": "120167f2bb684e2d8c5cb8f5aa282a91",
       "version_major": 2,
       "version_minor": 0
      },
      "text/plain": [
       "  0%|          | 0/108 [00:00<?, ?it/s]"
      ]
     },
     "metadata": {},
     "output_type": "display_data"
    },
    {
     "name": "stdout",
     "output_type": "stream",
     "text": [
      "{'eval_loss': 0.4181212782859802, 'eval_accuracy': 0.8425925925925926, 'eval_f1': 0.8, 'eval_runtime': 3.0377, 'eval_samples_per_second': 35.553, 'eval_steps_per_second': 35.553, 'epoch': 20.0}\n"
     ]
    },
    {
     "name": "stderr",
     "output_type": "stream",
     "text": [
      "[I 2024-07-22 18:44:34,842] Trial 3 finished with value: 0.8 and parameters: {'learning_rate': 4.003920490135503e-05, 'per_device_train_batch_size': 16, 'weight_decay': 0}. Best is trial 3 with value: 0.8.\n"
     ]
    },
    {
     "name": "stdout",
     "output_type": "stream",
     "text": [
      "{'train_runtime': 402.468, 'train_samples_per_second': 30.164, 'train_steps_per_second': 1.888, 'train_loss': 0.2949091039205852, 'epoch': 20.0}\n"
     ]
    },
    {
     "name": "stderr",
     "output_type": "stream",
     "text": [
      "Some weights of ViTForImageClassification were not initialized from the model checkpoint at google/vit-base-patch16-224-in21k and are newly initialized: ['classifier.bias', 'classifier.weight']\n",
      "You should probably TRAIN this model on a down-stream task to be able to use it for predictions and inference.\n"
     ]
    },
    {
     "data": {
      "application/vnd.jupyter.widget-view+json": {
       "model_id": "63d02648471f42ffb4ad3dc2073dba36",
       "version_major": 2,
       "version_minor": 0
      },
      "text/plain": [
       "  0%|          | 0/1520 [00:00<?, ?it/s]"
      ]
     },
     "metadata": {},
     "output_type": "display_data"
    },
    {
     "name": "stdout",
     "output_type": "stream",
     "text": [
      "{'loss': 0.6582, 'grad_norm': 2.8558311462402344, 'learning_rate': 3.251287782138113e-06, 'epoch': 1.0}\n"
     ]
    },
    {
     "data": {
      "application/vnd.jupyter.widget-view+json": {
       "model_id": "f23993eafe964c909b7fb174bbe043a1",
       "version_major": 2,
       "version_minor": 0
      },
      "text/plain": [
       "  0%|          | 0/108 [00:00<?, ?it/s]"
      ]
     },
     "metadata": {},
     "output_type": "display_data"
    },
    {
     "name": "stdout",
     "output_type": "stream",
     "text": [
      "{'eval_loss': 0.661909818649292, 'eval_accuracy': 0.5833333333333334, 'eval_f1': 0.0, 'eval_runtime': 3.0653, 'eval_samples_per_second': 35.233, 'eval_steps_per_second': 35.233, 'epoch': 1.0}\n",
      "{'loss': 0.6353, 'grad_norm': 1.9757835865020752, 'learning_rate': 3.0801673725518966e-06, 'epoch': 2.0}\n"
     ]
    },
    {
     "data": {
      "application/vnd.jupyter.widget-view+json": {
       "model_id": "610c6d26a7bc4506811b80d1d15656ed",
       "version_major": 2,
       "version_minor": 0
      },
      "text/plain": [
       "  0%|          | 0/108 [00:00<?, ?it/s]"
      ]
     },
     "metadata": {},
     "output_type": "display_data"
    },
    {
     "name": "stdout",
     "output_type": "stream",
     "text": [
      "{'eval_loss': 0.6474462151527405, 'eval_accuracy': 0.5833333333333334, 'eval_f1': 0.0, 'eval_runtime': 3.2149, 'eval_samples_per_second': 33.594, 'eval_steps_per_second': 33.594, 'epoch': 2.0}\n",
      "{'loss': 0.6112, 'grad_norm': 1.7389370203018188, 'learning_rate': 2.90904696296568e-06, 'epoch': 3.0}\n"
     ]
    },
    {
     "data": {
      "application/vnd.jupyter.widget-view+json": {
       "model_id": "1592383ee3f94e95a68fca3a1a46db62",
       "version_major": 2,
       "version_minor": 0
      },
      "text/plain": [
       "  0%|          | 0/108 [00:00<?, ?it/s]"
      ]
     },
     "metadata": {},
     "output_type": "display_data"
    },
    {
     "name": "stdout",
     "output_type": "stream",
     "text": [
      "{'eval_loss': 0.631032407283783, 'eval_accuracy': 0.5833333333333334, 'eval_f1': 0.0, 'eval_runtime': 2.9795, 'eval_samples_per_second': 36.247, 'eval_steps_per_second': 36.247, 'epoch': 3.0}\n",
      "{'loss': 0.5894, 'grad_norm': 2.1705520153045654, 'learning_rate': 2.7379265533794637e-06, 'epoch': 4.0}\n"
     ]
    },
    {
     "data": {
      "application/vnd.jupyter.widget-view+json": {
       "model_id": "bf719103accd454d955839a0810239c4",
       "version_major": 2,
       "version_minor": 0
      },
      "text/plain": [
       "  0%|          | 0/108 [00:00<?, ?it/s]"
      ]
     },
     "metadata": {},
     "output_type": "display_data"
    },
    {
     "name": "stdout",
     "output_type": "stream",
     "text": [
      "{'eval_loss': 0.6185246706008911, 'eval_accuracy': 0.6944444444444444, 'eval_f1': 0.47619047619047616, 'eval_runtime': 2.9571, 'eval_samples_per_second': 36.523, 'eval_steps_per_second': 36.523, 'epoch': 4.0}\n",
      "{'loss': 0.5585, 'grad_norm': 3.486137628555298, 'learning_rate': 2.566806143793247e-06, 'epoch': 5.0}\n"
     ]
    },
    {
     "data": {
      "application/vnd.jupyter.widget-view+json": {
       "model_id": "4b0257b30b384809a333e67d3166aab2",
       "version_major": 2,
       "version_minor": 0
      },
      "text/plain": [
       "  0%|          | 0/108 [00:00<?, ?it/s]"
      ]
     },
     "metadata": {},
     "output_type": "display_data"
    },
    {
     "name": "stdout",
     "output_type": "stream",
     "text": [
      "{'eval_loss': 0.5953589081764221, 'eval_accuracy': 0.7685185185185185, 'eval_f1': 0.6575342465753424, 'eval_runtime': 3.0317, 'eval_samples_per_second': 35.623, 'eval_steps_per_second': 35.623, 'epoch': 5.0}\n",
      "{'loss': 0.527, 'grad_norm': 1.7290242910385132, 'learning_rate': 2.3956857342070304e-06, 'epoch': 6.0}\n"
     ]
    },
    {
     "data": {
      "application/vnd.jupyter.widget-view+json": {
       "model_id": "0b00d4be0e064116a5b02a3b9623b4c7",
       "version_major": 2,
       "version_minor": 0
      },
      "text/plain": [
       "  0%|          | 0/108 [00:00<?, ?it/s]"
      ]
     },
     "metadata": {},
     "output_type": "display_data"
    },
    {
     "name": "stdout",
     "output_type": "stream",
     "text": [
      "{'eval_loss': 0.5712145566940308, 'eval_accuracy': 0.7870370370370371, 'eval_f1': 0.7160493827160493, 'eval_runtime': 3.1125, 'eval_samples_per_second': 34.699, 'eval_steps_per_second': 34.699, 'epoch': 6.0}\n",
      "{'loss': 0.5077, 'grad_norm': 3.275275230407715, 'learning_rate': 2.224565324620814e-06, 'epoch': 7.0}\n"
     ]
    },
    {
     "data": {
      "application/vnd.jupyter.widget-view+json": {
       "model_id": "d992983d0db8414ea398169da6e19f78",
       "version_major": 2,
       "version_minor": 0
      },
      "text/plain": [
       "  0%|          | 0/108 [00:00<?, ?it/s]"
      ]
     },
     "metadata": {},
     "output_type": "display_data"
    },
    {
     "name": "stdout",
     "output_type": "stream",
     "text": [
      "{'eval_loss': 0.5543832778930664, 'eval_accuracy': 0.7962962962962963, 'eval_f1': 0.7317073170731707, 'eval_runtime': 3.1468, 'eval_samples_per_second': 34.321, 'eval_steps_per_second': 34.321, 'epoch': 7.0}\n",
      "{'loss': 0.4799, 'grad_norm': 3.141247034072876, 'learning_rate': 2.0534449150345976e-06, 'epoch': 8.0}\n"
     ]
    },
    {
     "data": {
      "application/vnd.jupyter.widget-view+json": {
       "model_id": "e2afd2c085ab4a54abefc7917c44fc72",
       "version_major": 2,
       "version_minor": 0
      },
      "text/plain": [
       "  0%|          | 0/108 [00:00<?, ?it/s]"
      ]
     },
     "metadata": {},
     "output_type": "display_data"
    },
    {
     "name": "stdout",
     "output_type": "stream",
     "text": [
      "{'eval_loss': 0.5391558408737183, 'eval_accuracy': 0.7962962962962963, 'eval_f1': 0.7441860465116279, 'eval_runtime': 2.9484, 'eval_samples_per_second': 36.63, 'eval_steps_per_second': 36.63, 'epoch': 8.0}\n",
      "{'loss': 0.4529, 'grad_norm': 3.9375250339508057, 'learning_rate': 1.8823245054483814e-06, 'epoch': 9.0}\n"
     ]
    },
    {
     "data": {
      "application/vnd.jupyter.widget-view+json": {
       "model_id": "9db96d22bf244e42801b593d82b5aa10",
       "version_major": 2,
       "version_minor": 0
      },
      "text/plain": [
       "  0%|          | 0/108 [00:00<?, ?it/s]"
      ]
     },
     "metadata": {},
     "output_type": "display_data"
    },
    {
     "name": "stdout",
     "output_type": "stream",
     "text": [
      "{'eval_loss': 0.523884117603302, 'eval_accuracy': 0.8055555555555556, 'eval_f1': 0.7529411764705882, 'eval_runtime': 3.1966, 'eval_samples_per_second': 33.786, 'eval_steps_per_second': 33.786, 'epoch': 9.0}\n",
      "{'loss': 0.4434, 'grad_norm': 3.011784553527832, 'learning_rate': 1.7112040958621647e-06, 'epoch': 10.0}\n"
     ]
    },
    {
     "data": {
      "application/vnd.jupyter.widget-view+json": {
       "model_id": "4475558658764f799c812ce83761d5d9",
       "version_major": 2,
       "version_minor": 0
      },
      "text/plain": [
       "  0%|          | 0/108 [00:00<?, ?it/s]"
      ]
     },
     "metadata": {},
     "output_type": "display_data"
    },
    {
     "name": "stdout",
     "output_type": "stream",
     "text": [
      "{'eval_loss': 0.5145600438117981, 'eval_accuracy': 0.7870370370370371, 'eval_f1': 0.735632183908046, 'eval_runtime': 3.0484, 'eval_samples_per_second': 35.429, 'eval_steps_per_second': 35.429, 'epoch': 10.0}\n",
      "{'loss': 0.4147, 'grad_norm': 5.638874053955078, 'learning_rate': 1.5400836862759483e-06, 'epoch': 11.0}\n"
     ]
    },
    {
     "data": {
      "application/vnd.jupyter.widget-view+json": {
       "model_id": "934c4ff4194e4a419e1c0f8f726ee604",
       "version_major": 2,
       "version_minor": 0
      },
      "text/plain": [
       "  0%|          | 0/108 [00:00<?, ?it/s]"
      ]
     },
     "metadata": {},
     "output_type": "display_data"
    },
    {
     "name": "stdout",
     "output_type": "stream",
     "text": [
      "{'eval_loss': 0.5063758492469788, 'eval_accuracy': 0.7777777777777778, 'eval_f1': 0.7333333333333333, 'eval_runtime': 2.9866, 'eval_samples_per_second': 36.161, 'eval_steps_per_second': 36.161, 'epoch': 11.0}\n",
      "{'loss': 0.4252, 'grad_norm': 2.106724739074707, 'learning_rate': 1.3689632766897319e-06, 'epoch': 12.0}\n"
     ]
    },
    {
     "data": {
      "application/vnd.jupyter.widget-view+json": {
       "model_id": "ad29060b30064790936fdab62a7a3a39",
       "version_major": 2,
       "version_minor": 0
      },
      "text/plain": [
       "  0%|          | 0/108 [00:00<?, ?it/s]"
      ]
     },
     "metadata": {},
     "output_type": "display_data"
    },
    {
     "name": "stdout",
     "output_type": "stream",
     "text": [
      "{'eval_loss': 0.49955928325653076, 'eval_accuracy': 0.7592592592592593, 'eval_f1': 0.7291666666666666, 'eval_runtime': 3.2698, 'eval_samples_per_second': 33.03, 'eval_steps_per_second': 33.03, 'epoch': 12.0}\n",
      "{'loss': 0.4053, 'grad_norm': 3.20176362991333, 'learning_rate': 1.1978428671035152e-06, 'epoch': 13.0}\n"
     ]
    },
    {
     "data": {
      "application/vnd.jupyter.widget-view+json": {
       "model_id": "69597b9101e64b2b899aaf52ac8b571c",
       "version_major": 2,
       "version_minor": 0
      },
      "text/plain": [
       "  0%|          | 0/108 [00:00<?, ?it/s]"
      ]
     },
     "metadata": {},
     "output_type": "display_data"
    },
    {
     "name": "stdout",
     "output_type": "stream",
     "text": [
      "{'eval_loss': 0.4952186942100525, 'eval_accuracy': 0.7685185185185185, 'eval_f1': 0.7422680412371134, 'eval_runtime': 3.2121, 'eval_samples_per_second': 33.622, 'eval_steps_per_second': 33.622, 'epoch': 13.0}\n",
      "{'loss': 0.4054, 'grad_norm': 2.563242197036743, 'learning_rate': 1.0267224575172988e-06, 'epoch': 14.0}\n"
     ]
    },
    {
     "data": {
      "application/vnd.jupyter.widget-view+json": {
       "model_id": "59e3ccbb538f4705a2188a0129cd4a2c",
       "version_major": 2,
       "version_minor": 0
      },
      "text/plain": [
       "  0%|          | 0/108 [00:00<?, ?it/s]"
      ]
     },
     "metadata": {},
     "output_type": "display_data"
    },
    {
     "name": "stdout",
     "output_type": "stream",
     "text": [
      "{'eval_loss': 0.4886725842952728, 'eval_accuracy': 0.7685185185185185, 'eval_f1': 0.7311827956989247, 'eval_runtime': 3.203, 'eval_samples_per_second': 33.719, 'eval_steps_per_second': 33.719, 'epoch': 14.0}\n",
      "{'loss': 0.3971, 'grad_norm': 5.385499954223633, 'learning_rate': 8.556020479310824e-07, 'epoch': 15.0}\n"
     ]
    },
    {
     "data": {
      "application/vnd.jupyter.widget-view+json": {
       "model_id": "23770e1827934ce7b1c847abb749a1cf",
       "version_major": 2,
       "version_minor": 0
      },
      "text/plain": [
       "  0%|          | 0/108 [00:00<?, ?it/s]"
      ]
     },
     "metadata": {},
     "output_type": "display_data"
    },
    {
     "name": "stdout",
     "output_type": "stream",
     "text": [
      "{'eval_loss': 0.4855497479438782, 'eval_accuracy': 0.7777777777777778, 'eval_f1': 0.7446808510638298, 'eval_runtime': 3.1229, 'eval_samples_per_second': 34.583, 'eval_steps_per_second': 34.583, 'epoch': 15.0}\n",
      "{'loss': 0.3889, 'grad_norm': 3.911233425140381, 'learning_rate': 6.844816383448659e-07, 'epoch': 16.0}\n"
     ]
    },
    {
     "data": {
      "application/vnd.jupyter.widget-view+json": {
       "model_id": "eb0b25406ef249109c5985de636d7f16",
       "version_major": 2,
       "version_minor": 0
      },
      "text/plain": [
       "  0%|          | 0/108 [00:00<?, ?it/s]"
      ]
     },
     "metadata": {},
     "output_type": "display_data"
    },
    {
     "name": "stdout",
     "output_type": "stream",
     "text": [
      "{'eval_loss': 0.48216596245765686, 'eval_accuracy': 0.7777777777777778, 'eval_f1': 0.7446808510638298, 'eval_runtime': 3.0692, 'eval_samples_per_second': 35.188, 'eval_steps_per_second': 35.188, 'epoch': 16.0}\n",
      "{'loss': 0.3938, 'grad_norm': 4.748416423797607, 'learning_rate': 5.133612287586494e-07, 'epoch': 17.0}\n"
     ]
    },
    {
     "data": {
      "application/vnd.jupyter.widget-view+json": {
       "model_id": "ddee0009278147c985767dc0712ba672",
       "version_major": 2,
       "version_minor": 0
      },
      "text/plain": [
       "  0%|          | 0/108 [00:00<?, ?it/s]"
      ]
     },
     "metadata": {},
     "output_type": "display_data"
    },
    {
     "name": "stdout",
     "output_type": "stream",
     "text": [
      "{'eval_loss': 0.48028481006622314, 'eval_accuracy': 0.7777777777777778, 'eval_f1': 0.7446808510638298, 'eval_runtime': 2.9412, 'eval_samples_per_second': 36.72, 'eval_steps_per_second': 36.72, 'epoch': 17.0}\n",
      "{'loss': 0.3799, 'grad_norm': 4.575582504272461, 'learning_rate': 3.4224081917243296e-07, 'epoch': 18.0}\n"
     ]
    },
    {
     "data": {
      "application/vnd.jupyter.widget-view+json": {
       "model_id": "41201909e22d47ab9ad35df3c2b4bd75",
       "version_major": 2,
       "version_minor": 0
      },
      "text/plain": [
       "  0%|          | 0/108 [00:00<?, ?it/s]"
      ]
     },
     "metadata": {},
     "output_type": "display_data"
    },
    {
     "name": "stdout",
     "output_type": "stream",
     "text": [
      "{'eval_loss': 0.47847500443458557, 'eval_accuracy': 0.7777777777777778, 'eval_f1': 0.7446808510638298, 'eval_runtime': 2.9761, 'eval_samples_per_second': 36.289, 'eval_steps_per_second': 36.289, 'epoch': 18.0}\n",
      "{'loss': 0.3704, 'grad_norm': 0.9875293374061584, 'learning_rate': 1.7112040958621648e-07, 'epoch': 19.0}\n"
     ]
    },
    {
     "data": {
      "application/vnd.jupyter.widget-view+json": {
       "model_id": "3e7d6d36f11c4c22bcdd918d87a4e21d",
       "version_major": 2,
       "version_minor": 0
      },
      "text/plain": [
       "  0%|          | 0/108 [00:00<?, ?it/s]"
      ]
     },
     "metadata": {},
     "output_type": "display_data"
    },
    {
     "name": "stdout",
     "output_type": "stream",
     "text": [
      "{'eval_loss': 0.47760385274887085, 'eval_accuracy': 0.7777777777777778, 'eval_f1': 0.7446808510638298, 'eval_runtime': 3.102, 'eval_samples_per_second': 34.816, 'eval_steps_per_second': 34.816, 'epoch': 19.0}\n",
      "{'loss': 0.3606, 'grad_norm': 3.492450475692749, 'learning_rate': 0.0, 'epoch': 20.0}\n"
     ]
    },
    {
     "data": {
      "application/vnd.jupyter.widget-view+json": {
       "model_id": "7ad8b497b057406f911084dec9807136",
       "version_major": 2,
       "version_minor": 0
      },
      "text/plain": [
       "  0%|          | 0/108 [00:00<?, ?it/s]"
      ]
     },
     "metadata": {},
     "output_type": "display_data"
    },
    {
     "name": "stdout",
     "output_type": "stream",
     "text": [
      "{'eval_loss': 0.47719600796699524, 'eval_accuracy': 0.7777777777777778, 'eval_f1': 0.7446808510638298, 'eval_runtime': 3.0355, 'eval_samples_per_second': 35.579, 'eval_steps_per_second': 35.579, 'epoch': 20.0}\n"
     ]
    },
    {
     "name": "stderr",
     "output_type": "stream",
     "text": [
      "[I 2024-07-22 18:57:32,824] Trial 4 finished with value: 0.7446808510638298 and parameters: {'learning_rate': 3.4224081917243294e-06, 'per_device_train_batch_size': 8, 'weight_decay': 0.1}. Best is trial 3 with value: 0.8.\n"
     ]
    },
    {
     "name": "stdout",
     "output_type": "stream",
     "text": [
      "{'train_runtime': 777.1981, 'train_samples_per_second': 15.62, 'train_steps_per_second': 1.956, 'train_loss': 0.47023995048121403, 'epoch': 20.0}\n"
     ]
    },
    {
     "name": "stderr",
     "output_type": "stream",
     "text": [
      "Some weights of ViTForImageClassification were not initialized from the model checkpoint at google/vit-base-patch16-224-in21k and are newly initialized: ['classifier.bias', 'classifier.weight']\n",
      "You should probably TRAIN this model on a down-stream task to be able to use it for predictions and inference.\n"
     ]
    },
    {
     "data": {
      "application/vnd.jupyter.widget-view+json": {
       "model_id": "ab550eafa22d4eb686ed38cb1f77ab0d",
       "version_major": 2,
       "version_minor": 0
      },
      "text/plain": [
       "  0%|          | 0/3040 [00:00<?, ?it/s]"
      ]
     },
     "metadata": {},
     "output_type": "display_data"
    },
    {
     "name": "stdout",
     "output_type": "stream",
     "text": [
      "{'loss': 0.647, 'grad_norm': 3.2664005756378174, 'learning_rate': 4.110026481121034e-06, 'epoch': 1.0}\n"
     ]
    },
    {
     "data": {
      "application/vnd.jupyter.widget-view+json": {
       "model_id": "b8bc1bc23b314877b0ffe230397fdd3f",
       "version_major": 2,
       "version_minor": 0
      },
      "text/plain": [
       "  0%|          | 0/108 [00:00<?, ?it/s]"
      ]
     },
     "metadata": {},
     "output_type": "display_data"
    },
    {
     "name": "stdout",
     "output_type": "stream",
     "text": [
      "{'eval_loss': 0.6484050750732422, 'eval_accuracy': 0.5833333333333334, 'eval_f1': 0.0, 'eval_runtime': 3.0691, 'eval_samples_per_second': 35.189, 'eval_steps_per_second': 35.189, 'epoch': 1.0}\n",
      "{'loss': 0.6061, 'grad_norm': 2.278211832046509, 'learning_rate': 3.893709297904137e-06, 'epoch': 2.0}\n"
     ]
    },
    {
     "data": {
      "application/vnd.jupyter.widget-view+json": {
       "model_id": "f9bbceb2cbb6472e922fc0dbe8115d68",
       "version_major": 2,
       "version_minor": 0
      },
      "text/plain": [
       "  0%|          | 0/108 [00:00<?, ?it/s]"
      ]
     },
     "metadata": {},
     "output_type": "display_data"
    },
    {
     "name": "stderr",
     "output_type": "stream",
     "text": [
      "[I 2024-07-22 18:58:57,573] Trial 5 pruned. \n"
     ]
    },
    {
     "name": "stdout",
     "output_type": "stream",
     "text": [
      "{'eval_loss': 0.6051007509231567, 'eval_accuracy': 0.6666666666666666, 'eval_f1': 0.3333333333333333, 'eval_runtime': 3.1454, 'eval_samples_per_second': 34.335, 'eval_steps_per_second': 34.335, 'epoch': 2.0}\n"
     ]
    },
    {
     "name": "stderr",
     "output_type": "stream",
     "text": [
      "Some weights of ViTForImageClassification were not initialized from the model checkpoint at google/vit-base-patch16-224-in21k and are newly initialized: ['classifier.bias', 'classifier.weight']\n",
      "You should probably TRAIN this model on a down-stream task to be able to use it for predictions and inference.\n"
     ]
    },
    {
     "data": {
      "application/vnd.jupyter.widget-view+json": {
       "model_id": "626160cf3e9843519074070a156db41d",
       "version_major": 2,
       "version_minor": 0
      },
      "text/plain": [
       "  0%|          | 0/380 [00:00<?, ?it/s]"
      ]
     },
     "metadata": {},
     "output_type": "display_data"
    },
    {
     "name": "stdout",
     "output_type": "stream",
     "text": [
      "{'loss': 0.6017, 'grad_norm': 2.235746383666992, 'learning_rate': 6.437880825955943e-05, 'epoch': 1.0}\n"
     ]
    },
    {
     "data": {
      "application/vnd.jupyter.widget-view+json": {
       "model_id": "e4a086bb4a384259ba9b78e67bfe2992",
       "version_major": 2,
       "version_minor": 0
      },
      "text/plain": [
       "  0%|          | 0/108 [00:00<?, ?it/s]"
      ]
     },
     "metadata": {},
     "output_type": "display_data"
    },
    {
     "name": "stdout",
     "output_type": "stream",
     "text": [
      "{'eval_loss': 0.5076414942741394, 'eval_accuracy': 0.7777777777777778, 'eval_f1': 0.7647058823529411, 'eval_runtime': 3.0018, 'eval_samples_per_second': 35.979, 'eval_steps_per_second': 35.979, 'epoch': 1.0}\n",
      "{'loss': 0.5077, 'grad_norm': 1.6567260026931763, 'learning_rate': 6.099044993010895e-05, 'epoch': 2.0}\n"
     ]
    },
    {
     "data": {
      "application/vnd.jupyter.widget-view+json": {
       "model_id": "f85eabadd3ae4502ba0a2fb8ece86fb7",
       "version_major": 2,
       "version_minor": 0
      },
      "text/plain": [
       "  0%|          | 0/108 [00:00<?, ?it/s]"
      ]
     },
     "metadata": {},
     "output_type": "display_data"
    },
    {
     "name": "stdout",
     "output_type": "stream",
     "text": [
      "{'eval_loss': 0.4296264350414276, 'eval_accuracy': 0.8055555555555556, 'eval_f1': 0.7640449438202247, 'eval_runtime': 3.0101, 'eval_samples_per_second': 35.88, 'eval_steps_per_second': 35.88, 'epoch': 2.0}\n",
      "{'loss': 0.3994, 'grad_norm': 1.185099482536316, 'learning_rate': 5.760209160065844e-05, 'epoch': 3.0}\n"
     ]
    },
    {
     "data": {
      "application/vnd.jupyter.widget-view+json": {
       "model_id": "5331dcf666614045b2a89ba855cebdc6",
       "version_major": 2,
       "version_minor": 0
      },
      "text/plain": [
       "  0%|          | 0/108 [00:00<?, ?it/s]"
      ]
     },
     "metadata": {},
     "output_type": "display_data"
    },
    {
     "name": "stdout",
     "output_type": "stream",
     "text": [
      "{'eval_loss': 0.4584951102733612, 'eval_accuracy': 0.8055555555555556, 'eval_f1': 0.7407407407407407, 'eval_runtime': 3.2502, 'eval_samples_per_second': 33.229, 'eval_steps_per_second': 33.229, 'epoch': 3.0}\n",
      "{'loss': 0.3831, 'grad_norm': 2.5716211795806885, 'learning_rate': 5.421373327120795e-05, 'epoch': 4.0}\n"
     ]
    },
    {
     "data": {
      "application/vnd.jupyter.widget-view+json": {
       "model_id": "5e0782d65dd14d3baf35a1d20c45dde4",
       "version_major": 2,
       "version_minor": 0
      },
      "text/plain": [
       "  0%|          | 0/108 [00:00<?, ?it/s]"
      ]
     },
     "metadata": {},
     "output_type": "display_data"
    },
    {
     "name": "stdout",
     "output_type": "stream",
     "text": [
      "{'eval_loss': 0.4320763051509857, 'eval_accuracy': 0.7962962962962963, 'eval_f1': 0.7755102040816326, 'eval_runtime': 3.1615, 'eval_samples_per_second': 34.161, 'eval_steps_per_second': 34.161, 'epoch': 4.0}\n",
      "{'loss': 0.3434, 'grad_norm': 1.7709401845932007, 'learning_rate': 5.082537494175745e-05, 'epoch': 5.0}\n"
     ]
    },
    {
     "data": {
      "application/vnd.jupyter.widget-view+json": {
       "model_id": "d500614bb1d347f593dc05f3029500cc",
       "version_major": 2,
       "version_minor": 0
      },
      "text/plain": [
       "  0%|          | 0/108 [00:00<?, ?it/s]"
      ]
     },
     "metadata": {},
     "output_type": "display_data"
    },
    {
     "name": "stdout",
     "output_type": "stream",
     "text": [
      "{'eval_loss': 0.47419893741607666, 'eval_accuracy': 0.7870370370370371, 'eval_f1': 0.676056338028169, 'eval_runtime': 3.0998, 'eval_samples_per_second': 34.841, 'eval_steps_per_second': 34.841, 'epoch': 5.0}\n",
      "{'loss': 0.3395, 'grad_norm': 3.1246211528778076, 'learning_rate': 4.7437016612306955e-05, 'epoch': 6.0}\n"
     ]
    },
    {
     "data": {
      "application/vnd.jupyter.widget-view+json": {
       "model_id": "170afdcad293480d8882315a54be99e9",
       "version_major": 2,
       "version_minor": 0
      },
      "text/plain": [
       "  0%|          | 0/108 [00:00<?, ?it/s]"
      ]
     },
     "metadata": {},
     "output_type": "display_data"
    },
    {
     "name": "stdout",
     "output_type": "stream",
     "text": [
      "{'eval_loss': 0.3948795795440674, 'eval_accuracy': 0.8240740740740741, 'eval_f1': 0.7865168539325843, 'eval_runtime': 3.1319, 'eval_samples_per_second': 34.484, 'eval_steps_per_second': 34.484, 'epoch': 6.0}\n",
      "{'loss': 0.3103, 'grad_norm': 1.7375659942626953, 'learning_rate': 4.4048658282856464e-05, 'epoch': 7.0}\n"
     ]
    },
    {
     "data": {
      "application/vnd.jupyter.widget-view+json": {
       "model_id": "792999d5006c4bbda5c4e83eed1c8455",
       "version_major": 2,
       "version_minor": 0
      },
      "text/plain": [
       "  0%|          | 0/108 [00:00<?, ?it/s]"
      ]
     },
     "metadata": {},
     "output_type": "display_data"
    },
    {
     "name": "stdout",
     "output_type": "stream",
     "text": [
      "{'eval_loss': 0.41141563653945923, 'eval_accuracy': 0.8333333333333334, 'eval_f1': 0.775, 'eval_runtime': 3.0158, 'eval_samples_per_second': 35.812, 'eval_steps_per_second': 35.812, 'epoch': 7.0}\n",
      "{'loss': 0.2769, 'grad_norm': 4.413098335266113, 'learning_rate': 4.066029995340596e-05, 'epoch': 8.0}\n"
     ]
    },
    {
     "data": {
      "application/vnd.jupyter.widget-view+json": {
       "model_id": "c08cbf5b75a44df8ba107b3faa13a1d8",
       "version_major": 2,
       "version_minor": 0
      },
      "text/plain": [
       "  0%|          | 0/108 [00:00<?, ?it/s]"
      ]
     },
     "metadata": {},
     "output_type": "display_data"
    },
    {
     "name": "stdout",
     "output_type": "stream",
     "text": [
      "{'eval_loss': 0.39525845646858215, 'eval_accuracy': 0.8333333333333334, 'eval_f1': 0.7857142857142857, 'eval_runtime': 3.0115, 'eval_samples_per_second': 35.862, 'eval_steps_per_second': 35.862, 'epoch': 8.0}\n",
      "{'loss': 0.2563, 'grad_norm': 2.9831008911132812, 'learning_rate': 3.727194162395547e-05, 'epoch': 9.0}\n"
     ]
    },
    {
     "data": {
      "application/vnd.jupyter.widget-view+json": {
       "model_id": "c933f64d5e9141b4aa2aaea96cb0ea14",
       "version_major": 2,
       "version_minor": 0
      },
      "text/plain": [
       "  0%|          | 0/108 [00:00<?, ?it/s]"
      ]
     },
     "metadata": {},
     "output_type": "display_data"
    },
    {
     "name": "stdout",
     "output_type": "stream",
     "text": [
      "{'eval_loss': 0.40715909004211426, 'eval_accuracy': 0.8425925925925926, 'eval_f1': 0.7901234567901234, 'eval_runtime': 3.1038, 'eval_samples_per_second': 34.796, 'eval_steps_per_second': 34.796, 'epoch': 9.0}\n",
      "{'loss': 0.2674, 'grad_norm': 1.3261574506759644, 'learning_rate': 3.388358329450497e-05, 'epoch': 10.0}\n"
     ]
    },
    {
     "data": {
      "application/vnd.jupyter.widget-view+json": {
       "model_id": "53a459f36ee54250af9e88dd56422e3e",
       "version_major": 2,
       "version_minor": 0
      },
      "text/plain": [
       "  0%|          | 0/108 [00:00<?, ?it/s]"
      ]
     },
     "metadata": {},
     "output_type": "display_data"
    },
    {
     "name": "stdout",
     "output_type": "stream",
     "text": [
      "{'eval_loss': 0.43495967984199524, 'eval_accuracy': 0.8425925925925926, 'eval_f1': 0.7792207792207793, 'eval_runtime': 1.7921, 'eval_samples_per_second': 60.264, 'eval_steps_per_second': 60.264, 'epoch': 10.0}\n",
      "{'loss': 0.2568, 'grad_norm': 5.712589740753174, 'learning_rate': 3.0495224965054474e-05, 'epoch': 11.0}\n"
     ]
    },
    {
     "data": {
      "application/vnd.jupyter.widget-view+json": {
       "model_id": "ede8d790e190488b9eda33e37413a254",
       "version_major": 2,
       "version_minor": 0
      },
      "text/plain": [
       "  0%|          | 0/108 [00:00<?, ?it/s]"
      ]
     },
     "metadata": {},
     "output_type": "display_data"
    },
    {
     "name": "stdout",
     "output_type": "stream",
     "text": [
      "{'eval_loss': 0.4087181091308594, 'eval_accuracy': 0.8240740740740741, 'eval_f1': 0.7710843373493976, 'eval_runtime': 3.5582, 'eval_samples_per_second': 30.352, 'eval_steps_per_second': 30.352, 'epoch': 11.0}\n",
      "{'loss': 0.2428, 'grad_norm': 1.153366208076477, 'learning_rate': 2.7106866635603976e-05, 'epoch': 12.0}\n"
     ]
    },
    {
     "data": {
      "application/vnd.jupyter.widget-view+json": {
       "model_id": "649144636d244065990d31f6a4462d76",
       "version_major": 2,
       "version_minor": 0
      },
      "text/plain": [
       "  0%|          | 0/108 [00:00<?, ?it/s]"
      ]
     },
     "metadata": {},
     "output_type": "display_data"
    },
    {
     "name": "stdout",
     "output_type": "stream",
     "text": [
      "{'eval_loss': 0.4014342129230499, 'eval_accuracy': 0.8148148148148148, 'eval_f1': 0.7777777777777778, 'eval_runtime': 3.6889, 'eval_samples_per_second': 29.277, 'eval_steps_per_second': 29.277, 'epoch': 12.0}\n",
      "{'loss': 0.241, 'grad_norm': 1.9216697216033936, 'learning_rate': 2.3718508306153478e-05, 'epoch': 13.0}\n"
     ]
    },
    {
     "data": {
      "application/vnd.jupyter.widget-view+json": {
       "model_id": "c0b3d6ef786e48aeaa05119aa36ba0f7",
       "version_major": 2,
       "version_minor": 0
      },
      "text/plain": [
       "  0%|          | 0/108 [00:00<?, ?it/s]"
      ]
     },
     "metadata": {},
     "output_type": "display_data"
    },
    {
     "name": "stdout",
     "output_type": "stream",
     "text": [
      "{'eval_loss': 0.39598986506462097, 'eval_accuracy': 0.8425925925925926, 'eval_f1': 0.8, 'eval_runtime': 1.9643, 'eval_samples_per_second': 54.982, 'eval_steps_per_second': 54.982, 'epoch': 13.0}\n",
      "{'loss': 0.2231, 'grad_norm': 3.6871097087860107, 'learning_rate': 2.033014997670298e-05, 'epoch': 14.0}\n"
     ]
    },
    {
     "data": {
      "application/vnd.jupyter.widget-view+json": {
       "model_id": "244c8a5cf62548c49f26f405ec107711",
       "version_major": 2,
       "version_minor": 0
      },
      "text/plain": [
       "  0%|          | 0/108 [00:00<?, ?it/s]"
      ]
     },
     "metadata": {},
     "output_type": "display_data"
    },
    {
     "name": "stdout",
     "output_type": "stream",
     "text": [
      "{'eval_loss': 0.44322890043258667, 'eval_accuracy': 0.8333333333333334, 'eval_f1': 0.7692307692307693, 'eval_runtime': 2.1064, 'eval_samples_per_second': 51.272, 'eval_steps_per_second': 51.272, 'epoch': 14.0}\n",
      "{'loss': 0.2365, 'grad_norm': 2.8310365676879883, 'learning_rate': 1.6941791647252484e-05, 'epoch': 15.0}\n"
     ]
    },
    {
     "data": {
      "application/vnd.jupyter.widget-view+json": {
       "model_id": "7948895b4e4e4409b3e351716ef69ea4",
       "version_major": 2,
       "version_minor": 0
      },
      "text/plain": [
       "  0%|          | 0/108 [00:00<?, ?it/s]"
      ]
     },
     "metadata": {},
     "output_type": "display_data"
    },
    {
     "name": "stdout",
     "output_type": "stream",
     "text": [
      "{'eval_loss': 0.42024871706962585, 'eval_accuracy': 0.8425925925925926, 'eval_f1': 0.7951807228915663, 'eval_runtime': 2.1821, 'eval_samples_per_second': 49.494, 'eval_steps_per_second': 49.494, 'epoch': 15.0}\n",
      "{'loss': 0.1844, 'grad_norm': 1.6496710777282715, 'learning_rate': 1.3553433317801988e-05, 'epoch': 16.0}\n"
     ]
    },
    {
     "data": {
      "application/vnd.jupyter.widget-view+json": {
       "model_id": "836fbaa25e5948eea67342adc4ebbf53",
       "version_major": 2,
       "version_minor": 0
      },
      "text/plain": [
       "  0%|          | 0/108 [00:00<?, ?it/s]"
      ]
     },
     "metadata": {},
     "output_type": "display_data"
    },
    {
     "name": "stdout",
     "output_type": "stream",
     "text": [
      "{'eval_loss': 0.4223814606666565, 'eval_accuracy': 0.8333333333333334, 'eval_f1': 0.7906976744186046, 'eval_runtime': 1.8981, 'eval_samples_per_second': 56.9, 'eval_steps_per_second': 56.9, 'epoch': 16.0}\n",
      "{'loss': 0.2139, 'grad_norm': 2.702352523803711, 'learning_rate': 1.016507498835149e-05, 'epoch': 17.0}\n"
     ]
    },
    {
     "data": {
      "application/vnd.jupyter.widget-view+json": {
       "model_id": "99352636fe1e4adeb346933d086af12a",
       "version_major": 2,
       "version_minor": 0
      },
      "text/plain": [
       "  0%|          | 0/108 [00:00<?, ?it/s]"
      ]
     },
     "metadata": {},
     "output_type": "display_data"
    },
    {
     "name": "stdout",
     "output_type": "stream",
     "text": [
      "{'eval_loss': 0.43028292059898376, 'eval_accuracy': 0.8333333333333334, 'eval_f1': 0.7804878048780488, 'eval_runtime': 2.0524, 'eval_samples_per_second': 52.621, 'eval_steps_per_second': 52.621, 'epoch': 17.0}\n",
      "{'loss': 0.1885, 'grad_norm': 2.4044137001037598, 'learning_rate': 6.776716658900994e-06, 'epoch': 18.0}\n"
     ]
    },
    {
     "data": {
      "application/vnd.jupyter.widget-view+json": {
       "model_id": "692245a8400a4ce2ad21e84ffc50bb3c",
       "version_major": 2,
       "version_minor": 0
      },
      "text/plain": [
       "  0%|          | 0/108 [00:00<?, ?it/s]"
      ]
     },
     "metadata": {},
     "output_type": "display_data"
    },
    {
     "name": "stdout",
     "output_type": "stream",
     "text": [
      "{'eval_loss': 0.43085402250289917, 'eval_accuracy': 0.8425925925925926, 'eval_f1': 0.7901234567901234, 'eval_runtime': 1.9684, 'eval_samples_per_second': 54.868, 'eval_steps_per_second': 54.868, 'epoch': 18.0}\n",
      "{'loss': 0.1761, 'grad_norm': 3.250368595123291, 'learning_rate': 3.388358329450497e-06, 'epoch': 19.0}\n"
     ]
    },
    {
     "data": {
      "application/vnd.jupyter.widget-view+json": {
       "model_id": "e1cc7487f1a94c1e886bf7d6d454d275",
       "version_major": 2,
       "version_minor": 0
      },
      "text/plain": [
       "  0%|          | 0/108 [00:00<?, ?it/s]"
      ]
     },
     "metadata": {},
     "output_type": "display_data"
    },
    {
     "name": "stdout",
     "output_type": "stream",
     "text": [
      "{'eval_loss': 0.42545264959335327, 'eval_accuracy': 0.8425925925925926, 'eval_f1': 0.7901234567901234, 'eval_runtime': 1.9837, 'eval_samples_per_second': 54.443, 'eval_steps_per_second': 54.443, 'epoch': 19.0}\n",
      "{'loss': 0.1693, 'grad_norm': 1.0510120391845703, 'learning_rate': 0.0, 'epoch': 20.0}\n"
     ]
    },
    {
     "data": {
      "application/vnd.jupyter.widget-view+json": {
       "model_id": "94170854d98140529f12b876f0faa239",
       "version_major": 2,
       "version_minor": 0
      },
      "text/plain": [
       "  0%|          | 0/108 [00:00<?, ?it/s]"
      ]
     },
     "metadata": {},
     "output_type": "display_data"
    },
    {
     "name": "stdout",
     "output_type": "stream",
     "text": [
      "{'eval_loss': 0.4209221601486206, 'eval_accuracy': 0.8425925925925926, 'eval_f1': 0.7951807228915663, 'eval_runtime': 1.9823, 'eval_samples_per_second': 54.482, 'eval_steps_per_second': 54.482, 'epoch': 20.0}\n"
     ]
    },
    {
     "name": "stderr",
     "output_type": "stream",
     "text": [
      "[I 2024-07-22 19:08:06,930] Trial 6 finished with value: 0.7951807228915663 and parameters: {'learning_rate': 6.776716658900994e-05, 'per_device_train_batch_size': 32, 'weight_decay': 0.1}. Best is trial 3 with value: 0.8.\n"
     ]
    },
    {
     "name": "stdout",
     "output_type": "stream",
     "text": [
      "{'train_runtime': 548.6709, 'train_samples_per_second': 22.126, 'train_steps_per_second': 0.693, 'train_loss': 0.29090558666931954, 'epoch': 20.0}\n"
     ]
    },
    {
     "name": "stderr",
     "output_type": "stream",
     "text": [
      "Some weights of ViTForImageClassification were not initialized from the model checkpoint at google/vit-base-patch16-224-in21k and are newly initialized: ['classifier.bias', 'classifier.weight']\n",
      "You should probably TRAIN this model on a down-stream task to be able to use it for predictions and inference.\n"
     ]
    },
    {
     "data": {
      "application/vnd.jupyter.widget-view+json": {
       "model_id": "045dae4e014f48378afe34c29d1e5060",
       "version_major": 2,
       "version_minor": 0
      },
      "text/plain": [
       "  0%|          | 0/3040 [00:00<?, ?it/s]"
      ]
     },
     "metadata": {},
     "output_type": "display_data"
    },
    {
     "name": "stdout",
     "output_type": "stream",
     "text": [
      "{'loss': 0.6448, 'grad_norm': 3.475759506225586, 'learning_rate': 4.553596979097871e-06, 'epoch': 1.0}\n"
     ]
    },
    {
     "data": {
      "application/vnd.jupyter.widget-view+json": {
       "model_id": "6cb0308ffb1e4c7685e015d3816d8aea",
       "version_major": 2,
       "version_minor": 0
      },
      "text/plain": [
       "  0%|          | 0/108 [00:00<?, ?it/s]"
      ]
     },
     "metadata": {},
     "output_type": "display_data"
    },
    {
     "name": "stderr",
     "output_type": "stream",
     "text": [
      "[I 2024-07-22 19:08:47,154] Trial 7 pruned. \n"
     ]
    },
    {
     "name": "stdout",
     "output_type": "stream",
     "text": [
      "{'eval_loss': 0.6450249552726746, 'eval_accuracy': 0.5833333333333334, 'eval_f1': 0.0, 'eval_runtime': 3.3711, 'eval_samples_per_second': 32.037, 'eval_steps_per_second': 32.037, 'epoch': 1.0}\n"
     ]
    },
    {
     "name": "stderr",
     "output_type": "stream",
     "text": [
      "Some weights of ViTForImageClassification were not initialized from the model checkpoint at google/vit-base-patch16-224-in21k and are newly initialized: ['classifier.bias', 'classifier.weight']\n",
      "You should probably TRAIN this model on a down-stream task to be able to use it for predictions and inference.\n"
     ]
    },
    {
     "data": {
      "application/vnd.jupyter.widget-view+json": {
       "model_id": "026a95d0dcd247ff86381c3d788a9ccc",
       "version_major": 2,
       "version_minor": 0
      },
      "text/plain": [
       "  0%|          | 0/3040 [00:00<?, ?it/s]"
      ]
     },
     "metadata": {},
     "output_type": "display_data"
    },
    {
     "name": "stdout",
     "output_type": "stream",
     "text": [
      "{'loss': 0.6663, 'grad_norm': 0.1707754135131836, 'learning_rate': 0.000657950051128943, 'epoch': 1.0}\n"
     ]
    },
    {
     "data": {
      "application/vnd.jupyter.widget-view+json": {
       "model_id": "c1df7bfac1f643eea9f0beff0f5a74b2",
       "version_major": 2,
       "version_minor": 0
      },
      "text/plain": [
       "  0%|          | 0/108 [00:00<?, ?it/s]"
      ]
     },
     "metadata": {},
     "output_type": "display_data"
    },
    {
     "name": "stderr",
     "output_type": "stream",
     "text": [
      "[I 2024-07-22 19:09:27,921] Trial 8 pruned. \n"
     ]
    },
    {
     "name": "stdout",
     "output_type": "stream",
     "text": [
      "{'eval_loss': 0.6766590476036072, 'eval_accuracy': 0.5833333333333334, 'eval_f1': 0.0, 'eval_runtime': 2.9766, 'eval_samples_per_second': 36.282, 'eval_steps_per_second': 36.282, 'epoch': 1.0}\n"
     ]
    },
    {
     "name": "stderr",
     "output_type": "stream",
     "text": [
      "Some weights of ViTForImageClassification were not initialized from the model checkpoint at google/vit-base-patch16-224-in21k and are newly initialized: ['classifier.bias', 'classifier.weight']\n",
      "You should probably TRAIN this model on a down-stream task to be able to use it for predictions and inference.\n"
     ]
    },
    {
     "data": {
      "application/vnd.jupyter.widget-view+json": {
       "model_id": "2406294469694876b2e9e81cb8bb143a",
       "version_major": 2,
       "version_minor": 0
      },
      "text/plain": [
       "  0%|          | 0/760 [00:00<?, ?it/s]"
      ]
     },
     "metadata": {},
     "output_type": "display_data"
    },
    {
     "name": "stdout",
     "output_type": "stream",
     "text": [
      "{'loss': 0.6172, 'grad_norm': 1.924469232559204, 'learning_rate': 3.0613109678761515e-05, 'epoch': 1.0}\n"
     ]
    },
    {
     "data": {
      "application/vnd.jupyter.widget-view+json": {
       "model_id": "0533e7f82b2448b3bd59f6fb37956248",
       "version_major": 2,
       "version_minor": 0
      },
      "text/plain": [
       "  0%|          | 0/108 [00:00<?, ?it/s]"
      ]
     },
     "metadata": {},
     "output_type": "display_data"
    },
    {
     "name": "stdout",
     "output_type": "stream",
     "text": [
      "{'eval_loss': 0.5638809204101562, 'eval_accuracy': 0.7870370370370371, 'eval_f1': 0.7766990291262136, 'eval_runtime': 3.3951, 'eval_samples_per_second': 31.811, 'eval_steps_per_second': 31.811, 'epoch': 1.0}\n",
      "{'loss': 0.4893, 'grad_norm': 1.8542439937591553, 'learning_rate': 2.9001893379879334e-05, 'epoch': 2.0}\n"
     ]
    },
    {
     "data": {
      "application/vnd.jupyter.widget-view+json": {
       "model_id": "57ee84a9e1924054ad35d4fc75504013",
       "version_major": 2,
       "version_minor": 0
      },
      "text/plain": [
       "  0%|          | 0/108 [00:00<?, ?it/s]"
      ]
     },
     "metadata": {},
     "output_type": "display_data"
    },
    {
     "name": "stdout",
     "output_type": "stream",
     "text": [
      "{'eval_loss': 0.4489395320415497, 'eval_accuracy': 0.7777777777777778, 'eval_f1': 0.7446808510638298, 'eval_runtime': 3.1556, 'eval_samples_per_second': 34.225, 'eval_steps_per_second': 34.225, 'epoch': 2.0}\n",
      "{'loss': 0.3726, 'grad_norm': 2.808680295944214, 'learning_rate': 2.739067708099715e-05, 'epoch': 3.0}\n"
     ]
    },
    {
     "data": {
      "application/vnd.jupyter.widget-view+json": {
       "model_id": "869ba89b30e144899451e5248c2397ec",
       "version_major": 2,
       "version_minor": 0
      },
      "text/plain": [
       "  0%|          | 0/108 [00:00<?, ?it/s]"
      ]
     },
     "metadata": {},
     "output_type": "display_data"
    },
    {
     "name": "stdout",
     "output_type": "stream",
     "text": [
      "{'eval_loss': 0.43155637383461, 'eval_accuracy': 0.8055555555555556, 'eval_f1': 0.7878787878787878, 'eval_runtime': 3.2392, 'eval_samples_per_second': 33.342, 'eval_steps_per_second': 33.342, 'epoch': 3.0}\n",
      "{'loss': 0.3489, 'grad_norm': 6.453937530517578, 'learning_rate': 2.5779460782114963e-05, 'epoch': 4.0}\n"
     ]
    },
    {
     "data": {
      "application/vnd.jupyter.widget-view+json": {
       "model_id": "8c5b7c1f95094b29846ad995e03819d9",
       "version_major": 2,
       "version_minor": 0
      },
      "text/plain": [
       "  0%|          | 0/108 [00:00<?, ?it/s]"
      ]
     },
     "metadata": {},
     "output_type": "display_data"
    },
    {
     "name": "stdout",
     "output_type": "stream",
     "text": [
      "{'eval_loss': 0.49663835763931274, 'eval_accuracy': 0.7777777777777778, 'eval_f1': 0.7692307692307693, 'eval_runtime': 3.4655, 'eval_samples_per_second': 31.165, 'eval_steps_per_second': 31.165, 'epoch': 4.0}\n",
      "{'loss': 0.3506, 'grad_norm': 1.6806132793426514, 'learning_rate': 2.4168244483232778e-05, 'epoch': 5.0}\n"
     ]
    },
    {
     "data": {
      "application/vnd.jupyter.widget-view+json": {
       "model_id": "5affde1ba5cb4816bb64f20a8a216584",
       "version_major": 2,
       "version_minor": 0
      },
      "text/plain": [
       "  0%|          | 0/108 [00:00<?, ?it/s]"
      ]
     },
     "metadata": {},
     "output_type": "display_data"
    },
    {
     "name": "stdout",
     "output_type": "stream",
     "text": [
      "{'eval_loss': 0.4386102557182312, 'eval_accuracy': 0.8240740740740741, 'eval_f1': 0.7710843373493976, 'eval_runtime': 2.6812, 'eval_samples_per_second': 40.281, 'eval_steps_per_second': 40.281, 'epoch': 5.0}\n",
      "{'loss': 0.3439, 'grad_norm': 3.0077972412109375, 'learning_rate': 2.2557028184350593e-05, 'epoch': 6.0}\n"
     ]
    },
    {
     "data": {
      "application/vnd.jupyter.widget-view+json": {
       "model_id": "d488f2e5349244bba2d2494ca2884dff",
       "version_major": 2,
       "version_minor": 0
      },
      "text/plain": [
       "  0%|          | 0/108 [00:00<?, ?it/s]"
      ]
     },
     "metadata": {},
     "output_type": "display_data"
    },
    {
     "name": "stdout",
     "output_type": "stream",
     "text": [
      "{'eval_loss': 0.41894611716270447, 'eval_accuracy': 0.8055555555555556, 'eval_f1': 0.7640449438202247, 'eval_runtime': 2.9297, 'eval_samples_per_second': 36.864, 'eval_steps_per_second': 36.864, 'epoch': 6.0}\n",
      "{'loss': 0.3151, 'grad_norm': 1.6673396825790405, 'learning_rate': 2.0945811885468408e-05, 'epoch': 7.0}\n"
     ]
    },
    {
     "data": {
      "application/vnd.jupyter.widget-view+json": {
       "model_id": "0deac911e028415c91a264f100502021",
       "version_major": 2,
       "version_minor": 0
      },
      "text/plain": [
       "  0%|          | 0/108 [00:00<?, ?it/s]"
      ]
     },
     "metadata": {},
     "output_type": "display_data"
    },
    {
     "name": "stdout",
     "output_type": "stream",
     "text": [
      "{'eval_loss': 0.4158412516117096, 'eval_accuracy': 0.8148148148148148, 'eval_f1': 0.7727272727272727, 'eval_runtime': 3.1586, 'eval_samples_per_second': 34.192, 'eval_steps_per_second': 34.192, 'epoch': 7.0}\n",
      "{'loss': 0.2976, 'grad_norm': 1.714518427848816, 'learning_rate': 1.9334595586586222e-05, 'epoch': 8.0}\n"
     ]
    },
    {
     "data": {
      "application/vnd.jupyter.widget-view+json": {
       "model_id": "55e0f0b3c4d14f7c8955140bdd587a57",
       "version_major": 2,
       "version_minor": 0
      },
      "text/plain": [
       "  0%|          | 0/108 [00:00<?, ?it/s]"
      ]
     },
     "metadata": {},
     "output_type": "display_data"
    },
    {
     "name": "stdout",
     "output_type": "stream",
     "text": [
      "{'eval_loss': 0.4301123023033142, 'eval_accuracy': 0.8425925925925926, 'eval_f1': 0.7901234567901234, 'eval_runtime': 2.9774, 'eval_samples_per_second': 36.273, 'eval_steps_per_second': 36.273, 'epoch': 8.0}\n",
      "{'loss': 0.2916, 'grad_norm': 4.826058387756348, 'learning_rate': 1.7723379287704037e-05, 'epoch': 9.0}\n"
     ]
    },
    {
     "data": {
      "application/vnd.jupyter.widget-view+json": {
       "model_id": "ecf37d4a63f04a7485febcbe84d69e20",
       "version_major": 2,
       "version_minor": 0
      },
      "text/plain": [
       "  0%|          | 0/108 [00:00<?, ?it/s]"
      ]
     },
     "metadata": {},
     "output_type": "display_data"
    },
    {
     "name": "stdout",
     "output_type": "stream",
     "text": [
      "{'eval_loss': 0.4146585166454315, 'eval_accuracy': 0.8333333333333334, 'eval_f1': 0.7906976744186046, 'eval_runtime': 3.3705, 'eval_samples_per_second': 32.043, 'eval_steps_per_second': 32.043, 'epoch': 9.0}\n",
      "{'loss': 0.2846, 'grad_norm': 2.340132713317871, 'learning_rate': 1.6112162988821852e-05, 'epoch': 10.0}\n"
     ]
    },
    {
     "data": {
      "application/vnd.jupyter.widget-view+json": {
       "model_id": "708b73b7b4dd4f66a58781e21a15c9aa",
       "version_major": 2,
       "version_minor": 0
      },
      "text/plain": [
       "  0%|          | 0/108 [00:00<?, ?it/s]"
      ]
     },
     "metadata": {},
     "output_type": "display_data"
    },
    {
     "name": "stdout",
     "output_type": "stream",
     "text": [
      "{'eval_loss': 0.49173858761787415, 'eval_accuracy': 0.7870370370370371, 'eval_f1': 0.676056338028169, 'eval_runtime': 3.3437, 'eval_samples_per_second': 32.299, 'eval_steps_per_second': 32.299, 'epoch': 10.0}\n",
      "{'loss': 0.27, 'grad_norm': 5.08394193649292, 'learning_rate': 1.4500946689939667e-05, 'epoch': 11.0}\n"
     ]
    },
    {
     "data": {
      "application/vnd.jupyter.widget-view+json": {
       "model_id": "b200a274badf40b4b48e5693f89cc054",
       "version_major": 2,
       "version_minor": 0
      },
      "text/plain": [
       "  0%|          | 0/108 [00:00<?, ?it/s]"
      ]
     },
     "metadata": {},
     "output_type": "display_data"
    },
    {
     "name": "stdout",
     "output_type": "stream",
     "text": [
      "{'eval_loss': 0.41712403297424316, 'eval_accuracy': 0.8333333333333334, 'eval_f1': 0.7692307692307693, 'eval_runtime': 3.2141, 'eval_samples_per_second': 33.602, 'eval_steps_per_second': 33.602, 'epoch': 11.0}\n",
      "{'loss': 0.274, 'grad_norm': 0.5916375517845154, 'learning_rate': 1.2889730391057482e-05, 'epoch': 12.0}\n"
     ]
    },
    {
     "data": {
      "application/vnd.jupyter.widget-view+json": {
       "model_id": "07bd6eb513f944c7af68e1a3b1eba446",
       "version_major": 2,
       "version_minor": 0
      },
      "text/plain": [
       "  0%|          | 0/108 [00:00<?, ?it/s]"
      ]
     },
     "metadata": {},
     "output_type": "display_data"
    },
    {
     "name": "stderr",
     "output_type": "stream",
     "text": [
      "[I 2024-07-22 19:16:15,815] Trial 9 pruned. \n"
     ]
    },
    {
     "name": "stdout",
     "output_type": "stream",
     "text": [
      "{'eval_loss': 0.41921254992485046, 'eval_accuracy': 0.7870370370370371, 'eval_f1': 0.7472527472527473, 'eval_runtime': 4.525, 'eval_samples_per_second': 23.867, 'eval_steps_per_second': 23.867, 'epoch': 12.0}\n"
     ]
    },
    {
     "name": "stderr",
     "output_type": "stream",
     "text": [
      "Some weights of ViTForImageClassification were not initialized from the model checkpoint at google/vit-base-patch16-224-in21k and are newly initialized: ['classifier.bias', 'classifier.weight']\n",
      "You should probably TRAIN this model on a down-stream task to be able to use it for predictions and inference.\n"
     ]
    },
    {
     "data": {
      "application/vnd.jupyter.widget-view+json": {
       "model_id": "863a1faba00c4344b04a41ed15c0f8b8",
       "version_major": 2,
       "version_minor": 0
      },
      "text/plain": [
       "  0%|          | 0/760 [00:00<?, ?it/s]"
      ]
     },
     "metadata": {},
     "output_type": "display_data"
    },
    {
     "name": "stdout",
     "output_type": "stream",
     "text": [
      "{'loss': 0.562, 'grad_norm': 3.1007823944091797, 'learning_rate': 0.00013740924653806125, 'epoch': 1.0}\n"
     ]
    },
    {
     "data": {
      "application/vnd.jupyter.widget-view+json": {
       "model_id": "857679333bf54e5487121f7034279090",
       "version_major": 2,
       "version_minor": 0
      },
      "text/plain": [
       "  0%|          | 0/108 [00:00<?, ?it/s]"
      ]
     },
     "metadata": {},
     "output_type": "display_data"
    },
    {
     "name": "stderr",
     "output_type": "stream",
     "text": [
      "[I 2024-07-22 19:16:42,253] Trial 10 pruned. \n"
     ]
    },
    {
     "name": "stdout",
     "output_type": "stream",
     "text": [
      "{'eval_loss': 0.9827998876571655, 'eval_accuracy': 0.5648148148148148, 'eval_f1': 0.656934306569343, 'eval_runtime': 2.0862, 'eval_samples_per_second': 51.77, 'eval_steps_per_second': 51.77, 'epoch': 1.0}\n"
     ]
    },
    {
     "name": "stderr",
     "output_type": "stream",
     "text": [
      "Some weights of ViTForImageClassification were not initialized from the model checkpoint at google/vit-base-patch16-224-in21k and are newly initialized: ['classifier.bias', 'classifier.weight']\n",
      "You should probably TRAIN this model on a down-stream task to be able to use it for predictions and inference.\n"
     ]
    },
    {
     "data": {
      "application/vnd.jupyter.widget-view+json": {
       "model_id": "928250d5678e49f0a468c0853b07cf28",
       "version_major": 2,
       "version_minor": 0
      },
      "text/plain": [
       "  0%|          | 0/380 [00:00<?, ?it/s]"
      ]
     },
     "metadata": {},
     "output_type": "display_data"
    },
    {
     "name": "stdout",
     "output_type": "stream",
     "text": [
      "{'loss': 0.6236, 'grad_norm': 1.6170011758804321, 'learning_rate': 4.931599574936885e-05, 'epoch': 1.0}\n"
     ]
    },
    {
     "data": {
      "application/vnd.jupyter.widget-view+json": {
       "model_id": "35ac4435426a4190a29b945bcdd5b7ab",
       "version_major": 2,
       "version_minor": 0
      },
      "text/plain": [
       "  0%|          | 0/108 [00:00<?, ?it/s]"
      ]
     },
     "metadata": {},
     "output_type": "display_data"
    },
    {
     "name": "stdout",
     "output_type": "stream",
     "text": [
      "{'eval_loss': 0.566722571849823, 'eval_accuracy': 0.7962962962962963, 'eval_f1': 0.7755102040816326, 'eval_runtime': 1.8876, 'eval_samples_per_second': 57.216, 'eval_steps_per_second': 57.216, 'epoch': 1.0}\n",
      "{'loss': 0.5011, 'grad_norm': 1.4326263666152954, 'learning_rate': 4.672041702571786e-05, 'epoch': 2.0}\n"
     ]
    },
    {
     "data": {
      "application/vnd.jupyter.widget-view+json": {
       "model_id": "cd7ca37834344f5cae0ca1d535787517",
       "version_major": 2,
       "version_minor": 0
      },
      "text/plain": [
       "  0%|          | 0/108 [00:00<?, ?it/s]"
      ]
     },
     "metadata": {},
     "output_type": "display_data"
    },
    {
     "name": "stdout",
     "output_type": "stream",
     "text": [
      "{'eval_loss': 0.44851988554000854, 'eval_accuracy': 0.8148148148148148, 'eval_f1': 0.803921568627451, 'eval_runtime': 3.0356, 'eval_samples_per_second': 35.578, 'eval_steps_per_second': 35.578, 'epoch': 2.0}\n",
      "{'loss': 0.3953, 'grad_norm': 1.75070321559906, 'learning_rate': 4.412483830206687e-05, 'epoch': 3.0}\n"
     ]
    },
    {
     "data": {
      "application/vnd.jupyter.widget-view+json": {
       "model_id": "c41d6a7f833441fbaba5de0d16dfed8b",
       "version_major": 2,
       "version_minor": 0
      },
      "text/plain": [
       "  0%|          | 0/108 [00:00<?, ?it/s]"
      ]
     },
     "metadata": {},
     "output_type": "display_data"
    },
    {
     "name": "stdout",
     "output_type": "stream",
     "text": [
      "{'eval_loss': 0.44768139719963074, 'eval_accuracy': 0.8148148148148148, 'eval_f1': 0.7619047619047619, 'eval_runtime': 2.905, 'eval_samples_per_second': 37.178, 'eval_steps_per_second': 37.178, 'epoch': 3.0}\n",
      "{'loss': 0.3741, 'grad_norm': 3.686544418334961, 'learning_rate': 4.152925957841588e-05, 'epoch': 4.0}\n"
     ]
    },
    {
     "data": {
      "application/vnd.jupyter.widget-view+json": {
       "model_id": "8075b14080af407c97aa1ef5d6042b90",
       "version_major": 2,
       "version_minor": 0
      },
      "text/plain": [
       "  0%|          | 0/108 [00:00<?, ?it/s]"
      ]
     },
     "metadata": {},
     "output_type": "display_data"
    },
    {
     "name": "stdout",
     "output_type": "stream",
     "text": [
      "{'eval_loss': 0.48877575993537903, 'eval_accuracy': 0.7592592592592593, 'eval_f1': 0.7547169811320755, 'eval_runtime': 2.7922, 'eval_samples_per_second': 38.679, 'eval_steps_per_second': 38.679, 'epoch': 4.0}\n",
      "{'loss': 0.3516, 'grad_norm': 2.1767141819000244, 'learning_rate': 3.893368085476488e-05, 'epoch': 5.0}\n"
     ]
    },
    {
     "data": {
      "application/vnd.jupyter.widget-view+json": {
       "model_id": "a4b7529fb47944c7a34bade4dde92351",
       "version_major": 2,
       "version_minor": 0
      },
      "text/plain": [
       "  0%|          | 0/108 [00:00<?, ?it/s]"
      ]
     },
     "metadata": {},
     "output_type": "display_data"
    },
    {
     "name": "stdout",
     "output_type": "stream",
     "text": [
      "{'eval_loss': 0.43178269267082214, 'eval_accuracy': 0.8148148148148148, 'eval_f1': 0.7619047619047619, 'eval_runtime': 2.8475, 'eval_samples_per_second': 37.928, 'eval_steps_per_second': 37.928, 'epoch': 5.0}\n",
      "{'loss': 0.335, 'grad_norm': 2.2859718799591064, 'learning_rate': 3.633810213111389e-05, 'epoch': 6.0}\n"
     ]
    },
    {
     "data": {
      "application/vnd.jupyter.widget-view+json": {
       "model_id": "48e70c850b984246beb818423fafb04e",
       "version_major": 2,
       "version_minor": 0
      },
      "text/plain": [
       "  0%|          | 0/108 [00:00<?, ?it/s]"
      ]
     },
     "metadata": {},
     "output_type": "display_data"
    },
    {
     "name": "stdout",
     "output_type": "stream",
     "text": [
      "{'eval_loss': 0.42945805191993713, 'eval_accuracy': 0.8055555555555556, 'eval_f1': 0.7407407407407407, 'eval_runtime': 1.662, 'eval_samples_per_second': 64.982, 'eval_steps_per_second': 64.982, 'epoch': 6.0}\n",
      "{'loss': 0.3109, 'grad_norm': 2.3660476207733154, 'learning_rate': 3.37425234074629e-05, 'epoch': 7.0}\n"
     ]
    },
    {
     "data": {
      "application/vnd.jupyter.widget-view+json": {
       "model_id": "3ccd6477ebd5412eb16a6816c8683c57",
       "version_major": 2,
       "version_minor": 0
      },
      "text/plain": [
       "  0%|          | 0/108 [00:00<?, ?it/s]"
      ]
     },
     "metadata": {},
     "output_type": "display_data"
    },
    {
     "name": "stdout",
     "output_type": "stream",
     "text": [
      "{'eval_loss': 0.42179247736930847, 'eval_accuracy': 0.8333333333333334, 'eval_f1': 0.7804878048780488, 'eval_runtime': 1.6491, 'eval_samples_per_second': 65.489, 'eval_steps_per_second': 65.489, 'epoch': 7.0}\n",
      "{'loss': 0.2764, 'grad_norm': 4.094949722290039, 'learning_rate': 3.1146944683811906e-05, 'epoch': 8.0}\n"
     ]
    },
    {
     "data": {
      "application/vnd.jupyter.widget-view+json": {
       "model_id": "86feb7e2365b4ccdbac1d9e6c7787e01",
       "version_major": 2,
       "version_minor": 0
      },
      "text/plain": [
       "  0%|          | 0/108 [00:00<?, ?it/s]"
      ]
     },
     "metadata": {},
     "output_type": "display_data"
    },
    {
     "name": "stdout",
     "output_type": "stream",
     "text": [
      "{'eval_loss': 0.401837557554245, 'eval_accuracy': 0.8333333333333334, 'eval_f1': 0.7906976744186046, 'eval_runtime': 1.5584, 'eval_samples_per_second': 69.3, 'eval_steps_per_second': 69.3, 'epoch': 8.0}\n",
      "{'loss': 0.2715, 'grad_norm': 2.6469626426696777, 'learning_rate': 2.8551365960160916e-05, 'epoch': 9.0}\n"
     ]
    },
    {
     "data": {
      "application/vnd.jupyter.widget-view+json": {
       "model_id": "76e80ba590f94e189ba7da62c22bfc46",
       "version_major": 2,
       "version_minor": 0
      },
      "text/plain": [
       "  0%|          | 0/108 [00:00<?, ?it/s]"
      ]
     },
     "metadata": {},
     "output_type": "display_data"
    },
    {
     "name": "stdout",
     "output_type": "stream",
     "text": [
      "{'eval_loss': 0.41431599855422974, 'eval_accuracy': 0.8518518518518519, 'eval_f1': 0.8048780487804879, 'eval_runtime': 1.5667, 'eval_samples_per_second': 68.934, 'eval_steps_per_second': 68.934, 'epoch': 9.0}\n",
      "{'loss': 0.274, 'grad_norm': 1.4885623455047607, 'learning_rate': 2.5955787236509923e-05, 'epoch': 10.0}\n"
     ]
    },
    {
     "data": {
      "application/vnd.jupyter.widget-view+json": {
       "model_id": "c77c468f5757407196afab21c7212d1a",
       "version_major": 2,
       "version_minor": 0
      },
      "text/plain": [
       "  0%|          | 0/108 [00:00<?, ?it/s]"
      ]
     },
     "metadata": {},
     "output_type": "display_data"
    },
    {
     "name": "stdout",
     "output_type": "stream",
     "text": [
      "{'eval_loss': 0.4275522828102112, 'eval_accuracy': 0.8425925925925926, 'eval_f1': 0.7848101265822784, 'eval_runtime': 1.6233, 'eval_samples_per_second': 66.529, 'eval_steps_per_second': 66.529, 'epoch': 10.0}\n",
      "{'loss': 0.2524, 'grad_norm': 3.2575294971466064, 'learning_rate': 2.336020851285893e-05, 'epoch': 11.0}\n"
     ]
    },
    {
     "data": {
      "application/vnd.jupyter.widget-view+json": {
       "model_id": "9123eff2229c443ba936c3b2eaf92777",
       "version_major": 2,
       "version_minor": 0
      },
      "text/plain": [
       "  0%|          | 0/108 [00:00<?, ?it/s]"
      ]
     },
     "metadata": {},
     "output_type": "display_data"
    },
    {
     "name": "stdout",
     "output_type": "stream",
     "text": [
      "{'eval_loss': 0.4016493558883667, 'eval_accuracy': 0.8148148148148148, 'eval_f1': 0.7727272727272727, 'eval_runtime': 1.5791, 'eval_samples_per_second': 68.392, 'eval_steps_per_second': 68.392, 'epoch': 11.0}\n",
      "{'loss': 0.2414, 'grad_norm': 0.6774728298187256, 'learning_rate': 2.076462978920794e-05, 'epoch': 12.0}\n"
     ]
    },
    {
     "data": {
      "application/vnd.jupyter.widget-view+json": {
       "model_id": "83c082f10c3c43368d4dd52656ca75c2",
       "version_major": 2,
       "version_minor": 0
      },
      "text/plain": [
       "  0%|          | 0/108 [00:00<?, ?it/s]"
      ]
     },
     "metadata": {},
     "output_type": "display_data"
    },
    {
     "name": "stdout",
     "output_type": "stream",
     "text": [
      "{'eval_loss': 0.4064134955406189, 'eval_accuracy': 0.8240740740740741, 'eval_f1': 0.7764705882352941, 'eval_runtime': 1.5483, 'eval_samples_per_second': 69.755, 'eval_steps_per_second': 69.755, 'epoch': 12.0}\n",
      "{'loss': 0.2339, 'grad_norm': 1.4407923221588135, 'learning_rate': 1.8169051065556946e-05, 'epoch': 13.0}\n"
     ]
    },
    {
     "data": {
      "application/vnd.jupyter.widget-view+json": {
       "model_id": "48d5e7bb14ff4301a3b0e570eccdd3eb",
       "version_major": 2,
       "version_minor": 0
      },
      "text/plain": [
       "  0%|          | 0/108 [00:00<?, ?it/s]"
      ]
     },
     "metadata": {},
     "output_type": "display_data"
    },
    {
     "name": "stdout",
     "output_type": "stream",
     "text": [
      "{'eval_loss': 0.4153819680213928, 'eval_accuracy': 0.8055555555555556, 'eval_f1': 0.7692307692307693, 'eval_runtime': 1.6128, 'eval_samples_per_second': 66.966, 'eval_steps_per_second': 66.966, 'epoch': 13.0}\n",
      "{'loss': 0.2313, 'grad_norm': 3.703368902206421, 'learning_rate': 1.5573472341905953e-05, 'epoch': 14.0}\n"
     ]
    },
    {
     "data": {
      "application/vnd.jupyter.widget-view+json": {
       "model_id": "ebaa56767d35482d96ae76619a6bcc32",
       "version_major": 2,
       "version_minor": 0
      },
      "text/plain": [
       "  0%|          | 0/108 [00:00<?, ?it/s]"
      ]
     },
     "metadata": {},
     "output_type": "display_data"
    },
    {
     "name": "stdout",
     "output_type": "stream",
     "text": [
      "{'eval_loss': 0.4326992332935333, 'eval_accuracy': 0.8518518518518519, 'eval_f1': 0.8, 'eval_runtime': 1.5382, 'eval_samples_per_second': 70.213, 'eval_steps_per_second': 70.213, 'epoch': 14.0}\n",
      "{'loss': 0.2583, 'grad_norm': 3.3059895038604736, 'learning_rate': 1.2977893618254961e-05, 'epoch': 15.0}\n"
     ]
    },
    {
     "data": {
      "application/vnd.jupyter.widget-view+json": {
       "model_id": "020843dd2a6643109bdfbbee1ec8426d",
       "version_major": 2,
       "version_minor": 0
      },
      "text/plain": [
       "  0%|          | 0/108 [00:00<?, ?it/s]"
      ]
     },
     "metadata": {},
     "output_type": "display_data"
    },
    {
     "name": "stdout",
     "output_type": "stream",
     "text": [
      "{'eval_loss': 0.419562965631485, 'eval_accuracy': 0.8425925925925926, 'eval_f1': 0.7951807228915663, 'eval_runtime': 1.5148, 'eval_samples_per_second': 71.296, 'eval_steps_per_second': 71.296, 'epoch': 15.0}\n",
      "{'loss': 0.1902, 'grad_norm': 2.676668643951416, 'learning_rate': 1.038231489460397e-05, 'epoch': 16.0}\n"
     ]
    },
    {
     "data": {
      "application/vnd.jupyter.widget-view+json": {
       "model_id": "b74dc1ef20ad43d38c94d475c6108039",
       "version_major": 2,
       "version_minor": 0
      },
      "text/plain": [
       "  0%|          | 0/108 [00:00<?, ?it/s]"
      ]
     },
     "metadata": {},
     "output_type": "display_data"
    },
    {
     "name": "stdout",
     "output_type": "stream",
     "text": [
      "{'eval_loss': 0.4283134639263153, 'eval_accuracy': 0.8518518518518519, 'eval_f1': 0.8048780487804879, 'eval_runtime': 1.5469, 'eval_samples_per_second': 69.818, 'eval_steps_per_second': 69.818, 'epoch': 16.0}\n",
      "{'loss': 0.2405, 'grad_norm': 2.3443617820739746, 'learning_rate': 7.786736170952976e-06, 'epoch': 17.0}\n"
     ]
    },
    {
     "data": {
      "application/vnd.jupyter.widget-view+json": {
       "model_id": "20815e010b83454ca3a45900721c1327",
       "version_major": 2,
       "version_minor": 0
      },
      "text/plain": [
       "  0%|          | 0/108 [00:00<?, ?it/s]"
      ]
     },
     "metadata": {},
     "output_type": "display_data"
    },
    {
     "name": "stdout",
     "output_type": "stream",
     "text": [
      "{'eval_loss': 0.4321509003639221, 'eval_accuracy': 0.8333333333333334, 'eval_f1': 0.7857142857142857, 'eval_runtime': 1.4953, 'eval_samples_per_second': 72.227, 'eval_steps_per_second': 72.227, 'epoch': 17.0}\n",
      "{'loss': 0.2009, 'grad_norm': 2.624833583831787, 'learning_rate': 5.191157447301985e-06, 'epoch': 18.0}\n"
     ]
    },
    {
     "data": {
      "application/vnd.jupyter.widget-view+json": {
       "model_id": "62f3edd376414a53a4a8cdf3e51c8b8b",
       "version_major": 2,
       "version_minor": 0
      },
      "text/plain": [
       "  0%|          | 0/108 [00:00<?, ?it/s]"
      ]
     },
     "metadata": {},
     "output_type": "display_data"
    },
    {
     "name": "stdout",
     "output_type": "stream",
     "text": [
      "{'eval_loss': 0.43022415041923523, 'eval_accuracy': 0.8518518518518519, 'eval_f1': 0.8, 'eval_runtime': 1.6104, 'eval_samples_per_second': 67.062, 'eval_steps_per_second': 67.062, 'epoch': 18.0}\n",
      "{'loss': 0.1835, 'grad_norm': 2.325795888900757, 'learning_rate': 2.5955787236509924e-06, 'epoch': 19.0}\n"
     ]
    },
    {
     "data": {
      "application/vnd.jupyter.widget-view+json": {
       "model_id": "ab8c96e6d9e74036b3861c93dca4ee54",
       "version_major": 2,
       "version_minor": 0
      },
      "text/plain": [
       "  0%|          | 0/108 [00:00<?, ?it/s]"
      ]
     },
     "metadata": {},
     "output_type": "display_data"
    },
    {
     "name": "stdout",
     "output_type": "stream",
     "text": [
      "{'eval_loss': 0.4396543800830841, 'eval_accuracy': 0.8333333333333334, 'eval_f1': 0.7692307692307693, 'eval_runtime': 1.5959, 'eval_samples_per_second': 67.673, 'eval_steps_per_second': 67.673, 'epoch': 19.0}\n",
      "{'loss': 0.1846, 'grad_norm': 2.1163840293884277, 'learning_rate': 0.0, 'epoch': 20.0}\n"
     ]
    },
    {
     "data": {
      "application/vnd.jupyter.widget-view+json": {
       "model_id": "8ac85b48026f47408c0b9d56b90be1f1",
       "version_major": 2,
       "version_minor": 0
      },
      "text/plain": [
       "  0%|          | 0/108 [00:00<?, ?it/s]"
      ]
     },
     "metadata": {},
     "output_type": "display_data"
    },
    {
     "name": "stdout",
     "output_type": "stream",
     "text": [
      "{'eval_loss': 0.42936187982559204, 'eval_accuracy': 0.8518518518518519, 'eval_f1': 0.8, 'eval_runtime': 2.9391, 'eval_samples_per_second': 36.746, 'eval_steps_per_second': 36.746, 'epoch': 20.0}\n"
     ]
    },
    {
     "name": "stderr",
     "output_type": "stream",
     "text": [
      "[I 2024-07-22 19:23:50,466] Trial 11 finished with value: 0.8 and parameters: {'learning_rate': 5.1911574473019846e-05, 'per_device_train_batch_size': 32, 'weight_decay': 0}. Best is trial 3 with value: 0.8.\n"
     ]
    },
    {
     "name": "stdout",
     "output_type": "stream",
     "text": [
      "{'train_runtime': 427.5278, 'train_samples_per_second': 28.396, 'train_steps_per_second': 0.889, 'train_loss': 0.2965249193342108, 'epoch': 20.0}\n"
     ]
    },
    {
     "name": "stderr",
     "output_type": "stream",
     "text": [
      "Some weights of ViTForImageClassification were not initialized from the model checkpoint at google/vit-base-patch16-224-in21k and are newly initialized: ['classifier.bias', 'classifier.weight']\n",
      "You should probably TRAIN this model on a down-stream task to be able to use it for predictions and inference.\n"
     ]
    },
    {
     "data": {
      "application/vnd.jupyter.widget-view+json": {
       "model_id": "d67b0f5754f340b79e0058693dd838f4",
       "version_major": 2,
       "version_minor": 0
      },
      "text/plain": [
       "  0%|          | 0/760 [00:00<?, ?it/s]"
      ]
     },
     "metadata": {},
     "output_type": "display_data"
    },
    {
     "name": "stdout",
     "output_type": "stream",
     "text": [
      "{'loss': 0.6406, 'grad_norm': 1.6492564678192139, 'learning_rate': 1.419936589533917e-05, 'epoch': 1.0}\n"
     ]
    },
    {
     "data": {
      "application/vnd.jupyter.widget-view+json": {
       "model_id": "39e5877fc7fe41e69133c7b4771f0cb9",
       "version_major": 2,
       "version_minor": 0
      },
      "text/plain": [
       "  0%|          | 0/108 [00:00<?, ?it/s]"
      ]
     },
     "metadata": {},
     "output_type": "display_data"
    },
    {
     "name": "stderr",
     "output_type": "stream",
     "text": [
      "[I 2024-07-22 19:24:24,421] Trial 12 pruned. \n"
     ]
    },
    {
     "name": "stdout",
     "output_type": "stream",
     "text": [
      "{'eval_loss': 0.6324167847633362, 'eval_accuracy': 0.6018518518518519, 'eval_f1': 0.0851063829787234, 'eval_runtime': 3.0247, 'eval_samples_per_second': 35.706, 'eval_steps_per_second': 35.706, 'epoch': 1.0}\n"
     ]
    },
    {
     "name": "stderr",
     "output_type": "stream",
     "text": [
      "Some weights of ViTForImageClassification were not initialized from the model checkpoint at google/vit-base-patch16-224-in21k and are newly initialized: ['classifier.bias', 'classifier.weight']\n",
      "You should probably TRAIN this model on a down-stream task to be able to use it for predictions and inference.\n"
     ]
    },
    {
     "data": {
      "application/vnd.jupyter.widget-view+json": {
       "model_id": "eda10dc6b8ae49eb9a2dffbdbb3dfb8d",
       "version_major": 2,
       "version_minor": 0
      },
      "text/plain": [
       "  0%|          | 0/1520 [00:00<?, ?it/s]"
      ]
     },
     "metadata": {},
     "output_type": "display_data"
    },
    {
     "name": "stdout",
     "output_type": "stream",
     "text": [
      "{'loss': 0.6409, 'grad_norm': 1.7987300157546997, 'learning_rate': 0.00015786132872382927, 'epoch': 1.0}\n"
     ]
    },
    {
     "data": {
      "application/vnd.jupyter.widget-view+json": {
       "model_id": "414e9ac4217f47b3bbb72a56778ef8b3",
       "version_major": 2,
       "version_minor": 0
      },
      "text/plain": [
       "  0%|          | 0/108 [00:00<?, ?it/s]"
      ]
     },
     "metadata": {},
     "output_type": "display_data"
    },
    {
     "name": "stdout",
     "output_type": "stream",
     "text": [
      "{'eval_loss': 0.7808815836906433, 'eval_accuracy': 0.5185185185185185, 'eval_f1': 0.6338028169014085, 'eval_runtime': 2.6827, 'eval_samples_per_second': 40.258, 'eval_steps_per_second': 40.258, 'epoch': 1.0}\n",
      "{'loss': 0.629, 'grad_norm': 1.5733555555343628, 'learning_rate': 0.00014955283773836458, 'epoch': 2.0}\n"
     ]
    },
    {
     "data": {
      "application/vnd.jupyter.widget-view+json": {
       "model_id": "030e3e62b5114d7fa153444c428c832f",
       "version_major": 2,
       "version_minor": 0
      },
      "text/plain": [
       "  0%|          | 0/108 [00:00<?, ?it/s]"
      ]
     },
     "metadata": {},
     "output_type": "display_data"
    },
    {
     "name": "stderr",
     "output_type": "stream",
     "text": [
      "[I 2024-07-22 19:25:31,639] Trial 13 pruned. \n"
     ]
    },
    {
     "name": "stdout",
     "output_type": "stream",
     "text": [
      "{'eval_loss': 0.593829870223999, 'eval_accuracy': 0.7129629629629629, 'eval_f1': 0.7304347826086957, 'eval_runtime': 2.7252, 'eval_samples_per_second': 39.63, 'eval_steps_per_second': 39.63, 'epoch': 2.0}\n"
     ]
    },
    {
     "name": "stderr",
     "output_type": "stream",
     "text": [
      "Some weights of ViTForImageClassification were not initialized from the model checkpoint at google/vit-base-patch16-224-in21k and are newly initialized: ['classifier.bias', 'classifier.weight']\n",
      "You should probably TRAIN this model on a down-stream task to be able to use it for predictions and inference.\n"
     ]
    },
    {
     "data": {
      "application/vnd.jupyter.widget-view+json": {
       "model_id": "2c9bf1ddcb06430cbc74da7864413717",
       "version_major": 2,
       "version_minor": 0
      },
      "text/plain": [
       "  0%|          | 0/380 [00:00<?, ?it/s]"
      ]
     },
     "metadata": {},
     "output_type": "display_data"
    },
    {
     "name": "stdout",
     "output_type": "stream",
     "text": [
      "{'loss': 0.6528, 'grad_norm': 1.1451750993728638, 'learning_rate': 1.265824070699361e-05, 'epoch': 1.0}\n"
     ]
    },
    {
     "data": {
      "application/vnd.jupyter.widget-view+json": {
       "model_id": "c215284fdb3d434b9dc00712c2fe9f6f",
       "version_major": 2,
       "version_minor": 0
      },
      "text/plain": [
       "  0%|          | 0/108 [00:00<?, ?it/s]"
      ]
     },
     "metadata": {},
     "output_type": "display_data"
    },
    {
     "name": "stderr",
     "output_type": "stream",
     "text": [
      "[I 2024-07-22 19:25:58,938] Trial 14 pruned. \n"
     ]
    },
    {
     "name": "stdout",
     "output_type": "stream",
     "text": [
      "{'eval_loss': 0.651501476764679, 'eval_accuracy': 0.5833333333333334, 'eval_f1': 0.0, 'eval_runtime': 2.6124, 'eval_samples_per_second': 41.341, 'eval_steps_per_second': 41.341, 'epoch': 1.0}\n"
     ]
    },
    {
     "name": "stderr",
     "output_type": "stream",
     "text": [
      "Some weights of ViTForImageClassification were not initialized from the model checkpoint at google/vit-base-patch16-224-in21k and are newly initialized: ['classifier.bias', 'classifier.weight']\n",
      "You should probably TRAIN this model on a down-stream task to be able to use it for predictions and inference.\n"
     ]
    },
    {
     "data": {
      "application/vnd.jupyter.widget-view+json": {
       "model_id": "15ccd11020db4c94a9b3c6d748614195",
       "version_major": 2,
       "version_minor": 0
      },
      "text/plain": [
       "  0%|          | 0/760 [00:00<?, ?it/s]"
      ]
     },
     "metadata": {},
     "output_type": "display_data"
    },
    {
     "name": "stdout",
     "output_type": "stream",
     "text": [
      "{'loss': 0.573, 'grad_norm': 2.090183973312378, 'learning_rate': 7.97559413705037e-05, 'epoch': 1.0}\n"
     ]
    },
    {
     "data": {
      "application/vnd.jupyter.widget-view+json": {
       "model_id": "01a845be4c8d4e50977c6d0793f9a690",
       "version_major": 2,
       "version_minor": 0
      },
      "text/plain": [
       "  0%|          | 0/108 [00:00<?, ?it/s]"
      ]
     },
     "metadata": {},
     "output_type": "display_data"
    },
    {
     "name": "stderr",
     "output_type": "stream",
     "text": [
      "[I 2024-07-22 19:26:29,448] Trial 15 pruned. \n"
     ]
    },
    {
     "name": "stdout",
     "output_type": "stream",
     "text": [
      "{'eval_loss': 0.6655920743942261, 'eval_accuracy': 0.6759259259259259, 'eval_f1': 0.7154471544715447, 'eval_runtime': 2.68, 'eval_samples_per_second': 40.298, 'eval_steps_per_second': 40.298, 'epoch': 1.0}\n"
     ]
    },
    {
     "name": "stderr",
     "output_type": "stream",
     "text": [
      "Some weights of ViTForImageClassification were not initialized from the model checkpoint at google/vit-base-patch16-224-in21k and are newly initialized: ['classifier.bias', 'classifier.weight']\n",
      "You should probably TRAIN this model on a down-stream task to be able to use it for predictions and inference.\n"
     ]
    },
    {
     "data": {
      "application/vnd.jupyter.widget-view+json": {
       "model_id": "6f38a9724e2b4763a7ffa2b3658087ef",
       "version_major": 2,
       "version_minor": 0
      },
      "text/plain": [
       "  0%|          | 0/760 [00:00<?, ?it/s]"
      ]
     },
     "metadata": {},
     "output_type": "display_data"
    },
    {
     "name": "stdout",
     "output_type": "stream",
     "text": [
      "{'loss': 0.6626, 'grad_norm': 0.3365422487258911, 'learning_rate': 0.0002644161535580553, 'epoch': 1.0}\n"
     ]
    },
    {
     "data": {
      "application/vnd.jupyter.widget-view+json": {
       "model_id": "4eaff10d79424105a32b8e2221043b1e",
       "version_major": 2,
       "version_minor": 0
      },
      "text/plain": [
       "  0%|          | 0/108 [00:00<?, ?it/s]"
      ]
     },
     "metadata": {},
     "output_type": "display_data"
    },
    {
     "name": "stderr",
     "output_type": "stream",
     "text": [
      "[I 2024-07-22 19:27:00,592] Trial 16 pruned. \n"
     ]
    },
    {
     "name": "stdout",
     "output_type": "stream",
     "text": [
      "{'eval_loss': 0.6440316438674927, 'eval_accuracy': 0.5833333333333334, 'eval_f1': 0.0, 'eval_runtime': 2.6659, 'eval_samples_per_second': 40.512, 'eval_steps_per_second': 40.512, 'epoch': 1.0}\n"
     ]
    },
    {
     "name": "stderr",
     "output_type": "stream",
     "text": [
      "Some weights of ViTForImageClassification were not initialized from the model checkpoint at google/vit-base-patch16-224-in21k and are newly initialized: ['classifier.bias', 'classifier.weight']\n",
      "You should probably TRAIN this model on a down-stream task to be able to use it for predictions and inference.\n"
     ]
    },
    {
     "data": {
      "application/vnd.jupyter.widget-view+json": {
       "model_id": "683ab260f0c14114a7fe65abb85daac9",
       "version_major": 2,
       "version_minor": 0
      },
      "text/plain": [
       "  0%|          | 0/380 [00:00<?, ?it/s]"
      ]
     },
     "metadata": {},
     "output_type": "display_data"
    },
    {
     "name": "stdout",
     "output_type": "stream",
     "text": [
      "{'loss': 0.6248, 'grad_norm': 1.4312330484390259, 'learning_rate': 4.820096223364518e-05, 'epoch': 1.0}\n"
     ]
    },
    {
     "data": {
      "application/vnd.jupyter.widget-view+json": {
       "model_id": "5c6392f9f7a544918d71d739c7044cbc",
       "version_major": 2,
       "version_minor": 0
      },
      "text/plain": [
       "  0%|          | 0/108 [00:00<?, ?it/s]"
      ]
     },
     "metadata": {},
     "output_type": "display_data"
    },
    {
     "name": "stdout",
     "output_type": "stream",
     "text": [
      "{'eval_loss': 0.5717977285385132, 'eval_accuracy': 0.8055555555555556, 'eval_f1': 0.7789473684210526, 'eval_runtime': 2.6541, 'eval_samples_per_second': 40.692, 'eval_steps_per_second': 40.692, 'epoch': 1.0}\n",
      "{'loss': 0.4996, 'grad_norm': 1.3376221656799316, 'learning_rate': 4.566406948450596e-05, 'epoch': 2.0}\n"
     ]
    },
    {
     "data": {
      "application/vnd.jupyter.widget-view+json": {
       "model_id": "f98678bd7d49469288bd5d259d320c64",
       "version_major": 2,
       "version_minor": 0
      },
      "text/plain": [
       "  0%|          | 0/108 [00:00<?, ?it/s]"
      ]
     },
     "metadata": {},
     "output_type": "display_data"
    },
    {
     "name": "stdout",
     "output_type": "stream",
     "text": [
      "{'eval_loss': 0.4536716341972351, 'eval_accuracy': 0.7962962962962963, 'eval_f1': 0.7843137254901961, 'eval_runtime': 2.6991, 'eval_samples_per_second': 40.014, 'eval_steps_per_second': 40.014, 'epoch': 2.0}\n",
      "{'loss': 0.3967, 'grad_norm': 1.621895670890808, 'learning_rate': 4.312717673536674e-05, 'epoch': 3.0}\n"
     ]
    },
    {
     "data": {
      "application/vnd.jupyter.widget-view+json": {
       "model_id": "bbfcde70789c43bfb93e9c72993e3772",
       "version_major": 2,
       "version_minor": 0
      },
      "text/plain": [
       "  0%|          | 0/108 [00:00<?, ?it/s]"
      ]
     },
     "metadata": {},
     "output_type": "display_data"
    },
    {
     "name": "stdout",
     "output_type": "stream",
     "text": [
      "{'eval_loss': 0.4467668831348419, 'eval_accuracy': 0.8240740740740741, 'eval_f1': 0.7764705882352941, 'eval_runtime': 2.7295, 'eval_samples_per_second': 39.568, 'eval_steps_per_second': 39.568, 'epoch': 3.0}\n",
      "{'loss': 0.3726, 'grad_norm': 3.167464256286621, 'learning_rate': 4.059028398622752e-05, 'epoch': 4.0}\n"
     ]
    },
    {
     "data": {
      "application/vnd.jupyter.widget-view+json": {
       "model_id": "07f9ff18f9a2498b92fcc56eb1185e39",
       "version_major": 2,
       "version_minor": 0
      },
      "text/plain": [
       "  0%|          | 0/108 [00:00<?, ?it/s]"
      ]
     },
     "metadata": {},
     "output_type": "display_data"
    },
    {
     "name": "stdout",
     "output_type": "stream",
     "text": [
      "{'eval_loss': 0.4903717637062073, 'eval_accuracy': 0.75, 'eval_f1': 0.7476635514018691, 'eval_runtime': 2.7199, 'eval_samples_per_second': 39.707, 'eval_steps_per_second': 39.707, 'epoch': 4.0}\n",
      "{'loss': 0.3526, 'grad_norm': 2.128338575363159, 'learning_rate': 3.8053391237088296e-05, 'epoch': 5.0}\n"
     ]
    },
    {
     "data": {
      "application/vnd.jupyter.widget-view+json": {
       "model_id": "0ddd5631a9234c2aa528c6375ae32766",
       "version_major": 2,
       "version_minor": 0
      },
      "text/plain": [
       "  0%|          | 0/108 [00:00<?, ?it/s]"
      ]
     },
     "metadata": {},
     "output_type": "display_data"
    },
    {
     "name": "stdout",
     "output_type": "stream",
     "text": [
      "{'eval_loss': 0.41907674074172974, 'eval_accuracy': 0.8148148148148148, 'eval_f1': 0.7727272727272727, 'eval_runtime': 2.9936, 'eval_samples_per_second': 36.077, 'eval_steps_per_second': 36.077, 'epoch': 5.0}\n",
      "{'loss': 0.3378, 'grad_norm': 3.2008635997772217, 'learning_rate': 3.5516498487949076e-05, 'epoch': 6.0}\n"
     ]
    },
    {
     "data": {
      "application/vnd.jupyter.widget-view+json": {
       "model_id": "b36cb69612db4504ab7e56f831f2a59b",
       "version_major": 2,
       "version_minor": 0
      },
      "text/plain": [
       "  0%|          | 0/108 [00:00<?, ?it/s]"
      ]
     },
     "metadata": {},
     "output_type": "display_data"
    },
    {
     "name": "stdout",
     "output_type": "stream",
     "text": [
      "{'eval_loss': 0.44276559352874756, 'eval_accuracy': 0.8333333333333334, 'eval_f1': 0.775, 'eval_runtime': 7.1048, 'eval_samples_per_second': 15.201, 'eval_steps_per_second': 15.201, 'epoch': 6.0}\n",
      "{'loss': 0.3116, 'grad_norm': 2.0900981426239014, 'learning_rate': 3.297960573880986e-05, 'epoch': 7.0}\n"
     ]
    },
    {
     "data": {
      "application/vnd.jupyter.widget-view+json": {
       "model_id": "1fa85c6d355a46948e635369f30ba860",
       "version_major": 2,
       "version_minor": 0
      },
      "text/plain": [
       "  0%|          | 0/108 [00:00<?, ?it/s]"
      ]
     },
     "metadata": {},
     "output_type": "display_data"
    },
    {
     "name": "stdout",
     "output_type": "stream",
     "text": [
      "{'eval_loss': 0.432114839553833, 'eval_accuracy': 0.8425925925925926, 'eval_f1': 0.7901234567901234, 'eval_runtime': 2.5255, 'eval_samples_per_second': 42.765, 'eval_steps_per_second': 42.765, 'epoch': 7.0}\n",
      "{'loss': 0.2797, 'grad_norm': 3.856515645980835, 'learning_rate': 3.0442712989670638e-05, 'epoch': 8.0}\n"
     ]
    },
    {
     "data": {
      "application/vnd.jupyter.widget-view+json": {
       "model_id": "9f03fc156f4c4497ac1ae759b044c41e",
       "version_major": 2,
       "version_minor": 0
      },
      "text/plain": [
       "  0%|          | 0/108 [00:00<?, ?it/s]"
      ]
     },
     "metadata": {},
     "output_type": "display_data"
    },
    {
     "name": "stdout",
     "output_type": "stream",
     "text": [
      "{'eval_loss': 0.41148641705513, 'eval_accuracy': 0.8425925925925926, 'eval_f1': 0.7951807228915663, 'eval_runtime': 3.4344, 'eval_samples_per_second': 31.446, 'eval_steps_per_second': 31.446, 'epoch': 8.0}\n",
      "{'loss': 0.2745, 'grad_norm': 2.641385078430176, 'learning_rate': 2.7905820240531422e-05, 'epoch': 9.0}\n"
     ]
    },
    {
     "data": {
      "application/vnd.jupyter.widget-view+json": {
       "model_id": "5f1110f096d049b69fd37106d7d75cb9",
       "version_major": 2,
       "version_minor": 0
      },
      "text/plain": [
       "  0%|          | 0/108 [00:00<?, ?it/s]"
      ]
     },
     "metadata": {},
     "output_type": "display_data"
    },
    {
     "name": "stdout",
     "output_type": "stream",
     "text": [
      "{'eval_loss': 0.41695594787597656, 'eval_accuracy': 0.8611111111111112, 'eval_f1': 0.8192771084337349, 'eval_runtime': 3.6122, 'eval_samples_per_second': 29.899, 'eval_steps_per_second': 29.899, 'epoch': 9.0}\n",
      "{'loss': 0.2724, 'grad_norm': 1.418081521987915, 'learning_rate': 2.53689274913922e-05, 'epoch': 10.0}\n"
     ]
    },
    {
     "data": {
      "application/vnd.jupyter.widget-view+json": {
       "model_id": "548ffa5f0dad47e4a2bf8603b12954ce",
       "version_major": 2,
       "version_minor": 0
      },
      "text/plain": [
       "  0%|          | 0/108 [00:00<?, ?it/s]"
      ]
     },
     "metadata": {},
     "output_type": "display_data"
    },
    {
     "name": "stdout",
     "output_type": "stream",
     "text": [
      "{'eval_loss': 0.43564319610595703, 'eval_accuracy': 0.8240740740740741, 'eval_f1': 0.759493670886076, 'eval_runtime': 4.1766, 'eval_samples_per_second': 25.858, 'eval_steps_per_second': 25.858, 'epoch': 10.0}\n",
      "{'loss': 0.2468, 'grad_norm': 3.393155097961426, 'learning_rate': 2.283203474225298e-05, 'epoch': 11.0}\n"
     ]
    },
    {
     "data": {
      "application/vnd.jupyter.widget-view+json": {
       "model_id": "8d9804d0744741e5a5f9e6944cb37a91",
       "version_major": 2,
       "version_minor": 0
      },
      "text/plain": [
       "  0%|          | 0/108 [00:00<?, ?it/s]"
      ]
     },
     "metadata": {},
     "output_type": "display_data"
    },
    {
     "name": "stdout",
     "output_type": "stream",
     "text": [
      "{'eval_loss': 0.4100751578807831, 'eval_accuracy': 0.8518518518518519, 'eval_f1': 0.8095238095238095, 'eval_runtime': 3.643, 'eval_samples_per_second': 29.646, 'eval_steps_per_second': 29.646, 'epoch': 11.0}\n",
      "{'loss': 0.2415, 'grad_norm': 1.0580753087997437, 'learning_rate': 2.029514199311376e-05, 'epoch': 12.0}\n"
     ]
    },
    {
     "data": {
      "application/vnd.jupyter.widget-view+json": {
       "model_id": "ac1320af98cf404880765db33ebe9778",
       "version_major": 2,
       "version_minor": 0
      },
      "text/plain": [
       "  0%|          | 0/108 [00:00<?, ?it/s]"
      ]
     },
     "metadata": {},
     "output_type": "display_data"
    },
    {
     "name": "stdout",
     "output_type": "stream",
     "text": [
      "{'eval_loss': 0.43637579679489136, 'eval_accuracy': 0.8425925925925926, 'eval_f1': 0.7848101265822784, 'eval_runtime': 3.894, 'eval_samples_per_second': 27.735, 'eval_steps_per_second': 27.735, 'epoch': 12.0}\n",
      "{'loss': 0.2381, 'grad_norm': 2.8446133136749268, 'learning_rate': 1.7758249243974538e-05, 'epoch': 13.0}\n"
     ]
    },
    {
     "data": {
      "application/vnd.jupyter.widget-view+json": {
       "model_id": "2182b475f4e64a2ba63eda9e1fcac499",
       "version_major": 2,
       "version_minor": 0
      },
      "text/plain": [
       "  0%|          | 0/108 [00:00<?, ?it/s]"
      ]
     },
     "metadata": {},
     "output_type": "display_data"
    },
    {
     "name": "stdout",
     "output_type": "stream",
     "text": [
      "{'eval_loss': 0.4196818768978119, 'eval_accuracy': 0.8425925925925926, 'eval_f1': 0.7901234567901234, 'eval_runtime': 3.8186, 'eval_samples_per_second': 28.282, 'eval_steps_per_second': 28.282, 'epoch': 13.0}\n",
      "{'loss': 0.2205, 'grad_norm': 3.275880813598633, 'learning_rate': 1.5221356494835319e-05, 'epoch': 14.0}\n"
     ]
    },
    {
     "data": {
      "application/vnd.jupyter.widget-view+json": {
       "model_id": "81dfce356f2543fb893300903f89995f",
       "version_major": 2,
       "version_minor": 0
      },
      "text/plain": [
       "  0%|          | 0/108 [00:00<?, ?it/s]"
      ]
     },
     "metadata": {},
     "output_type": "display_data"
    },
    {
     "name": "stdout",
     "output_type": "stream",
     "text": [
      "{'eval_loss': 0.4433077573776245, 'eval_accuracy': 0.8425925925925926, 'eval_f1': 0.7848101265822784, 'eval_runtime': 3.6962, 'eval_samples_per_second': 29.219, 'eval_steps_per_second': 29.219, 'epoch': 14.0}\n",
      "{'loss': 0.2273, 'grad_norm': 2.818911075592041, 'learning_rate': 1.26844637456961e-05, 'epoch': 15.0}\n"
     ]
    },
    {
     "data": {
      "application/vnd.jupyter.widget-view+json": {
       "model_id": "a44d1fc965434241a5146d8820cb2f3e",
       "version_major": 2,
       "version_minor": 0
      },
      "text/plain": [
       "  0%|          | 0/108 [00:00<?, ?it/s]"
      ]
     },
     "metadata": {},
     "output_type": "display_data"
    },
    {
     "name": "stdout",
     "output_type": "stream",
     "text": [
      "{'eval_loss': 0.46218812465667725, 'eval_accuracy': 0.8148148148148148, 'eval_f1': 0.7368421052631579, 'eval_runtime': 2.1514, 'eval_samples_per_second': 50.2, 'eval_steps_per_second': 50.2, 'epoch': 15.0}\n",
      "{'loss': 0.1969, 'grad_norm': 2.884983777999878, 'learning_rate': 1.014757099655688e-05, 'epoch': 16.0}\n"
     ]
    },
    {
     "data": {
      "application/vnd.jupyter.widget-view+json": {
       "model_id": "a311bdc5a6514e1d8676cf567f09755c",
       "version_major": 2,
       "version_minor": 0
      },
      "text/plain": [
       "  0%|          | 0/108 [00:00<?, ?it/s]"
      ]
     },
     "metadata": {},
     "output_type": "display_data"
    },
    {
     "name": "stdout",
     "output_type": "stream",
     "text": [
      "{'eval_loss': 0.4463660418987274, 'eval_accuracy': 0.8425925925925926, 'eval_f1': 0.7901234567901234, 'eval_runtime': 4.9974, 'eval_samples_per_second': 21.611, 'eval_steps_per_second': 21.611, 'epoch': 16.0}\n",
      "{'loss': 0.239, 'grad_norm': 2.9495344161987305, 'learning_rate': 7.6106782474176595e-06, 'epoch': 17.0}\n"
     ]
    },
    {
     "data": {
      "application/vnd.jupyter.widget-view+json": {
       "model_id": "eca2e1a451844882bc79f74488651bc3",
       "version_major": 2,
       "version_minor": 0
      },
      "text/plain": [
       "  0%|          | 0/108 [00:00<?, ?it/s]"
      ]
     },
     "metadata": {},
     "output_type": "display_data"
    },
    {
     "name": "stdout",
     "output_type": "stream",
     "text": [
      "{'eval_loss': 0.4382312297821045, 'eval_accuracy': 0.8148148148148148, 'eval_f1': 0.7619047619047619, 'eval_runtime': 5.8163, 'eval_samples_per_second': 18.568, 'eval_steps_per_second': 18.568, 'epoch': 17.0}\n",
      "{'loss': 0.2092, 'grad_norm': 2.8963677883148193, 'learning_rate': 5.07378549827844e-06, 'epoch': 18.0}\n"
     ]
    },
    {
     "data": {
      "application/vnd.jupyter.widget-view+json": {
       "model_id": "86eec8723f5a4a21a33eb83b8108fc20",
       "version_major": 2,
       "version_minor": 0
      },
      "text/plain": [
       "  0%|          | 0/108 [00:00<?, ?it/s]"
      ]
     },
     "metadata": {},
     "output_type": "display_data"
    },
    {
     "name": "stdout",
     "output_type": "stream",
     "text": [
      "{'eval_loss': 0.4390203058719635, 'eval_accuracy': 0.8333333333333334, 'eval_f1': 0.775, 'eval_runtime': 3.5989, 'eval_samples_per_second': 30.009, 'eval_steps_per_second': 30.009, 'epoch': 18.0}\n",
      "{'loss': 0.1831, 'grad_norm': 3.232649326324463, 'learning_rate': 2.53689274913922e-06, 'epoch': 19.0}\n"
     ]
    },
    {
     "data": {
      "application/vnd.jupyter.widget-view+json": {
       "model_id": "d116bcd850d94ff483c2daf127cbb38d",
       "version_major": 2,
       "version_minor": 0
      },
      "text/plain": [
       "  0%|          | 0/108 [00:00<?, ?it/s]"
      ]
     },
     "metadata": {},
     "output_type": "display_data"
    },
    {
     "name": "stdout",
     "output_type": "stream",
     "text": [
      "{'eval_loss': 0.44949662685394287, 'eval_accuracy': 0.8425925925925926, 'eval_f1': 0.7848101265822784, 'eval_runtime': 3.5685, 'eval_samples_per_second': 30.265, 'eval_steps_per_second': 30.265, 'epoch': 19.0}\n",
      "{'loss': 0.1885, 'grad_norm': 2.213038921356201, 'learning_rate': 0.0, 'epoch': 20.0}\n"
     ]
    },
    {
     "data": {
      "application/vnd.jupyter.widget-view+json": {
       "model_id": "db36d186128843abafdc8e98d25ce66c",
       "version_major": 2,
       "version_minor": 0
      },
      "text/plain": [
       "  0%|          | 0/108 [00:00<?, ?it/s]"
      ]
     },
     "metadata": {},
     "output_type": "display_data"
    },
    {
     "name": "stdout",
     "output_type": "stream",
     "text": [
      "{'eval_loss': 0.44160324335098267, 'eval_accuracy': 0.8425925925925926, 'eval_f1': 0.7848101265822784, 'eval_runtime': 2.1085, 'eval_samples_per_second': 51.221, 'eval_steps_per_second': 51.221, 'epoch': 20.0}\n"
     ]
    },
    {
     "name": "stderr",
     "output_type": "stream",
     "text": [
      "[I 2024-07-22 20:34:49,530] Trial 17 finished with value: 0.7848101265822784 and parameters: {'learning_rate': 5.07378549827844e-05, 'per_device_train_batch_size': 32, 'weight_decay': 0}. Best is trial 3 with value: 0.8.\n"
     ]
    },
    {
     "name": "stdout",
     "output_type": "stream",
     "text": [
      "{'train_runtime': 4068.2215, 'train_samples_per_second': 2.984, 'train_steps_per_second': 0.093, 'train_loss': 0.29565282620881733, 'epoch': 20.0}\n"
     ]
    },
    {
     "name": "stderr",
     "output_type": "stream",
     "text": [
      "Some weights of ViTForImageClassification were not initialized from the model checkpoint at google/vit-base-patch16-224-in21k and are newly initialized: ['classifier.bias', 'classifier.weight']\n",
      "You should probably TRAIN this model on a down-stream task to be able to use it for predictions and inference.\n"
     ]
    },
    {
     "data": {
      "application/vnd.jupyter.widget-view+json": {
       "model_id": "89b14ac5f3904e0080c6d1d9863ec4fd",
       "version_major": 2,
       "version_minor": 0
      },
      "text/plain": [
       "  0%|          | 0/1520 [00:00<?, ?it/s]"
      ]
     },
     "metadata": {},
     "output_type": "display_data"
    },
    {
     "name": "stdout",
     "output_type": "stream",
     "text": [
      "{'loss': 0.6321, 'grad_norm': 3.936964988708496, 'learning_rate': 1.168680561691187e-05, 'epoch': 1.0}\n"
     ]
    },
    {
     "data": {
      "application/vnd.jupyter.widget-view+json": {
       "model_id": "31d0c303fd1f4eaeaccc7c44032c1116",
       "version_major": 2,
       "version_minor": 0
      },
      "text/plain": [
       "  0%|          | 0/108 [00:00<?, ?it/s]"
      ]
     },
     "metadata": {},
     "output_type": "display_data"
    },
    {
     "name": "stderr",
     "output_type": "stream",
     "text": [
      "[I 2024-07-22 20:35:14,487] Trial 18 pruned. \n"
     ]
    },
    {
     "name": "stdout",
     "output_type": "stream",
     "text": [
      "{'eval_loss': 0.6136704087257385, 'eval_accuracy': 0.7129629629629629, 'eval_f1': 0.5230769230769231, 'eval_runtime': 2.0427, 'eval_samples_per_second': 52.87, 'eval_steps_per_second': 52.87, 'epoch': 1.0}\n"
     ]
    },
    {
     "name": "stderr",
     "output_type": "stream",
     "text": [
      "Some weights of ViTForImageClassification were not initialized from the model checkpoint at google/vit-base-patch16-224-in21k and are newly initialized: ['classifier.bias', 'classifier.weight']\n",
      "You should probably TRAIN this model on a down-stream task to be able to use it for predictions and inference.\n"
     ]
    },
    {
     "data": {
      "application/vnd.jupyter.widget-view+json": {
       "model_id": "38df1029d2cf4180afb75bf75f70b5f4",
       "version_major": 2,
       "version_minor": 0
      },
      "text/plain": [
       "  0%|          | 0/760 [00:00<?, ?it/s]"
      ]
     },
     "metadata": {},
     "output_type": "display_data"
    },
    {
     "name": "stdout",
     "output_type": "stream",
     "text": [
      "{'loss': 0.5759, 'grad_norm': 1.6118379831314087, 'learning_rate': 0.00011813751477591411, 'epoch': 1.0}\n"
     ]
    },
    {
     "data": {
      "application/vnd.jupyter.widget-view+json": {
       "model_id": "6865f8c5225046bcb734abf8313753dc",
       "version_major": 2,
       "version_minor": 0
      },
      "text/plain": [
       "  0%|          | 0/108 [00:00<?, ?it/s]"
      ]
     },
     "metadata": {},
     "output_type": "display_data"
    },
    {
     "name": "stderr",
     "output_type": "stream",
     "text": [
      "[I 2024-07-22 20:35:36,268] Trial 19 pruned. \n"
     ]
    },
    {
     "name": "stdout",
     "output_type": "stream",
     "text": [
      "{'eval_loss': 0.6112065315246582, 'eval_accuracy': 0.6851851851851852, 'eval_f1': 0.6730769230769231, 'eval_runtime': 1.8026, 'eval_samples_per_second': 59.913, 'eval_steps_per_second': 59.913, 'epoch': 1.0}\n"
     ]
    },
    {
     "name": "stderr",
     "output_type": "stream",
     "text": [
      "Some weights of ViTForImageClassification were not initialized from the model checkpoint at google/vit-base-patch16-224-in21k and are newly initialized: ['classifier.bias', 'classifier.weight']\n",
      "You should probably TRAIN this model on a down-stream task to be able to use it for predictions and inference.\n"
     ]
    },
    {
     "data": {
      "application/vnd.jupyter.widget-view+json": {
       "model_id": "6e9a99280ea94d8a802aad3dc7e07aac",
       "version_major": 2,
       "version_minor": 0
      },
      "text/plain": [
       "  0%|          | 0/380 [00:00<?, ?it/s]"
      ]
     },
     "metadata": {},
     "output_type": "display_data"
    },
    {
     "name": "stdout",
     "output_type": "stream",
     "text": [
      "{'loss': 0.6387, 'grad_norm': 1.0342384576797485, 'learning_rate': 3.143573566110602e-05, 'epoch': 1.0}\n"
     ]
    },
    {
     "data": {
      "application/vnd.jupyter.widget-view+json": {
       "model_id": "8e541d94f9b54fa0b2849bd47376c0f7",
       "version_major": 2,
       "version_minor": 0
      },
      "text/plain": [
       "  0%|          | 0/108 [00:00<?, ?it/s]"
      ]
     },
     "metadata": {},
     "output_type": "display_data"
    },
    {
     "name": "stderr",
     "output_type": "stream",
     "text": [
      "[I 2024-07-22 20:35:57,344] Trial 20 pruned. \n"
     ]
    },
    {
     "name": "stdout",
     "output_type": "stream",
     "text": [
      "{'eval_loss': 0.6138800382614136, 'eval_accuracy': 0.7129629629629629, 'eval_f1': 0.5373134328358209, 'eval_runtime': 1.9377, 'eval_samples_per_second': 55.737, 'eval_steps_per_second': 55.737, 'epoch': 1.0}\n"
     ]
    },
    {
     "name": "stderr",
     "output_type": "stream",
     "text": [
      "Some weights of ViTForImageClassification were not initialized from the model checkpoint at google/vit-base-patch16-224-in21k and are newly initialized: ['classifier.bias', 'classifier.weight']\n",
      "You should probably TRAIN this model on a down-stream task to be able to use it for predictions and inference.\n"
     ]
    },
    {
     "data": {
      "application/vnd.jupyter.widget-view+json": {
       "model_id": "503090ec00de46f4b1cc59e63c1fa4b8",
       "version_major": 2,
       "version_minor": 0
      },
      "text/plain": [
       "  0%|          | 0/380 [00:00<?, ?it/s]"
      ]
     },
     "metadata": {},
     "output_type": "display_data"
    },
    {
     "name": "stdout",
     "output_type": "stream",
     "text": [
      "{'loss': 0.6224, 'grad_norm': 1.6965137720108032, 'learning_rate': 5.034221390920438e-05, 'epoch': 1.0}\n"
     ]
    },
    {
     "data": {
      "application/vnd.jupyter.widget-view+json": {
       "model_id": "ba9e83ca026b4c5f9bb4a59c62712a7d",
       "version_major": 2,
       "version_minor": 0
      },
      "text/plain": [
       "  0%|          | 0/108 [00:00<?, ?it/s]"
      ]
     },
     "metadata": {},
     "output_type": "display_data"
    },
    {
     "name": "stdout",
     "output_type": "stream",
     "text": [
      "{'eval_loss': 0.5608298182487488, 'eval_accuracy': 0.7962962962962963, 'eval_f1': 0.7755102040816326, 'eval_runtime': 2.107, 'eval_samples_per_second': 51.259, 'eval_steps_per_second': 51.259, 'epoch': 1.0}\n",
      "{'loss': 0.5026, 'grad_norm': 1.5546398162841797, 'learning_rate': 4.769262370345679e-05, 'epoch': 2.0}\n"
     ]
    },
    {
     "data": {
      "application/vnd.jupyter.widget-view+json": {
       "model_id": "d9c7ffde54354bcb8973331a4565a9e6",
       "version_major": 2,
       "version_minor": 0
      },
      "text/plain": [
       "  0%|          | 0/108 [00:00<?, ?it/s]"
      ]
     },
     "metadata": {},
     "output_type": "display_data"
    },
    {
     "name": "stdout",
     "output_type": "stream",
     "text": [
      "{'eval_loss': 0.4535491466522217, 'eval_accuracy': 0.8055555555555556, 'eval_f1': 0.7961165048543689, 'eval_runtime': 2.0191, 'eval_samples_per_second': 53.489, 'eval_steps_per_second': 53.489, 'epoch': 2.0}\n",
      "{'loss': 0.3962, 'grad_norm': 1.7268047332763672, 'learning_rate': 4.5043033497709186e-05, 'epoch': 3.0}\n"
     ]
    },
    {
     "data": {
      "application/vnd.jupyter.widget-view+json": {
       "model_id": "84bb0206bd844ffb87bef0d422d32e99",
       "version_major": 2,
       "version_minor": 0
      },
      "text/plain": [
       "  0%|          | 0/108 [00:00<?, ?it/s]"
      ]
     },
     "metadata": {},
     "output_type": "display_data"
    },
    {
     "name": "stdout",
     "output_type": "stream",
     "text": [
      "{'eval_loss': 0.46349647641181946, 'eval_accuracy': 0.8055555555555556, 'eval_f1': 0.7407407407407407, 'eval_runtime': 1.9468, 'eval_samples_per_second': 55.476, 'eval_steps_per_second': 55.476, 'epoch': 3.0}\n",
      "{'loss': 0.3753, 'grad_norm': 3.5905911922454834, 'learning_rate': 4.2393443291961595e-05, 'epoch': 4.0}\n"
     ]
    },
    {
     "data": {
      "application/vnd.jupyter.widget-view+json": {
       "model_id": "d4a1fa47e99a44c6a8a03a42e9aaa129",
       "version_major": 2,
       "version_minor": 0
      },
      "text/plain": [
       "  0%|          | 0/108 [00:00<?, ?it/s]"
      ]
     },
     "metadata": {},
     "output_type": "display_data"
    },
    {
     "name": "stdout",
     "output_type": "stream",
     "text": [
      "{'eval_loss': 0.5023605823516846, 'eval_accuracy': 0.7592592592592593, 'eval_f1': 0.7592592592592593, 'eval_runtime': 1.8868, 'eval_samples_per_second': 57.239, 'eval_steps_per_second': 57.239, 'epoch': 4.0}\n",
      "{'loss': 0.3556, 'grad_norm': 1.9503350257873535, 'learning_rate': 3.974385308621399e-05, 'epoch': 5.0}\n"
     ]
    },
    {
     "data": {
      "application/vnd.jupyter.widget-view+json": {
       "model_id": "c1ab53f71456471386c4b1bb902aa97d",
       "version_major": 2,
       "version_minor": 0
      },
      "text/plain": [
       "  0%|          | 0/108 [00:00<?, ?it/s]"
      ]
     },
     "metadata": {},
     "output_type": "display_data"
    },
    {
     "name": "stdout",
     "output_type": "stream",
     "text": [
      "{'eval_loss': 0.42841988801956177, 'eval_accuracy': 0.8148148148148148, 'eval_f1': 0.7619047619047619, 'eval_runtime': 1.9231, 'eval_samples_per_second': 56.159, 'eval_steps_per_second': 56.159, 'epoch': 5.0}\n",
      "{'loss': 0.331, 'grad_norm': 3.102741241455078, 'learning_rate': 3.7094262880466386e-05, 'epoch': 6.0}\n"
     ]
    },
    {
     "data": {
      "application/vnd.jupyter.widget-view+json": {
       "model_id": "b53dec143eb5439aa4614c23cc681fd6",
       "version_major": 2,
       "version_minor": 0
      },
      "text/plain": [
       "  0%|          | 0/108 [00:00<?, ?it/s]"
      ]
     },
     "metadata": {},
     "output_type": "display_data"
    },
    {
     "name": "stdout",
     "output_type": "stream",
     "text": [
      "{'eval_loss': 0.4130479097366333, 'eval_accuracy': 0.8425925925925926, 'eval_f1': 0.8, 'eval_runtime': 1.888, 'eval_samples_per_second': 57.203, 'eval_steps_per_second': 57.203, 'epoch': 6.0}\n",
      "{'loss': 0.3053, 'grad_norm': 1.7875922918319702, 'learning_rate': 3.4444672674718794e-05, 'epoch': 7.0}\n"
     ]
    },
    {
     "data": {
      "application/vnd.jupyter.widget-view+json": {
       "model_id": "26c88a1f69324fbaaad8ccf25a75ced9",
       "version_major": 2,
       "version_minor": 0
      },
      "text/plain": [
       "  0%|          | 0/108 [00:00<?, ?it/s]"
      ]
     },
     "metadata": {},
     "output_type": "display_data"
    },
    {
     "name": "stdout",
     "output_type": "stream",
     "text": [
      "{'eval_loss': 0.4322858452796936, 'eval_accuracy': 0.8333333333333334, 'eval_f1': 0.7692307692307693, 'eval_runtime': 1.9276, 'eval_samples_per_second': 56.028, 'eval_steps_per_second': 56.028, 'epoch': 7.0}\n",
      "{'loss': 0.2772, 'grad_norm': 4.615385055541992, 'learning_rate': 3.179508246897119e-05, 'epoch': 8.0}\n"
     ]
    },
    {
     "data": {
      "application/vnd.jupyter.widget-view+json": {
       "model_id": "6e03467139be41a2a6db9bc051ee94d4",
       "version_major": 2,
       "version_minor": 0
      },
      "text/plain": [
       "  0%|          | 0/108 [00:00<?, ?it/s]"
      ]
     },
     "metadata": {},
     "output_type": "display_data"
    },
    {
     "name": "stdout",
     "output_type": "stream",
     "text": [
      "{'eval_loss': 0.3992272615432739, 'eval_accuracy': 0.8333333333333334, 'eval_f1': 0.7906976744186046, 'eval_runtime': 1.8581, 'eval_samples_per_second': 58.124, 'eval_steps_per_second': 58.124, 'epoch': 8.0}\n",
      "{'loss': 0.265, 'grad_norm': 2.641169786453247, 'learning_rate': 2.9145492263223595e-05, 'epoch': 9.0}\n"
     ]
    },
    {
     "data": {
      "application/vnd.jupyter.widget-view+json": {
       "model_id": "3df0236703ab4744a948e95be7f39166",
       "version_major": 2,
       "version_minor": 0
      },
      "text/plain": [
       "  0%|          | 0/108 [00:00<?, ?it/s]"
      ]
     },
     "metadata": {},
     "output_type": "display_data"
    },
    {
     "name": "stdout",
     "output_type": "stream",
     "text": [
      "{'eval_loss': 0.4143219292163849, 'eval_accuracy': 0.8425925925925926, 'eval_f1': 0.7901234567901234, 'eval_runtime': 1.8699, 'eval_samples_per_second': 57.756, 'eval_steps_per_second': 57.756, 'epoch': 9.0}\n",
      "{'loss': 0.2742, 'grad_norm': 1.5275226831436157, 'learning_rate': 2.6495902057475994e-05, 'epoch': 10.0}\n"
     ]
    },
    {
     "data": {
      "application/vnd.jupyter.widget-view+json": {
       "model_id": "c4433e63a1e148e6a4d21068ea45c09c",
       "version_major": 2,
       "version_minor": 0
      },
      "text/plain": [
       "  0%|          | 0/108 [00:00<?, ?it/s]"
      ]
     },
     "metadata": {},
     "output_type": "display_data"
    },
    {
     "name": "stdout",
     "output_type": "stream",
     "text": [
      "{'eval_loss': 0.43167826533317566, 'eval_accuracy': 0.8333333333333334, 'eval_f1': 0.7692307692307693, 'eval_runtime': 1.9217, 'eval_samples_per_second': 56.2, 'eval_steps_per_second': 56.2, 'epoch': 10.0}\n",
      "{'loss': 0.2483, 'grad_norm': 3.3491194248199463, 'learning_rate': 2.3846311851728396e-05, 'epoch': 11.0}\n"
     ]
    },
    {
     "data": {
      "application/vnd.jupyter.widget-view+json": {
       "model_id": "3a2aaaddc0da4e0793994a976d94dfcf",
       "version_major": 2,
       "version_minor": 0
      },
      "text/plain": [
       "  0%|          | 0/108 [00:00<?, ?it/s]"
      ]
     },
     "metadata": {},
     "output_type": "display_data"
    },
    {
     "name": "stdout",
     "output_type": "stream",
     "text": [
      "{'eval_loss': 0.39712050557136536, 'eval_accuracy': 0.8425925925925926, 'eval_f1': 0.8, 'eval_runtime': 1.8624, 'eval_samples_per_second': 57.989, 'eval_steps_per_second': 57.989, 'epoch': 11.0}\n",
      "{'loss': 0.2352, 'grad_norm': 0.6690291166305542, 'learning_rate': 2.1196721645980798e-05, 'epoch': 12.0}\n"
     ]
    },
    {
     "data": {
      "application/vnd.jupyter.widget-view+json": {
       "model_id": "416e3cc37b8245a4ad51793b16e919c5",
       "version_major": 2,
       "version_minor": 0
      },
      "text/plain": [
       "  0%|          | 0/108 [00:00<?, ?it/s]"
      ]
     },
     "metadata": {},
     "output_type": "display_data"
    },
    {
     "name": "stdout",
     "output_type": "stream",
     "text": [
      "{'eval_loss': 0.4086383581161499, 'eval_accuracy': 0.8333333333333334, 'eval_f1': 0.7804878048780488, 'eval_runtime': 1.8899, 'eval_samples_per_second': 57.146, 'eval_steps_per_second': 57.146, 'epoch': 12.0}\n",
      "{'loss': 0.2363, 'grad_norm': 2.440214157104492, 'learning_rate': 1.8547131440233193e-05, 'epoch': 13.0}\n"
     ]
    },
    {
     "data": {
      "application/vnd.jupyter.widget-view+json": {
       "model_id": "9bd099a976514e9e9fcf5805d5849c93",
       "version_major": 2,
       "version_minor": 0
      },
      "text/plain": [
       "  0%|          | 0/108 [00:00<?, ?it/s]"
      ]
     },
     "metadata": {},
     "output_type": "display_data"
    },
    {
     "name": "stdout",
     "output_type": "stream",
     "text": [
      "{'eval_loss': 0.409506231546402, 'eval_accuracy': 0.8425925925925926, 'eval_f1': 0.7901234567901234, 'eval_runtime': 1.8797, 'eval_samples_per_second': 57.455, 'eval_steps_per_second': 57.455, 'epoch': 13.0}\n",
      "{'loss': 0.2263, 'grad_norm': 4.203370571136475, 'learning_rate': 1.5897541234485595e-05, 'epoch': 14.0}\n"
     ]
    },
    {
     "data": {
      "application/vnd.jupyter.widget-view+json": {
       "model_id": "a935ac06129e4648852ae9404814003c",
       "version_major": 2,
       "version_minor": 0
      },
      "text/plain": [
       "  0%|          | 0/108 [00:00<?, ?it/s]"
      ]
     },
     "metadata": {},
     "output_type": "display_data"
    },
    {
     "name": "stdout",
     "output_type": "stream",
     "text": [
      "{'eval_loss': 0.43539461493492126, 'eval_accuracy': 0.8425925925925926, 'eval_f1': 0.7848101265822784, 'eval_runtime': 1.9182, 'eval_samples_per_second': 56.303, 'eval_steps_per_second': 56.303, 'epoch': 14.0}\n",
      "{'loss': 0.22, 'grad_norm': 3.1566832065582275, 'learning_rate': 1.3247951028737997e-05, 'epoch': 15.0}\n"
     ]
    },
    {
     "data": {
      "application/vnd.jupyter.widget-view+json": {
       "model_id": "57c9331dc1064512a713df80f3379e7f",
       "version_major": 2,
       "version_minor": 0
      },
      "text/plain": [
       "  0%|          | 0/108 [00:00<?, ?it/s]"
      ]
     },
     "metadata": {},
     "output_type": "display_data"
    },
    {
     "name": "stdout",
     "output_type": "stream",
     "text": [
      "{'eval_loss': 0.4390592873096466, 'eval_accuracy': 0.8425925925925926, 'eval_f1': 0.7848101265822784, 'eval_runtime': 1.929, 'eval_samples_per_second': 55.988, 'eval_steps_per_second': 55.988, 'epoch': 15.0}\n",
      "{'loss': 0.19, 'grad_norm': 2.9061148166656494, 'learning_rate': 1.0598360822990399e-05, 'epoch': 16.0}\n"
     ]
    },
    {
     "data": {
      "application/vnd.jupyter.widget-view+json": {
       "model_id": "c7956212e5254d4cb99be081b18a45bd",
       "version_major": 2,
       "version_minor": 0
      },
      "text/plain": [
       "  0%|          | 0/108 [00:00<?, ?it/s]"
      ]
     },
     "metadata": {},
     "output_type": "display_data"
    },
    {
     "name": "stdout",
     "output_type": "stream",
     "text": [
      "{'eval_loss': 0.4304048418998718, 'eval_accuracy': 0.8425925925925926, 'eval_f1': 0.7951807228915663, 'eval_runtime': 1.9379, 'eval_samples_per_second': 55.73, 'eval_steps_per_second': 55.73, 'epoch': 16.0}\n",
      "{'loss': 0.2442, 'grad_norm': 2.275707483291626, 'learning_rate': 7.948770617242797e-06, 'epoch': 17.0}\n"
     ]
    },
    {
     "data": {
      "application/vnd.jupyter.widget-view+json": {
       "model_id": "e218c6cf863740c3b2dfdcfa89a4735f",
       "version_major": 2,
       "version_minor": 0
      },
      "text/plain": [
       "  0%|          | 0/108 [00:00<?, ?it/s]"
      ]
     },
     "metadata": {},
     "output_type": "display_data"
    },
    {
     "name": "stdout",
     "output_type": "stream",
     "text": [
      "{'eval_loss': 0.43214914202690125, 'eval_accuracy': 0.8148148148148148, 'eval_f1': 0.7619047619047619, 'eval_runtime': 1.8751, 'eval_samples_per_second': 57.596, 'eval_steps_per_second': 57.596, 'epoch': 17.0}\n",
      "{'loss': 0.2014, 'grad_norm': 2.6953225135803223, 'learning_rate': 5.299180411495199e-06, 'epoch': 18.0}\n"
     ]
    },
    {
     "data": {
      "application/vnd.jupyter.widget-view+json": {
       "model_id": "763e038d2bf04f038caed43aa00d1818",
       "version_major": 2,
       "version_minor": 0
      },
      "text/plain": [
       "  0%|          | 0/108 [00:00<?, ?it/s]"
      ]
     },
     "metadata": {},
     "output_type": "display_data"
    },
    {
     "name": "stdout",
     "output_type": "stream",
     "text": [
      "{'eval_loss': 0.4331884980201721, 'eval_accuracy': 0.8425925925925926, 'eval_f1': 0.7848101265822784, 'eval_runtime': 1.7204, 'eval_samples_per_second': 62.778, 'eval_steps_per_second': 62.778, 'epoch': 18.0}\n",
      "{'loss': 0.1811, 'grad_norm': 3.0402276515960693, 'learning_rate': 2.6495902057475997e-06, 'epoch': 19.0}\n"
     ]
    },
    {
     "data": {
      "application/vnd.jupyter.widget-view+json": {
       "model_id": "599ba3b790724b52a7912f753f1f6696",
       "version_major": 2,
       "version_minor": 0
      },
      "text/plain": [
       "  0%|          | 0/108 [00:00<?, ?it/s]"
      ]
     },
     "metadata": {},
     "output_type": "display_data"
    },
    {
     "name": "stdout",
     "output_type": "stream",
     "text": [
      "{'eval_loss': 0.4348296523094177, 'eval_accuracy': 0.8425925925925926, 'eval_f1': 0.7848101265822784, 'eval_runtime': 1.7908, 'eval_samples_per_second': 60.308, 'eval_steps_per_second': 60.308, 'epoch': 19.0}\n",
      "{'loss': 0.1812, 'grad_norm': 2.0208349227905273, 'learning_rate': 0.0, 'epoch': 20.0}\n"
     ]
    },
    {
     "data": {
      "application/vnd.jupyter.widget-view+json": {
       "model_id": "3e78388c12904aea8ec4f36a869baadc",
       "version_major": 2,
       "version_minor": 0
      },
      "text/plain": [
       "  0%|          | 0/108 [00:00<?, ?it/s]"
      ]
     },
     "metadata": {},
     "output_type": "display_data"
    },
    {
     "name": "stdout",
     "output_type": "stream",
     "text": [
      "{'eval_loss': 0.42842981219291687, 'eval_accuracy': 0.8333333333333334, 'eval_f1': 0.7804878048780488, 'eval_runtime': 1.7457, 'eval_samples_per_second': 61.865, 'eval_steps_per_second': 61.865, 'epoch': 20.0}\n"
     ]
    },
    {
     "name": "stderr",
     "output_type": "stream",
     "text": [
      "[I 2024-07-22 20:43:13,824] Trial 21 finished with value: 0.7804878048780488 and parameters: {'learning_rate': 5.299180411495199e-05, 'per_device_train_batch_size': 32, 'weight_decay': 0.1}. Best is trial 3 with value: 0.8.\n"
     ]
    },
    {
     "name": "stdout",
     "output_type": "stream",
     "text": [
      "{'train_runtime': 435.7513, 'train_samples_per_second': 27.86, 'train_steps_per_second': 0.872, 'train_loss': 0.2934404787264372, 'epoch': 20.0}\n"
     ]
    },
    {
     "name": "stderr",
     "output_type": "stream",
     "text": [
      "Some weights of ViTForImageClassification were not initialized from the model checkpoint at google/vit-base-patch16-224-in21k and are newly initialized: ['classifier.bias', 'classifier.weight']\n",
      "You should probably TRAIN this model on a down-stream task to be able to use it for predictions and inference.\n"
     ]
    },
    {
     "data": {
      "application/vnd.jupyter.widget-view+json": {
       "model_id": "77bc7b9426a441fe943eb22106dc2d9b",
       "version_major": 2,
       "version_minor": 0
      },
      "text/plain": [
       "  0%|          | 0/380 [00:00<?, ?it/s]"
      ]
     },
     "metadata": {},
     "output_type": "display_data"
    },
    {
     "name": "stdout",
     "output_type": "stream",
     "text": [
      "{'loss': 0.5987, 'grad_norm': 2.3780884742736816, 'learning_rate': 6.708444791087714e-05, 'epoch': 1.0}\n"
     ]
    },
    {
     "data": {
      "application/vnd.jupyter.widget-view+json": {
       "model_id": "c8cb012548c0424192e5ad3afc8e6711",
       "version_major": 2,
       "version_minor": 0
      },
      "text/plain": [
       "  0%|          | 0/108 [00:00<?, ?it/s]"
      ]
     },
     "metadata": {},
     "output_type": "display_data"
    },
    {
     "name": "stdout",
     "output_type": "stream",
     "text": [
      "{'eval_loss': 0.48632147908210754, 'eval_accuracy': 0.7962962962962963, 'eval_f1': 0.7755102040816326, 'eval_runtime': 1.713, 'eval_samples_per_second': 63.049, 'eval_steps_per_second': 63.049, 'epoch': 1.0}\n",
      "{'loss': 0.4982, 'grad_norm': 1.475396990776062, 'learning_rate': 6.35536874945152e-05, 'epoch': 2.0}\n"
     ]
    },
    {
     "data": {
      "application/vnd.jupyter.widget-view+json": {
       "model_id": "e528dd314412411dbecb43c79b316afc",
       "version_major": 2,
       "version_minor": 0
      },
      "text/plain": [
       "  0%|          | 0/108 [00:00<?, ?it/s]"
      ]
     },
     "metadata": {},
     "output_type": "display_data"
    },
    {
     "name": "stderr",
     "output_type": "stream",
     "text": [
      "[I 2024-07-22 20:43:56,209] Trial 22 pruned. \n"
     ]
    },
    {
     "name": "stdout",
     "output_type": "stream",
     "text": [
      "{'eval_loss': 0.43124985694885254, 'eval_accuracy': 0.8148148148148148, 'eval_f1': 0.7619047619047619, 'eval_runtime': 1.7737, 'eval_samples_per_second': 60.888, 'eval_steps_per_second': 60.888, 'epoch': 2.0}\n"
     ]
    },
    {
     "name": "stderr",
     "output_type": "stream",
     "text": [
      "Some weights of ViTForImageClassification were not initialized from the model checkpoint at google/vit-base-patch16-224-in21k and are newly initialized: ['classifier.bias', 'classifier.weight']\n",
      "You should probably TRAIN this model on a down-stream task to be able to use it for predictions and inference.\n"
     ]
    },
    {
     "data": {
      "application/vnd.jupyter.widget-view+json": {
       "model_id": "3de99d519dbb46439f9dd129dd0d6492",
       "version_major": 2,
       "version_minor": 0
      },
      "text/plain": [
       "  0%|          | 0/380 [00:00<?, ?it/s]"
      ]
     },
     "metadata": {},
     "output_type": "display_data"
    },
    {
     "name": "stdout",
     "output_type": "stream",
     "text": [
      "{'loss': 0.6336, 'grad_norm': 0.997482180595398, 'learning_rate': 0.000287683981528515, 'epoch': 1.0}\n"
     ]
    },
    {
     "data": {
      "application/vnd.jupyter.widget-view+json": {
       "model_id": "92000f78c6dd45f6ac89e5c80c316429",
       "version_major": 2,
       "version_minor": 0
      },
      "text/plain": [
       "  0%|          | 0/108 [00:00<?, ?it/s]"
      ]
     },
     "metadata": {},
     "output_type": "display_data"
    },
    {
     "name": "stderr",
     "output_type": "stream",
     "text": [
      "[I 2024-07-22 20:44:16,879] Trial 23 pruned. \n"
     ]
    },
    {
     "name": "stdout",
     "output_type": "stream",
     "text": [
      "{'eval_loss': 0.854678750038147, 'eval_accuracy': 0.5648148148148148, 'eval_f1': 0.6518518518518519, 'eval_runtime': 1.7105, 'eval_samples_per_second': 63.14, 'eval_steps_per_second': 63.14, 'epoch': 1.0}\n"
     ]
    },
    {
     "name": "stderr",
     "output_type": "stream",
     "text": [
      "Some weights of ViTForImageClassification were not initialized from the model checkpoint at google/vit-base-patch16-224-in21k and are newly initialized: ['classifier.bias', 'classifier.weight']\n",
      "You should probably TRAIN this model on a down-stream task to be able to use it for predictions and inference.\n"
     ]
    },
    {
     "data": {
      "application/vnd.jupyter.widget-view+json": {
       "model_id": "a931437448c4493c9878a986e08f0aa8",
       "version_major": 2,
       "version_minor": 0
      },
      "text/plain": [
       "  0%|          | 0/380 [00:00<?, ?it/s]"
      ]
     },
     "metadata": {},
     "output_type": "display_data"
    },
    {
     "name": "stdout",
     "output_type": "stream",
     "text": [
      "{'loss': 0.6441, 'grad_norm': 1.0929800271987915, 'learning_rate': 2.2545979222691253e-05, 'epoch': 1.0}\n"
     ]
    },
    {
     "data": {
      "application/vnd.jupyter.widget-view+json": {
       "model_id": "1f46c3e99ebc4b79b76fe59b1627a37c",
       "version_major": 2,
       "version_minor": 0
      },
      "text/plain": [
       "  0%|          | 0/108 [00:00<?, ?it/s]"
      ]
     },
     "metadata": {},
     "output_type": "display_data"
    },
    {
     "name": "stderr",
     "output_type": "stream",
     "text": [
      "[I 2024-07-22 20:44:37,942] Trial 24 pruned. \n"
     ]
    },
    {
     "name": "stdout",
     "output_type": "stream",
     "text": [
      "{'eval_loss': 0.6318535208702087, 'eval_accuracy': 0.6018518518518519, 'eval_f1': 0.0851063829787234, 'eval_runtime': 1.739, 'eval_samples_per_second': 62.105, 'eval_steps_per_second': 62.105, 'epoch': 1.0}\n"
     ]
    },
    {
     "name": "stderr",
     "output_type": "stream",
     "text": [
      "Some weights of ViTForImageClassification were not initialized from the model checkpoint at google/vit-base-patch16-224-in21k and are newly initialized: ['classifier.bias', 'classifier.weight']\n",
      "You should probably TRAIN this model on a down-stream task to be able to use it for predictions and inference.\n"
     ]
    },
    {
     "data": {
      "application/vnd.jupyter.widget-view+json": {
       "model_id": "7324f5df59484414b0cfeb652acbc77d",
       "version_major": 2,
       "version_minor": 0
      },
      "text/plain": [
       "  0%|          | 0/380 [00:00<?, ?it/s]"
      ]
     },
     "metadata": {},
     "output_type": "display_data"
    },
    {
     "name": "stdout",
     "output_type": "stream",
     "text": [
      "{'loss': 0.6589, 'grad_norm': 1.0908536911010742, 'learning_rate': 7.88883279130967e-06, 'epoch': 1.0}\n"
     ]
    },
    {
     "data": {
      "application/vnd.jupyter.widget-view+json": {
       "model_id": "3af5ea83350f4af7bd6568c8368a968e",
       "version_major": 2,
       "version_minor": 0
      },
      "text/plain": [
       "  0%|          | 0/108 [00:00<?, ?it/s]"
      ]
     },
     "metadata": {},
     "output_type": "display_data"
    },
    {
     "name": "stderr",
     "output_type": "stream",
     "text": [
      "[I 2024-07-22 20:44:58,533] Trial 25 pruned. \n"
     ]
    },
    {
     "name": "stdout",
     "output_type": "stream",
     "text": [
      "{'eval_loss': 0.6603240966796875, 'eval_accuracy': 0.5833333333333334, 'eval_f1': 0.0, 'eval_runtime': 1.6878, 'eval_samples_per_second': 63.989, 'eval_steps_per_second': 63.989, 'epoch': 1.0}\n"
     ]
    },
    {
     "name": "stderr",
     "output_type": "stream",
     "text": [
      "Some weights of ViTForImageClassification were not initialized from the model checkpoint at google/vit-base-patch16-224-in21k and are newly initialized: ['classifier.bias', 'classifier.weight']\n",
      "You should probably TRAIN this model on a down-stream task to be able to use it for predictions and inference.\n"
     ]
    },
    {
     "data": {
      "application/vnd.jupyter.widget-view+json": {
       "model_id": "c55833f935dc4772947fcba8cf950223",
       "version_major": 2,
       "version_minor": 0
      },
      "text/plain": [
       "  0%|          | 0/760 [00:00<?, ?it/s]"
      ]
     },
     "metadata": {},
     "output_type": "display_data"
    },
    {
     "name": "stdout",
     "output_type": "stream",
     "text": [
      "{'loss': 0.5553, 'grad_norm': 1.876294493675232, 'learning_rate': 9.67769935119683e-05, 'epoch': 1.0}\n"
     ]
    },
    {
     "data": {
      "application/vnd.jupyter.widget-view+json": {
       "model_id": "3c556dd73bd644b28535a2b567acfbd6",
       "version_major": 2,
       "version_minor": 0
      },
      "text/plain": [
       "  0%|          | 0/108 [00:00<?, ?it/s]"
      ]
     },
     "metadata": {},
     "output_type": "display_data"
    },
    {
     "name": "stderr",
     "output_type": "stream",
     "text": [
      "[I 2024-07-22 20:45:19,886] Trial 26 pruned. \n"
     ]
    },
    {
     "name": "stdout",
     "output_type": "stream",
     "text": [
      "{'eval_loss': 0.6869780421257019, 'eval_accuracy': 0.6759259259259259, 'eval_f1': 0.7107438016528925, 'eval_runtime': 1.7132, 'eval_samples_per_second': 63.038, 'eval_steps_per_second': 63.038, 'epoch': 1.0}\n"
     ]
    },
    {
     "name": "stderr",
     "output_type": "stream",
     "text": [
      "Some weights of ViTForImageClassification were not initialized from the model checkpoint at google/vit-base-patch16-224-in21k and are newly initialized: ['classifier.bias', 'classifier.weight']\n",
      "You should probably TRAIN this model on a down-stream task to be able to use it for predictions and inference.\n"
     ]
    },
    {
     "data": {
      "application/vnd.jupyter.widget-view+json": {
       "model_id": "1784cdf5f5494e8e8796e32ff694842a",
       "version_major": 2,
       "version_minor": 0
      },
      "text/plain": [
       "  0%|          | 0/1520 [00:00<?, ?it/s]"
      ]
     },
     "metadata": {},
     "output_type": "display_data"
    },
    {
     "name": "stdout",
     "output_type": "stream",
     "text": [
      "{'loss': 0.6674, 'grad_norm': 2.3776369094848633, 'learning_rate': 0.00020991623974916262, 'epoch': 1.0}\n"
     ]
    },
    {
     "data": {
      "application/vnd.jupyter.widget-view+json": {
       "model_id": "a88c41aab12a40d29c04fcffc8e91f52",
       "version_major": 2,
       "version_minor": 0
      },
      "text/plain": [
       "  0%|          | 0/108 [00:00<?, ?it/s]"
      ]
     },
     "metadata": {},
     "output_type": "display_data"
    },
    {
     "name": "stderr",
     "output_type": "stream",
     "text": [
      "[I 2024-07-22 20:45:43,648] Trial 27 pruned. \n"
     ]
    },
    {
     "name": "stdout",
     "output_type": "stream",
     "text": [
      "{'eval_loss': 0.6472730040550232, 'eval_accuracy': 0.5833333333333334, 'eval_f1': 0.0, 'eval_runtime': 1.7199, 'eval_samples_per_second': 62.796, 'eval_steps_per_second': 62.796, 'epoch': 1.0}\n"
     ]
    },
    {
     "name": "stderr",
     "output_type": "stream",
     "text": [
      "Some weights of ViTForImageClassification were not initialized from the model checkpoint at google/vit-base-patch16-224-in21k and are newly initialized: ['classifier.bias', 'classifier.weight']\n",
      "You should probably TRAIN this model on a down-stream task to be able to use it for predictions and inference.\n"
     ]
    },
    {
     "data": {
      "application/vnd.jupyter.widget-view+json": {
       "model_id": "2990ef69da5e43a6855357a654f7cbbb",
       "version_major": 2,
       "version_minor": 0
      },
      "text/plain": [
       "  0%|          | 0/380 [00:00<?, ?it/s]"
      ]
     },
     "metadata": {},
     "output_type": "display_data"
    },
    {
     "name": "stdout",
     "output_type": "stream",
     "text": [
      "{'loss': 0.6256, 'grad_norm': 1.4161858558654785, 'learning_rate': 4.74366656493851e-05, 'epoch': 1.0}\n"
     ]
    },
    {
     "data": {
      "application/vnd.jupyter.widget-view+json": {
       "model_id": "31ed7ea9271a44e9a94e4fbad6a0cda7",
       "version_major": 2,
       "version_minor": 0
      },
      "text/plain": [
       "  0%|          | 0/108 [00:00<?, ?it/s]"
      ]
     },
     "metadata": {},
     "output_type": "display_data"
    },
    {
     "name": "stdout",
     "output_type": "stream",
     "text": [
      "{'eval_loss': 0.571727991104126, 'eval_accuracy': 0.8148148148148148, 'eval_f1': 0.7872340425531915, 'eval_runtime': 1.721, 'eval_samples_per_second': 62.756, 'eval_steps_per_second': 62.756, 'epoch': 1.0}\n",
      "{'loss': 0.5005, 'grad_norm': 1.2901554107666016, 'learning_rate': 4.493999903625957e-05, 'epoch': 2.0}\n"
     ]
    },
    {
     "data": {
      "application/vnd.jupyter.widget-view+json": {
       "model_id": "ce85ea54ecaa49b6aa314a130e9846ec",
       "version_major": 2,
       "version_minor": 0
      },
      "text/plain": [
       "  0%|          | 0/108 [00:00<?, ?it/s]"
      ]
     },
     "metadata": {},
     "output_type": "display_data"
    },
    {
     "name": "stdout",
     "output_type": "stream",
     "text": [
      "{'eval_loss': 0.4568263292312622, 'eval_accuracy': 0.7870370370370371, 'eval_f1': 0.780952380952381, 'eval_runtime': 1.6943, 'eval_samples_per_second': 63.743, 'eval_steps_per_second': 63.743, 'epoch': 2.0}\n",
      "{'loss': 0.3942, 'grad_norm': 1.5702394247055054, 'learning_rate': 4.244333242313403e-05, 'epoch': 3.0}\n"
     ]
    },
    {
     "data": {
      "application/vnd.jupyter.widget-view+json": {
       "model_id": "5688d014a537456da8901b5a41363f8c",
       "version_major": 2,
       "version_minor": 0
      },
      "text/plain": [
       "  0%|          | 0/108 [00:00<?, ?it/s]"
      ]
     },
     "metadata": {},
     "output_type": "display_data"
    },
    {
     "name": "stdout",
     "output_type": "stream",
     "text": [
      "{'eval_loss': 0.44260555505752563, 'eval_accuracy': 0.8148148148148148, 'eval_f1': 0.7674418604651163, 'eval_runtime': 1.7116, 'eval_samples_per_second': 63.1, 'eval_steps_per_second': 63.1, 'epoch': 3.0}\n",
      "{'loss': 0.3813, 'grad_norm': 2.9463744163513184, 'learning_rate': 3.9946665810008506e-05, 'epoch': 4.0}\n"
     ]
    },
    {
     "data": {
      "application/vnd.jupyter.widget-view+json": {
       "model_id": "ac78599270db488ba8a6e9fa2daaf760",
       "version_major": 2,
       "version_minor": 0
      },
      "text/plain": [
       "  0%|          | 0/108 [00:00<?, ?it/s]"
      ]
     },
     "metadata": {},
     "output_type": "display_data"
    },
    {
     "name": "stdout",
     "output_type": "stream",
     "text": [
      "{'eval_loss': 0.483325332403183, 'eval_accuracy': 0.7592592592592593, 'eval_f1': 0.7547169811320755, 'eval_runtime': 1.699, 'eval_samples_per_second': 63.566, 'eval_steps_per_second': 63.566, 'epoch': 4.0}\n",
      "{'loss': 0.3561, 'grad_norm': 1.9474234580993652, 'learning_rate': 3.744999919688297e-05, 'epoch': 5.0}\n"
     ]
    },
    {
     "data": {
      "application/vnd.jupyter.widget-view+json": {
       "model_id": "e6da6de4239d4de7a58d0fe2b1e6db6e",
       "version_major": 2,
       "version_minor": 0
      },
      "text/plain": [
       "  0%|          | 0/108 [00:00<?, ?it/s]"
      ]
     },
     "metadata": {},
     "output_type": "display_data"
    },
    {
     "name": "stdout",
     "output_type": "stream",
     "text": [
      "{'eval_loss': 0.42168769240379333, 'eval_accuracy': 0.8148148148148148, 'eval_f1': 0.7727272727272727, 'eval_runtime': 1.8507, 'eval_samples_per_second': 58.355, 'eval_steps_per_second': 58.355, 'epoch': 5.0}\n",
      "{'loss': 0.3392, 'grad_norm': 2.6693737506866455, 'learning_rate': 3.495333258375744e-05, 'epoch': 6.0}\n"
     ]
    },
    {
     "data": {
      "application/vnd.jupyter.widget-view+json": {
       "model_id": "6deec5a895ee4414a6eda568a92505c2",
       "version_major": 2,
       "version_minor": 0
      },
      "text/plain": [
       "  0%|          | 0/108 [00:00<?, ?it/s]"
      ]
     },
     "metadata": {},
     "output_type": "display_data"
    },
    {
     "name": "stdout",
     "output_type": "stream",
     "text": [
      "{'eval_loss': 0.4295365810394287, 'eval_accuracy': 0.8333333333333334, 'eval_f1': 0.7804878048780488, 'eval_runtime': 3.5594, 'eval_samples_per_second': 30.342, 'eval_steps_per_second': 30.342, 'epoch': 6.0}\n",
      "{'loss': 0.3092, 'grad_norm': 2.4185268878936768, 'learning_rate': 3.245666597063191e-05, 'epoch': 7.0}\n"
     ]
    },
    {
     "data": {
      "application/vnd.jupyter.widget-view+json": {
       "model_id": "5c03152833084e6c8ba6be9a543ec5ba",
       "version_major": 2,
       "version_minor": 0
      },
      "text/plain": [
       "  0%|          | 0/108 [00:00<?, ?it/s]"
      ]
     },
     "metadata": {},
     "output_type": "display_data"
    },
    {
     "name": "stdout",
     "output_type": "stream",
     "text": [
      "{'eval_loss': 0.42411333322525024, 'eval_accuracy': 0.8518518518518519, 'eval_f1': 0.8048780487804879, 'eval_runtime': 2.8469, 'eval_samples_per_second': 37.935, 'eval_steps_per_second': 37.935, 'epoch': 7.0}\n",
      "{'loss': 0.2788, 'grad_norm': 3.5434768199920654, 'learning_rate': 2.9959999357506374e-05, 'epoch': 8.0}\n"
     ]
    },
    {
     "data": {
      "application/vnd.jupyter.widget-view+json": {
       "model_id": "59167585640e4d6dbe65e04e329e2cd6",
       "version_major": 2,
       "version_minor": 0
      },
      "text/plain": [
       "  0%|          | 0/108 [00:00<?, ?it/s]"
      ]
     },
     "metadata": {},
     "output_type": "display_data"
    },
    {
     "name": "stdout",
     "output_type": "stream",
     "text": [
      "{'eval_loss': 0.40698522329330444, 'eval_accuracy': 0.8333333333333334, 'eval_f1': 0.7906976744186046, 'eval_runtime': 3.9846, 'eval_samples_per_second': 27.104, 'eval_steps_per_second': 27.104, 'epoch': 8.0}\n",
      "{'loss': 0.2713, 'grad_norm': 2.639378786087036, 'learning_rate': 2.7463332744380848e-05, 'epoch': 9.0}\n"
     ]
    },
    {
     "data": {
      "application/vnd.jupyter.widget-view+json": {
       "model_id": "1c3157957b2145f5af7fc68e110629d8",
       "version_major": 2,
       "version_minor": 0
      },
      "text/plain": [
       "  0%|          | 0/108 [00:00<?, ?it/s]"
      ]
     },
     "metadata": {},
     "output_type": "display_data"
    },
    {
     "name": "stdout",
     "output_type": "stream",
     "text": [
      "{'eval_loss': 0.40820109844207764, 'eval_accuracy': 0.8333333333333334, 'eval_f1': 0.7906976744186046, 'eval_runtime': 2.1646, 'eval_samples_per_second': 49.893, 'eval_steps_per_second': 49.893, 'epoch': 9.0}\n",
      "{'loss': 0.2743, 'grad_norm': 1.3758822679519653, 'learning_rate': 2.4966666131255314e-05, 'epoch': 10.0}\n"
     ]
    },
    {
     "data": {
      "application/vnd.jupyter.widget-view+json": {
       "model_id": "069cd49a7ab242b4bf058baa0a15886e",
       "version_major": 2,
       "version_minor": 0
      },
      "text/plain": [
       "  0%|          | 0/108 [00:00<?, ?it/s]"
      ]
     },
     "metadata": {},
     "output_type": "display_data"
    },
    {
     "name": "stdout",
     "output_type": "stream",
     "text": [
      "{'eval_loss': 0.4183759391307831, 'eval_accuracy': 0.8240740740740741, 'eval_f1': 0.759493670886076, 'eval_runtime': 2.5732, 'eval_samples_per_second': 41.971, 'eval_steps_per_second': 41.971, 'epoch': 10.0}\n",
      "{'loss': 0.2507, 'grad_norm': 3.0729777812957764, 'learning_rate': 2.2469999518129783e-05, 'epoch': 11.0}\n"
     ]
    },
    {
     "data": {
      "application/vnd.jupyter.widget-view+json": {
       "model_id": "e8f3d9b0de224ba296d37d3110086435",
       "version_major": 2,
       "version_minor": 0
      },
      "text/plain": [
       "  0%|          | 0/108 [00:00<?, ?it/s]"
      ]
     },
     "metadata": {},
     "output_type": "display_data"
    },
    {
     "name": "stdout",
     "output_type": "stream",
     "text": [
      "{'eval_loss': 0.4036009609699249, 'eval_accuracy': 0.8333333333333334, 'eval_f1': 0.7906976744186046, 'eval_runtime': 3.3528, 'eval_samples_per_second': 32.212, 'eval_steps_per_second': 32.212, 'epoch': 11.0}\n",
      "{'loss': 0.2411, 'grad_norm': 0.6165900230407715, 'learning_rate': 1.9973332905004253e-05, 'epoch': 12.0}\n"
     ]
    },
    {
     "data": {
      "application/vnd.jupyter.widget-view+json": {
       "model_id": "a578d57f600c46628505ab28de99d5ab",
       "version_major": 2,
       "version_minor": 0
      },
      "text/plain": [
       "  0%|          | 0/108 [00:00<?, ?it/s]"
      ]
     },
     "metadata": {},
     "output_type": "display_data"
    },
    {
     "name": "stdout",
     "output_type": "stream",
     "text": [
      "{'eval_loss': 0.41289278864860535, 'eval_accuracy': 0.8518518518518519, 'eval_f1': 0.8, 'eval_runtime': 3.3119, 'eval_samples_per_second': 32.609, 'eval_steps_per_second': 32.609, 'epoch': 12.0}\n",
      "{'loss': 0.2399, 'grad_norm': 2.9610917568206787, 'learning_rate': 1.747666629187872e-05, 'epoch': 13.0}\n"
     ]
    },
    {
     "data": {
      "application/vnd.jupyter.widget-view+json": {
       "model_id": "ba558b008dcb492888c079e21ae014b8",
       "version_major": 2,
       "version_minor": 0
      },
      "text/plain": [
       "  0%|          | 0/108 [00:00<?, ?it/s]"
      ]
     },
     "metadata": {},
     "output_type": "display_data"
    },
    {
     "name": "stdout",
     "output_type": "stream",
     "text": [
      "{'eval_loss': 0.4152557849884033, 'eval_accuracy': 0.8333333333333334, 'eval_f1': 0.775, 'eval_runtime': 1.7634, 'eval_samples_per_second': 61.244, 'eval_steps_per_second': 61.244, 'epoch': 13.0}\n",
      "{'loss': 0.2245, 'grad_norm': 3.2774534225463867, 'learning_rate': 1.4979999678753187e-05, 'epoch': 14.0}\n"
     ]
    },
    {
     "data": {
      "application/vnd.jupyter.widget-view+json": {
       "model_id": "e2b68c9361cf462fa848108e1ec09804",
       "version_major": 2,
       "version_minor": 0
      },
      "text/plain": [
       "  0%|          | 0/108 [00:00<?, ?it/s]"
      ]
     },
     "metadata": {},
     "output_type": "display_data"
    },
    {
     "name": "stdout",
     "output_type": "stream",
     "text": [
      "{'eval_loss': 0.44101741909980774, 'eval_accuracy': 0.8425925925925926, 'eval_f1': 0.7848101265822784, 'eval_runtime': 1.6761, 'eval_samples_per_second': 64.435, 'eval_steps_per_second': 64.435, 'epoch': 14.0}\n",
      "{'loss': 0.2363, 'grad_norm': 2.8856687545776367, 'learning_rate': 1.2483333065627657e-05, 'epoch': 15.0}\n"
     ]
    },
    {
     "data": {
      "application/vnd.jupyter.widget-view+json": {
       "model_id": "3784763acf054dd5ab71f201adcb8199",
       "version_major": 2,
       "version_minor": 0
      },
      "text/plain": [
       "  0%|          | 0/108 [00:00<?, ?it/s]"
      ]
     },
     "metadata": {},
     "output_type": "display_data"
    },
    {
     "name": "stdout",
     "output_type": "stream",
     "text": [
      "{'eval_loss': 0.4298252463340759, 'eval_accuracy': 0.8425925925925926, 'eval_f1': 0.7901234567901234, 'eval_runtime': 2.1538, 'eval_samples_per_second': 50.143, 'eval_steps_per_second': 50.143, 'epoch': 15.0}\n",
      "{'loss': 0.1941, 'grad_norm': 2.7557904720306396, 'learning_rate': 9.986666452502127e-06, 'epoch': 16.0}\n"
     ]
    },
    {
     "data": {
      "application/vnd.jupyter.widget-view+json": {
       "model_id": "1af10e5951db4b078f9bdbe11fbe7417",
       "version_major": 2,
       "version_minor": 0
      },
      "text/plain": [
       "  0%|          | 0/108 [00:00<?, ?it/s]"
      ]
     },
     "metadata": {},
     "output_type": "display_data"
    },
    {
     "name": "stdout",
     "output_type": "stream",
     "text": [
      "{'eval_loss': 0.43742603063583374, 'eval_accuracy': 0.8518518518518519, 'eval_f1': 0.8048780487804879, 'eval_runtime': 1.8735, 'eval_samples_per_second': 57.647, 'eval_steps_per_second': 57.647, 'epoch': 16.0}\n",
      "{'loss': 0.2362, 'grad_norm': 2.6491916179656982, 'learning_rate': 7.489999839376594e-06, 'epoch': 17.0}\n"
     ]
    },
    {
     "data": {
      "application/vnd.jupyter.widget-view+json": {
       "model_id": "1d363ccb61184215afeb3577d177e082",
       "version_major": 2,
       "version_minor": 0
      },
      "text/plain": [
       "  0%|          | 0/108 [00:00<?, ?it/s]"
      ]
     },
     "metadata": {},
     "output_type": "display_data"
    },
    {
     "name": "stdout",
     "output_type": "stream",
     "text": [
      "{'eval_loss': 0.44047847390174866, 'eval_accuracy': 0.8518518518518519, 'eval_f1': 0.8, 'eval_runtime': 1.9067, 'eval_samples_per_second': 56.643, 'eval_steps_per_second': 56.643, 'epoch': 17.0}\n",
      "{'loss': 0.2062, 'grad_norm': 2.642678737640381, 'learning_rate': 4.993333226251063e-06, 'epoch': 18.0}\n"
     ]
    },
    {
     "data": {
      "application/vnd.jupyter.widget-view+json": {
       "model_id": "a83afd7503344e0f81c5c8b8e3c2fe11",
       "version_major": 2,
       "version_minor": 0
      },
      "text/plain": [
       "  0%|          | 0/108 [00:00<?, ?it/s]"
      ]
     },
     "metadata": {},
     "output_type": "display_data"
    },
    {
     "name": "stdout",
     "output_type": "stream",
     "text": [
      "{'eval_loss': 0.4366033673286438, 'eval_accuracy': 0.8425925925925926, 'eval_f1': 0.7848101265822784, 'eval_runtime': 1.792, 'eval_samples_per_second': 60.267, 'eval_steps_per_second': 60.267, 'epoch': 18.0}\n",
      "{'loss': 0.1815, 'grad_norm': 2.4234516620635986, 'learning_rate': 2.4966666131255316e-06, 'epoch': 19.0}\n"
     ]
    },
    {
     "data": {
      "application/vnd.jupyter.widget-view+json": {
       "model_id": "48675461c4c04666909848104c532bc5",
       "version_major": 2,
       "version_minor": 0
      },
      "text/plain": [
       "  0%|          | 0/108 [00:00<?, ?it/s]"
      ]
     },
     "metadata": {},
     "output_type": "display_data"
    },
    {
     "name": "stdout",
     "output_type": "stream",
     "text": [
      "{'eval_loss': 0.45312634110450745, 'eval_accuracy': 0.8240740740740741, 'eval_f1': 0.7532467532467533, 'eval_runtime': 3.9906, 'eval_samples_per_second': 27.063, 'eval_steps_per_second': 27.063, 'epoch': 19.0}\n",
      "{'loss': 0.1922, 'grad_norm': 2.110167980194092, 'learning_rate': 0.0, 'epoch': 20.0}\n"
     ]
    },
    {
     "data": {
      "application/vnd.jupyter.widget-view+json": {
       "model_id": "9501a2f01db2443e9a816c851cb1ba8f",
       "version_major": 2,
       "version_minor": 0
      },
      "text/plain": [
       "  0%|          | 0/108 [00:00<?, ?it/s]"
      ]
     },
     "metadata": {},
     "output_type": "display_data"
    },
    {
     "name": "stdout",
     "output_type": "stream",
     "text": [
      "{'eval_loss': 0.4412083923816681, 'eval_accuracy': 0.8518518518518519, 'eval_f1': 0.8, 'eval_runtime': 2.3128, 'eval_samples_per_second': 46.697, 'eval_steps_per_second': 46.697, 'epoch': 20.0}\n"
     ]
    },
    {
     "name": "stderr",
     "output_type": "stream",
     "text": [
      "[I 2024-07-22 21:37:27,375] Trial 28 finished with value: 0.8 and parameters: {'learning_rate': 4.993333226251063e-05, 'per_device_train_batch_size': 32, 'weight_decay': 0.1}. Best is trial 3 with value: 0.8.\n"
     ]
    },
    {
     "name": "stdout",
     "output_type": "stream",
     "text": [
      "{'train_runtime': 3103.0883, 'train_samples_per_second': 3.912, 'train_steps_per_second': 0.122, 'train_loss': 0.2966584613448695, 'epoch': 20.0}\n"
     ]
    },
    {
     "name": "stderr",
     "output_type": "stream",
     "text": [
      "Some weights of ViTForImageClassification were not initialized from the model checkpoint at google/vit-base-patch16-224-in21k and are newly initialized: ['classifier.bias', 'classifier.weight']\n",
      "You should probably TRAIN this model on a down-stream task to be able to use it for predictions and inference.\n"
     ]
    },
    {
     "data": {
      "application/vnd.jupyter.widget-view+json": {
       "model_id": "ccbefdbe3c7d400cabd1f060acacdd3e",
       "version_major": 2,
       "version_minor": 0
      },
      "text/plain": [
       "  0%|          | 0/380 [00:00<?, ?it/s]"
      ]
     },
     "metadata": {},
     "output_type": "display_data"
    },
    {
     "name": "stdout",
     "output_type": "stream",
     "text": [
      "{'loss': 0.6359, 'grad_norm': 1.182146430015564, 'learning_rate': 3.5069880339523914e-05, 'epoch': 1.0}\n"
     ]
    },
    {
     "data": {
      "application/vnd.jupyter.widget-view+json": {
       "model_id": "525dd4783856424f87f42b701eaf8306",
       "version_major": 2,
       "version_minor": 0
      },
      "text/plain": [
       "  0%|          | 0/108 [00:00<?, ?it/s]"
      ]
     },
     "metadata": {},
     "output_type": "display_data"
    },
    {
     "name": "stderr",
     "output_type": "stream",
     "text": [
      "[I 2024-07-22 21:38:00,468] Trial 29 pruned. \n"
     ]
    },
    {
     "name": "stdout",
     "output_type": "stream",
     "text": [
      "{'eval_loss': 0.6049523949623108, 'eval_accuracy': 0.7222222222222222, 'eval_f1': 0.5588235294117647, 'eval_runtime': 3.0909, 'eval_samples_per_second': 34.941, 'eval_steps_per_second': 34.941, 'epoch': 1.0}\n"
     ]
    }
   ],
   "source": [
    "best_run = trainer.hyperparameter_search(\n",
    "    direction=\"maximize\",\n",
    "    backend=\"optuna\",\n",
    "    hp_space=optuna_hp_space,\n",
    "    n_trials=NUM_TRIALS,\n",
    "    compute_objective=compute_objective,\n",
    ")"
   ]
  },
  {
   "cell_type": "code",
   "execution_count": 14,
   "metadata": {},
   "outputs": [
    {
     "data": {
      "text/plain": [
       "BestRun(run_id='3', objective=0.8, hyperparameters={'learning_rate': 4.003920490135503e-05, 'per_device_train_batch_size': 16, 'weight_decay': 0}, run_summary=None)"
      ]
     },
     "execution_count": 14,
     "metadata": {},
     "output_type": "execute_result"
    }
   ],
   "source": [
    "best_run"
   ]
  },
  {
   "cell_type": "code",
   "execution_count": 15,
   "metadata": {},
   "outputs": [
    {
     "name": "stderr",
     "output_type": "stream",
     "text": [
      "[I 2024-07-22 21:38:01,018] A new study created in RDB with name: study\n"
     ]
    }
   ],
   "source": [
    "study = trainer._trial.study\n",
    "\n",
    "# Save study\n",
    "optuna.copy_study(\n",
    "    from_study_name=study.study_name,\n",
    "    from_storage=study._storage,\n",
    "    to_storage=f\"sqlite:///{output_dir}/study.db\",\n",
    "    to_study_name=\"study\"\n",
    ")\n",
    "\n",
    "# Save sampler state\n",
    "with open(f\"{output_dir}/sampler.pkl\", \"wb\") as fout:\n",
    "    pickle.dump(study.sampler, fout)\n",
    "    \n",
    "# Save pruner state\n",
    "with open(f\"{output_dir}/pruner.pkl\", \"wb\") as fout:\n",
    "    pickle.dump(study.pruner, fout)"
   ]
  },
  {
   "cell_type": "code",
   "execution_count": 16,
   "metadata": {},
   "outputs": [
    {
     "data": {
      "application/vnd.plotly.v1+json": {
       "config": {
        "plotlyServerURL": "https://plot.ly"
       },
       "data": [
        {
         "mode": "markers",
         "name": "Objective Value",
         "type": "scatter",
         "x": [
          0,
          1,
          2,
          3,
          4,
          6,
          11,
          17,
          21,
          28
         ],
         "y": [
          0.7289719626168224,
          0.75,
          0,
          0.8,
          0.7446808510638298,
          0.7951807228915663,
          0.8,
          0.7848101265822784,
          0.7804878048780488,
          0.8
         ]
        },
        {
         "mode": "lines",
         "name": "Best Value",
         "type": "scatter",
         "x": [
          0,
          1,
          2,
          3,
          4,
          5,
          6,
          7,
          8,
          9,
          10,
          11,
          12,
          13,
          14,
          15,
          16,
          17,
          18,
          19,
          20,
          21,
          22,
          23,
          24,
          25,
          26,
          27,
          28,
          29
         ],
         "y": [
          0.7289719626168224,
          0.75,
          0.75,
          0.8,
          0.8,
          0.8,
          0.8,
          0.8,
          0.8,
          0.8,
          0.8,
          0.8,
          0.8,
          0.8,
          0.8,
          0.8,
          0.8,
          0.8,
          0.8,
          0.8,
          0.8,
          0.8,
          0.8,
          0.8,
          0.8,
          0.8,
          0.8,
          0.8,
          0.8,
          0.8
         ]
        },
        {
         "marker": {
          "color": "#cccccc"
         },
         "mode": "markers",
         "name": "Infeasible Trial",
         "showlegend": false,
         "type": "scatter",
         "x": [],
         "y": []
        }
       ],
       "layout": {
        "template": {
         "data": {
          "bar": [
           {
            "error_x": {
             "color": "#2a3f5f"
            },
            "error_y": {
             "color": "#2a3f5f"
            },
            "marker": {
             "line": {
              "color": "#E5ECF6",
              "width": 0.5
             },
             "pattern": {
              "fillmode": "overlay",
              "size": 10,
              "solidity": 0.2
             }
            },
            "type": "bar"
           }
          ],
          "barpolar": [
           {
            "marker": {
             "line": {
              "color": "#E5ECF6",
              "width": 0.5
             },
             "pattern": {
              "fillmode": "overlay",
              "size": 10,
              "solidity": 0.2
             }
            },
            "type": "barpolar"
           }
          ],
          "carpet": [
           {
            "aaxis": {
             "endlinecolor": "#2a3f5f",
             "gridcolor": "white",
             "linecolor": "white",
             "minorgridcolor": "white",
             "startlinecolor": "#2a3f5f"
            },
            "baxis": {
             "endlinecolor": "#2a3f5f",
             "gridcolor": "white",
             "linecolor": "white",
             "minorgridcolor": "white",
             "startlinecolor": "#2a3f5f"
            },
            "type": "carpet"
           }
          ],
          "choropleth": [
           {
            "colorbar": {
             "outlinewidth": 0,
             "ticks": ""
            },
            "type": "choropleth"
           }
          ],
          "contour": [
           {
            "colorbar": {
             "outlinewidth": 0,
             "ticks": ""
            },
            "colorscale": [
             [
              0,
              "#0d0887"
             ],
             [
              0.1111111111111111,
              "#46039f"
             ],
             [
              0.2222222222222222,
              "#7201a8"
             ],
             [
              0.3333333333333333,
              "#9c179e"
             ],
             [
              0.4444444444444444,
              "#bd3786"
             ],
             [
              0.5555555555555556,
              "#d8576b"
             ],
             [
              0.6666666666666666,
              "#ed7953"
             ],
             [
              0.7777777777777778,
              "#fb9f3a"
             ],
             [
              0.8888888888888888,
              "#fdca26"
             ],
             [
              1,
              "#f0f921"
             ]
            ],
            "type": "contour"
           }
          ],
          "contourcarpet": [
           {
            "colorbar": {
             "outlinewidth": 0,
             "ticks": ""
            },
            "type": "contourcarpet"
           }
          ],
          "heatmap": [
           {
            "colorbar": {
             "outlinewidth": 0,
             "ticks": ""
            },
            "colorscale": [
             [
              0,
              "#0d0887"
             ],
             [
              0.1111111111111111,
              "#46039f"
             ],
             [
              0.2222222222222222,
              "#7201a8"
             ],
             [
              0.3333333333333333,
              "#9c179e"
             ],
             [
              0.4444444444444444,
              "#bd3786"
             ],
             [
              0.5555555555555556,
              "#d8576b"
             ],
             [
              0.6666666666666666,
              "#ed7953"
             ],
             [
              0.7777777777777778,
              "#fb9f3a"
             ],
             [
              0.8888888888888888,
              "#fdca26"
             ],
             [
              1,
              "#f0f921"
             ]
            ],
            "type": "heatmap"
           }
          ],
          "heatmapgl": [
           {
            "colorbar": {
             "outlinewidth": 0,
             "ticks": ""
            },
            "colorscale": [
             [
              0,
              "#0d0887"
             ],
             [
              0.1111111111111111,
              "#46039f"
             ],
             [
              0.2222222222222222,
              "#7201a8"
             ],
             [
              0.3333333333333333,
              "#9c179e"
             ],
             [
              0.4444444444444444,
              "#bd3786"
             ],
             [
              0.5555555555555556,
              "#d8576b"
             ],
             [
              0.6666666666666666,
              "#ed7953"
             ],
             [
              0.7777777777777778,
              "#fb9f3a"
             ],
             [
              0.8888888888888888,
              "#fdca26"
             ],
             [
              1,
              "#f0f921"
             ]
            ],
            "type": "heatmapgl"
           }
          ],
          "histogram": [
           {
            "marker": {
             "pattern": {
              "fillmode": "overlay",
              "size": 10,
              "solidity": 0.2
             }
            },
            "type": "histogram"
           }
          ],
          "histogram2d": [
           {
            "colorbar": {
             "outlinewidth": 0,
             "ticks": ""
            },
            "colorscale": [
             [
              0,
              "#0d0887"
             ],
             [
              0.1111111111111111,
              "#46039f"
             ],
             [
              0.2222222222222222,
              "#7201a8"
             ],
             [
              0.3333333333333333,
              "#9c179e"
             ],
             [
              0.4444444444444444,
              "#bd3786"
             ],
             [
              0.5555555555555556,
              "#d8576b"
             ],
             [
              0.6666666666666666,
              "#ed7953"
             ],
             [
              0.7777777777777778,
              "#fb9f3a"
             ],
             [
              0.8888888888888888,
              "#fdca26"
             ],
             [
              1,
              "#f0f921"
             ]
            ],
            "type": "histogram2d"
           }
          ],
          "histogram2dcontour": [
           {
            "colorbar": {
             "outlinewidth": 0,
             "ticks": ""
            },
            "colorscale": [
             [
              0,
              "#0d0887"
             ],
             [
              0.1111111111111111,
              "#46039f"
             ],
             [
              0.2222222222222222,
              "#7201a8"
             ],
             [
              0.3333333333333333,
              "#9c179e"
             ],
             [
              0.4444444444444444,
              "#bd3786"
             ],
             [
              0.5555555555555556,
              "#d8576b"
             ],
             [
              0.6666666666666666,
              "#ed7953"
             ],
             [
              0.7777777777777778,
              "#fb9f3a"
             ],
             [
              0.8888888888888888,
              "#fdca26"
             ],
             [
              1,
              "#f0f921"
             ]
            ],
            "type": "histogram2dcontour"
           }
          ],
          "mesh3d": [
           {
            "colorbar": {
             "outlinewidth": 0,
             "ticks": ""
            },
            "type": "mesh3d"
           }
          ],
          "parcoords": [
           {
            "line": {
             "colorbar": {
              "outlinewidth": 0,
              "ticks": ""
             }
            },
            "type": "parcoords"
           }
          ],
          "pie": [
           {
            "automargin": true,
            "type": "pie"
           }
          ],
          "scatter": [
           {
            "fillpattern": {
             "fillmode": "overlay",
             "size": 10,
             "solidity": 0.2
            },
            "type": "scatter"
           }
          ],
          "scatter3d": [
           {
            "line": {
             "colorbar": {
              "outlinewidth": 0,
              "ticks": ""
             }
            },
            "marker": {
             "colorbar": {
              "outlinewidth": 0,
              "ticks": ""
             }
            },
            "type": "scatter3d"
           }
          ],
          "scattercarpet": [
           {
            "marker": {
             "colorbar": {
              "outlinewidth": 0,
              "ticks": ""
             }
            },
            "type": "scattercarpet"
           }
          ],
          "scattergeo": [
           {
            "marker": {
             "colorbar": {
              "outlinewidth": 0,
              "ticks": ""
             }
            },
            "type": "scattergeo"
           }
          ],
          "scattergl": [
           {
            "marker": {
             "colorbar": {
              "outlinewidth": 0,
              "ticks": ""
             }
            },
            "type": "scattergl"
           }
          ],
          "scattermapbox": [
           {
            "marker": {
             "colorbar": {
              "outlinewidth": 0,
              "ticks": ""
             }
            },
            "type": "scattermapbox"
           }
          ],
          "scatterpolar": [
           {
            "marker": {
             "colorbar": {
              "outlinewidth": 0,
              "ticks": ""
             }
            },
            "type": "scatterpolar"
           }
          ],
          "scatterpolargl": [
           {
            "marker": {
             "colorbar": {
              "outlinewidth": 0,
              "ticks": ""
             }
            },
            "type": "scatterpolargl"
           }
          ],
          "scatterternary": [
           {
            "marker": {
             "colorbar": {
              "outlinewidth": 0,
              "ticks": ""
             }
            },
            "type": "scatterternary"
           }
          ],
          "surface": [
           {
            "colorbar": {
             "outlinewidth": 0,
             "ticks": ""
            },
            "colorscale": [
             [
              0,
              "#0d0887"
             ],
             [
              0.1111111111111111,
              "#46039f"
             ],
             [
              0.2222222222222222,
              "#7201a8"
             ],
             [
              0.3333333333333333,
              "#9c179e"
             ],
             [
              0.4444444444444444,
              "#bd3786"
             ],
             [
              0.5555555555555556,
              "#d8576b"
             ],
             [
              0.6666666666666666,
              "#ed7953"
             ],
             [
              0.7777777777777778,
              "#fb9f3a"
             ],
             [
              0.8888888888888888,
              "#fdca26"
             ],
             [
              1,
              "#f0f921"
             ]
            ],
            "type": "surface"
           }
          ],
          "table": [
           {
            "cells": {
             "fill": {
              "color": "#EBF0F8"
             },
             "line": {
              "color": "white"
             }
            },
            "header": {
             "fill": {
              "color": "#C8D4E3"
             },
             "line": {
              "color": "white"
             }
            },
            "type": "table"
           }
          ]
         },
         "layout": {
          "annotationdefaults": {
           "arrowcolor": "#2a3f5f",
           "arrowhead": 0,
           "arrowwidth": 1
          },
          "autotypenumbers": "strict",
          "coloraxis": {
           "colorbar": {
            "outlinewidth": 0,
            "ticks": ""
           }
          },
          "colorscale": {
           "diverging": [
            [
             0,
             "#8e0152"
            ],
            [
             0.1,
             "#c51b7d"
            ],
            [
             0.2,
             "#de77ae"
            ],
            [
             0.3,
             "#f1b6da"
            ],
            [
             0.4,
             "#fde0ef"
            ],
            [
             0.5,
             "#f7f7f7"
            ],
            [
             0.6,
             "#e6f5d0"
            ],
            [
             0.7,
             "#b8e186"
            ],
            [
             0.8,
             "#7fbc41"
            ],
            [
             0.9,
             "#4d9221"
            ],
            [
             1,
             "#276419"
            ]
           ],
           "sequential": [
            [
             0,
             "#0d0887"
            ],
            [
             0.1111111111111111,
             "#46039f"
            ],
            [
             0.2222222222222222,
             "#7201a8"
            ],
            [
             0.3333333333333333,
             "#9c179e"
            ],
            [
             0.4444444444444444,
             "#bd3786"
            ],
            [
             0.5555555555555556,
             "#d8576b"
            ],
            [
             0.6666666666666666,
             "#ed7953"
            ],
            [
             0.7777777777777778,
             "#fb9f3a"
            ],
            [
             0.8888888888888888,
             "#fdca26"
            ],
            [
             1,
             "#f0f921"
            ]
           ],
           "sequentialminus": [
            [
             0,
             "#0d0887"
            ],
            [
             0.1111111111111111,
             "#46039f"
            ],
            [
             0.2222222222222222,
             "#7201a8"
            ],
            [
             0.3333333333333333,
             "#9c179e"
            ],
            [
             0.4444444444444444,
             "#bd3786"
            ],
            [
             0.5555555555555556,
             "#d8576b"
            ],
            [
             0.6666666666666666,
             "#ed7953"
            ],
            [
             0.7777777777777778,
             "#fb9f3a"
            ],
            [
             0.8888888888888888,
             "#fdca26"
            ],
            [
             1,
             "#f0f921"
            ]
           ]
          },
          "colorway": [
           "#636efa",
           "#EF553B",
           "#00cc96",
           "#ab63fa",
           "#FFA15A",
           "#19d3f3",
           "#FF6692",
           "#B6E880",
           "#FF97FF",
           "#FECB52"
          ],
          "font": {
           "color": "#2a3f5f"
          },
          "geo": {
           "bgcolor": "white",
           "lakecolor": "white",
           "landcolor": "#E5ECF6",
           "showlakes": true,
           "showland": true,
           "subunitcolor": "white"
          },
          "hoverlabel": {
           "align": "left"
          },
          "hovermode": "closest",
          "mapbox": {
           "style": "light"
          },
          "paper_bgcolor": "white",
          "plot_bgcolor": "#E5ECF6",
          "polar": {
           "angularaxis": {
            "gridcolor": "white",
            "linecolor": "white",
            "ticks": ""
           },
           "bgcolor": "#E5ECF6",
           "radialaxis": {
            "gridcolor": "white",
            "linecolor": "white",
            "ticks": ""
           }
          },
          "scene": {
           "xaxis": {
            "backgroundcolor": "#E5ECF6",
            "gridcolor": "white",
            "gridwidth": 2,
            "linecolor": "white",
            "showbackground": true,
            "ticks": "",
            "zerolinecolor": "white"
           },
           "yaxis": {
            "backgroundcolor": "#E5ECF6",
            "gridcolor": "white",
            "gridwidth": 2,
            "linecolor": "white",
            "showbackground": true,
            "ticks": "",
            "zerolinecolor": "white"
           },
           "zaxis": {
            "backgroundcolor": "#E5ECF6",
            "gridcolor": "white",
            "gridwidth": 2,
            "linecolor": "white",
            "showbackground": true,
            "ticks": "",
            "zerolinecolor": "white"
           }
          },
          "shapedefaults": {
           "line": {
            "color": "#2a3f5f"
           }
          },
          "ternary": {
           "aaxis": {
            "gridcolor": "white",
            "linecolor": "white",
            "ticks": ""
           },
           "baxis": {
            "gridcolor": "white",
            "linecolor": "white",
            "ticks": ""
           },
           "bgcolor": "#E5ECF6",
           "caxis": {
            "gridcolor": "white",
            "linecolor": "white",
            "ticks": ""
           }
          },
          "title": {
           "x": 0.05
          },
          "xaxis": {
           "automargin": true,
           "gridcolor": "white",
           "linecolor": "white",
           "ticks": "",
           "title": {
            "standoff": 15
           },
           "zerolinecolor": "white",
           "zerolinewidth": 2
          },
          "yaxis": {
           "automargin": true,
           "gridcolor": "white",
           "linecolor": "white",
           "ticks": "",
           "title": {
            "standoff": 15
           },
           "zerolinecolor": "white",
           "zerolinewidth": 2
          }
         }
        },
        "title": {
         "text": "Optimization History Plot"
        },
        "xaxis": {
         "title": {
          "text": "Trial"
         }
        },
        "yaxis": {
         "title": {
          "text": "Objective Value"
         }
        }
       }
      }
     },
     "metadata": {},
     "output_type": "display_data"
    }
   ],
   "source": [
    "optuna.visualization.plot_optimization_history(study)"
   ]
  },
  {
   "cell_type": "code",
   "execution_count": 17,
   "metadata": {},
   "outputs": [
    {
     "data": {
      "application/vnd.plotly.v1+json": {
       "config": {
        "plotlyServerURL": "https://plot.ly"
       },
       "data": [
        {
         "cliponaxis": false,
         "hovertemplate": [
          "per_device_train_batch_size (CategoricalDistribution): 0.04406909168435037<extra></extra>",
          "weight_decay (CategoricalDistribution): 0.04587996115390323<extra></extra>",
          "learning_rate (FloatDistribution): 0.9100509471617464<extra></extra>"
         ],
         "name": "Objective Value",
         "orientation": "h",
         "text": [
          "0.04",
          "0.05",
          "0.91"
         ],
         "textposition": "outside",
         "type": "bar",
         "x": [
          0.04406909168435037,
          0.04587996115390323,
          0.9100509471617464
         ],
         "y": [
          "per_device_train_batch_size",
          "weight_decay",
          "learning_rate"
         ]
        }
       ],
       "layout": {
        "template": {
         "data": {
          "bar": [
           {
            "error_x": {
             "color": "#2a3f5f"
            },
            "error_y": {
             "color": "#2a3f5f"
            },
            "marker": {
             "line": {
              "color": "#E5ECF6",
              "width": 0.5
             },
             "pattern": {
              "fillmode": "overlay",
              "size": 10,
              "solidity": 0.2
             }
            },
            "type": "bar"
           }
          ],
          "barpolar": [
           {
            "marker": {
             "line": {
              "color": "#E5ECF6",
              "width": 0.5
             },
             "pattern": {
              "fillmode": "overlay",
              "size": 10,
              "solidity": 0.2
             }
            },
            "type": "barpolar"
           }
          ],
          "carpet": [
           {
            "aaxis": {
             "endlinecolor": "#2a3f5f",
             "gridcolor": "white",
             "linecolor": "white",
             "minorgridcolor": "white",
             "startlinecolor": "#2a3f5f"
            },
            "baxis": {
             "endlinecolor": "#2a3f5f",
             "gridcolor": "white",
             "linecolor": "white",
             "minorgridcolor": "white",
             "startlinecolor": "#2a3f5f"
            },
            "type": "carpet"
           }
          ],
          "choropleth": [
           {
            "colorbar": {
             "outlinewidth": 0,
             "ticks": ""
            },
            "type": "choropleth"
           }
          ],
          "contour": [
           {
            "colorbar": {
             "outlinewidth": 0,
             "ticks": ""
            },
            "colorscale": [
             [
              0,
              "#0d0887"
             ],
             [
              0.1111111111111111,
              "#46039f"
             ],
             [
              0.2222222222222222,
              "#7201a8"
             ],
             [
              0.3333333333333333,
              "#9c179e"
             ],
             [
              0.4444444444444444,
              "#bd3786"
             ],
             [
              0.5555555555555556,
              "#d8576b"
             ],
             [
              0.6666666666666666,
              "#ed7953"
             ],
             [
              0.7777777777777778,
              "#fb9f3a"
             ],
             [
              0.8888888888888888,
              "#fdca26"
             ],
             [
              1,
              "#f0f921"
             ]
            ],
            "type": "contour"
           }
          ],
          "contourcarpet": [
           {
            "colorbar": {
             "outlinewidth": 0,
             "ticks": ""
            },
            "type": "contourcarpet"
           }
          ],
          "heatmap": [
           {
            "colorbar": {
             "outlinewidth": 0,
             "ticks": ""
            },
            "colorscale": [
             [
              0,
              "#0d0887"
             ],
             [
              0.1111111111111111,
              "#46039f"
             ],
             [
              0.2222222222222222,
              "#7201a8"
             ],
             [
              0.3333333333333333,
              "#9c179e"
             ],
             [
              0.4444444444444444,
              "#bd3786"
             ],
             [
              0.5555555555555556,
              "#d8576b"
             ],
             [
              0.6666666666666666,
              "#ed7953"
             ],
             [
              0.7777777777777778,
              "#fb9f3a"
             ],
             [
              0.8888888888888888,
              "#fdca26"
             ],
             [
              1,
              "#f0f921"
             ]
            ],
            "type": "heatmap"
           }
          ],
          "heatmapgl": [
           {
            "colorbar": {
             "outlinewidth": 0,
             "ticks": ""
            },
            "colorscale": [
             [
              0,
              "#0d0887"
             ],
             [
              0.1111111111111111,
              "#46039f"
             ],
             [
              0.2222222222222222,
              "#7201a8"
             ],
             [
              0.3333333333333333,
              "#9c179e"
             ],
             [
              0.4444444444444444,
              "#bd3786"
             ],
             [
              0.5555555555555556,
              "#d8576b"
             ],
             [
              0.6666666666666666,
              "#ed7953"
             ],
             [
              0.7777777777777778,
              "#fb9f3a"
             ],
             [
              0.8888888888888888,
              "#fdca26"
             ],
             [
              1,
              "#f0f921"
             ]
            ],
            "type": "heatmapgl"
           }
          ],
          "histogram": [
           {
            "marker": {
             "pattern": {
              "fillmode": "overlay",
              "size": 10,
              "solidity": 0.2
             }
            },
            "type": "histogram"
           }
          ],
          "histogram2d": [
           {
            "colorbar": {
             "outlinewidth": 0,
             "ticks": ""
            },
            "colorscale": [
             [
              0,
              "#0d0887"
             ],
             [
              0.1111111111111111,
              "#46039f"
             ],
             [
              0.2222222222222222,
              "#7201a8"
             ],
             [
              0.3333333333333333,
              "#9c179e"
             ],
             [
              0.4444444444444444,
              "#bd3786"
             ],
             [
              0.5555555555555556,
              "#d8576b"
             ],
             [
              0.6666666666666666,
              "#ed7953"
             ],
             [
              0.7777777777777778,
              "#fb9f3a"
             ],
             [
              0.8888888888888888,
              "#fdca26"
             ],
             [
              1,
              "#f0f921"
             ]
            ],
            "type": "histogram2d"
           }
          ],
          "histogram2dcontour": [
           {
            "colorbar": {
             "outlinewidth": 0,
             "ticks": ""
            },
            "colorscale": [
             [
              0,
              "#0d0887"
             ],
             [
              0.1111111111111111,
              "#46039f"
             ],
             [
              0.2222222222222222,
              "#7201a8"
             ],
             [
              0.3333333333333333,
              "#9c179e"
             ],
             [
              0.4444444444444444,
              "#bd3786"
             ],
             [
              0.5555555555555556,
              "#d8576b"
             ],
             [
              0.6666666666666666,
              "#ed7953"
             ],
             [
              0.7777777777777778,
              "#fb9f3a"
             ],
             [
              0.8888888888888888,
              "#fdca26"
             ],
             [
              1,
              "#f0f921"
             ]
            ],
            "type": "histogram2dcontour"
           }
          ],
          "mesh3d": [
           {
            "colorbar": {
             "outlinewidth": 0,
             "ticks": ""
            },
            "type": "mesh3d"
           }
          ],
          "parcoords": [
           {
            "line": {
             "colorbar": {
              "outlinewidth": 0,
              "ticks": ""
             }
            },
            "type": "parcoords"
           }
          ],
          "pie": [
           {
            "automargin": true,
            "type": "pie"
           }
          ],
          "scatter": [
           {
            "fillpattern": {
             "fillmode": "overlay",
             "size": 10,
             "solidity": 0.2
            },
            "type": "scatter"
           }
          ],
          "scatter3d": [
           {
            "line": {
             "colorbar": {
              "outlinewidth": 0,
              "ticks": ""
             }
            },
            "marker": {
             "colorbar": {
              "outlinewidth": 0,
              "ticks": ""
             }
            },
            "type": "scatter3d"
           }
          ],
          "scattercarpet": [
           {
            "marker": {
             "colorbar": {
              "outlinewidth": 0,
              "ticks": ""
             }
            },
            "type": "scattercarpet"
           }
          ],
          "scattergeo": [
           {
            "marker": {
             "colorbar": {
              "outlinewidth": 0,
              "ticks": ""
             }
            },
            "type": "scattergeo"
           }
          ],
          "scattergl": [
           {
            "marker": {
             "colorbar": {
              "outlinewidth": 0,
              "ticks": ""
             }
            },
            "type": "scattergl"
           }
          ],
          "scattermapbox": [
           {
            "marker": {
             "colorbar": {
              "outlinewidth": 0,
              "ticks": ""
             }
            },
            "type": "scattermapbox"
           }
          ],
          "scatterpolar": [
           {
            "marker": {
             "colorbar": {
              "outlinewidth": 0,
              "ticks": ""
             }
            },
            "type": "scatterpolar"
           }
          ],
          "scatterpolargl": [
           {
            "marker": {
             "colorbar": {
              "outlinewidth": 0,
              "ticks": ""
             }
            },
            "type": "scatterpolargl"
           }
          ],
          "scatterternary": [
           {
            "marker": {
             "colorbar": {
              "outlinewidth": 0,
              "ticks": ""
             }
            },
            "type": "scatterternary"
           }
          ],
          "surface": [
           {
            "colorbar": {
             "outlinewidth": 0,
             "ticks": ""
            },
            "colorscale": [
             [
              0,
              "#0d0887"
             ],
             [
              0.1111111111111111,
              "#46039f"
             ],
             [
              0.2222222222222222,
              "#7201a8"
             ],
             [
              0.3333333333333333,
              "#9c179e"
             ],
             [
              0.4444444444444444,
              "#bd3786"
             ],
             [
              0.5555555555555556,
              "#d8576b"
             ],
             [
              0.6666666666666666,
              "#ed7953"
             ],
             [
              0.7777777777777778,
              "#fb9f3a"
             ],
             [
              0.8888888888888888,
              "#fdca26"
             ],
             [
              1,
              "#f0f921"
             ]
            ],
            "type": "surface"
           }
          ],
          "table": [
           {
            "cells": {
             "fill": {
              "color": "#EBF0F8"
             },
             "line": {
              "color": "white"
             }
            },
            "header": {
             "fill": {
              "color": "#C8D4E3"
             },
             "line": {
              "color": "white"
             }
            },
            "type": "table"
           }
          ]
         },
         "layout": {
          "annotationdefaults": {
           "arrowcolor": "#2a3f5f",
           "arrowhead": 0,
           "arrowwidth": 1
          },
          "autotypenumbers": "strict",
          "coloraxis": {
           "colorbar": {
            "outlinewidth": 0,
            "ticks": ""
           }
          },
          "colorscale": {
           "diverging": [
            [
             0,
             "#8e0152"
            ],
            [
             0.1,
             "#c51b7d"
            ],
            [
             0.2,
             "#de77ae"
            ],
            [
             0.3,
             "#f1b6da"
            ],
            [
             0.4,
             "#fde0ef"
            ],
            [
             0.5,
             "#f7f7f7"
            ],
            [
             0.6,
             "#e6f5d0"
            ],
            [
             0.7,
             "#b8e186"
            ],
            [
             0.8,
             "#7fbc41"
            ],
            [
             0.9,
             "#4d9221"
            ],
            [
             1,
             "#276419"
            ]
           ],
           "sequential": [
            [
             0,
             "#0d0887"
            ],
            [
             0.1111111111111111,
             "#46039f"
            ],
            [
             0.2222222222222222,
             "#7201a8"
            ],
            [
             0.3333333333333333,
             "#9c179e"
            ],
            [
             0.4444444444444444,
             "#bd3786"
            ],
            [
             0.5555555555555556,
             "#d8576b"
            ],
            [
             0.6666666666666666,
             "#ed7953"
            ],
            [
             0.7777777777777778,
             "#fb9f3a"
            ],
            [
             0.8888888888888888,
             "#fdca26"
            ],
            [
             1,
             "#f0f921"
            ]
           ],
           "sequentialminus": [
            [
             0,
             "#0d0887"
            ],
            [
             0.1111111111111111,
             "#46039f"
            ],
            [
             0.2222222222222222,
             "#7201a8"
            ],
            [
             0.3333333333333333,
             "#9c179e"
            ],
            [
             0.4444444444444444,
             "#bd3786"
            ],
            [
             0.5555555555555556,
             "#d8576b"
            ],
            [
             0.6666666666666666,
             "#ed7953"
            ],
            [
             0.7777777777777778,
             "#fb9f3a"
            ],
            [
             0.8888888888888888,
             "#fdca26"
            ],
            [
             1,
             "#f0f921"
            ]
           ]
          },
          "colorway": [
           "#636efa",
           "#EF553B",
           "#00cc96",
           "#ab63fa",
           "#FFA15A",
           "#19d3f3",
           "#FF6692",
           "#B6E880",
           "#FF97FF",
           "#FECB52"
          ],
          "font": {
           "color": "#2a3f5f"
          },
          "geo": {
           "bgcolor": "white",
           "lakecolor": "white",
           "landcolor": "#E5ECF6",
           "showlakes": true,
           "showland": true,
           "subunitcolor": "white"
          },
          "hoverlabel": {
           "align": "left"
          },
          "hovermode": "closest",
          "mapbox": {
           "style": "light"
          },
          "paper_bgcolor": "white",
          "plot_bgcolor": "#E5ECF6",
          "polar": {
           "angularaxis": {
            "gridcolor": "white",
            "linecolor": "white",
            "ticks": ""
           },
           "bgcolor": "#E5ECF6",
           "radialaxis": {
            "gridcolor": "white",
            "linecolor": "white",
            "ticks": ""
           }
          },
          "scene": {
           "xaxis": {
            "backgroundcolor": "#E5ECF6",
            "gridcolor": "white",
            "gridwidth": 2,
            "linecolor": "white",
            "showbackground": true,
            "ticks": "",
            "zerolinecolor": "white"
           },
           "yaxis": {
            "backgroundcolor": "#E5ECF6",
            "gridcolor": "white",
            "gridwidth": 2,
            "linecolor": "white",
            "showbackground": true,
            "ticks": "",
            "zerolinecolor": "white"
           },
           "zaxis": {
            "backgroundcolor": "#E5ECF6",
            "gridcolor": "white",
            "gridwidth": 2,
            "linecolor": "white",
            "showbackground": true,
            "ticks": "",
            "zerolinecolor": "white"
           }
          },
          "shapedefaults": {
           "line": {
            "color": "#2a3f5f"
           }
          },
          "ternary": {
           "aaxis": {
            "gridcolor": "white",
            "linecolor": "white",
            "ticks": ""
           },
           "baxis": {
            "gridcolor": "white",
            "linecolor": "white",
            "ticks": ""
           },
           "bgcolor": "#E5ECF6",
           "caxis": {
            "gridcolor": "white",
            "linecolor": "white",
            "ticks": ""
           }
          },
          "title": {
           "x": 0.05
          },
          "xaxis": {
           "automargin": true,
           "gridcolor": "white",
           "linecolor": "white",
           "ticks": "",
           "title": {
            "standoff": 15
           },
           "zerolinecolor": "white",
           "zerolinewidth": 2
          },
          "yaxis": {
           "automargin": true,
           "gridcolor": "white",
           "linecolor": "white",
           "ticks": "",
           "title": {
            "standoff": 15
           },
           "zerolinecolor": "white",
           "zerolinewidth": 2
          }
         }
        },
        "title": {
         "text": "Hyperparameter Importances"
        },
        "xaxis": {
         "title": {
          "text": "Hyperparameter Importance"
         }
        },
        "yaxis": {
         "title": {
          "text": "Hyperparameter"
         }
        }
       }
      }
     },
     "metadata": {},
     "output_type": "display_data"
    }
   ],
   "source": [
    "optuna.visualization.plot_param_importances(study)"
   ]
  },
  {
   "cell_type": "code",
   "execution_count": 18,
   "metadata": {},
   "outputs": [
    {
     "data": {
      "application/vnd.plotly.v1+json": {
       "config": {
        "plotlyServerURL": "https://plot.ly"
       },
       "data": [
        {
         "type": "scatter",
         "xaxis": "x",
         "yaxis": "y"
        },
        {
         "colorbar": {
          "title": {
           "text": "Objective Value"
          }
         },
         "colorscale": [
          [
           0,
           "rgb(247,251,255)"
          ],
          [
           0.125,
           "rgb(222,235,247)"
          ],
          [
           0.25,
           "rgb(198,219,239)"
          ],
          [
           0.375,
           "rgb(158,202,225)"
          ],
          [
           0.5,
           "rgb(107,174,214)"
          ],
          [
           0.625,
           "rgb(66,146,198)"
          ],
          [
           0.75,
           "rgb(33,113,181)"
          ],
          [
           0.875,
           "rgb(8,81,156)"
          ],
          [
           1,
           "rgb(8,48,107)"
          ]
         ],
         "connectgaps": true,
         "contours": {
          "coloring": "heatmap"
         },
         "hoverinfo": "none",
         "line": {
          "smoothing": 1.3
         },
         "reversescale": false,
         "showscale": true,
         "type": "contour",
         "x": [
          0.0000013138801390979442,
          0.000001741900297165511,
          0.0000034224081917243294,
          0.000025023823060166362,
          0.00004003920490135503,
          0.00004993333226251063,
          0.0000507378549827844,
          0.000051911574473019846,
          0.00005299180411495199,
          0.00006776716658900994,
          0.0004902010107030299,
          0.0006498928332996053
         ],
         "xaxis": "x4",
         "y": [
          2.5999999999999996,
          4,
          8,
          16,
          32,
          33.4
         ],
         "yaxis": "y4",
         "z": [
          [
           null,
           null,
           null,
           null,
           null,
           null,
           null,
           null,
           null,
           null,
           null,
           null
          ],
          [
           null,
           null,
           null,
           0.75,
           null,
           null,
           null,
           null,
           null,
           null,
           null,
           null
          ],
          [
           null,
           null,
           0.7446808510638298,
           null,
           null,
           null,
           null,
           null,
           null,
           null,
           null,
           null
          ],
          [
           null,
           null,
           null,
           null,
           0.8,
           null,
           null,
           null,
           null,
           null,
           null,
           null
          ],
          [
           null,
           0,
           null,
           null,
           null,
           0.8,
           0.7848101265822784,
           0.8,
           0.7804878048780488,
           0.7951807228915663,
           0.7289719626168224,
           null
          ],
          [
           null,
           null,
           null,
           null,
           null,
           null,
           null,
           null,
           null,
           null,
           null,
           null
          ]
         ]
        },
        {
         "marker": {
          "color": "black",
          "line": {
           "color": "Gray",
           "width": 2
          }
         },
         "mode": "markers",
         "name": "Feasible Trial",
         "showlegend": false,
         "type": "scatter",
         "x": [
          0.0004902010107030299,
          0.000025023823060166362,
          0.000001741900297165511,
          0.00004003920490135503,
          0.0000034224081917243294,
          0.00006776716658900994,
          0.000051911574473019846,
          0.0000507378549827844,
          0.00005299180411495199,
          0.00004993333226251063
         ],
         "xaxis": "x4",
         "y": [
          32,
          4,
          32,
          16,
          8,
          32,
          32,
          32,
          32,
          32
         ],
         "yaxis": "y4"
        },
        {
         "colorbar": {
          "title": {
           "text": "Objective Value"
          }
         },
         "colorscale": [
          [
           0,
           "rgb(247,251,255)"
          ],
          [
           0.125,
           "rgb(222,235,247)"
          ],
          [
           0.25,
           "rgb(198,219,239)"
          ],
          [
           0.375,
           "rgb(158,202,225)"
          ],
          [
           0.5,
           "rgb(107,174,214)"
          ],
          [
           0.625,
           "rgb(66,146,198)"
          ],
          [
           0.75,
           "rgb(33,113,181)"
          ],
          [
           0.875,
           "rgb(8,81,156)"
          ],
          [
           1,
           "rgb(8,48,107)"
          ]
         ],
         "connectgaps": true,
         "contours": {
          "coloring": "heatmap"
         },
         "hoverinfo": "none",
         "line": {
          "smoothing": 1.3
         },
         "reversescale": false,
         "showscale": false,
         "type": "contour",
         "x": [
          0.0000013138801390979442,
          0.000001741900297165511,
          0.0000034224081917243294,
          0.000025023823060166362,
          0.00004003920490135503,
          0.00004993333226251063,
          0.0000507378549827844,
          0.000051911574473019846,
          0.00005299180411495199,
          0.00006776716658900994,
          0.0004902010107030299,
          0.0006498928332996053
         ],
         "xaxis": "x7",
         "y": [
          -0.005000000000000001,
          0,
          0.1,
          0.10500000000000001
         ],
         "yaxis": "y7",
         "z": [
          [
           null,
           null,
           null,
           null,
           null,
           null,
           null,
           null,
           null,
           null,
           null,
           null
          ],
          [
           null,
           null,
           null,
           null,
           0.8,
           null,
           0.7848101265822784,
           0.8,
           null,
           null,
           null,
           null
          ],
          [
           null,
           0,
           0.7446808510638298,
           0.75,
           null,
           0.8,
           null,
           null,
           0.7804878048780488,
           0.7951807228915663,
           0.7289719626168224,
           null
          ],
          [
           null,
           null,
           null,
           null,
           null,
           null,
           null,
           null,
           null,
           null,
           null,
           null
          ]
         ]
        },
        {
         "marker": {
          "color": "black",
          "line": {
           "color": "Gray",
           "width": 2
          }
         },
         "mode": "markers",
         "name": "Feasible Trial",
         "showlegend": false,
         "type": "scatter",
         "x": [
          0.0004902010107030299,
          0.000025023823060166362,
          0.000001741900297165511,
          0.00004003920490135503,
          0.0000034224081917243294,
          0.00006776716658900994,
          0.000051911574473019846,
          0.0000507378549827844,
          0.00005299180411495199,
          0.00004993333226251063
         ],
         "xaxis": "x7",
         "y": [
          0.1,
          0.1,
          0.1,
          0,
          0.1,
          0.1,
          0,
          0,
          0.1,
          0.1
         ],
         "yaxis": "y7"
        },
        {
         "colorbar": {
          "title": {
           "text": "Objective Value"
          }
         },
         "colorscale": [
          [
           0,
           "rgb(247,251,255)"
          ],
          [
           0.125,
           "rgb(222,235,247)"
          ],
          [
           0.25,
           "rgb(198,219,239)"
          ],
          [
           0.375,
           "rgb(158,202,225)"
          ],
          [
           0.5,
           "rgb(107,174,214)"
          ],
          [
           0.625,
           "rgb(66,146,198)"
          ],
          [
           0.75,
           "rgb(33,113,181)"
          ],
          [
           0.875,
           "rgb(8,81,156)"
          ],
          [
           1,
           "rgb(8,48,107)"
          ]
         ],
         "connectgaps": true,
         "contours": {
          "coloring": "heatmap"
         },
         "hoverinfo": "none",
         "line": {
          "smoothing": 1.3
         },
         "reversescale": false,
         "showscale": false,
         "type": "contour",
         "x": [
          2.5999999999999996,
          4,
          8,
          16,
          32,
          33.4
         ],
         "xaxis": "x2",
         "y": [
          0.0000013138801390979442,
          0.000001741900297165511,
          0.0000034224081917243294,
          0.000025023823060166362,
          0.00004003920490135503,
          0.00004993333226251063,
          0.0000507378549827844,
          0.000051911574473019846,
          0.00005299180411495199,
          0.00006776716658900994,
          0.0004902010107030299,
          0.0006498928332996053
         ],
         "yaxis": "y2",
         "z": [
          [
           null,
           null,
           null,
           null,
           null,
           null
          ],
          [
           null,
           null,
           null,
           null,
           0,
           null
          ],
          [
           null,
           null,
           0.7446808510638298,
           null,
           null,
           null
          ],
          [
           null,
           0.75,
           null,
           null,
           null,
           null
          ],
          [
           null,
           null,
           null,
           0.8,
           null,
           null
          ],
          [
           null,
           null,
           null,
           null,
           0.8,
           null
          ],
          [
           null,
           null,
           null,
           null,
           0.7848101265822784,
           null
          ],
          [
           null,
           null,
           null,
           null,
           0.8,
           null
          ],
          [
           null,
           null,
           null,
           null,
           0.7804878048780488,
           null
          ],
          [
           null,
           null,
           null,
           null,
           0.7951807228915663,
           null
          ],
          [
           null,
           null,
           null,
           null,
           0.7289719626168224,
           null
          ],
          [
           null,
           null,
           null,
           null,
           null,
           null
          ]
         ]
        },
        {
         "marker": {
          "color": "black",
          "line": {
           "color": "Gray",
           "width": 2
          }
         },
         "mode": "markers",
         "name": "Feasible Trial",
         "showlegend": false,
         "type": "scatter",
         "x": [
          32,
          4,
          32,
          16,
          8,
          32,
          32,
          32,
          32,
          32
         ],
         "xaxis": "x2",
         "y": [
          0.0004902010107030299,
          0.000025023823060166362,
          0.000001741900297165511,
          0.00004003920490135503,
          0.0000034224081917243294,
          0.00006776716658900994,
          0.000051911574473019846,
          0.0000507378549827844,
          0.00005299180411495199,
          0.00004993333226251063
         ],
         "yaxis": "y2"
        },
        {
         "type": "scatter",
         "xaxis": "x5",
         "yaxis": "y5"
        },
        {
         "colorbar": {
          "title": {
           "text": "Objective Value"
          }
         },
         "colorscale": [
          [
           0,
           "rgb(247,251,255)"
          ],
          [
           0.125,
           "rgb(222,235,247)"
          ],
          [
           0.25,
           "rgb(198,219,239)"
          ],
          [
           0.375,
           "rgb(158,202,225)"
          ],
          [
           0.5,
           "rgb(107,174,214)"
          ],
          [
           0.625,
           "rgb(66,146,198)"
          ],
          [
           0.75,
           "rgb(33,113,181)"
          ],
          [
           0.875,
           "rgb(8,81,156)"
          ],
          [
           1,
           "rgb(8,48,107)"
          ]
         ],
         "connectgaps": true,
         "contours": {
          "coloring": "heatmap"
         },
         "hoverinfo": "none",
         "line": {
          "smoothing": 1.3
         },
         "reversescale": false,
         "showscale": false,
         "type": "contour",
         "x": [
          2.5999999999999996,
          4,
          8,
          16,
          32,
          33.4
         ],
         "xaxis": "x8",
         "y": [
          -0.005000000000000001,
          0,
          0.1,
          0.10500000000000001
         ],
         "yaxis": "y8",
         "z": [
          [
           null,
           null,
           null,
           null,
           null,
           null
          ],
          [
           null,
           null,
           null,
           0.8,
           0.8,
           null
          ],
          [
           null,
           0.75,
           0.7446808510638298,
           null,
           0.8,
           null
          ],
          [
           null,
           null,
           null,
           null,
           null,
           null
          ]
         ]
        },
        {
         "marker": {
          "color": "black",
          "line": {
           "color": "Gray",
           "width": 2
          }
         },
         "mode": "markers",
         "name": "Feasible Trial",
         "showlegend": false,
         "type": "scatter",
         "x": [
          32,
          4,
          32,
          16,
          8,
          32,
          32,
          32,
          32,
          32
         ],
         "xaxis": "x8",
         "y": [
          0.1,
          0.1,
          0.1,
          0,
          0.1,
          0.1,
          0,
          0,
          0.1,
          0.1
         ],
         "yaxis": "y8"
        },
        {
         "colorbar": {
          "title": {
           "text": "Objective Value"
          }
         },
         "colorscale": [
          [
           0,
           "rgb(247,251,255)"
          ],
          [
           0.125,
           "rgb(222,235,247)"
          ],
          [
           0.25,
           "rgb(198,219,239)"
          ],
          [
           0.375,
           "rgb(158,202,225)"
          ],
          [
           0.5,
           "rgb(107,174,214)"
          ],
          [
           0.625,
           "rgb(66,146,198)"
          ],
          [
           0.75,
           "rgb(33,113,181)"
          ],
          [
           0.875,
           "rgb(8,81,156)"
          ],
          [
           1,
           "rgb(8,48,107)"
          ]
         ],
         "connectgaps": true,
         "contours": {
          "coloring": "heatmap"
         },
         "hoverinfo": "none",
         "line": {
          "smoothing": 1.3
         },
         "reversescale": false,
         "showscale": false,
         "type": "contour",
         "x": [
          -0.005000000000000001,
          0,
          0.1,
          0.10500000000000001
         ],
         "xaxis": "x3",
         "y": [
          0.0000013138801390979442,
          0.000001741900297165511,
          0.0000034224081917243294,
          0.000025023823060166362,
          0.00004003920490135503,
          0.00004993333226251063,
          0.0000507378549827844,
          0.000051911574473019846,
          0.00005299180411495199,
          0.00006776716658900994,
          0.0004902010107030299,
          0.0006498928332996053
         ],
         "yaxis": "y3",
         "z": [
          [
           null,
           null,
           null,
           null
          ],
          [
           null,
           null,
           0,
           null
          ],
          [
           null,
           null,
           0.7446808510638298,
           null
          ],
          [
           null,
           null,
           0.75,
           null
          ],
          [
           null,
           0.8,
           null,
           null
          ],
          [
           null,
           null,
           0.8,
           null
          ],
          [
           null,
           0.7848101265822784,
           null,
           null
          ],
          [
           null,
           0.8,
           null,
           null
          ],
          [
           null,
           null,
           0.7804878048780488,
           null
          ],
          [
           null,
           null,
           0.7951807228915663,
           null
          ],
          [
           null,
           null,
           0.7289719626168224,
           null
          ],
          [
           null,
           null,
           null,
           null
          ]
         ]
        },
        {
         "marker": {
          "color": "black",
          "line": {
           "color": "Gray",
           "width": 2
          }
         },
         "mode": "markers",
         "name": "Feasible Trial",
         "showlegend": false,
         "type": "scatter",
         "x": [
          0.1,
          0.1,
          0.1,
          0,
          0.1,
          0.1,
          0,
          0,
          0.1,
          0.1
         ],
         "xaxis": "x3",
         "y": [
          0.0004902010107030299,
          0.000025023823060166362,
          0.000001741900297165511,
          0.00004003920490135503,
          0.0000034224081917243294,
          0.00006776716658900994,
          0.000051911574473019846,
          0.0000507378549827844,
          0.00005299180411495199,
          0.00004993333226251063
         ],
         "yaxis": "y3"
        },
        {
         "colorbar": {
          "title": {
           "text": "Objective Value"
          }
         },
         "colorscale": [
          [
           0,
           "rgb(247,251,255)"
          ],
          [
           0.125,
           "rgb(222,235,247)"
          ],
          [
           0.25,
           "rgb(198,219,239)"
          ],
          [
           0.375,
           "rgb(158,202,225)"
          ],
          [
           0.5,
           "rgb(107,174,214)"
          ],
          [
           0.625,
           "rgb(66,146,198)"
          ],
          [
           0.75,
           "rgb(33,113,181)"
          ],
          [
           0.875,
           "rgb(8,81,156)"
          ],
          [
           1,
           "rgb(8,48,107)"
          ]
         ],
         "connectgaps": true,
         "contours": {
          "coloring": "heatmap"
         },
         "hoverinfo": "none",
         "line": {
          "smoothing": 1.3
         },
         "reversescale": false,
         "showscale": false,
         "type": "contour",
         "x": [
          -0.005000000000000001,
          0,
          0.1,
          0.10500000000000001
         ],
         "xaxis": "x6",
         "y": [
          2.5999999999999996,
          4,
          8,
          16,
          32,
          33.4
         ],
         "yaxis": "y6",
         "z": [
          [
           null,
           null,
           null,
           null
          ],
          [
           null,
           null,
           0.75,
           null
          ],
          [
           null,
           null,
           0.7446808510638298,
           null
          ],
          [
           null,
           0.8,
           null,
           null
          ],
          [
           null,
           0.8,
           0.8,
           null
          ],
          [
           null,
           null,
           null,
           null
          ]
         ]
        },
        {
         "marker": {
          "color": "black",
          "line": {
           "color": "Gray",
           "width": 2
          }
         },
         "mode": "markers",
         "name": "Feasible Trial",
         "showlegend": false,
         "type": "scatter",
         "x": [
          0.1,
          0.1,
          0.1,
          0,
          0.1,
          0.1,
          0,
          0,
          0.1,
          0.1
         ],
         "xaxis": "x6",
         "y": [
          32,
          4,
          32,
          16,
          8,
          32,
          32,
          32,
          32,
          32
         ],
         "yaxis": "y6"
        },
        {
         "type": "scatter",
         "xaxis": "x9",
         "yaxis": "y9"
        }
       ],
       "layout": {
        "template": {
         "data": {
          "bar": [
           {
            "error_x": {
             "color": "#2a3f5f"
            },
            "error_y": {
             "color": "#2a3f5f"
            },
            "marker": {
             "line": {
              "color": "#E5ECF6",
              "width": 0.5
             },
             "pattern": {
              "fillmode": "overlay",
              "size": 10,
              "solidity": 0.2
             }
            },
            "type": "bar"
           }
          ],
          "barpolar": [
           {
            "marker": {
             "line": {
              "color": "#E5ECF6",
              "width": 0.5
             },
             "pattern": {
              "fillmode": "overlay",
              "size": 10,
              "solidity": 0.2
             }
            },
            "type": "barpolar"
           }
          ],
          "carpet": [
           {
            "aaxis": {
             "endlinecolor": "#2a3f5f",
             "gridcolor": "white",
             "linecolor": "white",
             "minorgridcolor": "white",
             "startlinecolor": "#2a3f5f"
            },
            "baxis": {
             "endlinecolor": "#2a3f5f",
             "gridcolor": "white",
             "linecolor": "white",
             "minorgridcolor": "white",
             "startlinecolor": "#2a3f5f"
            },
            "type": "carpet"
           }
          ],
          "choropleth": [
           {
            "colorbar": {
             "outlinewidth": 0,
             "ticks": ""
            },
            "type": "choropleth"
           }
          ],
          "contour": [
           {
            "colorbar": {
             "outlinewidth": 0,
             "ticks": ""
            },
            "colorscale": [
             [
              0,
              "#0d0887"
             ],
             [
              0.1111111111111111,
              "#46039f"
             ],
             [
              0.2222222222222222,
              "#7201a8"
             ],
             [
              0.3333333333333333,
              "#9c179e"
             ],
             [
              0.4444444444444444,
              "#bd3786"
             ],
             [
              0.5555555555555556,
              "#d8576b"
             ],
             [
              0.6666666666666666,
              "#ed7953"
             ],
             [
              0.7777777777777778,
              "#fb9f3a"
             ],
             [
              0.8888888888888888,
              "#fdca26"
             ],
             [
              1,
              "#f0f921"
             ]
            ],
            "type": "contour"
           }
          ],
          "contourcarpet": [
           {
            "colorbar": {
             "outlinewidth": 0,
             "ticks": ""
            },
            "type": "contourcarpet"
           }
          ],
          "heatmap": [
           {
            "colorbar": {
             "outlinewidth": 0,
             "ticks": ""
            },
            "colorscale": [
             [
              0,
              "#0d0887"
             ],
             [
              0.1111111111111111,
              "#46039f"
             ],
             [
              0.2222222222222222,
              "#7201a8"
             ],
             [
              0.3333333333333333,
              "#9c179e"
             ],
             [
              0.4444444444444444,
              "#bd3786"
             ],
             [
              0.5555555555555556,
              "#d8576b"
             ],
             [
              0.6666666666666666,
              "#ed7953"
             ],
             [
              0.7777777777777778,
              "#fb9f3a"
             ],
             [
              0.8888888888888888,
              "#fdca26"
             ],
             [
              1,
              "#f0f921"
             ]
            ],
            "type": "heatmap"
           }
          ],
          "heatmapgl": [
           {
            "colorbar": {
             "outlinewidth": 0,
             "ticks": ""
            },
            "colorscale": [
             [
              0,
              "#0d0887"
             ],
             [
              0.1111111111111111,
              "#46039f"
             ],
             [
              0.2222222222222222,
              "#7201a8"
             ],
             [
              0.3333333333333333,
              "#9c179e"
             ],
             [
              0.4444444444444444,
              "#bd3786"
             ],
             [
              0.5555555555555556,
              "#d8576b"
             ],
             [
              0.6666666666666666,
              "#ed7953"
             ],
             [
              0.7777777777777778,
              "#fb9f3a"
             ],
             [
              0.8888888888888888,
              "#fdca26"
             ],
             [
              1,
              "#f0f921"
             ]
            ],
            "type": "heatmapgl"
           }
          ],
          "histogram": [
           {
            "marker": {
             "pattern": {
              "fillmode": "overlay",
              "size": 10,
              "solidity": 0.2
             }
            },
            "type": "histogram"
           }
          ],
          "histogram2d": [
           {
            "colorbar": {
             "outlinewidth": 0,
             "ticks": ""
            },
            "colorscale": [
             [
              0,
              "#0d0887"
             ],
             [
              0.1111111111111111,
              "#46039f"
             ],
             [
              0.2222222222222222,
              "#7201a8"
             ],
             [
              0.3333333333333333,
              "#9c179e"
             ],
             [
              0.4444444444444444,
              "#bd3786"
             ],
             [
              0.5555555555555556,
              "#d8576b"
             ],
             [
              0.6666666666666666,
              "#ed7953"
             ],
             [
              0.7777777777777778,
              "#fb9f3a"
             ],
             [
              0.8888888888888888,
              "#fdca26"
             ],
             [
              1,
              "#f0f921"
             ]
            ],
            "type": "histogram2d"
           }
          ],
          "histogram2dcontour": [
           {
            "colorbar": {
             "outlinewidth": 0,
             "ticks": ""
            },
            "colorscale": [
             [
              0,
              "#0d0887"
             ],
             [
              0.1111111111111111,
              "#46039f"
             ],
             [
              0.2222222222222222,
              "#7201a8"
             ],
             [
              0.3333333333333333,
              "#9c179e"
             ],
             [
              0.4444444444444444,
              "#bd3786"
             ],
             [
              0.5555555555555556,
              "#d8576b"
             ],
             [
              0.6666666666666666,
              "#ed7953"
             ],
             [
              0.7777777777777778,
              "#fb9f3a"
             ],
             [
              0.8888888888888888,
              "#fdca26"
             ],
             [
              1,
              "#f0f921"
             ]
            ],
            "type": "histogram2dcontour"
           }
          ],
          "mesh3d": [
           {
            "colorbar": {
             "outlinewidth": 0,
             "ticks": ""
            },
            "type": "mesh3d"
           }
          ],
          "parcoords": [
           {
            "line": {
             "colorbar": {
              "outlinewidth": 0,
              "ticks": ""
             }
            },
            "type": "parcoords"
           }
          ],
          "pie": [
           {
            "automargin": true,
            "type": "pie"
           }
          ],
          "scatter": [
           {
            "fillpattern": {
             "fillmode": "overlay",
             "size": 10,
             "solidity": 0.2
            },
            "type": "scatter"
           }
          ],
          "scatter3d": [
           {
            "line": {
             "colorbar": {
              "outlinewidth": 0,
              "ticks": ""
             }
            },
            "marker": {
             "colorbar": {
              "outlinewidth": 0,
              "ticks": ""
             }
            },
            "type": "scatter3d"
           }
          ],
          "scattercarpet": [
           {
            "marker": {
             "colorbar": {
              "outlinewidth": 0,
              "ticks": ""
             }
            },
            "type": "scattercarpet"
           }
          ],
          "scattergeo": [
           {
            "marker": {
             "colorbar": {
              "outlinewidth": 0,
              "ticks": ""
             }
            },
            "type": "scattergeo"
           }
          ],
          "scattergl": [
           {
            "marker": {
             "colorbar": {
              "outlinewidth": 0,
              "ticks": ""
             }
            },
            "type": "scattergl"
           }
          ],
          "scattermapbox": [
           {
            "marker": {
             "colorbar": {
              "outlinewidth": 0,
              "ticks": ""
             }
            },
            "type": "scattermapbox"
           }
          ],
          "scatterpolar": [
           {
            "marker": {
             "colorbar": {
              "outlinewidth": 0,
              "ticks": ""
             }
            },
            "type": "scatterpolar"
           }
          ],
          "scatterpolargl": [
           {
            "marker": {
             "colorbar": {
              "outlinewidth": 0,
              "ticks": ""
             }
            },
            "type": "scatterpolargl"
           }
          ],
          "scatterternary": [
           {
            "marker": {
             "colorbar": {
              "outlinewidth": 0,
              "ticks": ""
             }
            },
            "type": "scatterternary"
           }
          ],
          "surface": [
           {
            "colorbar": {
             "outlinewidth": 0,
             "ticks": ""
            },
            "colorscale": [
             [
              0,
              "#0d0887"
             ],
             [
              0.1111111111111111,
              "#46039f"
             ],
             [
              0.2222222222222222,
              "#7201a8"
             ],
             [
              0.3333333333333333,
              "#9c179e"
             ],
             [
              0.4444444444444444,
              "#bd3786"
             ],
             [
              0.5555555555555556,
              "#d8576b"
             ],
             [
              0.6666666666666666,
              "#ed7953"
             ],
             [
              0.7777777777777778,
              "#fb9f3a"
             ],
             [
              0.8888888888888888,
              "#fdca26"
             ],
             [
              1,
              "#f0f921"
             ]
            ],
            "type": "surface"
           }
          ],
          "table": [
           {
            "cells": {
             "fill": {
              "color": "#EBF0F8"
             },
             "line": {
              "color": "white"
             }
            },
            "header": {
             "fill": {
              "color": "#C8D4E3"
             },
             "line": {
              "color": "white"
             }
            },
            "type": "table"
           }
          ]
         },
         "layout": {
          "annotationdefaults": {
           "arrowcolor": "#2a3f5f",
           "arrowhead": 0,
           "arrowwidth": 1
          },
          "autotypenumbers": "strict",
          "coloraxis": {
           "colorbar": {
            "outlinewidth": 0,
            "ticks": ""
           }
          },
          "colorscale": {
           "diverging": [
            [
             0,
             "#8e0152"
            ],
            [
             0.1,
             "#c51b7d"
            ],
            [
             0.2,
             "#de77ae"
            ],
            [
             0.3,
             "#f1b6da"
            ],
            [
             0.4,
             "#fde0ef"
            ],
            [
             0.5,
             "#f7f7f7"
            ],
            [
             0.6,
             "#e6f5d0"
            ],
            [
             0.7,
             "#b8e186"
            ],
            [
             0.8,
             "#7fbc41"
            ],
            [
             0.9,
             "#4d9221"
            ],
            [
             1,
             "#276419"
            ]
           ],
           "sequential": [
            [
             0,
             "#0d0887"
            ],
            [
             0.1111111111111111,
             "#46039f"
            ],
            [
             0.2222222222222222,
             "#7201a8"
            ],
            [
             0.3333333333333333,
             "#9c179e"
            ],
            [
             0.4444444444444444,
             "#bd3786"
            ],
            [
             0.5555555555555556,
             "#d8576b"
            ],
            [
             0.6666666666666666,
             "#ed7953"
            ],
            [
             0.7777777777777778,
             "#fb9f3a"
            ],
            [
             0.8888888888888888,
             "#fdca26"
            ],
            [
             1,
             "#f0f921"
            ]
           ],
           "sequentialminus": [
            [
             0,
             "#0d0887"
            ],
            [
             0.1111111111111111,
             "#46039f"
            ],
            [
             0.2222222222222222,
             "#7201a8"
            ],
            [
             0.3333333333333333,
             "#9c179e"
            ],
            [
             0.4444444444444444,
             "#bd3786"
            ],
            [
             0.5555555555555556,
             "#d8576b"
            ],
            [
             0.6666666666666666,
             "#ed7953"
            ],
            [
             0.7777777777777778,
             "#fb9f3a"
            ],
            [
             0.8888888888888888,
             "#fdca26"
            ],
            [
             1,
             "#f0f921"
            ]
           ]
          },
          "colorway": [
           "#636efa",
           "#EF553B",
           "#00cc96",
           "#ab63fa",
           "#FFA15A",
           "#19d3f3",
           "#FF6692",
           "#B6E880",
           "#FF97FF",
           "#FECB52"
          ],
          "font": {
           "color": "#2a3f5f"
          },
          "geo": {
           "bgcolor": "white",
           "lakecolor": "white",
           "landcolor": "#E5ECF6",
           "showlakes": true,
           "showland": true,
           "subunitcolor": "white"
          },
          "hoverlabel": {
           "align": "left"
          },
          "hovermode": "closest",
          "mapbox": {
           "style": "light"
          },
          "paper_bgcolor": "white",
          "plot_bgcolor": "#E5ECF6",
          "polar": {
           "angularaxis": {
            "gridcolor": "white",
            "linecolor": "white",
            "ticks": ""
           },
           "bgcolor": "#E5ECF6",
           "radialaxis": {
            "gridcolor": "white",
            "linecolor": "white",
            "ticks": ""
           }
          },
          "scene": {
           "xaxis": {
            "backgroundcolor": "#E5ECF6",
            "gridcolor": "white",
            "gridwidth": 2,
            "linecolor": "white",
            "showbackground": true,
            "ticks": "",
            "zerolinecolor": "white"
           },
           "yaxis": {
            "backgroundcolor": "#E5ECF6",
            "gridcolor": "white",
            "gridwidth": 2,
            "linecolor": "white",
            "showbackground": true,
            "ticks": "",
            "zerolinecolor": "white"
           },
           "zaxis": {
            "backgroundcolor": "#E5ECF6",
            "gridcolor": "white",
            "gridwidth": 2,
            "linecolor": "white",
            "showbackground": true,
            "ticks": "",
            "zerolinecolor": "white"
           }
          },
          "shapedefaults": {
           "line": {
            "color": "#2a3f5f"
           }
          },
          "ternary": {
           "aaxis": {
            "gridcolor": "white",
            "linecolor": "white",
            "ticks": ""
           },
           "baxis": {
            "gridcolor": "white",
            "linecolor": "white",
            "ticks": ""
           },
           "bgcolor": "#E5ECF6",
           "caxis": {
            "gridcolor": "white",
            "linecolor": "white",
            "ticks": ""
           }
          },
          "title": {
           "x": 0.05
          },
          "xaxis": {
           "automargin": true,
           "gridcolor": "white",
           "linecolor": "white",
           "ticks": "",
           "title": {
            "standoff": 15
           },
           "zerolinecolor": "white",
           "zerolinewidth": 2
          },
          "yaxis": {
           "automargin": true,
           "gridcolor": "white",
           "linecolor": "white",
           "ticks": "",
           "title": {
            "standoff": 15
           },
           "zerolinecolor": "white",
           "zerolinewidth": 2
          }
         }
        },
        "title": {
         "text": "Contour Plot"
        },
        "xaxis": {
         "anchor": "y",
         "domain": [
          0,
          0.2888888888888889
         ],
         "matches": "x7",
         "range": [
          -5.881444252205983,
          -3.1871582521937167
         ],
         "showticklabels": false,
         "type": "log"
        },
        "xaxis2": {
         "anchor": "y2",
         "domain": [
          0.35555555555555557,
          0.6444444444444445
         ],
         "matches": "x8",
         "range": [
          2.5999999999999996,
          33.4
         ],
         "showticklabels": false
        },
        "xaxis3": {
         "anchor": "y3",
         "domain": [
          0.7111111111111111,
          1
         ],
         "matches": "x9",
         "range": [
          -0.005000000000000001,
          0.10500000000000001
         ],
         "showticklabels": false
        },
        "xaxis4": {
         "anchor": "y4",
         "domain": [
          0,
          0.2888888888888889
         ],
         "matches": "x7",
         "range": [
          -5.881444252205983,
          -3.1871582521937167
         ],
         "showticklabels": false,
         "type": "log"
        },
        "xaxis5": {
         "anchor": "y5",
         "domain": [
          0.35555555555555557,
          0.6444444444444445
         ],
         "matches": "x8",
         "range": [
          2.5999999999999996,
          33.4
         ],
         "showticklabels": false
        },
        "xaxis6": {
         "anchor": "y6",
         "domain": [
          0.7111111111111111,
          1
         ],
         "matches": "x9",
         "range": [
          -0.005000000000000001,
          0.10500000000000001
         ],
         "showticklabels": false
        },
        "xaxis7": {
         "anchor": "y7",
         "domain": [
          0,
          0.2888888888888889
         ],
         "range": [
          -5.881444252205983,
          -3.1871582521937167
         ],
         "title": {
          "text": "learning_rate"
         },
         "type": "log"
        },
        "xaxis8": {
         "anchor": "y8",
         "domain": [
          0.35555555555555557,
          0.6444444444444445
         ],
         "range": [
          2.5999999999999996,
          33.4
         ],
         "title": {
          "text": "per_device_train_batch_size"
         }
        },
        "xaxis9": {
         "anchor": "y9",
         "domain": [
          0.7111111111111111,
          1
         ],
         "range": [
          -0.005000000000000001,
          0.10500000000000001
         ],
         "title": {
          "text": "weight_decay"
         }
        },
        "yaxis": {
         "anchor": "x",
         "domain": [
          0.7333333333333333,
          1
         ],
         "range": [
          -5.881444252205983,
          -3.1871582521937167
         ],
         "title": {
          "text": "learning_rate"
         },
         "type": "log"
        },
        "yaxis2": {
         "anchor": "x2",
         "domain": [
          0.7333333333333333,
          1
         ],
         "matches": "y",
         "range": [
          -5.881444252205983,
          -3.1871582521937167
         ],
         "showticklabels": false,
         "type": "log"
        },
        "yaxis3": {
         "anchor": "x3",
         "domain": [
          0.7333333333333333,
          1
         ],
         "matches": "y",
         "range": [
          -5.881444252205983,
          -3.1871582521937167
         ],
         "showticklabels": false,
         "type": "log"
        },
        "yaxis4": {
         "anchor": "x4",
         "domain": [
          0.36666666666666664,
          0.6333333333333333
         ],
         "range": [
          2.5999999999999996,
          33.4
         ],
         "title": {
          "text": "per_device_train_batch_size"
         }
        },
        "yaxis5": {
         "anchor": "x5",
         "domain": [
          0.36666666666666664,
          0.6333333333333333
         ],
         "matches": "y4",
         "range": [
          2.5999999999999996,
          33.4
         ],
         "showticklabels": false
        },
        "yaxis6": {
         "anchor": "x6",
         "domain": [
          0.36666666666666664,
          0.6333333333333333
         ],
         "matches": "y4",
         "range": [
          2.5999999999999996,
          33.4
         ],
         "showticklabels": false
        },
        "yaxis7": {
         "anchor": "x7",
         "domain": [
          0,
          0.26666666666666666
         ],
         "range": [
          -0.005000000000000001,
          0.10500000000000001
         ],
         "title": {
          "text": "weight_decay"
         }
        },
        "yaxis8": {
         "anchor": "x8",
         "domain": [
          0,
          0.26666666666666666
         ],
         "matches": "y7",
         "range": [
          -0.005000000000000001,
          0.10500000000000001
         ],
         "showticklabels": false
        },
        "yaxis9": {
         "anchor": "x9",
         "domain": [
          0,
          0.26666666666666666
         ],
         "matches": "y7",
         "range": [
          -0.005000000000000001,
          0.10500000000000001
         ],
         "showticklabels": false
        }
       }
      }
     },
     "metadata": {},
     "output_type": "display_data"
    }
   ],
   "source": [
    "optuna.visualization.plot_contour(study)"
   ]
  },
  {
   "cell_type": "markdown",
   "metadata": {},
   "source": [
    "---\n",
    "\n",
    "# Train the best model"
   ]
  },
  {
   "cell_type": "code",
   "execution_count": 19,
   "metadata": {},
   "outputs": [
    {
     "data": {
      "text/plain": [
       "BestRun(run_id='3', objective=0.8, hyperparameters={'learning_rate': 4.003920490135503e-05, 'per_device_train_batch_size': 16, 'weight_decay': 0}, run_summary=None)"
      ]
     },
     "execution_count": 19,
     "metadata": {},
     "output_type": "execute_result"
    }
   ],
   "source": [
    "best_run"
   ]
  },
  {
   "cell_type": "code",
   "execution_count": 20,
   "metadata": {},
   "outputs": [],
   "source": [
    "# training_args = TrainingArguments(\n",
    "#     output_dir=output_dir,\n",
    "#     save_strategy='epoch',\n",
    "#     evaluation_strategy='epoch',\n",
    "#     logging_strategy='epoch',\n",
    "#     learning_rate=best_run.hyperparameters['learning_rate'],\n",
    "#     # weight_decay=config.weight_decay,\n",
    "#     num_train_epochs=TRAIN_EPOCHS,\n",
    "#     per_device_train_batch_size=best_run.hyperparameters['per_device_train_batch_size'],\n",
    "#     per_device_eval_batch_size=1,\n",
    "#     save_total_limit=1,\n",
    "#     remove_unused_columns=False,\n",
    "#     push_to_hub=False,\n",
    "#     fp16=False, # float point 16 bit precision (instead of 32)\n",
    "#     load_best_model_at_end=True,\n",
    "# )\n",
    "\n",
    "# trainer = Trainer(\n",
    "#     model=None,\n",
    "#     model_init=model_init,\n",
    "#     args=training_args,\n",
    "#     data_collator=collate_fn,\n",
    "#     compute_metrics=partial(compute_metrics, metrics=[load_metric(m, trust_remote_code=True) for m in METRICS]),\n",
    "#     train_dataset=ds['train'],\n",
    "#     eval_dataset=ds['test'],\n",
    "#     tokenizer=processor,\n",
    "# )\n",
    "\n",
    "# trainer.train()"
   ]
  },
  {
   "cell_type": "code",
   "execution_count": 21,
   "metadata": {},
   "outputs": [],
   "source": [
    "# # Re-Evaluate the best model\n",
    "# metrics = trainer.evaluate()\n",
    "# print(metrics)"
   ]
  },
  {
   "cell_type": "code",
   "execution_count": 22,
   "metadata": {},
   "outputs": [
    {
     "data": {
      "text/plain": [
       "{'learning_rate': 4.003920490135503e-05,\n",
       " 'per_device_train_batch_size': 16,\n",
       " 'weight_decay': 0}"
      ]
     },
     "execution_count": 22,
     "metadata": {},
     "output_type": "execute_result"
    }
   ],
   "source": [
    "best_run.hyperparameters"
   ]
  },
  {
   "cell_type": "code",
   "execution_count": 23,
   "metadata": {},
   "outputs": [
    {
     "data": {
      "text/plain": [
       "FrozenTrial(number=3, state=TrialState.COMPLETE, values=[0.8], datetime_start=datetime.datetime(2024, 7, 22, 18, 37, 51, 699898), datetime_complete=datetime.datetime(2024, 7, 22, 18, 44, 34, 841965), params={'learning_rate': 4.003920490135503e-05, 'per_device_train_batch_size': 16, 'weight_decay': 0}, user_attrs={}, system_attrs={}, intermediate_values={38: 0.7878787878787878, 76: 0.7619047619047619, 114: 0.7676767676767676, 152: 0.7619047619047619, 190: 0.6666666666666666, 228: 0.8045977011494253, 266: 0.7640449438202247, 304: 0.7848101265822784, 342: 0.7906976744186046, 380: 0.7027027027027027, 418: 0.7532467532467533, 456: 0.8, 494: 0.7901234567901234, 532: 0.8, 570: 0.7901234567901234, 608: 0.7777777777777778, 646: 0.7631578947368421, 684: 0.7951807228915663, 722: 0.8048780487804879, 760: 0.8}, distributions={'learning_rate': FloatDistribution(high=0.001, log=True, low=1e-06, step=None), 'per_device_train_batch_size': CategoricalDistribution(choices=(4, 8, 16, 32)), 'weight_decay': CategoricalDistribution(choices=(0, 0.1))}, trial_id=3, value=None)"
      ]
     },
     "execution_count": 23,
     "metadata": {},
     "output_type": "execute_result"
    }
   ],
   "source": [
    "study.trials[int(best_run.run_id)]"
   ]
  },
  {
   "cell_type": "code",
   "execution_count": null,
   "metadata": {},
   "outputs": [],
   "source": [
    "set_split_summary = {\n",
    "    'train': {\n",
    "        'image_count': {\n",
    "            '0': 0,\n",
    "            '1': 0\n",
    "        }\n",
    "    },\n",
    "    'test': {\n",
    "        'image_count': {\n",
    "            '0': 0,\n",
    "            '1': 0\n",
    "        }\n",
    "    }\n",
    "}\n",
    "for ds_set in set_split_summary:\n",
    "    for data in ds[ds_set]:\n",
    "        set_split_summary[ds_set]['image_count'][str(data['labels'])] += 1\n",
    "    total = sum(set_split_summary[ds_set]['image_count'].values())\n",
    "    ratio0 = round(set_split_summary[ds_set]['image_count']['0'] / total * 100)\n",
    "    set_split_summary[ds_set]['ratio'] = f'{ratio0}/{100-ratio0}'"
   ]
  },
  {
   "cell_type": "code",
   "execution_count": 24,
   "metadata": {},
   "outputs": [],
   "source": [
    "summary = {\n",
    "    'optuna': {\n",
    "        'best_run_id': best_run.run_id,\n",
    "        'objective': OBJECTIVE_METRIC,\n",
    "        'direction': DIRECTION,\n",
    "        'optimized_objective': best_run.objective,\n",
    "        'trials': NUM_TRIALS,\n",
    "        'epochs': TRAIN_EPOCHS,\n",
    "        'tunned_params': best_run.hyperparameters,\n",
    "    },\n",
    "    'dataset': DATASET.name,\n",
    "    'nfcs': NFCS_REGION.name,\n",
    "    'masked': MASKED,\n",
    "    'val_split': VALIDATION_SIZE,\n",
    "    'train_val_details': set_split_summary,\n",
    "    'model': model_name_or_path,\n",
    "    'pickle_version': pickle.format_version,\n",
    "    'timestamp': now.isoformat(timespec='minutes'),\n",
    "    'description': DESCRIPTION\n",
    "}"
   ]
  },
  {
   "cell_type": "code",
   "execution_count": 25,
   "metadata": {},
   "outputs": [],
   "source": [
    "with open(f'{output_dir}/summary.json', \"w\") as f:\n",
    "    json.dump(summary, f, indent=2)"
   ]
  }
 ],
 "metadata": {
  "kernelspec": {
   "display_name": "Exp3-Transformers",
   "language": "python",
   "name": "python3"
  },
  "language_info": {
   "codemirror_mode": {
    "name": "ipython",
    "version": 3
   },
   "file_extension": ".py",
   "mimetype": "text/x-python",
   "name": "python",
   "nbconvert_exporter": "python",
   "pygments_lexer": "ipython3",
   "version": "3.10.14"
  }
 },
 "nbformat": 4,
 "nbformat_minor": 2
}
