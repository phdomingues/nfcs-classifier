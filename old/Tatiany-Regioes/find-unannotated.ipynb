{
 "cells": [
  {
   "cell_type": "code",
   "execution_count": 1,
   "metadata": {},
   "outputs": [],
   "source": [
    "import pandas as pd\n",
    "\n",
    "from pathlib import Path"
   ]
  },
  {
   "cell_type": "code",
   "execution_count": 2,
   "metadata": {},
   "outputs": [],
   "source": [
    "cropped_imgs_path = Path(r'E:\\Pedro\\Faculdade\\FEI-Projeto_Dor\\data\\UNIFESP2\\mosaic_and_manual_annotations\\non_masked')\n",
    "annotations_path = Path(r'E:\\Pedro\\Faculdade\\FEI-Projeto_Dor\\src\\Tatiany-Regioes\\data\\occlusion\\Avaliadores_aparato-consenso-presente.csv')"
   ]
  },
  {
   "cell_type": "code",
   "execution_count": 3,
   "metadata": {},
   "outputs": [],
   "source": [
    "cropped_img_files = list(cropped_imgs_path.rglob('*'))\n",
    "\n",
    "annotations_df = pd.read_csv(annotations_path, index_col='image_id')\n",
    "\n",
    "annotations_df.index = ['_'.join(fname.split('_')[1:]) for fname in annotations_df.index]"
   ]
  },
  {
   "cell_type": "code",
   "execution_count": 4,
   "metadata": {},
   "outputs": [],
   "source": [
    "cropped_img_file_names = [f.stem for f in cropped_img_files if f.is_file()]\n",
    "cropped_img_file_names = set(cropped_img_file_names)  # Eliminate duplicates"
   ]
  },
  {
   "cell_type": "code",
   "execution_count": 5,
   "metadata": {},
   "outputs": [
    {
     "name": "stdout",
     "output_type": "stream",
     "text": [
      "BA: \n",
      "BE: \n",
      "FP: \n",
      "FS: \n",
      "SN: \n",
      "set()\n"
     ]
    }
   ],
   "source": [
    "img_list = []\n",
    "for col in annotations_df:\n",
    "    region_series = annotations_df[col]\n",
    "    visible_region_series = region_series[region_series > -1]\n",
    "    visible_region_series_index = visible_region_series.index.to_numpy()\n",
    "    missing_annotation = set(visible_region_series_index) - cropped_img_file_names\n",
    "    img_list.extend(missing_annotation)\n",
    "    print(f\"{col}: {', '.join(missing_annotation)}\")\n",
    "\n",
    "print(set(img_list))"
   ]
  },
  {
   "cell_type": "code",
   "execution_count": 9,
   "metadata": {},
   "outputs": [
    {
     "data": {
      "text/plain": [
       "{1, 2, 3}"
      ]
     },
     "execution_count": 9,
     "metadata": {},
     "output_type": "execute_result"
    }
   ],
   "source": [
    "a = set([1,2,3,4,5])\n",
    "b = set([4,5,6,7,8])\n",
    "a-b"
   ]
  }
 ],
 "metadata": {
  "kernelspec": {
   "display_name": "optuna",
   "language": "python",
   "name": "python3"
  },
  "language_info": {
   "codemirror_mode": {
    "name": "ipython",
    "version": 3
   },
   "file_extension": ".py",
   "mimetype": "text/x-python",
   "name": "python",
   "nbconvert_exporter": "python",
   "pygments_lexer": "ipython3",
   "version": "3.10.14"
  }
 },
 "nbformat": 4,
 "nbformat_minor": 2
}
