{
 "cells": [
  {
   "cell_type": "code",
   "execution_count": 1,
   "metadata": {},
   "outputs": [],
   "source": [
    "# !pip install tensorflow[and-cuda] tensorflow_hub tqdm opencv-python"
   ]
  },
  {
   "cell_type": "code",
   "execution_count": 3,
   "metadata": {},
   "outputs": [
    {
     "ename": "NameError",
     "evalue": "name 'hub' is not defined",
     "output_type": "error",
     "traceback": [
      "\u001b[0;31m---------------------------------------------------------------------------\u001b[0m",
      "\u001b[0;31mNameError\u001b[0m                                 Traceback (most recent call last)",
      "\u001b[0;32m<ipython-input-3-950d73553e06>\u001b[0m in \u001b[0;36m<module>\u001b[0;34m\u001b[0m\n\u001b[1;32m     12\u001b[0m \u001b[0;34m\u001b[0m\u001b[0m\n\u001b[1;32m     13\u001b[0m \u001b[0;31m# Load model from hub\u001b[0m\u001b[0;34m\u001b[0m\u001b[0;34m\u001b[0m\u001b[0;34m\u001b[0m\u001b[0m\n\u001b[0;32m---> 14\u001b[0;31m \u001b[0mmodel\u001b[0m \u001b[0;34m=\u001b[0m \u001b[0mhub\u001b[0m\u001b[0;34m.\u001b[0m\u001b[0mload\u001b[0m\u001b[0;34m(\u001b[0m\u001b[0;34m\"https://www.kaggle.com/models/kaggle/esrgan-tf2/TensorFlow2/esrgan-tf2/1\"\u001b[0m\u001b[0;34m)\u001b[0m\u001b[0;34m\u001b[0m\u001b[0;34m\u001b[0m\u001b[0m\n\u001b[0m\u001b[1;32m     15\u001b[0m \u001b[0;34m\u001b[0m\u001b[0m\n\u001b[1;32m     16\u001b[0m \u001b[0;31m# DATASET_PATH = Path(r'/home/phdomingues/masters/data/UNIFESP/all')\u001b[0m\u001b[0;34m\u001b[0m\u001b[0;34m\u001b[0m\u001b[0;34m\u001b[0m\u001b[0m\n",
      "\u001b[0;31mNameError\u001b[0m: name 'hub' is not defined"
     ]
    }
   ],
   "source": [
    "# Set tensorflow to CPU\n",
    "import os\n",
    "os.environ['CUDA_VISIBLE_DEVICES'] = '-1'\n",
    "\n",
    "import cv2\n",
    "import tensorflow_hub as hub\n",
    "import tensorflow as tf\n",
    "from tqdm import tqdm\n",
    "from pathlib import Path\n",
    "from math import ceil\n",
    "\n",
    "\n",
    "# Load model from hub\n",
    "model = hub.load(\"https://www.kaggle.com/models/kaggle/esrgan-tf2/TensorFlow2/esrgan-tf2/1\")\n",
    "\n",
    "# DATASET_PATH = Path(r'/home/phdomingues/masters/data/UNIFESP/all')\n",
    "DATASET_PATH = Path(r'/home/phdomingues/masters/data/UNIFESP/syntetic/synthetics')\n",
    "OUTPUT_PATH = DATASET_PATH.parent / 'super_resolution'\n",
    "OUTPUT_PATH.mkdir(exist_ok=True, parents=True)\n",
    "\n",
    "BATCH_SIZE = 4\n",
    "SAMPLE_SIZE = 5 # Numero de amostras que serao plotadas\n",
    "\n",
    "IMG_SUFFIXES = ['.png', '.jpg', '.jpeg', '.bmp']"
   ]
  },
  {
   "cell_type": "code",
   "execution_count": 2,
   "metadata": {},
   "outputs": [],
   "source": [
    "def batch_array(iterable, n=1):\n",
    "    l = len(iterable)\n",
    "    for ndx in range(0, l, n):\n",
    "        yield iterable[ndx:min(ndx + n, l)]"
   ]
  },
  {
   "cell_type": "markdown",
   "metadata": {},
   "source": [
    "## Image Super Resolution ([ISR library](https://github.com/idealo/image-super-resolution))"
   ]
  },
  {
   "cell_type": "code",
   "execution_count": 4,
   "metadata": {},
   "outputs": [],
   "source": [
    "import numpy as np\n",
    "from PIL import Image\n",
    "\n",
    "img = Image.open('/mnt/d/ComputerScience/Mestrado/data/UNIFESP/syntetic/synthetics/00202.png')\n",
    "lr_img = np.array(img)\n",
    "\n",
    "from ISR.models import RDN\n",
    "\n",
    "rdn = RDN(weights='psnr-small')\n",
    "sr_img = rdn.predict(lr_img)\n",
    "Image.fromarray(sr_img).save('/mnt/d/ComputerScience/Mestrado/data/UNIFESP/00202_super.png')"
   ]
  },
  {
   "cell_type": "markdown",
   "metadata": {},
   "source": [
    "---\n",
    "\n",
    "## Kaggle model (esrgan-tf2)"
   ]
  },
  {
   "cell_type": "code",
   "execution_count": 12,
   "metadata": {},
   "outputs": [
    {
     "name": "stderr",
     "output_type": "stream",
     "text": [
      "100%|██████████| 4/4 [00:00<00:00, 18.94it/s]\n",
      "100%|██████████| 4/4 [00:00<00:00, 20.28it/s]]\n",
      "100%|██████████| 4/4 [00:00<00:00, 18.81it/s]]\n",
      "100%|██████████| 4/4 [00:00<00:00, 20.40it/s]]\n",
      "100%|██████████| 4/4 [00:00<00:00, 22.72it/s]]\n",
      "100%|██████████| 4/4 [00:00<00:00, 20.41it/s]]\n",
      "100%|██████████| 4/4 [00:00<00:00, 17.88it/s]]\n",
      "100%|██████████| 4/4 [00:00<00:00, 20.60it/s]]\n",
      "100%|██████████| 4/4 [00:00<00:00, 18.19it/s]]\n",
      "100%|██████████| 4/4 [00:00<00:00, 20.54it/s]]\n",
      "100%|██████████| 4/4 [00:00<00:00, 17.71it/s]t]\n",
      "100%|██████████| 4/4 [00:00<00:00, 18.04it/s]t]\n",
      "100%|██████████| 4/4 [00:00<00:00, 19.45it/s]t]\n",
      "100%|██████████| 4/4 [00:00<00:00, 18.43it/s]t]\n",
      "100%|██████████| 4/4 [00:00<00:00, 13.89it/s]t]\n",
      "100%|██████████| 4/4 [00:00<00:00, 18.69it/s]t]\n",
      "100%|██████████| 4/4 [00:00<00:00, 19.44it/s]t]\n",
      "100%|██████████| 4/4 [00:00<00:00, 20.21it/s]t]\n",
      "100%|██████████| 4/4 [00:00<00:00, 20.07it/s]t]\n",
      "100%|██████████| 4/4 [00:00<00:00, 21.21it/s]t]\n",
      "100%|██████████| 4/4 [00:00<00:00, 20.89it/s]t]\n",
      "100%|██████████| 4/4 [00:00<00:00, 18.46it/s]t]\n",
      "100%|██████████| 4/4 [00:00<00:00, 21.60it/s]t]\n",
      "100%|██████████| 4/4 [00:00<00:00, 23.19it/s]t]\n",
      "100%|██████████| 4/4 [00:00<00:00, 23.50it/s]t]\n",
      "100%|██████████| 4/4 [00:00<00:00, 18.38it/s]t]\n",
      "100%|██████████| 4/4 [00:00<00:00, 23.66it/s]t]\n",
      "100%|██████████| 4/4 [00:00<00:00, 19.25it/s]t]\n",
      "100%|██████████| 4/4 [00:00<00:00, 21.76it/s]t]\n",
      "100%|██████████| 4/4 [00:00<00:00, 24.43it/s]t]\n",
      "100%|██████████| 4/4 [00:00<00:00, 24.45it/s]t]\n",
      "100%|██████████| 4/4 [00:00<00:00, 21.12it/s]t]\n",
      "100%|██████████| 4/4 [00:00<00:00, 21.32it/s]t]\n",
      "100%|██████████| 4/4 [00:00<00:00, 21.97it/s]t]\n",
      "100%|██████████| 4/4 [00:00<00:00, 21.42it/s]t]\n",
      "100%|██████████| 4/4 [00:00<00:00, 22.08it/s]t]\n",
      "100%|██████████| 4/4 [00:00<00:00, 22.12it/s]t]\n",
      "100%|██████████| 4/4 [00:00<00:00, 19.39it/s]t]\n",
      "100%|██████████| 4/4 [00:00<00:00, 22.04it/s]t]\n",
      "100%|██████████| 4/4 [00:00<00:00, 20.43it/s]t]\n",
      "100%|██████████| 4/4 [00:00<00:00, 21.28it/s]t]\n",
      "100%|██████████| 4/4 [00:00<00:00, 22.69it/s]t]\n",
      "100%|██████████| 4/4 [00:00<00:00, 22.03it/s]t]\n",
      "100%|██████████| 4/4 [00:00<00:00, 24.23it/s]t]\n",
      "100%|██████████| 4/4 [00:00<00:00, 22.19it/s]t]\n",
      "100%|██████████| 4/4 [00:00<00:00, 22.87it/s]t]\n",
      "100%|██████████| 4/4 [00:00<00:00, 21.56it/s]t]\n",
      "100%|██████████| 4/4 [00:00<00:00, 22.33it/s]t]\n",
      "100%|██████████| 4/4 [00:00<00:00, 21.16it/s]t]\n",
      "100%|██████████| 4/4 [00:00<00:00, 23.52it/s]t]\n",
      "100%|██████████| 4/4 [00:00<00:00, 22.03it/s]t]\n",
      "100%|██████████| 4/4 [00:00<00:00, 22.31it/s]t]\n",
      "100%|██████████| 4/4 [00:00<00:00, 22.29it/s]t]\n",
      "100%|██████████| 4/4 [00:00<00:00, 21.73it/s]t]\n",
      "100%|██████████| 4/4 [00:00<00:00, 24.84it/s]t]\n",
      "100%|██████████| 4/4 [00:00<00:00, 24.45it/s]t]\n",
      "100%|██████████| 4/4 [00:00<00:00, 22.96it/s]t]\n",
      "100%|██████████| 4/4 [00:00<00:00, 23.40it/s]t]\n",
      "100%|██████████| 4/4 [00:00<00:00, 21.96it/s]t]\n",
      "100%|██████████| 4/4 [00:00<00:00, 23.66it/s]t]\n",
      "100%|██████████| 4/4 [00:00<00:00, 22.71it/s]t]\n",
      "100%|██████████| 4/4 [00:00<00:00, 22.99it/s]t]\n",
      "100%|██████████| 4/4 [00:00<00:00, 21.54it/s]t]\n",
      "100%|██████████| 4/4 [00:00<00:00, 21.91it/s]t]\n",
      "100%|██████████| 4/4 [00:00<00:00, 21.03it/s]t]\n",
      "100%|██████████| 4/4 [00:00<00:00, 21.32it/s]t]\n",
      "100%|██████████| 4/4 [00:00<00:00, 21.26it/s]t]\n",
      "100%|██████████| 4/4 [00:00<00:00, 22.22it/s]t]\n",
      "100%|██████████| 4/4 [00:00<00:00, 22.75it/s]t]\n",
      "100%|██████████| 4/4 [00:00<00:00, 22.89it/s]t]\n",
      "100%|██████████| 4/4 [00:00<00:00, 22.32it/s]t]\n",
      "100%|██████████| 4/4 [00:00<00:00, 21.18it/s]t]\n",
      "100%|██████████| 4/4 [00:00<00:00, 21.86it/s]t]\n",
      "100%|██████████| 4/4 [00:00<00:00, 22.49it/s]t]\n",
      "100%|██████████| 4/4 [00:00<00:00, 21.72it/s]t]\n",
      "100%|██████████| 4/4 [00:00<00:00, 22.67it/s]t]\n",
      "100%|██████████| 4/4 [00:00<00:00, 22.89it/s]t]\n",
      "100%|██████████| 4/4 [00:00<00:00, 22.07it/s]t]\n",
      "100%|██████████| 4/4 [00:00<00:00, 21.68it/s]t]\n",
      "100%|██████████| 4/4 [00:00<00:00, 21.59it/s]t]\n",
      "100%|██████████| 4/4 [00:00<00:00, 22.74it/s]t]\n",
      "100%|██████████| 4/4 [00:00<00:00, 22.64it/s]t]\n",
      "100%|██████████| 4/4 [00:00<00:00, 22.82it/s]t]\n",
      "100%|██████████| 4/4 [00:00<00:00, 22.72it/s]t]\n",
      "100%|██████████| 4/4 [00:00<00:00, 18.97it/s]t]\n",
      "100%|██████████| 4/4 [00:00<00:00, 20.81it/s]t]\n",
      "100%|██████████| 4/4 [00:00<00:00, 24.17it/s]t]\n",
      "100%|██████████| 4/4 [00:00<00:00, 21.89it/s]t]\n",
      "100%|██████████| 4/4 [00:00<00:00, 22.57it/s]t]\n",
      "100%|██████████| 4/4 [00:00<00:00, 22.60it/s]t]\n",
      "100%|██████████| 90/90 [20:11<00:00, 13.46s/it]\n"
     ]
    }
   ],
   "source": [
    "img_paths = [path.resolve() for path in DATASET_PATH.glob('*') if path.suffix in IMG_SUFFIXES]\n",
    "\n",
    "for batch in tqdm(batch_array(img_paths, n=BATCH_SIZE), total=ceil(len(img_paths)/BATCH_SIZE)):\n",
    "    imgs = [cv2.cvtColor(cv2.imread(str(img_path)), cv2.COLOR_BGR2RGB) for img_path in batch]\n",
    "    \n",
    "    # To add an extra dimension for batch, use tf.expand_dims()\n",
    "    #low_resolution_image = tf.expand_dims(image) # Low Resolution Image of shape [batch_size, height, width, 3]\n",
    "    low_resolution_image = tf.cast(imgs, tf.float32)\n",
    "    super_resolution = model(low_resolution_image) # Perform Super Resolution here\n",
    "    for img_path, img in tqdm(zip(batch, super_resolution), total=len(batch)):\n",
    "        # Cast it back to uint8 before saving\n",
    "        img = tf.cast(tf.clip_by_value(img, 0, 255), tf.uint8)\n",
    "        cv2.imwrite(str(OUTPUT_PATH / img_path.name), cv2.cvtColor(img.numpy(), cv2.COLOR_RGB2BGR))"
   ]
  },
  {
   "cell_type": "code",
   "execution_count": null,
   "metadata": {},
   "outputs": [],
   "source": []
  }
 ],
 "metadata": {
  "kernelspec": {
   "display_name": "mediapipe",
   "language": "python",
   "name": "python3"
  },
  "language_info": {
   "codemirror_mode": {
    "name": "ipython",
    "version": 3
   },
   "file_extension": ".py",
   "mimetype": "text/x-python",
   "name": "python",
   "nbconvert_exporter": "python",
   "pygments_lexer": "ipython3",
   "version": "3.6.13"
  }
 },
 "nbformat": 4,
 "nbformat_minor": 2
}
