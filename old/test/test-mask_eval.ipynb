{
 "cells": [
  {
   "cell_type": "code",
   "execution_count": 26,
   "metadata": {},
   "outputs": [],
   "source": [
    "import cv2\n",
    "import matplotlib.pyplot as plt\n",
    "import numpy as np\n",
    "from sklearn.metrics import average_precision_score, precision_score, recall_score\n",
    "from skimage import io"
   ]
  },
  {
   "cell_type": "code",
   "execution_count": 19,
   "metadata": {},
   "outputs": [],
   "source": [
    "def get_metrics(img, gt):\n",
    "    metrics = {\n",
    "        'TP': 0,\n",
    "        'FP': 0,\n",
    "        'TN': 0,\n",
    "        'FN': 0\n",
    "    }\n",
    "    rows, cols = img.shape[:2]\n",
    "    for row in range(rows):\n",
    "        for col in range(cols):\n",
    "            if img[row,col] > 0:\n",
    "                if gt[row,col] >  0: metrics['TP'] += 1\n",
    "                else:                metrics['FP'] += 1\n",
    "            else:\n",
    "                if gt[row,col] >  0: metrics['FN'] += 1\n",
    "                else:                metrics['TN'] += 1\n",
    "\n",
    "    return (metrics['TP'], metrics['TN'], metrics['FP'], metrics['FN'])"
   ]
  },
  {
   "cell_type": "code",
   "execution_count": 3,
   "metadata": {},
   "outputs": [],
   "source": [
    "img = np.zeros((600,600))\n",
    "img2 = np.ones((600,600))\n",
    "gt = np.zeros((600,600,3)).astype(np.float32)\n",
    "gt = cv2.rectangle(gt, (250,250), (350,350), (255,255,255), -1)\n",
    "gt = cv2.cvtColor(gt, cv2.COLOR_BGR2GRAY)\n",
    "gt2 = gt.copy()\n",
    "gt2[gt2==255] = 1"
   ]
  },
  {
   "cell_type": "code",
   "execution_count": 4,
   "metadata": {},
   "outputs": [
    {
     "data": {
      "text/plain": [
       "Text(0.5, 1.0, 'Máscara')"
      ]
     },
     "execution_count": 4,
     "metadata": {},
     "output_type": "execute_result"
    },
    {
     "data": {
      "image/png": "[encoded data removed]",
      "text/plain": [
       "<Figure size 640x480 with 2 Axes>"
      ]
     },
     "metadata": {},
     "output_type": "display_data"
    }
   ],
   "source": [
    "fig, axs = plt.subplots(1,2, sharex=True, sharey=True)\n",
    "axs[0].imshow(gt2, vmax=1, vmin=0, cmap='gray')\n",
    "axs[1].imshow(img2, vmax=1, vmin=0, cmap='gray')\n",
    "axs[0].tick_params(left = False, right = False , labelleft = False , labelbottom = False, bottom = False)\n",
    "axs[1].tick_params(left = False, right = False , labelleft = False , labelbottom = False, bottom = False)\n",
    "axs[0].set_title('Padrão Ouro')\n",
    "axs[1].set_title('Máscara')"
   ]
  },
  {
   "cell_type": "code",
   "execution_count": 21,
   "metadata": {},
   "outputs": [
    {
     "name": "stdout",
     "output_type": "stream",
     "text": [
      "97.16638888888889 0.9716638888888889 0.0\n"
     ]
    }
   ],
   "source": [
    "PA = ( img.size - np.count_nonzero(img-gt) ) / img.size * 100\n",
    "#AP = average_precision_score(gt,img2,pos_label=1)\n",
    "\n",
    "TP,TN,FP,FN = get_metrics(img, gt)\n",
    "PA2 = (TP+TN)/(TP+TN+FP+FN)\n",
    "IoU = TP / (TP+FP+FN)\n",
    "\n",
    "print(PA, PA2, IoU)"
   ]
  },
  {
   "cell_type": "code",
   "execution_count": 152,
   "metadata": {},
   "outputs": [
    {
     "data": {
      "text/plain": [
       "1.0"
      ]
     },
     "execution_count": 152,
     "metadata": {},
     "output_type": "execute_result"
    }
   ],
   "source": [
    "i = np.ones((5,5))\n",
    "gti = np.zeros((5,5))\n",
    "gti[1,1] = 1\n",
    "( i.size - np.count_nonzero(i-gti) ) / i.size * 100\n",
    "#acc = accuracy_score(gti, i, normalize=False)\n",
    "precision_score(gti,i,pos_label=1, average='samples')\n",
    "#average_precision_score(gti,i,pos_label=1)\n",
    "recall_score(gti, i, pos_label=1, average='micro')"
   ]
  }
 ],
 "metadata": {
  "kernelspec": {
   "display_name": "occ-gen",
   "language": "python",
   "name": "python3"
  },
  "language_info": {
   "codemirror_mode": {
    "name": "ipython",
    "version": 3
   },
   "file_extension": ".py",
   "mimetype": "text/x-python",
   "name": "python",
   "nbconvert_exporter": "python",
   "pygments_lexer": "ipython3",
   "version": "3.8.16"
  },
  "orig_nbformat": 4
 },
 "nbformat": 4,
 "nbformat_minor": 2
}
