{
 "cells": [
  {
   "cell_type": "code",
   "execution_count": 1,
   "metadata": {},
   "outputs": [],
   "source": [
    "import pandas as pd\n",
    "\n",
    "from pathlib import Path"
   ]
  },
  {
   "cell_type": "code",
   "execution_count": 2,
   "metadata": {},
   "outputs": [],
   "source": [
    "gt = Path(\"/home/phdomingues/masters/data/UNIFESP/NEW_GT.csv\")\n",
    "df = pd.read_csv(gt)"
   ]
  },
  {
   "cell_type": "code",
   "execution_count": 3,
   "metadata": {},
   "outputs": [],
   "source": [
    "UNIFESP = df[:360]\n",
    "SYNTETIC = df[360:]\n",
    "TEST = df[:107]\n",
    "TRAIN = df[107:]"
   ]
  },
  {
   "cell_type": "code",
   "execution_count": 4,
   "metadata": {},
   "outputs": [
    {
     "name": "stdout",
     "output_type": "stream",
     "text": [
      "All\n",
      "SN - 0: 446 | 1: 270 | ratio = 0.62/0.38\n",
      "FS - 0: 520 | 1: 196 | ratio = 0.73/0.27\n",
      "FP - 0: 380 | 1: 336 | ratio = 0.53/0.47\n",
      "BA - 0: 390 | 1: 326 | ratio = 0.54/0.46\n",
      "BE - 0: 488 | 1: 228 | ratio = 0.68/0.32\n"
     ]
    }
   ],
   "source": [
    "print(\"All\")\n",
    "for region in ['SN', 'FS', 'FP', 'BA', 'BE']:\n",
    "    a = df[region].value_counts()\n",
    "    print(f\"{region} - 0: {a[0]} | 1: {a[1]} | ratio = {a[0]/(a[0]+a[1]):.2f}/{a[1]/(a[0]+a[1]):.2f}\")"
   ]
  },
  {
   "cell_type": "code",
   "execution_count": 5,
   "metadata": {},
   "outputs": [
    {
     "name": "stdout",
     "output_type": "stream",
     "text": [
      "UNIFESP\n",
      "SN - 0: 207 | 1: 153 | ratio = 0.57/0.42\n",
      "FS - 0: 194 | 1: 166 | ratio = 0.54/0.46\n",
      "FP - 0: 199 | 1: 161 | ratio = 0.55/0.45\n",
      "BA - 0: 204 | 1: 156 | ratio = 0.57/0.43\n",
      "BE - 0: 219 | 1: 141 | ratio = 0.61/0.39\n"
     ]
    }
   ],
   "source": [
    "print(\"UNIFESP\")\n",
    "for region in ['SN', 'FS', 'FP', 'BA', 'BE']:\n",
    "    a = UNIFESP[region].value_counts()\n",
    "    print(f\"{region} - 0: {a[0]} | 1: {a[1]} | ratio = {a[0]/(a[0]+a[1]):.2f}/{a[1]/(a[0]+a[1]):.2f}\")"
   ]
  },
  {
   "cell_type": "code",
   "execution_count": 6,
   "metadata": {},
   "outputs": [
    {
     "name": "stdout",
     "output_type": "stream",
     "text": [
      "Syntetic\n",
      "SN - 0: 239 | 1: 117 | ratio = 0.67/0.33\n",
      "FS - 0: 326 | 1: 30 | ratio = 0.92/0.08\n",
      "FP - 0: 181 | 1: 175 | ratio = 0.51/0.49\n",
      "BA - 0: 186 | 1: 170 | ratio = 0.52/0.48\n",
      "BE - 0: 269 | 1: 87 | ratio = 0.76/0.24\n"
     ]
    }
   ],
   "source": [
    "print(\"Syntetic\")\n",
    "for region in ['SN', 'FS', 'FP', 'BA', 'BE']:\n",
    "    a = SYNTETIC[region].value_counts()\n",
    "    print(f\"{region} - 0: {a[0]} | 1: {a[1]} | ratio = {a[0]/(a[0]+a[1]):.2f}/{a[1]/(a[0]+a[1]):.2f}\")"
   ]
  },
  {
   "cell_type": "code",
   "execution_count": 7,
   "metadata": {},
   "outputs": [
    {
     "name": "stdout",
     "output_type": "stream",
     "text": [
      "Train\n",
      "SN - 0: 389 | 1: 220 | ratio = 0.64/0.36\n",
      "FS - 0: 466 | 1: 143 | ratio = 0.77/0.23\n",
      "FP - 0: 325 | 1: 284 | ratio = 0.53/0.47\n",
      "BA - 0: 338 | 1: 271 | ratio = 0.56/0.44\n",
      "BE - 0: 434 | 1: 175 | ratio = 0.71/0.29\n"
     ]
    }
   ],
   "source": [
    "print(\"Train\")\n",
    "for region in ['SN', 'FS', 'FP', 'BA', 'BE']:\n",
    "    a = TRAIN[region].value_counts()\n",
    "    print(f\"{region} - 0: {a[0]} | 1: {a[1]} | ratio = {a[0]/(a[0]+a[1]):.2f}/{a[1]/(a[0]+a[1]):.2f}\")"
   ]
  },
  {
   "cell_type": "code",
   "execution_count": 8,
   "metadata": {},
   "outputs": [
    {
     "name": "stdout",
     "output_type": "stream",
     "text": [
      "Test\n",
      "SN - 0: 57 | 1: 50 | ratio = 0.53/0.47\n",
      "FS - 0: 54 | 1: 53 | ratio = 0.50/0.50\n",
      "FP - 0: 55 | 1: 52 | ratio = 0.51/0.49\n",
      "BA - 0: 52 | 1: 55 | ratio = 0.49/0.51\n",
      "BE - 0: 54 | 1: 53 | ratio = 0.50/0.50\n"
     ]
    }
   ],
   "source": [
    "print(\"Test\")\n",
    "for region in ['SN', 'FS', 'FP', 'BA', 'BE']:\n",
    "    a = TEST[region].value_counts()\n",
    "    print(f\"{region} - 0: {a[0]} | 1: {a[1]} | ratio = {a[0]/(a[0]+a[1]):.2f}/{a[1]/(a[0]+a[1]):.2f}\")"
   ]
  }
 ],
 "metadata": {
  "kernelspec": {
   "display_name": "Exp3-Transformers",
   "language": "python",
   "name": "python3"
  },
  "language_info": {
   "codemirror_mode": {
    "name": "ipython",
    "version": 3
   },
   "file_extension": ".py",
   "mimetype": "text/x-python",
   "name": "python",
   "nbconvert_exporter": "python",
   "pygments_lexer": "ipython3",
   "version": "3.10.13"
  }
 },
 "nbformat": 4,
 "nbformat_minor": 2
}
